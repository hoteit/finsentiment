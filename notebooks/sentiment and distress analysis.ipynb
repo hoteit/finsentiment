{
 "metadata": {
  "name": "",
  "signature": "sha256:9ed160640e5c3365c8ef2717085899745b0205f61be16e50446e56a6ce127816"
 },
 "nbformat": 3,
 "nbformat_minor": 0,
 "worksheets": [
  {
   "cells": [
    {
     "cell_type": "code",
     "collapsed": false,
     "input": [
      "%matplotlib inline \n",
      "import pandas as pd \n",
      "import matplotlib.pyplot as plt\n",
      "import pylab as pl\n",
      "import numpy as np\n",
      "import scipy as sc"
     ],
     "language": "python",
     "metadata": {},
     "outputs": [],
     "prompt_number": 1
    },
    {
     "cell_type": "code",
     "collapsed": false,
     "input": [
      "companyinfo = pd.read_csv(\"companysentimentszscore.csv\")  #read the extracted data"
     ],
     "language": "python",
     "metadata": {},
     "outputs": [],
     "prompt_number": 2
    },
    {
     "cell_type": "code",
     "collapsed": false,
     "input": [
      "#filter only the data that has sentiments and altman-zscore, and are not in Finance sector\n",
      "companies = companyinfo[~(companyinfo.sentiment.isnull()) & ~(companyinfo.altman.isnull()) & ~(companyinfo.sector.isin(['Finance']))]\n",
      "print(companies.count())"
     ],
     "language": "python",
     "metadata": {},
     "outputs": [
      {
       "output_type": "stream",
       "stream": "stdout",
       "text": [
        "id                2618\n",
        "adrTso            2618\n",
        "date_extracted    2618\n",
        "exchange          2618\n",
        "industry          2618\n",
        "ipoYear           2618\n",
        "lastSale          2618\n",
        "marketCap         2618\n",
        "name              2618\n",
        "sector            2618\n",
        "summaryQuote      2618\n",
        "symbol            2618\n",
        "sentiment         2618\n",
        "altman            2618\n",
        "dtype: int64\n"
       ]
      }
     ],
     "prompt_number": 3
    },
    {
     "cell_type": "code",
     "collapsed": false,
     "input": [
      "#sentiments\n",
      "print (companies.describe())"
     ],
     "language": "python",
     "metadata": {},
     "outputs": [
      {
       "output_type": "stream",
       "stream": "stdout",
       "text": [
        "                id     lastSale     marketCap    sentiment       altman\n",
        "count  2618.000000  2618.000000  2.618000e+03  2618.000000  2618.000000\n",
        "mean   3118.103132    36.625553  9.044559e+09     2.158136     4.643611\n",
        "std    1921.975390    51.212159  3.000794e+10     0.667646    12.866519\n",
        "min       6.000000     0.100000  2.102689e+06     0.000000  -153.814000\n",
        "25%    1490.750000     6.960000  2.736628e+08     2.000000     1.372000\n",
        "50%    2955.500000    22.610000  1.333308e+09     2.000000     3.035500\n",
        "75%    4747.500000    49.590000  5.094740e+09     2.000000     5.489500\n",
        "max    6674.000000  1135.970000  6.744566e+11     4.000000   269.368000\n"
       ]
      }
     ],
     "prompt_number": 4
    },
    {
     "cell_type": "code",
     "collapsed": false,
     "input": [
      "##sentiments plots excluding neutral\n",
      "sentiments = companies.groupby('sentiment')['sentiment']\n",
      "print (sentiments.count())\n",
      "companies[~(companies.sentiment==2)].groupby('sentiment')['sentiment'].count().plot(kind=\"bar\")"
     ],
     "language": "python",
     "metadata": {},
     "outputs": [
      {
       "output_type": "stream",
       "stream": "stdout",
       "text": [
        "sentiment\n",
        "0              18\n",
        "1             137\n",
        "2            2094\n",
        "3             151\n",
        "4             218\n",
        "Name: sentiment, dtype: int64\n"
       ]
      },
      {
       "metadata": {},
       "output_type": "pyout",
       "prompt_number": 5,
       "text": [
        "<matplotlib.axes._subplots.AxesSubplot at 0x7f0bc39a82b0>"
       ]
      },
      {
       "metadata": {},
       "output_type": "display_data",
       "png": "[encoded data removed]",
       "text": [
        "<matplotlib.figure.Figure at 0x7f0bc33ee828>"
       ]
      }
     ],
     "prompt_number": 5
    },
    {
     "cell_type": "code",
     "collapsed": false,
     "input": [
      "# test for normality\n",
      "from scipy.stats.mstats import normaltest\n",
      "print (\"normal test for sentiment\",normaltest(companies.sentiment))\n",
      "print (\"normal test for altman\",normaltest(companies.altman))"
     ],
     "language": "python",
     "metadata": {},
     "outputs": [
      {
       "output_type": "stream",
       "stream": "stdout",
       "text": [
        "normal test for sentiment (679.21183752063507, 3.2435713873994668e-148)\n",
        "normal test for altman (3404.2039999564081, 0.0)\n"
       ]
      }
     ],
     "prompt_number": 6
    },
    {
     "cell_type": "code",
     "collapsed": false,
     "input": [
      "sc.stats.spearmanr(companies.sentiment, companies.altman)"
     ],
     "language": "python",
     "metadata": {},
     "outputs": [
      {
       "metadata": {},
       "output_type": "pyout",
       "prompt_number": 7,
       "text": [
        "(-0.027134049425243598, 0.1651540988867069)"
       ]
      }
     ],
     "prompt_number": 7
    },
    {
     "cell_type": "code",
     "collapsed": false,
     "input": [
      "from pandas.tools.plotting import scatter_matrix\n",
      "mat = {'Sentiment':companies.sentiment, 'Altman': companies.altman}\n",
      "matrix = pd.DataFrame(data=mat)\n",
      "scatter_matrix(matrix)\n"
     ],
     "language": "python",
     "metadata": {},
     "outputs": [
      {
       "metadata": {},
       "output_type": "pyout",
       "prompt_number": 8,
       "text": [
        "array([[<matplotlib.axes._subplots.AxesSubplot object at 0x7f0bbea9a400>,\n",
        "        <matplotlib.axes._subplots.AxesSubplot object at 0x7f0bbe4d52b0>],\n",
        "       [<matplotlib.axes._subplots.AxesSubplot object at 0x7f0bbe49d668>,\n",
        "        <matplotlib.axes._subplots.AxesSubplot object at 0x7f0bbe454b70>]], dtype=object)"
       ]
      },
      {
       "metadata": {},
       "output_type": "display_data",
       "png": "[encoded data removed]",
       "text": [
        "<matplotlib.figure.Figure at 0x7f0bbea8cd30>"
       ]
      }
     ],
     "prompt_number": 8
    },
    {
     "cell_type": "code",
     "collapsed": false,
     "input": [
      "def altmanscale(value):\n",
      "    if value <=1.8:\n",
      "        return -1\n",
      "    elif (value>1.8) & (value<3.0):\n",
      "        return 0\n",
      "    else:\n",
      "        return 1\n",
      "def sentimentscale(value):\n",
      "    if value <2:\n",
      "        return -1\n",
      "    elif value ==2:\n",
      "        return 0\n",
      "    else:\n",
      "        return 1\n",
      "companies.altmanscale = companies.altman.apply(altmanscale)\n",
      "companies.sentimentscale = companies.sentiment.apply(sentimentscale)\n",
      "\n",
      "sc.stats.spearmanr(companies.sentimentscale, companies.altmanscale)\n",
      "#sc.stats.pearsonr(companies.sentimentscale, companies.altmanscale)\n",
      "matrix = pd.DataFrame(data={'Sentiment':companies.sentimentscale, 'Altman': companies.altmanscale})\n",
      "scatter_matrix(matrix)"
     ],
     "language": "python",
     "metadata": {},
     "outputs": [
      {
       "metadata": {},
       "output_type": "pyout",
       "prompt_number": 9,
       "text": [
        "array([[<matplotlib.axes._subplots.AxesSubplot object at 0x7f0bbe410940>,\n",
        "        <matplotlib.axes._subplots.AxesSubplot object at 0x7f0bbe3857b8>],\n",
        "       [<matplotlib.axes._subplots.AxesSubplot object at 0x7f0bbe34b860>,\n",
        "        <matplotlib.axes._subplots.AxesSubplot object at 0x7f0bbe306c18>]], dtype=object)"
       ]
      },
      {
       "metadata": {},
       "output_type": "display_data",
       "png": "[encoded data removed]",
       "text": [
        "<matplotlib.figure.Figure at 0x7f0bbe39d1d0>"
       ]
      }
     ],
     "prompt_number": 9
    },
    {
     "cell_type": "code",
     "collapsed": false,
     "input": [
      "companies.altmanscale = companies.altman.apply(altmanscale)\n",
      "companies.sentimentscale = companies.sentiment.apply(sentimentscale)\n",
      "sc.stats.spearmanr(companies.sentimentscale, companies.altmanscale)"
     ],
     "language": "python",
     "metadata": {},
     "outputs": [
      {
       "metadata": {},
       "output_type": "pyout",
       "prompt_number": 10,
       "text": [
        "(-0.030236069863026162, 0.12193910694076453)"
       ]
      }
     ],
     "prompt_number": 10
    },
    {
     "cell_type": "code",
     "collapsed": false,
     "input": [
      "sc.stats.kruskal(companies.altmanscale[:1000], companies.sentimentscale[:1000])"
     ],
     "language": "python",
     "metadata": {},
     "outputs": [
      {
       "metadata": {},
       "output_type": "pyout",
       "prompt_number": 11,
       "text": [
        "(10.01379602078716, 0.0015537195120021567)"
       ]
      }
     ],
     "prompt_number": 11
    },
    {
     "cell_type": "code",
     "collapsed": false,
     "input": [
      "companiesbysector = companies.groupby(companies.sector)\n",
      "print (companiesbysector.sector.count())"
     ],
     "language": "python",
     "metadata": {},
     "outputs": [
      {
       "output_type": "stream",
       "stream": "stdout",
       "text": [
        "sector\n",
        "Basic Industries         233\n",
        "Capital Goods            253\n",
        "Consumer Durables        100\n",
        "Consumer Non-Durables    170\n",
        "Consumer Services        397\n",
        "Energy                   212\n",
        "Health Care              427\n",
        "Miscellaneous            102\n",
        "Public Utilities         138\n",
        "Technology               499\n",
        "Transportation            81\n",
        "n/a                        6\n",
        "Name: sector, dtype: int64\n"
       ]
      }
     ],
     "prompt_number": 12
    },
    {
     "cell_type": "code",
     "collapsed": false,
     "input": [
      "sc.stats.spearmanr(companies.altmanscale[companies.sector==\"Basic Industries\"].rank(method=\"average\", ascending=True), companies.sentimentscale[companies.sector==\"Basic Industries\"].rank(method=\"average\", ascending=True))"
     ],
     "language": "python",
     "metadata": {},
     "outputs": [
      {
       "metadata": {},
       "output_type": "pyout",
       "prompt_number": 15,
       "text": [
        "(-0.057604509123855778, 0.38141460299857033)"
       ]
      }
     ],
     "prompt_number": 15
    },
    {
     "cell_type": "code",
     "collapsed": false,
     "input": [
      "sc.stats.spearmanr(companies.altmanscale[companies.sector==\"Capital Goods\"], companies.sentimentscale[companies.sector==\"Capital Goods\"])"
     ],
     "language": "python",
     "metadata": {},
     "outputs": [
      {
       "metadata": {},
       "output_type": "pyout",
       "prompt_number": 16,
       "text": [
        "(0.066972348438911422, 0.28860940659082662)"
       ]
      }
     ],
     "prompt_number": 16
    },
    {
     "cell_type": "code",
     "collapsed": false,
     "input": [
      "sc.stats.spearmanr(companies.altmanscale[companies.sector==\"Consumer Durables\"], companies.sentimentscale[companies.sector==\"Consumer Durables\"])"
     ],
     "language": "python",
     "metadata": {},
     "outputs": [
      {
       "metadata": {},
       "output_type": "pyout",
       "prompt_number": 17,
       "text": [
        "(0.055661386982693427, 0.58229018517890074)"
       ]
      }
     ],
     "prompt_number": 17
    },
    {
     "cell_type": "code",
     "collapsed": false,
     "input": [
      "sc.stats.spearmanr(companies.altmanscale[companies.sector==\"Consumer Non-Durables\"], companies.sentimentscale[companies.sector==\"Consumer Non-Durables\"])"
     ],
     "language": "python",
     "metadata": {},
     "outputs": [
      {
       "metadata": {},
       "output_type": "pyout",
       "prompt_number": 18,
       "text": [
        "(-0.086183593701254654, 0.26378632495570026)"
       ]
      }
     ],
     "prompt_number": 18
    },
    {
     "cell_type": "code",
     "collapsed": false,
     "input": [
      "sc.stats.spearmanr(companies.altmanscale[companies.sector==\"Consumer Services\"], companies.sentimentscale[companies.sector==\"Consumer Services\"])"
     ],
     "language": "python",
     "metadata": {},
     "outputs": [
      {
       "metadata": {},
       "output_type": "pyout",
       "prompt_number": 19,
       "text": [
        "(-0.020205811438471499, 0.68814813451527768)"
       ]
      }
     ],
     "prompt_number": 19
    },
    {
     "cell_type": "code",
     "collapsed": false,
     "input": [
      "sc.stats.spearmanr(companies.altmanscale[companies.sector==\"Energy\"], companies.sentimentscale[companies.sector==\"Energy\"])"
     ],
     "language": "python",
     "metadata": {},
     "outputs": [
      {
       "metadata": {},
       "output_type": "pyout",
       "prompt_number": 20,
       "text": [
        "(-0.21930040287038272, 0.0013117767964922885)"
       ]
      }
     ],
     "prompt_number": 20
    },
    {
     "cell_type": "code",
     "collapsed": false,
     "input": [
      "sc.stats.spearmanr(companies.altmanscale[companies.sector==\"Health Care\"], companies.sentimentscale[companies.sector==\"Health Care\"])"
     ],
     "language": "python",
     "metadata": {},
     "outputs": [
      {
       "metadata": {},
       "output_type": "pyout",
       "prompt_number": 21,
       "text": [
        "(-0.04725238360919258, 0.33000480612483729)"
       ]
      }
     ],
     "prompt_number": 21
    },
    {
     "cell_type": "code",
     "collapsed": false,
     "input": [
      "sc.stats.spearmanr(companies.altmanscale[companies.sector==\"Miscellaneous\"], companies.sentimentscale[companies.sector==\"Miscellaneous\"])"
     ],
     "language": "python",
     "metadata": {},
     "outputs": [
      {
       "metadata": {},
       "output_type": "pyout",
       "prompt_number": 22,
       "text": [
        "(-0.048251155119557368, 0.63009898687019883)"
       ]
      }
     ],
     "prompt_number": 22
    },
    {
     "cell_type": "code",
     "collapsed": false,
     "input": [
      "sc.stats.spearmanr(companies.altmanscale[companies.sector==\"Public Utilities\"], companies.sentimentscale[companies.sector==\"Public Utilities\"])"
     ],
     "language": "python",
     "metadata": {},
     "outputs": [
      {
       "metadata": {},
       "output_type": "pyout",
       "prompt_number": 23,
       "text": [
        "(-0.026246287152440182, 0.75993037837830979)"
       ]
      }
     ],
     "prompt_number": 23
    },
    {
     "cell_type": "code",
     "collapsed": false,
     "input": [
      "sc.stats.spearmanr(companies.altmanscale[companies.sector==\"Technology\"], companies.sentimentscale[companies.sector==\"Technology\"])"
     ],
     "language": "python",
     "metadata": {},
     "outputs": [
      {
       "metadata": {},
       "output_type": "pyout",
       "prompt_number": 24,
       "text": [
        "(-0.053218159188588389, 0.23536046951436518)"
       ]
      }
     ],
     "prompt_number": 24
    },
    {
     "cell_type": "code",
     "collapsed": false,
     "input": [
      "sc.stats.spearmanr(companies.altmanscale[companies.sector==\"Transportation\"], companies.sentimentscale[companies.sector==\"Transportation\"])"
     ],
     "language": "python",
     "metadata": {},
     "outputs": [
      {
       "metadata": {},
       "output_type": "pyout",
       "prompt_number": 25,
       "text": [
        "(-0.047156968264577326, 0.6759114012086983)"
       ]
      }
     ],
     "prompt_number": 25
    },
    {
     "cell_type": "code",
     "collapsed": false,
     "input": [
      "sc.stats.spearmanr(companies.altmanscale[companies.sector==\"n/a\"], companies.sentimentscale[companies.sector==\"n/a\"])"
     ],
     "language": "python",
     "metadata": {},
     "outputs": [
      {
       "metadata": {},
       "output_type": "pyout",
       "prompt_number": 26,
       "text": [
        "(-0.33333333333333331, 0.51851851851851827)"
       ]
      }
     ],
     "prompt_number": 26
    },
    {
     "cell_type": "code",
     "collapsed": false,
     "input": [
      "companies.name[companies.sector==\"Basic Industries\"]"
     ],
     "language": "python",
     "metadata": {},
     "outputs": [
      {
       "metadata": {},
       "output_type": "pyout",
       "prompt_number": 27,
       "text": [
        "19                         A. Schulman, Inc.\n",
        "114                              Aegion Corp\n",
        "141               Agnico Eagle Mines Limited\n",
        "144                              Agrium Inc.\n",
        "148         Air Products and Chemicals, Inc.\n",
        "155             AK Steel Holding Corporation\n",
        "161                          Alamos Gold Inc\n",
        "166                    Albemarle Corporation\n",
        "187      Allegheny Technologies Incorporated\n",
        "213                 Allied Nevada Gold Corp.\n",
        "242    Aluminum Corporation of China Limited\n",
        "279       American Eagle Energy Corporation.\n",
        "308            American Vanguard Corporation\n",
        "310            American Woodmark Corporation\n",
        "334                             Amyris, Inc.\n",
        "...\n",
        "5289            U.S. Silica Holdings, Inc.\n",
        "5344       United States Steel Corporation\n",
        "5356       Universal Forest Products, Inc.\n",
        "5369                         Ur Energy Inc\n",
        "5393                             VALE S.A.\n",
        "5402             Valspar Corporation (The)\n",
        "5469                     Verso Paper Corp.\n",
        "5540              Vulcan Materials Company\n",
        "5544                      W.R. Grace & Co.\n",
        "5570                    Wausau Paper Corp.\n",
        "5576                         WD-40 Company\n",
        "5600    West Pharmaceutical Services, Inc.\n",
        "5637         Westlake Chemical Corporation\n",
        "5728             Xerium Technologies, Inc.\n",
        "5745                      Yamana Gold Inc.\n",
        "Name: name, Length: 233, dtype: object"
       ]
      }
     ],
     "prompt_number": 27
    },
    {
     "cell_type": "code",
     "collapsed": false,
     "input": [
      "#test for normality of the discrete data sentiments\n",
      "sc.stats.chisquare(companies.sentiment)"
     ],
     "language": "python",
     "metadata": {},
     "outputs": [
      {
       "metadata": {},
       "output_type": "pyout",
       "prompt_number": 28,
       "text": [
        "(540.52743362831859, 1.0)"
       ]
      }
     ],
     "prompt_number": 28
    },
    {
     "cell_type": "code",
     "collapsed": false,
     "input": [
      "sc.stats.normaltest(companies.altman)"
     ],
     "language": "python",
     "metadata": {},
     "outputs": [
      {
       "metadata": {},
       "output_type": "pyout",
       "prompt_number": 29,
       "text": [
        "(3404.2039999564081, 0.0)"
       ]
      }
     ],
     "prompt_number": 29
    },
    {
     "cell_type": "code",
     "collapsed": false,
     "input": [
      "print (companies.sentimentscale.groupby(companies.sentimentscale).count())"
     ],
     "language": "python",
     "metadata": {},
     "outputs": [
      {
       "output_type": "stream",
       "stream": "stdout",
       "text": [
        "sentiment\n",
        "-1            155\n",
        " 0           2094\n",
        " 1            369\n",
        "Name: sentiment, dtype: int64\n"
       ]
      }
     ],
     "prompt_number": 30
    },
    {
     "cell_type": "code",
     "collapsed": false,
     "input": [
      "print (companies.altmanscale.groupby(companies.altmanscale).count())"
     ],
     "language": "python",
     "metadata": {},
     "outputs": [
      {
       "output_type": "stream",
       "stream": "stdout",
       "text": [
        "altman\n",
        "-1         825\n",
        " 0         478\n",
        " 1        1315\n",
        "Name: altman, dtype: int64\n"
       ]
      }
     ],
     "prompt_number": 31
    },
    {
     "cell_type": "code",
     "collapsed": false,
     "input": [
      "sc.stats.spearmanr(companies.sentimentscale.rank(method=\"average\", ascending=True), companies.altmanscale.rank(method=\"average\", ascending=True))"
     ],
     "language": "python",
     "metadata": {},
     "outputs": [
      {
       "metadata": {},
       "output_type": "pyout",
       "prompt_number": 32,
       "text": [
        "(-0.030236069863026162, 0.12193910694076453)"
       ]
      }
     ],
     "prompt_number": 32
    },
    {
     "cell_type": "code",
     "collapsed": false,
     "input": [
      "sc.stats.spearmanr(companies.sentiment.rank(method=\"average\", ascending=True), companies.altman.rank(method=\"average\", ascending=True))"
     ],
     "language": "python",
     "metadata": {},
     "outputs": [
      {
       "metadata": {},
       "output_type": "pyout",
       "prompt_number": 33,
       "text": [
        "(-0.027134049425243598, 0.1651540988867069)"
       ]
      }
     ],
     "prompt_number": 33
    },
    {
     "cell_type": "code",
     "collapsed": false,
     "input": [
      "sc.stats.spearmanr(companies.sentiment[companies.sector==\"Energy\"].rank(method=\"average\", ascending=True),companies.altman[companies.sector==\"Energy\"].rank(method=\"average\", ascending=True))"
     ],
     "language": "python",
     "metadata": {},
     "outputs": [
      {
       "metadata": {},
       "output_type": "pyout",
       "prompt_number": 34,
       "text": [
        "(-0.21824546222016539, 0.0013860120952624525)"
       ]
      }
     ],
     "prompt_number": 34
    },
    {
     "cell_type": "code",
     "collapsed": false,
     "input": [
      "sc.stats.spearmanr(companies.sentimentscale[companies.sector==\"Energy\"].rank(method=\"average\", ascending=True),companies.altmanscale[companies.sector==\"Energy\"].rank(method=\"average\", ascending=True))"
     ],
     "language": "python",
     "metadata": {},
     "outputs": [
      {
       "metadata": {},
       "output_type": "pyout",
       "prompt_number": 35,
       "text": [
        "(-0.21930040287038272, 0.0013117767964922885)"
       ]
      }
     ],
     "prompt_number": 35
    },
    {
     "cell_type": "code",
     "collapsed": false,
     "input": [
      "sc.stats.spearmanr(companies.sentimentscale[companies.altmanscale==-1], companies.altman[companies.altmanscale==-1])"
     ],
     "language": "python",
     "metadata": {},
     "outputs": [
      {
       "metadata": {},
       "output_type": "pyout",
       "prompt_number": 50,
       "text": [
        "(-0.058611960064478115, 0.092492396411079425)"
       ]
      }
     ],
     "prompt_number": 50
    }
   ],
   "metadata": {}
  }
 ]
}