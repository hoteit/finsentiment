{
 "cells": [
  {
   "cell_type": "code",
   "execution_count": 1,
   "metadata": {},
   "outputs": [],
   "source": [
    "import pandas as pd\n",
    "import numpy as nu"
   ]
  },
  {
   "cell_type": "heading",
   "metadata": {},
   "level": 3,
   "source": [
    "Standard and Poor 500 companies"
   ]
  },
  {
   "cell_type": "code",
   "execution_count": 2,
   "metadata": {},
   "outputs": [
    {
     "data": {
      "text/html": [
       "<div style=\"max-height:1000px;max-width:1500px;overflow:auto;\">\n",
       "<table border=\"1\" class=\"dataframe\">\n",
       "  <thead>\n",
       "    <tr style=\"text-align: right;\">\n",
       "      <th></th>\n",
       "      <th>Symbol</th>\n",
       "      <th>Name</th>\n",
       "      <th>Sector</th>\n",
       "    </tr>\n",
       "  </thead>\n",
       "  <tbody>\n",
       "    <tr>\n",
       "      <th>0  </th>\n",
       "      <td>  MMM</td>\n",
       "      <td>                       3M Co.</td>\n",
       "      <td>                 Industrials</td>\n",
       "    </tr>\n",
       "    <tr>\n",
       "      <th>1  </th>\n",
       "      <td>  ABT</td>\n",
       "      <td>          Abbott Laboratories</td>\n",
       "      <td>                 Health Care</td>\n",
       "    </tr>\n",
       "    <tr>\n",
       "      <th>2  </th>\n",
       "      <td> ABBV</td>\n",
       "      <td>                  AbbVie Inc.</td>\n",
       "      <td>                 Health Care</td>\n",
       "    </tr>\n",
       "    <tr>\n",
       "      <th>3  </th>\n",
       "      <td>  ACN</td>\n",
       "      <td>                    Accenture</td>\n",
       "      <td>      Information Technology</td>\n",
       "    </tr>\n",
       "    <tr>\n",
       "      <th>4  </th>\n",
       "      <td>  ACE</td>\n",
       "      <td>                  ACE Limited</td>\n",
       "      <td>                  Financials</td>\n",
       "    </tr>\n",
       "    <tr>\n",
       "      <th>5  </th>\n",
       "      <td>  ACT</td>\n",
       "      <td>                  Actavis Inc</td>\n",
       "      <td>                 Health Care</td>\n",
       "    </tr>\n",
       "    <tr>\n",
       "      <th>6  </th>\n",
       "      <td> ADBE</td>\n",
       "      <td>            Adobe Systems Inc</td>\n",
       "      <td>      Information Technology</td>\n",
       "    </tr>\n",
       "    <tr>\n",
       "      <th>7  </th>\n",
       "      <td>  AES</td>\n",
       "      <td>                     AES Corp</td>\n",
       "      <td>                   Utilities</td>\n",
       "    </tr>\n",
       "    <tr>\n",
       "      <th>8  </th>\n",
       "      <td>  AET</td>\n",
       "      <td>                    Aetna Inc</td>\n",
       "      <td>                 Health Care</td>\n",
       "    </tr>\n",
       "    <tr>\n",
       "      <th>9  </th>\n",
       "      <td>  AFL</td>\n",
       "      <td>                    AFLAC Inc</td>\n",
       "      <td>                  Financials</td>\n",
       "    </tr>\n",
       "    <tr>\n",
       "      <th>10 </th>\n",
       "      <td>    A</td>\n",
       "      <td>     Agilent Technologies Inc</td>\n",
       "      <td>                 Health Care</td>\n",
       "    </tr>\n",
       "    <tr>\n",
       "      <th>11 </th>\n",
       "      <td>  GAS</td>\n",
       "      <td>           AGL Resources Inc.</td>\n",
       "      <td>                   Utilities</td>\n",
       "    </tr>\n",
       "    <tr>\n",
       "      <th>12 </th>\n",
       "      <td>  APD</td>\n",
       "      <td> Air Products &amp; Chemicals Inc</td>\n",
       "      <td>                   Materials</td>\n",
       "    </tr>\n",
       "    <tr>\n",
       "      <th>13 </th>\n",
       "      <td>  ARG</td>\n",
       "      <td>                   Airgas Inc</td>\n",
       "      <td>                   Materials</td>\n",
       "    </tr>\n",
       "    <tr>\n",
       "      <th>14 </th>\n",
       "      <td> AKAM</td>\n",
       "      <td>      Akamai Technologies Inc</td>\n",
       "      <td>      Information Technology</td>\n",
       "    </tr>\n",
       "    <tr>\n",
       "      <th>15 </th>\n",
       "      <td>   AA</td>\n",
       "      <td>                    Alcoa Inc</td>\n",
       "      <td>                   Materials</td>\n",
       "    </tr>\n",
       "    <tr>\n",
       "      <th>16 </th>\n",
       "      <td> ALXN</td>\n",
       "      <td>      Alexion Pharmaceuticals</td>\n",
       "      <td>                 Health Care</td>\n",
       "    </tr>\n",
       "    <tr>\n",
       "      <th>17 </th>\n",
       "      <td>  ATI</td>\n",
       "      <td>   Allegheny Technologies Inc</td>\n",
       "      <td>                   Materials</td>\n",
       "    </tr>\n",
       "    <tr>\n",
       "      <th>18 </th>\n",
       "      <td> ALLE</td>\n",
       "      <td>                 Allegion plc</td>\n",
       "      <td>                 Industrials</td>\n",
       "    </tr>\n",
       "    <tr>\n",
       "      <th>19 </th>\n",
       "      <td>  AGN</td>\n",
       "      <td>                 Allergan Inc</td>\n",
       "      <td>                 Health Care</td>\n",
       "    </tr>\n",
       "    <tr>\n",
       "      <th>20 </th>\n",
       "      <td>  ADS</td>\n",
       "      <td>   Alliance Data Systems Corp</td>\n",
       "      <td>      Information Technology</td>\n",
       "    </tr>\n",
       "    <tr>\n",
       "      <th>21 </th>\n",
       "      <td>  ALL</td>\n",
       "      <td>                Allstate Corp</td>\n",
       "      <td>                  Financials</td>\n",
       "    </tr>\n",
       "    <tr>\n",
       "      <th>22 </th>\n",
       "      <td> ALTR</td>\n",
       "      <td>                  Altera Corp</td>\n",
       "      <td>      Information Technology</td>\n",
       "    </tr>\n",
       "    <tr>\n",
       "      <th>23 </th>\n",
       "      <td>   MO</td>\n",
       "      <td>             Altria Group Inc</td>\n",
       "      <td>            Consumer Staples</td>\n",
       "    </tr>\n",
       "    <tr>\n",
       "      <th>24 </th>\n",
       "      <td> AMZN</td>\n",
       "      <td>               Amazon.com Inc</td>\n",
       "      <td>      Consumer Discretionary</td>\n",
       "    </tr>\n",
       "    <tr>\n",
       "      <th>25 </th>\n",
       "      <td>  AEE</td>\n",
       "      <td>                  Ameren Corp</td>\n",
       "      <td>                   Utilities</td>\n",
       "    </tr>\n",
       "    <tr>\n",
       "      <th>26 </th>\n",
       "      <td>  AEP</td>\n",
       "      <td>      American Electric Power</td>\n",
       "      <td>                   Utilities</td>\n",
       "    </tr>\n",
       "    <tr>\n",
       "      <th>27 </th>\n",
       "      <td>  AXP</td>\n",
       "      <td>          American Express Co</td>\n",
       "      <td>                  Financials</td>\n",
       "    </tr>\n",
       "    <tr>\n",
       "      <th>28 </th>\n",
       "      <td>  AIG</td>\n",
       "      <td>      American Intl Group Inc</td>\n",
       "      <td>                  Financials</td>\n",
       "    </tr>\n",
       "    <tr>\n",
       "      <th>29 </th>\n",
       "      <td>  AMT</td>\n",
       "      <td>        American Tower Corp A</td>\n",
       "      <td>                  Financials</td>\n",
       "    </tr>\n",
       "    <tr>\n",
       "      <th>...</th>\n",
       "      <td>...</td>\n",
       "      <td>...</td>\n",
       "      <td>...</td>\n",
       "    </tr>\n",
       "    <tr>\n",
       "      <th>471</th>\n",
       "      <td> VIAB</td>\n",
       "      <td>                  Viacom Inc.</td>\n",
       "      <td>      Consumer Discretionary</td>\n",
       "    </tr>\n",
       "    <tr>\n",
       "      <th>472</th>\n",
       "      <td>    V</td>\n",
       "      <td>                    Visa Inc.</td>\n",
       "      <td>      Information Technology</td>\n",
       "    </tr>\n",
       "    <tr>\n",
       "      <th>473</th>\n",
       "      <td>  VNO</td>\n",
       "      <td>         Vornado Realty Trust</td>\n",
       "      <td>                  Financials</td>\n",
       "    </tr>\n",
       "    <tr>\n",
       "      <th>474</th>\n",
       "      <td>  VMC</td>\n",
       "      <td>             Vulcan Materials</td>\n",
       "      <td>                   Materials</td>\n",
       "    </tr>\n",
       "    <tr>\n",
       "      <th>475</th>\n",
       "      <td>  WMT</td>\n",
       "      <td>              Wal-Mart Stores</td>\n",
       "      <td>            Consumer Staples</td>\n",
       "    </tr>\n",
       "    <tr>\n",
       "      <th>476</th>\n",
       "      <td>  WAG</td>\n",
       "      <td>                 Walgreen Co.</td>\n",
       "      <td>            Consumer Staples</td>\n",
       "    </tr>\n",
       "    <tr>\n",
       "      <th>477</th>\n",
       "      <td>  DIS</td>\n",
       "      <td>              Walt Disney Co.</td>\n",
       "      <td>      Consumer Discretionary</td>\n",
       "    </tr>\n",
       "    <tr>\n",
       "      <th>478</th>\n",
       "      <td>   WM</td>\n",
       "      <td>        Waste Management Inc.</td>\n",
       "      <td>                 Industrials</td>\n",
       "    </tr>\n",
       "    <tr>\n",
       "      <th>479</th>\n",
       "      <td>  WAT</td>\n",
       "      <td>           Waters Corporation</td>\n",
       "      <td>                 Health Care</td>\n",
       "    </tr>\n",
       "    <tr>\n",
       "      <th>480</th>\n",
       "      <td>  WLP</td>\n",
       "      <td>               WellPoint Inc.</td>\n",
       "      <td>                 Health Care</td>\n",
       "    </tr>\n",
       "    <tr>\n",
       "      <th>481</th>\n",
       "      <td>  WFC</td>\n",
       "      <td>                  Wells Fargo</td>\n",
       "      <td>                  Financials</td>\n",
       "    </tr>\n",
       "    <tr>\n",
       "      <th>482</th>\n",
       "      <td>  WDC</td>\n",
       "      <td>              Western Digital</td>\n",
       "      <td>      Information Technology</td>\n",
       "    </tr>\n",
       "    <tr>\n",
       "      <th>483</th>\n",
       "      <td>   WU</td>\n",
       "      <td>             Western Union Co</td>\n",
       "      <td>      Information Technology</td>\n",
       "    </tr>\n",
       "    <tr>\n",
       "      <th>484</th>\n",
       "      <td>   WY</td>\n",
       "      <td>           Weyerhaeuser Corp.</td>\n",
       "      <td>                  Financials</td>\n",
       "    </tr>\n",
       "    <tr>\n",
       "      <th>485</th>\n",
       "      <td>  WHR</td>\n",
       "      <td>              Whirlpool Corp.</td>\n",
       "      <td>      Consumer Discretionary</td>\n",
       "    </tr>\n",
       "    <tr>\n",
       "      <th>486</th>\n",
       "      <td>  WFM</td>\n",
       "      <td>           Whole Foods Market</td>\n",
       "      <td>            Consumer Staples</td>\n",
       "    </tr>\n",
       "    <tr>\n",
       "      <th>487</th>\n",
       "      <td>  WIN</td>\n",
       "      <td>       Windstream Corporation</td>\n",
       "      <td> Telecommunications Services</td>\n",
       "    </tr>\n",
       "    <tr>\n",
       "      <th>488</th>\n",
       "      <td>  WEC</td>\n",
       "      <td> Wisconsin Energy Corporation</td>\n",
       "      <td>                   Utilities</td>\n",
       "    </tr>\n",
       "    <tr>\n",
       "      <th>489</th>\n",
       "      <td>  WYN</td>\n",
       "      <td>            Wyndham Worldwide</td>\n",
       "      <td>      Consumer Discretionary</td>\n",
       "    </tr>\n",
       "    <tr>\n",
       "      <th>490</th>\n",
       "      <td> WYNN</td>\n",
       "      <td>             Wynn Resorts Ltd</td>\n",
       "      <td>      Consumer Discretionary</td>\n",
       "    </tr>\n",
       "    <tr>\n",
       "      <th>491</th>\n",
       "      <td>  XEL</td>\n",
       "      <td>              Xcel Energy Inc</td>\n",
       "      <td>                   Utilities</td>\n",
       "    </tr>\n",
       "    <tr>\n",
       "      <th>492</th>\n",
       "      <td>  XRX</td>\n",
       "      <td>                  Xerox Corp.</td>\n",
       "      <td>      Information Technology</td>\n",
       "    </tr>\n",
       "    <tr>\n",
       "      <th>493</th>\n",
       "      <td> XLNX</td>\n",
       "      <td>                   Xilinx Inc</td>\n",
       "      <td>      Information Technology</td>\n",
       "    </tr>\n",
       "    <tr>\n",
       "      <th>494</th>\n",
       "      <td>   XL</td>\n",
       "      <td>                   XL Capital</td>\n",
       "      <td>                  Financials</td>\n",
       "    </tr>\n",
       "    <tr>\n",
       "      <th>495</th>\n",
       "      <td>  XYL</td>\n",
       "      <td>                   Xylem Inc.</td>\n",
       "      <td>                 Industrials</td>\n",
       "    </tr>\n",
       "    <tr>\n",
       "      <th>496</th>\n",
       "      <td> YHOO</td>\n",
       "      <td>                   Yahoo Inc.</td>\n",
       "      <td>      Information Technology</td>\n",
       "    </tr>\n",
       "    <tr>\n",
       "      <th>497</th>\n",
       "      <td>  YUM</td>\n",
       "      <td>              Yum! Brands Inc</td>\n",
       "      <td>      Consumer Discretionary</td>\n",
       "    </tr>\n",
       "    <tr>\n",
       "      <th>498</th>\n",
       "      <td>  ZMH</td>\n",
       "      <td>              Zimmer Holdings</td>\n",
       "      <td>                 Health Care</td>\n",
       "    </tr>\n",
       "    <tr>\n",
       "      <th>499</th>\n",
       "      <td> ZION</td>\n",
       "      <td>                Zions Bancorp</td>\n",
       "      <td>                  Financials</td>\n",
       "    </tr>\n",
       "    <tr>\n",
       "      <th>500</th>\n",
       "      <td>  ZTS</td>\n",
       "      <td>                   Zoetis Inc</td>\n",
       "      <td>                 Health Care</td>\n",
       "    </tr>\n",
       "  </tbody>\n",
       "</table>\n",
       "<p>501 rows × 3 columns</p>\n",
       "</div>"
      ],
      "text/plain": []
     },
     "metadata": {},
     "output_type": "execute_result"
    }
   ],
   "source": [
    "sp500_location = \"constituents.csv\"\n",
    "sp500 = pd.read_csv(sp500_location)\n",
    "sp500"
   ]
  },
  {
   "cell_type": "code",
   "execution_count": 3,
   "metadata": {},
   "outputs": [
    {
     "data": {
      "text/html": [
       "<div style=\"max-height:1000px;max-width:1500px;overflow:auto;\">\n",
       "<table border=\"1\" class=\"dataframe\">\n",
       "  <thead>\n",
       "    <tr style=\"text-align: right;\">\n",
       "      <th></th>\n",
       "      <th>Symbol</th>\n",
       "      <th>Name</th>\n",
       "      <th>Sector</th>\n",
       "      <th>Price</th>\n",
       "      <th>Dividend Yield</th>\n",
       "      <th>Price/Earnings</th>\n",
       "      <th>Earnings/Share</th>\n",
       "      <th>Book Value</th>\n",
       "      <th>52 week low</th>\n",
       "      <th>52 week high</th>\n",
       "      <th>Market Cap</th>\n",
       "      <th>EBITDA</th>\n",
       "      <th>Price/Sales</th>\n",
       "      <th>Price/Book</th>\n",
       "      <th>SEC Filings</th>\n",
       "    </tr>\n",
       "  </thead>\n",
       "  <tbody>\n",
       "    <tr>\n",
       "      <th>0  </th>\n",
       "      <td>  MMM</td>\n",
       "      <td>                       3M Co.</td>\n",
       "      <td>                 Industrials</td>\n",
       "      <td> 160.09</td>\n",
       "      <td> 2.16</td>\n",
       "      <td>  21.73</td>\n",
       "      <td> 7.284</td>\n",
       "      <td>  25.238</td>\n",
       "      <td> 123.6100</td>\n",
       "      <td> 160.8600</td>\n",
       "      <td> 102.600</td>\n",
       "      <td>  8.4670</td>\n",
       "      <td>  3.20</td>\n",
       "      <td>   6.27</td>\n",
       "      <td> http://www.sec.gov/cgi-bin/browse-edgar?action...</td>\n",
       "    </tr>\n",
       "    <tr>\n",
       "      <th>1  </th>\n",
       "      <td>  ABT</td>\n",
       "      <td>          Abbott Laboratories</td>\n",
       "      <td>                 Health Care</td>\n",
       "      <td>  44.51</td>\n",
       "      <td> 1.99</td>\n",
       "      <td>  34.90</td>\n",
       "      <td> 1.268</td>\n",
       "      <td>  15.200</td>\n",
       "      <td>  35.6500</td>\n",
       "      <td>  44.7700</td>\n",
       "      <td>  67.023</td>\n",
       "      <td>  4.7950</td>\n",
       "      <td>  3.01</td>\n",
       "      <td>   2.91</td>\n",
       "      <td> http://www.sec.gov/cgi-bin/browse-edgar?action...</td>\n",
       "    </tr>\n",
       "    <tr>\n",
       "      <th>2  </th>\n",
       "      <td> ABBV</td>\n",
       "      <td>                  AbbVie Inc.</td>\n",
       "      <td>                 Health Care</td>\n",
       "      <td>  69.20</td>\n",
       "      <td> 2.42</td>\n",
       "      <td>  29.87</td>\n",
       "      <td> 2.300</td>\n",
       "      <td>   2.915</td>\n",
       "      <td>  45.5000</td>\n",
       "      <td>  69.4800</td>\n",
       "      <td> 110.300</td>\n",
       "      <td>  6.9820</td>\n",
       "      <td>  5.58</td>\n",
       "      <td>  23.57</td>\n",
       "      <td> http://www.sec.gov/cgi-bin/browse-edgar?action...</td>\n",
       "    </tr>\n",
       "    <tr>\n",
       "      <th>3  </th>\n",
       "      <td>  ACN</td>\n",
       "      <td>                    Accenture</td>\n",
       "      <td>      Information Technology</td>\n",
       "      <td>  86.33</td>\n",
       "      <td> 2.29</td>\n",
       "      <td>  18.84</td>\n",
       "      <td> 4.519</td>\n",
       "      <td>   9.120</td>\n",
       "      <td>  73.7900</td>\n",
       "      <td>  86.4900</td>\n",
       "      <td>  54.173</td>\n",
       "      <td>  4.6850</td>\n",
       "      <td>  1.78</td>\n",
       "      <td>   9.34</td>\n",
       "      <td> http://www.sec.gov/cgi-bin/browse-edgar?action...</td>\n",
       "    </tr>\n",
       "    <tr>\n",
       "      <th>4  </th>\n",
       "      <td>  ACE</td>\n",
       "      <td>                  ACE Limited</td>\n",
       "      <td>                  Financials</td>\n",
       "      <td> 114.34</td>\n",
       "      <td> 2.25</td>\n",
       "      <td>  11.81</td>\n",
       "      <td> 9.656</td>\n",
       "      <td>  90.382</td>\n",
       "      <td>  92.0000</td>\n",
       "      <td> 114.1100</td>\n",
       "      <td>  37.931</td>\n",
       "      <td>  4.0100</td>\n",
       "      <td>  1.94</td>\n",
       "      <td>   1.26</td>\n",
       "      <td> http://www.sec.gov/cgi-bin/browse-edgar?action...</td>\n",
       "    </tr>\n",
       "    <tr>\n",
       "      <th>5  </th>\n",
       "      <td>  ACT</td>\n",
       "      <td>                  Actavis Inc</td>\n",
       "      <td>                 Health Care</td>\n",
       "      <td> 270.61</td>\n",
       "      <td>  NaN</td>\n",
       "      <td>    NaN</td>\n",
       "      <td>-5.314</td>\n",
       "      <td> 110.005</td>\n",
       "      <td> 156.4000</td>\n",
       "      <td> 272.7500</td>\n",
       "      <td>  71.728</td>\n",
       "      <td>  3.3910</td>\n",
       "      <td>  6.08</td>\n",
       "      <td>   2.46</td>\n",
       "      <td> http://www.sec.gov/cgi-bin/browse-edgar?action...</td>\n",
       "    </tr>\n",
       "    <tr>\n",
       "      <th>6  </th>\n",
       "      <td> ADBE</td>\n",
       "      <td>            Adobe Systems Inc</td>\n",
       "      <td>      Information Technology</td>\n",
       "      <td>  73.68</td>\n",
       "      <td>  NaN</td>\n",
       "      <td> 155.28</td>\n",
       "      <td> 0.470</td>\n",
       "      <td>  13.500</td>\n",
       "      <td>  53.9300</td>\n",
       "      <td>  74.6900</td>\n",
       "      <td>  36.747</td>\n",
       "      <td>  0.7206</td>\n",
       "      <td>  8.84</td>\n",
       "      <td>   5.41</td>\n",
       "      <td> http://www.sec.gov/cgi-bin/browse-edgar?action...</td>\n",
       "    </tr>\n",
       "    <tr>\n",
       "      <th>7  </th>\n",
       "      <td>  AES</td>\n",
       "      <td>                     AES Corp</td>\n",
       "      <td>                   Utilities</td>\n",
       "      <td>  13.87</td>\n",
       "      <td> 1.45</td>\n",
       "      <td>  28.15</td>\n",
       "      <td> 0.491</td>\n",
       "      <td>   6.141</td>\n",
       "      <td>  12.3800</td>\n",
       "      <td>  15.6500</td>\n",
       "      <td>   9.890</td>\n",
       "      <td>  4.0360</td>\n",
       "      <td>  0.59</td>\n",
       "      <td>   2.25</td>\n",
       "      <td> http://www.sec.gov/cgi-bin/browse-edgar?action...</td>\n",
       "    </tr>\n",
       "    <tr>\n",
       "      <th>8  </th>\n",
       "      <td>  AET</td>\n",
       "      <td>                    Aetna Inc</td>\n",
       "      <td>                 Health Care</td>\n",
       "      <td>  87.24</td>\n",
       "      <td> 1.04</td>\n",
       "      <td>  14.51</td>\n",
       "      <td> 5.991</td>\n",
       "      <td>  42.426</td>\n",
       "      <td>  64.6800</td>\n",
       "      <td>  88.1100</td>\n",
       "      <td>  30.682</td>\n",
       "      <td>  4.8580</td>\n",
       "      <td>  0.54</td>\n",
       "      <td>   2.05</td>\n",
       "      <td> http://www.sec.gov/cgi-bin/browse-edgar?action...</td>\n",
       "    </tr>\n",
       "    <tr>\n",
       "      <th>9  </th>\n",
       "      <td>  AFL</td>\n",
       "      <td>                    AFLAC Inc</td>\n",
       "      <td>                  Financials</td>\n",
       "      <td>  59.73</td>\n",
       "      <td> 2.51</td>\n",
       "      <td>   9.36</td>\n",
       "      <td> 6.376</td>\n",
       "      <td>  39.629</td>\n",
       "      <td>  54.9900</td>\n",
       "      <td>  67.6200</td>\n",
       "      <td>  26.914</td>\n",
       "      <td>  4.6940</td>\n",
       "      <td>  1.18</td>\n",
       "      <td>   1.51</td>\n",
       "      <td> http://www.sec.gov/cgi-bin/browse-edgar?action...</td>\n",
       "    </tr>\n",
       "    <tr>\n",
       "      <th>10 </th>\n",
       "      <td>    A</td>\n",
       "      <td>     Agilent Technologies Inc</td>\n",
       "      <td>                 Health Care</td>\n",
       "      <td>  42.74</td>\n",
       "      <td> 0.88</td>\n",
       "      <td>  29.07</td>\n",
       "      <td> 1.470</td>\n",
       "      <td>  15.773</td>\n",
       "      <td>  35.6223</td>\n",
       "      <td>  43.7911</td>\n",
       "      <td>  14.318</td>\n",
       "      <td>  1.2140</td>\n",
       "      <td>  2.05</td>\n",
       "      <td>   2.71</td>\n",
       "      <td> http://www.sec.gov/cgi-bin/browse-edgar?action...</td>\n",
       "    </tr>\n",
       "    <tr>\n",
       "      <th>11 </th>\n",
       "      <td>  GAS</td>\n",
       "      <td>           AGL Resources Inc.</td>\n",
       "      <td>                   Utilities</td>\n",
       "      <td>  52.31</td>\n",
       "      <td> 3.76</td>\n",
       "      <td>  15.14</td>\n",
       "      <td> 3.443</td>\n",
       "      <td>  31.447</td>\n",
       "      <td>  44.7400</td>\n",
       "      <td>  55.5900</td>\n",
       "      <td>   6.255</td>\n",
       "      <td>  1.3410</td>\n",
       "      <td>  1.21</td>\n",
       "      <td>   1.66</td>\n",
       "      <td> http://www.sec.gov/cgi-bin/browse-edgar?action...</td>\n",
       "    </tr>\n",
       "    <tr>\n",
       "      <th>12 </th>\n",
       "      <td>  APD</td>\n",
       "      <td> Air Products &amp; Chemicals Inc</td>\n",
       "      <td>                   Materials</td>\n",
       "      <td> 143.83</td>\n",
       "      <td> 2.08</td>\n",
       "      <td>  31.49</td>\n",
       "      <td> 4.611</td>\n",
       "      <td>  34.494</td>\n",
       "      <td> 102.7300</td>\n",
       "      <td> 146.4600</td>\n",
       "      <td>  30.738</td>\n",
       "      <td>  2.6020</td>\n",
       "      <td>  2.97</td>\n",
       "      <td>   4.21</td>\n",
       "      <td> http://www.sec.gov/cgi-bin/browse-edgar?action...</td>\n",
       "    </tr>\n",
       "    <tr>\n",
       "      <th>13 </th>\n",
       "      <td>  ARG</td>\n",
       "      <td>                   Airgas Inc</td>\n",
       "      <td>                   Materials</td>\n",
       "      <td> 115.63</td>\n",
       "      <td> 1.75</td>\n",
       "      <td>  24.73</td>\n",
       "      <td> 4.751</td>\n",
       "      <td>  26.837</td>\n",
       "      <td>  99.3200</td>\n",
       "      <td> 118.7500</td>\n",
       "      <td>   8.638</td>\n",
       "      <td>  0.9553</td>\n",
       "      <td>  1.69</td>\n",
       "      <td>   4.38</td>\n",
       "      <td> http://www.sec.gov/cgi-bin/browse-edgar?action...</td>\n",
       "    </tr>\n",
       "    <tr>\n",
       "      <th>14 </th>\n",
       "      <td> AKAM</td>\n",
       "      <td>      Akamai Technologies Inc</td>\n",
       "      <td>      Information Technology</td>\n",
       "      <td>  64.61</td>\n",
       "      <td>  NaN</td>\n",
       "      <td>  36.69</td>\n",
       "      <td> 1.750</td>\n",
       "      <td>  15.985</td>\n",
       "      <td>  43.7400</td>\n",
       "      <td>  65.3900</td>\n",
       "      <td>  11.500</td>\n",
       "      <td>  0.6517</td>\n",
       "      <td>  6.13</td>\n",
       "      <td>   4.02</td>\n",
       "      <td> http://www.sec.gov/cgi-bin/browse-edgar?action...</td>\n",
       "    </tr>\n",
       "    <tr>\n",
       "      <th>15 </th>\n",
       "      <td>   AA</td>\n",
       "      <td>                    Alcoa Inc</td>\n",
       "      <td>                   Materials</td>\n",
       "      <td>  17.29</td>\n",
       "      <td> 0.68</td>\n",
       "      <td>    NaN</td>\n",
       "      <td>-1.980</td>\n",
       "      <td>  10.477</td>\n",
       "      <td>   9.2900</td>\n",
       "      <td>  17.7500</td>\n",
       "      <td>  20.382</td>\n",
       "      <td>  3.1270</td>\n",
       "      <td>  0.90</td>\n",
       "      <td>   1.68</td>\n",
       "      <td> http://www.sec.gov/cgi-bin/browse-edgar?action...</td>\n",
       "    </tr>\n",
       "    <tr>\n",
       "      <th>16 </th>\n",
       "      <td> ALXN</td>\n",
       "      <td>      Alexion Pharmaceuticals</td>\n",
       "      <td>                 Health Care</td>\n",
       "      <td> 194.90</td>\n",
       "      <td>  NaN</td>\n",
       "      <td>  81.00</td>\n",
       "      <td> 2.404</td>\n",
       "      <td>  15.749</td>\n",
       "      <td> 120.1400</td>\n",
       "      <td> 197.6400</td>\n",
       "      <td>  38.646</td>\n",
       "      <td>  0.8794</td>\n",
       "      <td> 18.60</td>\n",
       "      <td>  12.36</td>\n",
       "      <td> http://www.sec.gov/cgi-bin/browse-edgar?action...</td>\n",
       "    </tr>\n",
       "    <tr>\n",
       "      <th>17 </th>\n",
       "      <td>  ATI</td>\n",
       "      <td>   Allegheny Technologies Inc</td>\n",
       "      <td>                   Materials</td>\n",
       "      <td>  33.69</td>\n",
       "      <td> 2.05</td>\n",
       "      <td>  25.29</td>\n",
       "      <td> 1.387</td>\n",
       "      <td>  26.411</td>\n",
       "      <td>  29.7400</td>\n",
       "      <td>  46.3200</td>\n",
       "      <td>   3.662</td>\n",
       "      <td>  0.1783</td>\n",
       "      <td>  0.93</td>\n",
       "      <td>   1.33</td>\n",
       "      <td> http://www.sec.gov/cgi-bin/browse-edgar?action...</td>\n",
       "    </tr>\n",
       "    <tr>\n",
       "      <th>18 </th>\n",
       "      <td> ALLE</td>\n",
       "      <td>                 Allegion plc</td>\n",
       "      <td>                 Industrials</td>\n",
       "      <td>  53.85</td>\n",
       "      <td> 0.45</td>\n",
       "      <td>    NaN</td>\n",
       "      <td> 0.000</td>\n",
       "      <td>   0.000</td>\n",
       "      <td>  40.2400</td>\n",
       "      <td>  58.2900</td>\n",
       "      <td>     NaN</td>\n",
       "      <td>  0.0000</td>\n",
       "      <td>   NaN</td>\n",
       "      <td>    NaN</td>\n",
       "      <td> http://www.sec.gov/cgi-bin/browse-edgar?action...</td>\n",
       "    </tr>\n",
       "    <tr>\n",
       "      <th>19 </th>\n",
       "      <td>  AGN</td>\n",
       "      <td>                 Allergan Inc</td>\n",
       "      <td>                 Health Care</td>\n",
       "      <td> 213.89</td>\n",
       "      <td> 0.09</td>\n",
       "      <td>  50.02</td>\n",
       "      <td> 4.278</td>\n",
       "      <td>  23.892</td>\n",
       "      <td>  94.9800</td>\n",
       "      <td> 214.6400</td>\n",
       "      <td>  63.717</td>\n",
       "      <td>  2.3300</td>\n",
       "      <td>  9.10</td>\n",
       "      <td>   8.96</td>\n",
       "      <td> http://www.sec.gov/cgi-bin/browse-edgar?action...</td>\n",
       "    </tr>\n",
       "    <tr>\n",
       "      <th>20 </th>\n",
       "      <td>  ADS</td>\n",
       "      <td>   Alliance Data Systems Corp</td>\n",
       "      <td>      Information Technology</td>\n",
       "      <td> 285.87</td>\n",
       "      <td>  NaN</td>\n",
       "      <td>  32.50</td>\n",
       "      <td> 8.749</td>\n",
       "      <td>  18.191</td>\n",
       "      <td> 230.5300</td>\n",
       "      <td> 300.4900</td>\n",
       "      <td>  16.984</td>\n",
       "      <td>  1.3820</td>\n",
       "      <td>  3.41</td>\n",
       "      <td>  15.63</td>\n",
       "      <td> http://www.sec.gov/cgi-bin/browse-edgar?action...</td>\n",
       "    </tr>\n",
       "    <tr>\n",
       "      <th>21 </th>\n",
       "      <td>  ALL</td>\n",
       "      <td>                Allstate Corp</td>\n",
       "      <td>                  Financials</td>\n",
       "      <td>  68.15</td>\n",
       "      <td> 1.66</td>\n",
       "      <td>  10.92</td>\n",
       "      <td> 6.185</td>\n",
       "      <td>  49.124</td>\n",
       "      <td>  49.1800</td>\n",
       "      <td>  68.4700</td>\n",
       "      <td>  28.584</td>\n",
       "      <td>  4.9600</td>\n",
       "      <td>  0.80</td>\n",
       "      <td>   1.37</td>\n",
       "      <td> http://www.sec.gov/cgi-bin/browse-edgar?action...</td>\n",
       "    </tr>\n",
       "    <tr>\n",
       "      <th>22 </th>\n",
       "      <td> ALTR</td>\n",
       "      <td>                  Altera Corp</td>\n",
       "      <td>      Information Technology</td>\n",
       "      <td>  37.62</td>\n",
       "      <td> 1.77</td>\n",
       "      <td>  25.52</td>\n",
       "      <td> 1.459</td>\n",
       "      <td>  10.887</td>\n",
       "      <td>  30.4700</td>\n",
       "      <td>  37.6700</td>\n",
       "      <td>  11.467</td>\n",
       "      <td>  0.6013</td>\n",
       "      <td>  5.95</td>\n",
       "      <td>   3.42</td>\n",
       "      <td> http://www.sec.gov/cgi-bin/browse-edgar?action...</td>\n",
       "    </tr>\n",
       "    <tr>\n",
       "      <th>23 </th>\n",
       "      <td>   MO</td>\n",
       "      <td>             Altria Group Inc</td>\n",
       "      <td>            Consumer Staples</td>\n",
       "      <td>  50.26</td>\n",
       "      <td> 3.94</td>\n",
       "      <td>  22.94</td>\n",
       "      <td> 2.167</td>\n",
       "      <td>   2.173</td>\n",
       "      <td>  33.8000</td>\n",
       "      <td>  50.4500</td>\n",
       "      <td>  99.314</td>\n",
       "      <td>  8.5770</td>\n",
       "      <td>  5.54</td>\n",
       "      <td>  22.88</td>\n",
       "      <td> http://www.sec.gov/cgi-bin/browse-edgar?action...</td>\n",
       "    </tr>\n",
       "    <tr>\n",
       "      <th>24 </th>\n",
       "      <td> AMZN</td>\n",
       "      <td>               Amazon.com Inc</td>\n",
       "      <td>      Consumer Discretionary</td>\n",
       "      <td> 338.64</td>\n",
       "      <td>  NaN</td>\n",
       "      <td>    NaN</td>\n",
       "      <td>-0.467</td>\n",
       "      <td>  22.324</td>\n",
       "      <td> 284.0000</td>\n",
       "      <td> 408.0600</td>\n",
       "      <td> 156.800</td>\n",
       "      <td>  3.8900</td>\n",
       "      <td>  1.81</td>\n",
       "      <td>  14.94</td>\n",
       "      <td> http://www.sec.gov/cgi-bin/browse-edgar?action...</td>\n",
       "    </tr>\n",
       "    <tr>\n",
       "      <th>25 </th>\n",
       "      <td>  AEE</td>\n",
       "      <td>                  Ameren Corp</td>\n",
       "      <td>                   Utilities</td>\n",
       "      <td>  43.11</td>\n",
       "      <td> 3.76</td>\n",
       "      <td>  18.18</td>\n",
       "      <td> 2.342</td>\n",
       "      <td>  27.923</td>\n",
       "      <td>  34.7100</td>\n",
       "      <td>  44.2200</td>\n",
       "      <td>  10.460</td>\n",
       "      <td>  2.0870</td>\n",
       "      <td>  1.78</td>\n",
       "      <td>   1.52</td>\n",
       "      <td> http://www.sec.gov/cgi-bin/browse-edgar?action...</td>\n",
       "    </tr>\n",
       "    <tr>\n",
       "      <th>26 </th>\n",
       "      <td>  AEP</td>\n",
       "      <td>      American Electric Power</td>\n",
       "      <td>                   Utilities</td>\n",
       "      <td>  57.55</td>\n",
       "      <td> 3.58</td>\n",
       "      <td>  15.48</td>\n",
       "      <td> 3.660</td>\n",
       "      <td>  34.479</td>\n",
       "      <td>  45.2400</td>\n",
       "      <td>  59.8400</td>\n",
       "      <td>  28.156</td>\n",
       "      <td>  5.3570</td>\n",
       "      <td>  1.65</td>\n",
       "      <td>   1.64</td>\n",
       "      <td> http://www.sec.gov/cgi-bin/browse-edgar?action...</td>\n",
       "    </tr>\n",
       "    <tr>\n",
       "      <th>27 </th>\n",
       "      <td>  AXP</td>\n",
       "      <td>          American Express Co</td>\n",
       "      <td>                  Financials</td>\n",
       "      <td>  92.42</td>\n",
       "      <td> 1.07</td>\n",
       "      <td>  17.00</td>\n",
       "      <td> 5.378</td>\n",
       "      <td>  19.420</td>\n",
       "      <td>  78.4100</td>\n",
       "      <td>  96.2400</td>\n",
       "      <td>  96.209</td>\n",
       "      <td>  0.0000</td>\n",
       "      <td>  3.02</td>\n",
       "      <td>   4.71</td>\n",
       "      <td> http://www.sec.gov/cgi-bin/browse-edgar?action...</td>\n",
       "    </tr>\n",
       "    <tr>\n",
       "      <th>28 </th>\n",
       "      <td>  AIG</td>\n",
       "      <td>      American Intl Group Inc</td>\n",
       "      <td>                  Financials</td>\n",
       "      <td>  54.80</td>\n",
       "      <td> 0.87</td>\n",
       "      <td>   9.03</td>\n",
       "      <td> 6.045</td>\n",
       "      <td>  77.349</td>\n",
       "      <td>  46.8000</td>\n",
       "      <td>  56.5600</td>\n",
       "      <td>  76.715</td>\n",
       "      <td> 16.1650</td>\n",
       "      <td>  1.18</td>\n",
       "      <td>   0.71</td>\n",
       "      <td> http://www.sec.gov/cgi-bin/browse-edgar?action...</td>\n",
       "    </tr>\n",
       "    <tr>\n",
       "      <th>29 </th>\n",
       "      <td>  AMT</td>\n",
       "      <td>        American Tower Corp A</td>\n",
       "      <td>                  Financials</td>\n",
       "      <td> 105.01</td>\n",
       "      <td> 1.25</td>\n",
       "      <td>  57.21</td>\n",
       "      <td> 1.830</td>\n",
       "      <td>  10.582</td>\n",
       "      <td>  75.6500</td>\n",
       "      <td> 106.3100</td>\n",
       "      <td>  41.632</td>\n",
       "      <td>  2.4920</td>\n",
       "      <td> 10.39</td>\n",
       "      <td>   9.89</td>\n",
       "      <td> http://www.sec.gov/cgi-bin/browse-edgar?action...</td>\n",
       "    </tr>\n",
       "    <tr>\n",
       "      <th>...</th>\n",
       "      <td>...</td>\n",
       "      <td>...</td>\n",
       "      <td>...</td>\n",
       "      <td>...</td>\n",
       "      <td>...</td>\n",
       "      <td>...</td>\n",
       "      <td>...</td>\n",
       "      <td>...</td>\n",
       "      <td>...</td>\n",
       "      <td>...</td>\n",
       "      <td>...</td>\n",
       "      <td>...</td>\n",
       "      <td>...</td>\n",
       "      <td>...</td>\n",
       "      <td>...</td>\n",
       "    </tr>\n",
       "    <tr>\n",
       "      <th>471</th>\n",
       "      <td> VIAB</td>\n",
       "      <td>                  Viacom Inc.</td>\n",
       "      <td>      Consumer Discretionary</td>\n",
       "      <td>  75.63</td>\n",
       "      <td> 1.67</td>\n",
       "      <td>  13.86</td>\n",
       "      <td> 5.428</td>\n",
       "      <td>   8.979</td>\n",
       "      <td>  65.8600</td>\n",
       "      <td>  89.7600</td>\n",
       "      <td>  31.044</td>\n",
       "      <td>  4.3420</td>\n",
       "      <td>  2.24</td>\n",
       "      <td>   8.38</td>\n",
       "      <td> http://www.sec.gov/cgi-bin/browse-edgar?action...</td>\n",
       "    </tr>\n",
       "    <tr>\n",
       "      <th>472</th>\n",
       "      <td>    V</td>\n",
       "      <td>                    Visa Inc.</td>\n",
       "      <td>      Information Technology</td>\n",
       "      <td> 258.19</td>\n",
       "      <td> 0.65</td>\n",
       "      <td>  29.85</td>\n",
       "      <td> 8.618</td>\n",
       "      <td>  44.360</td>\n",
       "      <td> 194.8400</td>\n",
       "      <td> 259.5000</td>\n",
       "      <td> 162.200</td>\n",
       "      <td>  8.3870</td>\n",
       "      <td> 12.72</td>\n",
       "      <td>   5.80</td>\n",
       "      <td> http://www.sec.gov/cgi-bin/browse-edgar?action...</td>\n",
       "    </tr>\n",
       "    <tr>\n",
       "      <th>473</th>\n",
       "      <td>  VNO</td>\n",
       "      <td>         Vornado Realty Trust</td>\n",
       "      <td>                  Financials</td>\n",
       "      <td> 111.56</td>\n",
       "      <td> 2.63</td>\n",
       "      <td> 103.40</td>\n",
       "      <td> 1.074</td>\n",
       "      <td>  27.909</td>\n",
       "      <td>  86.8300</td>\n",
       "      <td> 112.5000</td>\n",
       "      <td>  20.944</td>\n",
       "      <td>  1.2930</td>\n",
       "      <td>  8.17</td>\n",
       "      <td>   3.98</td>\n",
       "      <td> http://www.sec.gov/cgi-bin/browse-edgar?action...</td>\n",
       "    </tr>\n",
       "    <tr>\n",
       "      <th>474</th>\n",
       "      <td>  VMC</td>\n",
       "      <td>             Vulcan Materials</td>\n",
       "      <td>                   Materials</td>\n",
       "      <td>  66.10</td>\n",
       "      <td> 0.33</td>\n",
       "      <td>  50.47</td>\n",
       "      <td> 1.330</td>\n",
       "      <td>  31.898</td>\n",
       "      <td>  53.5500</td>\n",
       "      <td>  69.5000</td>\n",
       "      <td>   8.706</td>\n",
       "      <td>  0.5371</td>\n",
       "      <td>  3.03</td>\n",
       "      <td>   2.10</td>\n",
       "      <td> http://www.sec.gov/cgi-bin/browse-edgar?action...</td>\n",
       "    </tr>\n",
       "    <tr>\n",
       "      <th>475</th>\n",
       "      <td>  WMT</td>\n",
       "      <td>              Wal-Mart Stores</td>\n",
       "      <td>            Consumer Staples</td>\n",
       "      <td>  87.54</td>\n",
       "      <td> 2.25</td>\n",
       "      <td>  17.45</td>\n",
       "      <td> 4.871</td>\n",
       "      <td>  24.500</td>\n",
       "      <td>  72.2700</td>\n",
       "      <td>  88.0900</td>\n",
       "      <td> 282.700</td>\n",
       "      <td> 35.6960</td>\n",
       "      <td>  0.57</td>\n",
       "      <td>   3.47</td>\n",
       "      <td> http://www.sec.gov/cgi-bin/browse-edgar?action...</td>\n",
       "    </tr>\n",
       "    <tr>\n",
       "      <th>476</th>\n",
       "      <td>  WAG</td>\n",
       "      <td>                 Walgreen Co.</td>\n",
       "      <td>            Consumer Staples</td>\n",
       "      <td>  68.61</td>\n",
       "      <td> 1.91</td>\n",
       "      <td>  34.24</td>\n",
       "      <td> 2.000</td>\n",
       "      <td>  21.525</td>\n",
       "      <td>  54.8600</td>\n",
       "      <td>  76.3900</td>\n",
       "      <td>  65.206</td>\n",
       "      <td>  5.1410</td>\n",
       "      <td>  0.85</td>\n",
       "      <td>   3.18</td>\n",
       "      <td> http://www.sec.gov/cgi-bin/browse-edgar?action...</td>\n",
       "    </tr>\n",
       "    <tr>\n",
       "      <th>477</th>\n",
       "      <td>  DIS</td>\n",
       "      <td>              Walt Disney Co.</td>\n",
       "      <td>      Consumer Discretionary</td>\n",
       "      <td>  92.51</td>\n",
       "      <td> 0.94</td>\n",
       "      <td>  21.58</td>\n",
       "      <td> 4.260</td>\n",
       "      <td>  26.337</td>\n",
       "      <td>  68.8000</td>\n",
       "      <td>  92.9600</td>\n",
       "      <td> 156.900</td>\n",
       "      <td> 13.8280</td>\n",
       "      <td>  3.19</td>\n",
       "      <td>   3.49</td>\n",
       "      <td> http://www.sec.gov/cgi-bin/browse-edgar?action...</td>\n",
       "    </tr>\n",
       "    <tr>\n",
       "      <th>478</th>\n",
       "      <td>   WM</td>\n",
       "      <td>        Waste Management Inc.</td>\n",
       "      <td>                 Industrials</td>\n",
       "      <td>  48.73</td>\n",
       "      <td> 3.06</td>\n",
       "      <td> 219.37</td>\n",
       "      <td> 0.222</td>\n",
       "      <td>  11.714</td>\n",
       "      <td>  40.3500</td>\n",
       "      <td>  49.7100</td>\n",
       "      <td>  22.314</td>\n",
       "      <td>  3.4790</td>\n",
       "      <td>  1.59</td>\n",
       "      <td>   4.16</td>\n",
       "      <td> http://www.sec.gov/cgi-bin/browse-edgar?action...</td>\n",
       "    </tr>\n",
       "    <tr>\n",
       "      <th>479</th>\n",
       "      <td>  WAT</td>\n",
       "      <td>           Waters Corporation</td>\n",
       "      <td>                 Health Care</td>\n",
       "      <td> 115.90</td>\n",
       "      <td>  NaN</td>\n",
       "      <td>  23.47</td>\n",
       "      <td> 4.937</td>\n",
       "      <td>  22.126</td>\n",
       "      <td>  93.5600</td>\n",
       "      <td> 117.7100</td>\n",
       "      <td>   9.652</td>\n",
       "      <td>  0.6281</td>\n",
       "      <td>  4.90</td>\n",
       "      <td>   5.24</td>\n",
       "      <td> http://www.sec.gov/cgi-bin/browse-edgar?action...</td>\n",
       "    </tr>\n",
       "    <tr>\n",
       "      <th>480</th>\n",
       "      <td>  WLP</td>\n",
       "      <td>               WellPoint Inc.</td>\n",
       "      <td>                 Health Care</td>\n",
       "      <td> 127.91</td>\n",
       "      <td> 1.33</td>\n",
       "      <td>  16.70</td>\n",
       "      <td> 7.600</td>\n",
       "      <td>  89.807</td>\n",
       "      <td>  81.8400</td>\n",
       "      <td> 129.9600</td>\n",
       "      <td>  34.528</td>\n",
       "      <td>  5.1620</td>\n",
       "      <td>  0.47</td>\n",
       "      <td>   1.41</td>\n",
       "      <td> http://www.sec.gov/cgi-bin/browse-edgar?action...</td>\n",
       "    </tr>\n",
       "    <tr>\n",
       "      <th>481</th>\n",
       "      <td>  WFC</td>\n",
       "      <td>                  Wells Fargo</td>\n",
       "      <td>                  Financials</td>\n",
       "      <td>  54.48</td>\n",
       "      <td> 2.49</td>\n",
       "      <td>  13.30</td>\n",
       "      <td> 4.080</td>\n",
       "      <td>  31.571</td>\n",
       "      <td>  43.2100</td>\n",
       "      <td>  54.7400</td>\n",
       "      <td> 282.600</td>\n",
       "      <td>  0.0000</td>\n",
       "      <td>  3.42</td>\n",
       "      <td>   1.72</td>\n",
       "      <td> http://www.sec.gov/cgi-bin/browse-edgar?action...</td>\n",
       "    </tr>\n",
       "    <tr>\n",
       "      <th>482</th>\n",
       "      <td>  WDC</td>\n",
       "      <td>              Western Digital</td>\n",
       "      <td>      Information Technology</td>\n",
       "      <td> 103.27</td>\n",
       "      <td> 1.35</td>\n",
       "      <td>  16.23</td>\n",
       "      <td> 6.389</td>\n",
       "      <td>  38.303</td>\n",
       "      <td>  74.3800</td>\n",
       "      <td> 104.0000</td>\n",
       "      <td>  23.979</td>\n",
       "      <td>  3.0850</td>\n",
       "      <td>  1.58</td>\n",
       "      <td>   2.71</td>\n",
       "      <td> http://www.sec.gov/cgi-bin/browse-edgar?action...</td>\n",
       "    </tr>\n",
       "    <tr>\n",
       "      <th>483</th>\n",
       "      <td>   WU</td>\n",
       "      <td>             Western Union Co</td>\n",
       "      <td>      Information Technology</td>\n",
       "      <td>  18.58</td>\n",
       "      <td> 2.74</td>\n",
       "      <td>  12.28</td>\n",
       "      <td> 1.488</td>\n",
       "      <td>   2.253</td>\n",
       "      <td>  14.6000</td>\n",
       "      <td>  18.6600</td>\n",
       "      <td>   9.710</td>\n",
       "      <td>  1.4080</td>\n",
       "      <td>  1.70</td>\n",
       "      <td>   8.11</td>\n",
       "      <td> http://www.sec.gov/cgi-bin/browse-edgar?action...</td>\n",
       "    </tr>\n",
       "    <tr>\n",
       "      <th>484</th>\n",
       "      <td>   WY</td>\n",
       "      <td>           Weyerhaeuser Corp.</td>\n",
       "      <td>                  Financials</td>\n",
       "      <td>  35.31</td>\n",
       "      <td> 2.92</td>\n",
       "      <td>  12.12</td>\n",
       "      <td> 2.880</td>\n",
       "      <td>  11.117</td>\n",
       "      <td>  27.4800</td>\n",
       "      <td>  35.5400</td>\n",
       "      <td>  18.515</td>\n",
       "      <td>  1.7970</td>\n",
       "      <td>  2.11</td>\n",
       "      <td>   3.14</td>\n",
       "      <td> http://www.sec.gov/cgi-bin/browse-edgar?action...</td>\n",
       "    </tr>\n",
       "    <tr>\n",
       "      <th>485</th>\n",
       "      <td>  WHR</td>\n",
       "      <td>              Whirlpool Corp.</td>\n",
       "      <td>      Consumer Discretionary</td>\n",
       "      <td> 186.17</td>\n",
       "      <td> 1.57</td>\n",
       "      <td>  19.47</td>\n",
       "      <td> 9.426</td>\n",
       "      <td>  66.641</td>\n",
       "      <td> 124.3900</td>\n",
       "      <td> 186.6400</td>\n",
       "      <td>  14.497</td>\n",
       "      <td>  1.9680</td>\n",
       "      <td>  0.75</td>\n",
       "      <td>   2.75</td>\n",
       "      <td> http://www.sec.gov/cgi-bin/browse-edgar?action...</td>\n",
       "    </tr>\n",
       "    <tr>\n",
       "      <th>486</th>\n",
       "      <td>  WFM</td>\n",
       "      <td>           Whole Foods Market</td>\n",
       "      <td>            Consumer Staples</td>\n",
       "      <td>  49.03</td>\n",
       "      <td> 0.99</td>\n",
       "      <td>  31.00</td>\n",
       "      <td> 1.560</td>\n",
       "      <td>  10.580</td>\n",
       "      <td>  36.0800</td>\n",
       "      <td>  59.7000</td>\n",
       "      <td>  17.638</td>\n",
       "      <td>  1.3220</td>\n",
       "      <td>  1.23</td>\n",
       "      <td>   4.57</td>\n",
       "      <td> http://www.sec.gov/cgi-bin/browse-edgar?action...</td>\n",
       "    </tr>\n",
       "    <tr>\n",
       "      <th>487</th>\n",
       "      <td>  WIN</td>\n",
       "      <td>       Windstream Corporation</td>\n",
       "      <td> Telecommunications Services</td>\n",
       "      <td>  10.11</td>\n",
       "      <td> 9.92</td>\n",
       "      <td>  39.53</td>\n",
       "      <td> 0.255</td>\n",
       "      <td>   0.762</td>\n",
       "      <td>   7.1800</td>\n",
       "      <td>  13.3000</td>\n",
       "      <td>   6.094</td>\n",
       "      <td>  2.2440</td>\n",
       "      <td>  1.03</td>\n",
       "      <td>  13.23</td>\n",
       "      <td> http://www.sec.gov/cgi-bin/browse-edgar?action...</td>\n",
       "    </tr>\n",
       "    <tr>\n",
       "      <th>488</th>\n",
       "      <td>  WEC</td>\n",
       "      <td> Wisconsin Energy Corporation</td>\n",
       "      <td>                   Utilities</td>\n",
       "      <td>  49.40</td>\n",
       "      <td> 2.41</td>\n",
       "      <td>  18.09</td>\n",
       "      <td> 2.680</td>\n",
       "      <td>  19.503</td>\n",
       "      <td>  40.1700</td>\n",
       "      <td>  50.5400</td>\n",
       "      <td>  11.141</td>\n",
       "      <td>  1.5560</td>\n",
       "      <td>  2.21</td>\n",
       "      <td>   2.49</td>\n",
       "      <td> http://www.sec.gov/cgi-bin/browse-edgar?action...</td>\n",
       "    </tr>\n",
       "    <tr>\n",
       "      <th>489</th>\n",
       "      <td>  WYN</td>\n",
       "      <td>            Wyndham Worldwide</td>\n",
       "      <td>      Consumer Discretionary</td>\n",
       "      <td>  83.36</td>\n",
       "      <td> 1.70</td>\n",
       "      <td>  19.86</td>\n",
       "      <td> 4.154</td>\n",
       "      <td>  11.447</td>\n",
       "      <td>  66.3200</td>\n",
       "      <td>  84.0600</td>\n",
       "      <td>  10.253</td>\n",
       "      <td>  1.2120</td>\n",
       "      <td>  1.93</td>\n",
       "      <td>   7.21</td>\n",
       "      <td> http://www.sec.gov/cgi-bin/browse-edgar?action...</td>\n",
       "    </tr>\n",
       "    <tr>\n",
       "      <th>490</th>\n",
       "      <td> WYNN</td>\n",
       "      <td>             Wynn Resorts Ltd</td>\n",
       "      <td>      Consumer Discretionary</td>\n",
       "      <td> 178.61</td>\n",
       "      <td> 3.53</td>\n",
       "      <td>  21.60</td>\n",
       "      <td> 8.199</td>\n",
       "      <td>   0.938</td>\n",
       "      <td> 161.8800</td>\n",
       "      <td> 249.3100</td>\n",
       "      <td>  18.032</td>\n",
       "      <td>  1.7760</td>\n",
       "      <td>  3.07</td>\n",
       "      <td> 188.76</td>\n",
       "      <td> http://www.sec.gov/cgi-bin/browse-edgar?action...</td>\n",
       "    </tr>\n",
       "    <tr>\n",
       "      <th>491</th>\n",
       "      <td>  XEL</td>\n",
       "      <td>              Xcel Energy Inc</td>\n",
       "      <td>                   Utilities</td>\n",
       "      <td>  33.94</td>\n",
       "      <td> 3.52</td>\n",
       "      <td>  17.24</td>\n",
       "      <td> 1.943</td>\n",
       "      <td>  20.091</td>\n",
       "      <td>  27.2700</td>\n",
       "      <td>  34.1000</td>\n",
       "      <td>  17.163</td>\n",
       "      <td>  3.0270</td>\n",
       "      <td>  1.47</td>\n",
       "      <td>   1.67</td>\n",
       "      <td> http://www.sec.gov/cgi-bin/browse-edgar?action...</td>\n",
       "    </tr>\n",
       "    <tr>\n",
       "      <th>492</th>\n",
       "      <td>  XRX</td>\n",
       "      <td>                  Xerox Corp.</td>\n",
       "      <td>      Information Technology</td>\n",
       "      <td>  13.96</td>\n",
       "      <td> 1.78</td>\n",
       "      <td>  15.10</td>\n",
       "      <td> 0.920</td>\n",
       "      <td>  10.339</td>\n",
       "      <td>  10.2600</td>\n",
       "      <td>  14.1500</td>\n",
       "      <td>  15.936</td>\n",
       "      <td>  2.5670</td>\n",
       "      <td>  0.75</td>\n",
       "      <td>   1.34</td>\n",
       "      <td> http://www.sec.gov/cgi-bin/browse-edgar?action...</td>\n",
       "    </tr>\n",
       "    <tr>\n",
       "      <th>493</th>\n",
       "      <td> XLNX</td>\n",
       "      <td>                   Xilinx Inc</td>\n",
       "      <td>      Information Technology</td>\n",
       "      <td>  45.44</td>\n",
       "      <td> 1.82</td>\n",
       "      <td>  19.14</td>\n",
       "      <td> 2.377</td>\n",
       "      <td>  10.265</td>\n",
       "      <td>  36.2400</td>\n",
       "      <td>  55.5900</td>\n",
       "      <td>  12.017</td>\n",
       "      <td>  0.8548</td>\n",
       "      <td>  4.97</td>\n",
       "      <td>   4.43</td>\n",
       "      <td> http://www.sec.gov/cgi-bin/browse-edgar?action...</td>\n",
       "    </tr>\n",
       "    <tr>\n",
       "      <th>494</th>\n",
       "      <td>   XL</td>\n",
       "      <td>                   XL Capital</td>\n",
       "      <td>                  Financials</td>\n",
       "      <td>  35.52</td>\n",
       "      <td> 1.74</td>\n",
       "      <td>  28.02</td>\n",
       "      <td> 1.270</td>\n",
       "      <td>  37.814</td>\n",
       "      <td>  27.7900</td>\n",
       "      <td>  35.8400</td>\n",
       "      <td>   9.166</td>\n",
       "      <td>  1.2330</td>\n",
       "      <td>  1.30</td>\n",
       "      <td>   0.94</td>\n",
       "      <td> http://www.sec.gov/cgi-bin/browse-edgar?action...</td>\n",
       "    </tr>\n",
       "    <tr>\n",
       "      <th>495</th>\n",
       "      <td>  XYL</td>\n",
       "      <td>                   Xylem Inc.</td>\n",
       "      <td>                 Industrials</td>\n",
       "      <td>  38.34</td>\n",
       "      <td> 1.33</td>\n",
       "      <td>  23.08</td>\n",
       "      <td> 1.670</td>\n",
       "      <td>  12.056</td>\n",
       "      <td>  31.8000</td>\n",
       "      <td>  40.0000</td>\n",
       "      <td>   6.973</td>\n",
       "      <td>  0.6600</td>\n",
       "      <td>  1.79</td>\n",
       "      <td>   3.20</td>\n",
       "      <td> http://www.sec.gov/cgi-bin/browse-edgar?action...</td>\n",
       "    </tr>\n",
       "    <tr>\n",
       "      <th>496</th>\n",
       "      <td> YHOO</td>\n",
       "      <td>                   Yahoo Inc.</td>\n",
       "      <td>      Information Technology</td>\n",
       "      <td>  51.74</td>\n",
       "      <td>  NaN</td>\n",
       "      <td>   6.94</td>\n",
       "      <td> 7.482</td>\n",
       "      <td>  37.493</td>\n",
       "      <td>  32.1500</td>\n",
       "      <td>  52.6200</td>\n",
       "      <td>  49.016</td>\n",
       "      <td>  0.7207</td>\n",
       "      <td> 10.62</td>\n",
       "      <td>   1.39</td>\n",
       "      <td> http://www.sec.gov/cgi-bin/browse-edgar?action...</td>\n",
       "    </tr>\n",
       "    <tr>\n",
       "      <th>497</th>\n",
       "      <td>  YUM</td>\n",
       "      <td>              Yum! Brands Inc</td>\n",
       "      <td>      Consumer Discretionary</td>\n",
       "      <td>  77.25</td>\n",
       "      <td> 1.98</td>\n",
       "      <td>  23.97</td>\n",
       "      <td> 3.202</td>\n",
       "      <td>   5.732</td>\n",
       "      <td>  65.8100</td>\n",
       "      <td>  83.5800</td>\n",
       "      <td>  33.796</td>\n",
       "      <td>  2.9300</td>\n",
       "      <td>  2.49</td>\n",
       "      <td>  13.39</td>\n",
       "      <td> http://www.sec.gov/cgi-bin/browse-edgar?action...</td>\n",
       "    </tr>\n",
       "    <tr>\n",
       "      <th>498</th>\n",
       "      <td>  ZMH</td>\n",
       "      <td>              Zimmer Holdings</td>\n",
       "      <td>                 Health Care</td>\n",
       "      <td> 112.29</td>\n",
       "      <td> 0.77</td>\n",
       "      <td>  24.01</td>\n",
       "      <td> 4.649</td>\n",
       "      <td>  38.627</td>\n",
       "      <td>  89.5800</td>\n",
       "      <td> 113.0000</td>\n",
       "      <td>  19.017</td>\n",
       "      <td>  1.7600</td>\n",
       "      <td>  4.03</td>\n",
       "      <td>   2.89</td>\n",
       "      <td> http://www.sec.gov/cgi-bin/browse-edgar?action...</td>\n",
       "    </tr>\n",
       "    <tr>\n",
       "      <th>499</th>\n",
       "      <td> ZION</td>\n",
       "      <td>                Zions Bancorp</td>\n",
       "      <td>                  Financials</td>\n",
       "      <td>  28.06</td>\n",
       "      <td> 0.55</td>\n",
       "      <td>  27.46</td>\n",
       "      <td> 1.052</td>\n",
       "      <td>  31.139</td>\n",
       "      <td>  25.0200</td>\n",
       "      <td>  33.3300</td>\n",
       "      <td>   5.694</td>\n",
       "      <td>  0.0000</td>\n",
       "      <td>  2.70</td>\n",
       "      <td>   0.93</td>\n",
       "      <td> http://www.sec.gov/cgi-bin/browse-edgar?action...</td>\n",
       "    </tr>\n",
       "    <tr>\n",
       "      <th>500</th>\n",
       "      <td>  ZTS</td>\n",
       "      <td>                   Zoetis Inc</td>\n",
       "      <td>                 Health Care</td>\n",
       "      <td>    NaN</td>\n",
       "      <td>  NaN</td>\n",
       "      <td>    NaN</td>\n",
       "      <td>   NaN</td>\n",
       "      <td>     NaN</td>\n",
       "      <td>      NaN</td>\n",
       "      <td>      NaN</td>\n",
       "      <td>     NaN</td>\n",
       "      <td>     NaN</td>\n",
       "      <td>   NaN</td>\n",
       "      <td>    NaN</td>\n",
       "      <td>                                               NaN</td>\n",
       "    </tr>\n",
       "  </tbody>\n",
       "</table>\n",
       "<p>501 rows × 15 columns</p>\n",
       "</div>"
      ],
      "text/plain": []
     },
     "metadata": {},
     "output_type": "execute_result"
    }
   ],
   "source": [
    "sp500_fin_location = \"constituents-financials.csv\"\n",
    "sp500_fin = pd.read_csv(sp500_fin_location)\n",
    "sp500_fin"
   ]
  },
  {
   "cell_type": "code",
   "execution_count": 4,
   "metadata": {},
   "outputs": [
    {
     "data": {
      "text/plain": [
       "Index(['Symbol', 'Name', 'Sector', 'Price', 'Dividend Yield', 'Price/Earnings', 'Earnings/Share', 'Book Value', '52 week low', '52 week high', 'Market Cap', 'EBITDA', 'Price/Sales', 'Price/Book', 'SEC Filings'], dtype='object')"
      ]
     },
     "execution_count": 4,
     "metadata": {},
     "output_type": "execute_result"
    }
   ],
   "source": [
    "#fields used intthe datasets\n",
    "sp500_fin.columns"
   ]
  },
  {
   "cell_type": "code",
   "execution_count": 5,
   "metadata": {},
   "outputs": [
    {
     "name": "stdout",
     "output_type": "stream",
     "text": [
      "    Symbol                    Name                       Sector  Price  \\\n",
      "468     VZ  Verizon Communications  Telecommunications Services  50.59   \n",
      "\n",
      "     Dividend Yield  Price/Earnings  Earnings/Share  Book Value  52 week low  \\\n",
      "468            4.28           10.81           4.629       3.995        45.45   \n",
      "\n",
      "     52 week high  Market Cap  EBITDA  Price/Sales  Price/Book  \\\n",
      "468         53.66       209.9  50.446         1.66       12.53   \n",
      "\n",
      "                                           SEC Filings  \n",
      "468  http://www.sec.gov/cgi-bin/browse-edgar?action...  \n"
     ]
    }
   ],
   "source": [
    "verizon=sp500_fin[sp500_fin[\"Name\"].str.contains(\"Verizon\")]\n",
    "print (verizon)"
   ]
  },
  {
   "cell_type": "code",
   "execution_count": 6,
   "metadata": {},
   "outputs": [
    {
     "name": "stdout",
     "output_type": "stream",
     "text": [
      "Verizon price per sale: 468    1.66\n",
      "Name: Price/Sales, dtype: float64  Sales 468    30.475904\n",
      "dtype: float64\n"
     ]
    }
   ],
   "source": [
    "print(\"Verizon price per sale:\", verizon['Price/Sales'],\" Sales\", verizon['Price']/verizon['Price/Sales'])"
   ]
  },
  {
   "cell_type": "heading",
   "metadata": {},
   "level": 2,
   "source": [
    "Exract from Yahoo additional financial information"
   ]
  },
  {
   "cell_type": "code",
   "execution_count": 55,
   "metadata": {},
   "outputs": [],
   "source": [
    "import urllib, json\n",
    "import time \n",
    "import sys\n",
    "def altman_variables(stock):\n",
    "    print (\"symbol: \", stock)\n",
    "    print (\"wait...\")\n",
    "    time.sleep(timer)\n",
    "    print (\"go..\")\n",
    "    total_assets =\"\"\n",
    "    total_liability=\"\"\n",
    "    current_assets=\"\"\n",
    "    current_liability=\"\"\n",
    "    retained_earnings=\"\"\n",
    "    ebitda=\"\"\n",
    "    sales=\"\" \n",
    "    stockprice=\"\"\n",
    "   \n",
    "    try:\n",
    "        baseurl = \"https://query.yahooapis.com/v1/public/yql?\"\n",
    "        yql_bs_query = \"select * from yahoo.finance.balancesheet where symbol in ('\"+stock+\"')\"\n",
    "        yql_bs_url = baseurl + urllib.parse.urlencode({'q':yql_bs_query}) + \"&format=json&diagnostics=true&env=store%3A%2F%2Fdatatables.org%2Falltableswithkeys&callback=\"\n",
    "        #print (data)\n",
    "        bs_json = pd.io.json.read_json(yql_bs_url)\n",
    "       # print (bs_json[\"query\"][\"results\"][\"balancesheet\"][\"statement\"])\n",
    "        #print (vz_json['query']['results']['balancesheet']['TotalAssets'])\n",
    "        if bs_json[\"query\"][\"results\"][\"balancesheet\"][\"statement\"] is not None:\n",
    "            try:\n",
    "                if bs_json[\"query\"][\"results\"][\"balancesheet\"][\"statement\"][0]['TotalAssets']['content'] is not None:\n",
    "                    total_assets=bs_json[\"query\"][\"results\"][\"balancesheet\"][\"statement\"][0]['TotalAssets']['content']\n",
    "                else:\n",
    "                    total_assets=\"\"\n",
    "            except: \n",
    "                total_asset=\"\"\n",
    "            try:\n",
    "                if bs_json[\"query\"][\"results\"][\"balancesheet\"][\"statement\"][0]['TotalLiabilities']['content'] is not None:\n",
    "                    total_liability=bs_json[\"query\"][\"results\"][\"balancesheet\"][\"statement\"][0]['TotalLiabilities']['content']\n",
    "                else:\n",
    "                    total_liability=\"\"\n",
    "            except:\n",
    "                total_liability=\"\"\n",
    "            try:\n",
    "                if bs_json[\"query\"][\"results\"][\"balancesheet\"][\"statement\"][0]['TotalCurrentAssets']['content'] is not None:\n",
    "                    current_assets=bs_json[\"query\"][\"results\"][\"balancesheet\"][\"statement\"][0]['TotalCurrentAssets']['content']\n",
    "                else:\n",
    "                    current_assets=\"\"\n",
    "            except:\n",
    "                current_assets=\"\"\n",
    "            try:\n",
    "                if bs_json[\"query\"][\"results\"][\"balancesheet\"][\"statement\"][0]['TotalCurrentLiabilities']['content'] is not None:\n",
    "                    current_liability=bs_json[\"query\"][\"results\"][\"balancesheet\"][\"statement\"][0]['TotalCurrentLiabilities']['content']\n",
    "                else:\n",
    "                    current_liability=\"\"\n",
    "            except:\n",
    "                current_liability = \"\"\n",
    "            try:\n",
    "                if bs_json[\"query\"][\"results\"][\"balancesheet\"][\"statement\"][0]['RetainedEarnings']['content'] is not None:\n",
    "                    retained_earnings=bs_json[\"query\"][\"results\"][\"balancesheet\"][\"statement\"][0]['RetainedEarnings']['content']\n",
    "                else:\n",
    "                    retained_earnings=\"\"\n",
    "            except: \n",
    "                retained_earnings=\"\"\n",
    "\n",
    "            print (\"symbol\", stock)\n",
    "            print (\"current assets\", current_assets)\n",
    "            print (\"current liability\", current_liability)\n",
    "            print (\"total assets from latest statement for \",stock,\" is \",total_assets,\" and total liability is \",total_liability)\n",
    "          #  print (\"working capital for \",stock,\" is \",(int(current_assets) - int(current_liability)))\n",
    "            print (\"retained earnings\", retained_earnings)\n",
    "            yql_is_query = \"select * from yahoo.finance.incomestatement where symbol in ('\"+stock+\"')\"\n",
    "            yql_is_url = baseurl + urllib.parse.urlencode({'q':yql_is_query}) + \"&format=json&diagnostics=true&env=store%3A%2F%2Fdatatables.org%2Falltableswithkeys&callback=\"\n",
    "            is_json = pd.io.json.read_json(yql_is_url)\n",
    "\n",
    "            try:\n",
    "                if is_json[\"query\"][\"results\"][\"incomestatement\"][\"statement\"][0]['EarningsBeforeInterestAndTaxes']['content'] is not None:\n",
    "                    ebitda=is_json[\"query\"][\"results\"][\"incomestatement\"][\"statement\"][0]['EarningsBeforeInterestAndTaxes']['content']\n",
    "                else:\n",
    "                    ebitda=\"\"\n",
    "            except:\n",
    "                ebitda=\"\"\n",
    "            try:\n",
    "                if is_json[\"query\"][\"results\"][\"incomestatement\"][\"statement\"][0]['GrossProfit']['content'] is not None:\n",
    "                    sales=is_json[\"query\"][\"results\"][\"incomestatement\"][\"statement\"][0]['GrossProfit']['content']\n",
    "                else:\n",
    "                    sales=\"\"\n",
    "            except:\n",
    "                sales=\"\"\n",
    "            print (\"ebitda\", ebitda)\n",
    "            print (\"gross profit\", sales)\n",
    "            yql_qt_query = \"select * from yahoo.finance.quotes where symbol in ('\"+stock+\"')\"\n",
    "            yql_qt_url = baseurl + urllib.parse.urlencode({'q':yql_qt_query}) + \"&format=json&diagnostics=true&env=store%3A%2F%2Fdatatables.org%2Falltableswithkeys&callback=\"\n",
    "            #print (data)\n",
    "            qt_json = pd.io.json.read_json(yql_qt_url)\n",
    "            try:\n",
    "                if qt_json[\"query\"][\"results\"][\"quote\"][\"LastTradePriceOnly\"] is not None:\n",
    "                    stockprice = qt_json[\"query\"][\"results\"][\"quote\"][\"LastTradePriceOnly\"]\n",
    "                else:\n",
    "                    stockprice=\"\"\n",
    "            except:\n",
    "                stockprice = \"\"\n",
    "            print(stockprice)\n",
    "    except:\n",
    "        print (\"error on \", stock, \". Error message\",sys.exc_info())\n",
    "#print (\"last trade price: \", stockprice)\n",
    "    print (\"done..\")\n",
    "    return (stock, total_assets, total_liability, current_assets,current_liability,retained_earnings,ebitda, sales, stockprice)"
   ]
  },
  {
   "cell_type": "heading",
   "metadata": {},
   "level": 1,
   "source": [
    "Altman independent variables"
   ]
  },
  {
   "cell_type": "code",
   "execution_count": 57,
   "metadata": {},
   "outputs": [
    {
     "name": "stdout",
     "output_type": "stream",
     "text": [
      "symbol:  MMM\n",
      "wait...\n",
      "go.."
     ]
    },
    {
     "name": "stdout",
     "output_type": "stream",
     "text": [
      "\n",
      "symbol"
     ]
    },
    {
     "name": "stdout",
     "output_type": "stream",
     "text": [
      " MMM\n",
      "current assets 12681000000\n",
      "current liability 7705000000\n",
      "total assets from latest statement for  MMM  is  32776000000  and total liability is  16603000000\n",
      "retained earnings 34484000000\n",
      "ebitda"
     ]
    },
    {
     "name": "stdout",
     "output_type": "stream",
     "text": [
      " 1908000000\n",
      "gross profit 3932000000\n",
      "159.98"
     ]
    },
    {
     "name": "stdout",
     "output_type": "stream",
     "text": [
      "\n",
      "done..\n",
      "symbol:  ABT\n",
      "wait...\n",
      "go.."
     ]
    },
    {
     "name": "stdout",
     "output_type": "stream",
     "text": [
      "\n",
      "symbol"
     ]
    },
    {
     "name": "stdout",
     "output_type": "stream",
     "text": [
      " ABT\n",
      "current assets 16464000000\n",
      "current liability 10823000000\n",
      "total assets from latest statement for  ABT  is  42514000000  and total liability is  19626000000\n",
      "retained earnings 22335000000\n",
      "ebitda"
     ]
    },
    {
     "name": "stdout",
     "output_type": "stream",
     "text": [
      " 585000000\n",
      "gross profit 2220000000\n",
      "45.29"
     ]
    },
    {
     "name": "stdout",
     "output_type": "stream",
     "text": [
      "\n",
      "done..\n",
      "symbol:  ABBV\n",
      "wait...\n",
      "go.."
     ]
    },
    {
     "name": "stdout",
     "output_type": "stream",
     "text": [
      "\n",
      "symbol"
     ]
    },
    {
     "name": "stdout",
     "output_type": "stream",
     "text": [
      " ABBV\n",
      "current assets 17555000000\n",
      "current liability 6635000000\n",
      "total assets from latest statement for  ABBV  is  28454000000  and total liability is  23809000000\n",
      "retained earnings 2131000000\n",
      "ebitda"
     ]
    },
    {
     "name": "stdout",
     "output_type": "stream",
     "text": [
      " 815000000\n",
      "gross profit 3925000000\n",
      "68.93"
     ]
    },
    {
     "name": "stdout",
     "output_type": "stream",
     "text": [
      "\n",
      "done..\n",
      "symbol:  ACN\n",
      "wait...\n",
      "go.."
     ]
    },
    {
     "name": "stdout",
     "output_type": "stream",
     "text": [
      "\n",
      "symbol"
     ]
    },
    {
     "name": "stdout",
     "output_type": "stream",
     "text": [
      " ACN\n",
      "current assets 11904442000\n",
      "current liability 8158079000\n",
      "total assets from latest statement for  ACN  is  17930452000  and total liability is  11645115000\n",
      "retained earnings 11758131000\n",
      "ebitda"
     ]
    },
    {
     "name": "stdout",
     "output_type": "stream",
     "text": [
      " 1093383000\n",
      "gross profit 2468620000\n",
      "85.75"
     ]
    },
    {
     "name": "stdout",
     "output_type": "stream",
     "text": [
      "\n",
      "done..\n",
      "symbol:  ACE\n",
      "wait...\n",
      "go.."
     ]
    },
    {
     "name": "stdout",
     "output_type": "stream",
     "text": [
      "\n",
      "symbol"
     ]
    },
    {
     "name": "stdout",
     "output_type": "stream",
     "text": [
      " ACE\n",
      "current assets -\n",
      "current liability -\n",
      "total assets from latest statement for  ACE  is  97557000000  and total liability is  67540000000\n",
      "retained earnings 16089000000\n",
      "ebitda"
     ]
    },
    {
     "name": "stdout",
     "output_type": "stream",
     "text": [
      " 1031000000\n",
      "gross profit 1566000000\n",
      "114.76"
     ]
    },
    {
     "name": "stdout",
     "output_type": "stream",
     "text": [
      "\n",
      "done..\n",
      "symbol:  ACT\n",
      "wait...\n",
      "go.."
     ]
    },
    {
     "name": "stdout",
     "output_type": "stream",
     "text": [
      "\n",
      "symbol"
     ]
    },
    {
     "name": "stdout",
     "output_type": "stream",
     "text": [
      " ACT\n",
      "current assets 6252300000\n",
      "current liability 4481300000\n",
      "total assets from latest statement for  ACT  is  53467400000  and total liability is  24327000000\n",
      "retained earnings 534700000\n",
      "ebitda"
     ]
    },
    {
     "name": "stdout",
     "output_type": "stream",
     "text": [
      " -1018600000\n",
      "gross profit 1800100000\n",
      "262.90"
     ]
    },
    {
     "name": "stdout",
     "output_type": "stream",
     "text": [
      "\n",
      "done..\n",
      "symbol:  ADBE\n",
      "wait...\n",
      "go.."
     ]
    },
    {
     "name": "stdout",
     "output_type": "stream",
     "text": [
      "\n",
      "symbol"
     ]
    },
    {
     "name": "stdout",
     "output_type": "stream",
     "text": [
      " ADBE\n",
      "current assets 4279468000\n",
      "current liability 2245248000\n",
      "total assets from latest statement for  ADBE  is  10493680000  and total liability is  3762420000\n",
      "retained earnings 6850790000\n",
      "ebitda"
     ]
    },
    {
     "name": "stdout",
     "output_type": "stream",
     "text": [
      " 76299000\n",
      "gross profit 847685000\n",
      "73.18"
     ]
    },
    {
     "name": "stdout",
     "output_type": "stream",
     "text": [
      "\n",
      "done..\n",
      "symbol:  AES\n",
      "wait...\n",
      "go.."
     ]
    },
    {
     "name": "stdout",
     "output_type": "stream",
     "text": [
      "\n",
      "symbol"
     ]
    },
    {
     "name": "stdout",
     "output_type": "stream",
     "text": [
      " AES\n",
      "current assets 7887000000\n",
      "current liability 7073000000\n",
      "total assets from latest statement for  AES  is  38983000000  and total liability is  31339000000\n",
      "retained earnings 413000000\n",
      "ebitda"
     ]
    },
    {
     "name": "stdout",
     "output_type": "stream",
     "text": [
      " 1043000000\n",
      "gross profit 767000000\n",
      "13.71"
     ]
    },
    {
     "name": "stdout",
     "output_type": "stream",
     "text": [
      "\n",
      "done..\n",
      "symbol:  AET\n",
      "wait...\n",
      "go.."
     ]
    },
    {
     "name": "stdout",
     "output_type": "stream",
     "text": [
      "\n",
      "symbol"
     ]
    },
    {
     "name": "stdout",
     "output_type": "stream",
     "text": [
      " AET\n",
      "current assets -\n",
      "current liability -\n",
      "total assets from latest statement for  AET  is  53025600000  and total liability is  38104400000\n",
      "retained earnings 11150100000\n",
      "ebitda"
     ]
    },
    {
     "name": "stdout",
     "output_type": "stream",
     "text": [
      " 1077500000\n",
      "gross profit 3851700000\n",
      "88.07"
     ]
    },
    {
     "name": "stdout",
     "output_type": "stream",
     "text": [
      "\n",
      "done..\n",
      "symbol:  AFL\n",
      "wait...\n",
      "go.."
     ]
    },
    {
     "name": "stdout",
     "output_type": "stream",
     "text": [
      "\n",
      "symbol"
     ]
    },
    {
     "name": "stdout",
     "output_type": "stream",
     "text": [
      " AFL\n",
      "current assets -\n",
      "current liability -\n",
      "total assets from latest statement for  AFL  is  127871000000  and total liability is  110313000000\n",
      "retained earnings 21089000000\n",
      "ebitda"
     ]
    },
    {
     "name": "stdout",
     "output_type": "stream",
     "text": [
      " 1319000000\n",
      "gross profit 2176000000\n",
      "59.489"
     ]
    },
    {
     "name": "stdout",
     "output_type": "stream",
     "text": [
      "\n",
      "done..\n",
      "symbol:  A\n",
      "wait...\n",
      "go.."
     ]
    },
    {
     "name": "stdout",
     "output_type": "stream",
     "text": [
      "\n",
      "symbol"
     ]
    },
    {
     "name": "stdout",
     "output_type": "stream",
     "text": [
      " A\n",
      "current assets 4834000000\n",
      "current liability 1579000000\n",
      "total assets from latest statement for  A  is  10380000000  and total liability is  4743000000\n",
      "retained earnings 6487000000\n",
      "ebitda"
     ]
    },
    {
     "name": "stdout",
     "output_type": "stream",
     "text": [
      " 212000000\n",
      "gross profit 914000000\n",
      "41.96"
     ]
    },
    {
     "name": "stdout",
     "output_type": "stream",
     "text": [
      "\n",
      "done..\n",
      "symbol:  GAS\n",
      "wait...\n",
      "go.."
     ]
    },
    {
     "name": "stdout",
     "output_type": "stream",
     "text": [
      "\n",
      "error on "
     ]
    },
    {
     "name": "stdout",
     "output_type": "stream",
     "text": [
      " GAS . Error message (<class 'TypeError'>, TypeError(\"'NoneType' object is not subscriptable\",), <traceback object at 0x7fe513265848>)\n",
      "done..\n",
      "symbol:  APD\n",
      "wait...\n",
      "go.."
     ]
    },
    {
     "name": "stdout",
     "output_type": "stream",
     "text": [
      "\n",
      "symbol"
     ]
    },
    {
     "name": "stdout",
     "output_type": "stream",
     "text": [
      " APD\n",
      "current assets 3294800000\n",
      "current liability 2963000000\n",
      "total assets from latest statement for  APD  is  17779100000  and total liability is  10126100000\n",
      "retained earnings 9993200000\n",
      "ebitda"
     ]
    },
    {
     "name": "stdout",
     "output_type": "stream",
     "text": [
      " 183800000\n",
      "gross profit 744600000\n",
      "143.86"
     ]
    },
    {
     "name": "stdout",
     "output_type": "stream",
     "text": [
      "\n",
      "done..\n",
      "symbol:  ARG\n",
      "wait...\n",
      "go.."
     ]
    },
    {
     "name": "stdout",
     "output_type": "stream",
     "text": [
      "\n",
      "symbol"
     ]
    },
    {
     "name": "stdout",
     "output_type": "stream",
     "text": [
      " ARG\n",
      "current assets 1428026000\n",
      "current liability 986523000\n",
      "total assets from latest statement for  ARG  is  5904774000  and total liability is  3902350000\n",
      "retained earnings 2145629000\n",
      "ebitda"
     ]
    },
    {
     "name": "stdout",
     "output_type": "stream",
     "text": [
      " 157300000\n",
      "gross profit 757221000\n",
      "114.10"
     ]
    },
    {
     "name": "stdout",
     "output_type": "stream",
     "text": [
      "\n",
      "done..\n",
      "symbol:  AKAM\n",
      "wait...\n",
      "go.."
     ]
    },
    {
     "name": "stdout",
     "output_type": "stream",
     "text": [
      "\n",
      "symbol"
     ]
    },
    {
     "name": "stdout",
     "output_type": "stream",
     "text": [
      " AKAM\n",
      "current assets 1152676000\n",
      "current liability 301601000\n",
      "total assets from latest statement for  AKAM  is  3854291000  and total liability is  1005911000\n",
      "retained earnings -1695374000\n",
      "ebitda"
     ]
    },
    {
     "name": "stdout",
     "output_type": "stream",
     "text": [
      " 122061000\n",
      "gross profit 339230000\n",
      "63.25"
     ]
    },
    {
     "name": "stdout",
     "output_type": "stream",
     "text": [
      "\n",
      "done..\n",
      "symbol:  AA\n",
      "wait...\n",
      "go.."
     ]
    },
    {
     "name": "stdout",
     "output_type": "stream",
     "text": [
      "\n",
      "symbol"
     ]
    },
    {
     "name": "stdout",
     "output_type": "stream",
     "text": [
      " AA\n",
      "current assets 9689000000\n",
      "current liability 5354000000\n",
      "total assets from latest statement for  AA  is  37122000000  and total liability is  24726000000\n",
      "retained earnings 9276000000\n",
      "ebitda"
     ]
    },
    {
     "name": "stdout",
     "output_type": "stream",
     "text": [
      " 456000000\n",
      "gross profit 1335000000\n",
      "17.32"
     ]
    },
    {
     "name": "stdout",
     "output_type": "stream",
     "text": [
      "\n",
      "done..\n",
      "symbol:  ALXN\n",
      "wait...\n",
      "go.."
     ]
    },
    {
     "name": "stdout",
     "output_type": "stream",
     "text": [
      "\n",
      "symbol"
     ]
    },
    {
     "name": "stdout",
     "output_type": "stream",
     "text": [
      " ALXN\n",
      "current assets 2559878000\n",
      "current liability 502537000\n",
      "total assets from latest statement for  ALXN  is  3890887000  and total liability is  767848000\n",
      "retained earnings 882678000\n",
      "ebitda"
     ]
    },
    {
     "name": "stdout",
     "output_type": "stream",
     "text": [
      " 236864000\n",
      "gross profit 503288000\n",
      "199.98"
     ]
    },
    {
     "name": "stdout",
     "output_type": "stream",
     "text": [
      "\n",
      "done..\n",
      "symbol:  ATI\n",
      "wait...\n",
      "go.."
     ]
    },
    {
     "name": "stdout",
     "output_type": "stream",
     "text": [
      "\n",
      "symbol"
     ]
    },
    {
     "name": "stdout",
     "output_type": "stream",
     "text": [
      " ATI\n",
      "current assets 2415000000\n",
      "current liability 839600000\n",
      "total assets from latest statement for  ATI  is  6503200000  and total liability is  3619900000\n",
      "retained earnings 2396400000\n",
      "ebitda"
     ]
    },
    {
     "name": "stdout",
     "output_type": "stream",
     "text": [
      " 29300000\n",
      "gross profit 97000000\n",
      "32.7536"
     ]
    },
    {
     "name": "stdout",
     "output_type": "stream",
     "text": [
      "\n",
      "done..\n",
      "symbol:  ALLE\n",
      "wait...\n",
      "go.."
     ]
    },
    {
     "name": "stdout",
     "output_type": "stream",
     "text": [
      "\n",
      "symbol"
     ]
    },
    {
     "name": "stdout",
     "output_type": "stream",
     "text": [
      " ALLE\n",
      "current assets 934000000\n",
      "current liability 464200000\n",
      "total assets from latest statement for  ALLE  is  1992200000  and total liability is  2022900000\n",
      "retained earnings 95400000\n",
      "ebitda"
     ]
    },
    {
     "name": "stdout",
     "output_type": "stream",
     "text": [
      " 107600000\n",
      "gross profit 236100000\n",
      "53.87"
     ]
    },
    {
     "name": "stdout",
     "output_type": "stream",
     "text": [
      "\n",
      "done..\n",
      "symbol:  AGN\n",
      "wait...\n",
      "go.."
     ]
    },
    {
     "name": "stdout",
     "output_type": "stream",
     "text": [
      "\n",
      "symbol"
     ]
    },
    {
     "name": "stdout",
     "output_type": "stream",
     "text": [
      " AGN\n",
      "current assets 6103800000\n",
      "current liability 1567000000\n",
      "total assets from latest statement for  AGN  is  11645800000  and total liability is  4535100000\n",
      "retained earnings 5411900000\n",
      "ebitda"
     ]
    },
    {
     "name": "stdout",
     "output_type": "stream",
     "text": [
      " 437800000\n",
      "gross profit 1610500000\n",
      "210.51"
     ]
    },
    {
     "name": "stdout",
     "output_type": "stream",
     "text": [
      "\n",
      "done..\n",
      "symbol:  ADS\n",
      "wait...\n",
      "go.."
     ]
    },
    {
     "name": "stdout",
     "output_type": "stream",
     "text": [
      "\n",
      "symbol"
     ]
    },
    {
     "name": "stdout",
     "output_type": "stream",
     "text": [
      " ADS\n",
      "current assets 11401425000\n",
      "current liability 5370177000\n",
      "total assets from latest statement for  ADS  is  15193275000  and total liability is  13795181000\n",
      "retained earnings 2488511000\n",
      "ebitda"
     ]
    },
    {
     "name": "stdout",
     "output_type": "stream",
     "text": [
      " 321641000\n",
      "gross profit 437141000\n",
      "279.98"
     ]
    },
    {
     "name": "stdout",
     "output_type": "stream",
     "text": [
      "\n",
      "done..\n",
      "symbol:  ALL\n",
      "wait...\n",
      "go.."
     ]
    },
    {
     "name": "stdout",
     "output_type": "stream",
     "text": [
      "\n",
      "symbol"
     ]
    },
    {
     "name": "stdout",
     "output_type": "stream",
     "text": [
      " ALL\n",
      "current assets -\n",
      "current liability -\n",
      "total assets from latest statement for  ALL  is  108310000000  and total liability is  85981000000\n",
      "retained earnings 37164000000\n",
      "ebitda"
     ]
    },
    {
     "name": "stdout",
     "output_type": "stream",
     "text": [
      " 1268000000\n",
      "gross profit 3594000000\n",
      "68.03"
     ]
    },
    {
     "name": "stdout",
     "output_type": "stream",
     "text": [
      "\n",
      "done..\n",
      "symbol:  ALTR\n",
      "wait...\n",
      "go.."
     ]
    },
    {
     "name": "stdout",
     "output_type": "stream",
     "text": [
      "\n",
      "symbol"
     ]
    },
    {
     "name": "stdout",
     "output_type": "stream",
     "text": [
      " ALTR\n",
      "current assets 3584241000\n",
      "current liability 641058000\n",
      "total assets from latest statement for  ALTR  is  5781030000  and total liability is  2451322000\n",
      "retained earnings 2163647000\n",
      "ebitda"
     ]
    },
    {
     "name": "stdout",
     "output_type": "stream",
     "text": [
      " 145937000\n",
      "gross profit 333587000\n",
      "37.05"
     ]
    },
    {
     "name": "stdout",
     "output_type": "stream",
     "text": [
      "\n",
      "done..\n",
      "symbol:  MO\n",
      "wait...\n",
      "go.."
     ]
    },
    {
     "name": "stdout",
     "output_type": "stream",
     "text": [
      "\n",
      "symbol"
     ]
    },
    {
     "name": "stdout",
     "output_type": "stream",
     "text": [
      " MO\n",
      "current assets 5662000000\n",
      "current liability 7367000000\n",
      "total assets from latest statement for  MO  is  34082000000  and total liability is  29753000000\n",
      "retained earnings 26066000000\n",
      "ebitda"
     ]
    },
    {
     "name": "stdout",
     "output_type": "stream",
     "text": [
      " 2327000000\n",
      "gross profit 2674000000\n",
      "50.445"
     ]
    },
    {
     "name": "stdout",
     "output_type": "stream",
     "text": [
      "\n",
      "done..\n",
      "symbol:  AMZN\n",
      "wait...\n",
      "go.."
     ]
    },
    {
     "name": "stdout",
     "output_type": "stream",
     "text": [
      "\n",
      "symbol"
     ]
    },
    {
     "name": "stdout",
     "output_type": "stream",
     "text": [
      " AMZN\n",
      "current assets 18572000000\n",
      "current liability 20842000000\n",
      "total assets from latest statement for  AMZN  is  40419000000  and total liability is  30083000000\n",
      "retained earnings 1735000000\n",
      "ebitda"
     ]
    },
    {
     "name": "stdout",
     "output_type": "stream",
     "text": [
      " -584000000\n",
      "gross profit 5951000000\n",
      "324.51"
     ]
    },
    {
     "name": "stdout",
     "output_type": "stream",
     "text": [
      "\n",
      "done..\n",
      "symbol:  AEE\n",
      "wait...\n",
      "go.."
     ]
    },
    {
     "name": "stdout",
     "output_type": "stream",
     "text": [
      "\n",
      "symbol"
     ]
    },
    {
     "name": "stdout",
     "output_type": "stream",
     "text": [
      " AEE\n",
      "current assets 1942000000\n",
      "current liability 2119000000\n",
      "total assets from latest statement for  AEE  is  21876000000  and total liability is  15102000000\n",
      "retained earnings 1154000000\n",
      "ebitda"
     ]
    },
    {
     "name": "stdout",
     "output_type": "stream",
     "text": [
      " 575000000\n",
      "gross profit 869000000\n",
      "43.37"
     ]
    },
    {
     "name": "stdout",
     "output_type": "stream",
     "text": [
      "\n",
      "done..\n",
      "symbol:  AEP\n",
      "wait...\n",
      "go.."
     ]
    },
    {
     "name": "stdout",
     "output_type": "stream",
     "text": [
      "\n",
      "symbol"
     ]
    },
    {
     "name": "stdout",
     "output_type": "stream",
     "text": [
      " AEP\n",
      "current assets 4111000000\n",
      "current liability 7457000000\n",
      "total assets from latest statement for  AEP  is  57925000000  and total liability is  41057000000\n",
      "retained earnings 7470000000\n",
      "ebitda"
     ]
    },
    {
     "name": "stdout",
     "output_type": "stream",
     "text": [
      " 960000000\n",
      "gross profit 2452000000\n",
      "58.35"
     ]
    },
    {
     "name": "stdout",
     "output_type": "stream",
     "text": [
      "\n",
      "done..\n",
      "symbol:  AXP\n",
      "wait...\n",
      "go.."
     ]
    },
    {
     "name": "stdout",
     "output_type": "stream",
     "text": [
      "\n",
      "symbol"
     ]
    },
    {
     "name": "stdout",
     "output_type": "stream",
     "text": [
      " AXP\n",
      "current assets -\n",
      "current liability -\n",
      "total assets from latest statement for  AXP  is  153862000000  and total liability is  133646000000\n",
      "retained earnings 9335000000\n",
      "ebitda"
     ]
    },
    {
     "name": "stdout",
     "output_type": "stream",
     "text": [
      " 2575000000\n",
      "gross profit -\n",
      "92.73"
     ]
    },
    {
     "name": "stdout",
     "output_type": "stream",
     "text": [
      "\n",
      "done..\n",
      "symbol:  AIG\n",
      "wait...\n",
      "go.."
     ]
    },
    {
     "name": "stdout",
     "output_type": "stream",
     "text": [
      "\n",
      "symbol"
     ]
    },
    {
     "name": "stdout",
     "output_type": "stream",
     "text": [
      " AIG\n",
      "current assets -\n",
      "current liability -\n",
      "total assets from latest statement for  AIG  is  529109000000  and total liability is  420948000000\n",
      "retained earnings 27286000000\n",
      "ebitda"
     ]
    },
    {
     "name": "stdout",
     "output_type": "stream",
     "text": [
      " \n",
      "gross profit \n",
      "54.89"
     ]
    },
    {
     "name": "stdout",
     "output_type": "stream",
     "text": [
      "\n",
      "done..\n",
      "symbol:  AMT\n",
      "wait...\n",
      "go.."
     ]
    },
    {
     "name": "stdout",
     "output_type": "stream",
     "text": [
      "\n",
      "symbol"
     ]
    },
    {
     "name": "stdout",
     "output_type": "stream",
     "text": [
      " AMT\n",
      "current assets 996937000\n",
      "current liability 1937918000\n",
      "total assets from latest statement for  AMT  is  20596615000  and total liability is  16401988000\n",
      "retained earnings -854579000\n",
      "ebitda"
     ]
    },
    {
     "name": "stdout",
     "output_type": "stream",
     "text": [
      " 360268000\n",
      "gross profit 753986000\n",
      "101.14"
     ]
    },
    {
     "name": "stdout",
     "output_type": "stream",
     "text": [
      "\n",
      "done..\n",
      "symbol:  AMP\n",
      "wait...\n",
      "go.."
     ]
    },
    {
     "name": "stdout",
     "output_type": "stream",
     "text": [
      "\n",
      "error on "
     ]
    },
    {
     "name": "stdout",
     "output_type": "stream",
     "text": [
      " AMP . Error message (<class 'TypeError'>, TypeError(\"'NoneType' object is not subscriptable\",), <traceback object at 0x7fe51325d888>)\n",
      "done..\n",
      "symbol:  ABC\n",
      "wait...\n",
      "go.."
     ]
    },
    {
     "name": "stdout",
     "output_type": "stream",
     "text": [
      "\n",
      "symbol"
     ]
    },
    {
     "name": "stdout",
     "output_type": "stream",
     "text": [
      " ABC\n",
      "current assets 16800205000\n",
      "current liability 17250160000\n",
      "total assets from latest statement for  ABC  is  21532183000  and total liability is  19575284000\n",
      "retained earnings 1570429000\n",
      "ebitda"
     ]
    },
    {
     "name": "stdout",
     "output_type": "stream",
     "text": [
      " 79235000\n",
      "gross profit 692004000\n",
      "91.75"
     ]
    },
    {
     "name": "stdout",
     "output_type": "stream",
     "text": [
      "\n",
      "done..\n",
      "symbol:  AME\n",
      "wait...\n",
      "go.."
     ]
    },
    {
     "name": "stdout",
     "output_type": "stream",
     "text": [
      "\n",
      "symbol"
     ]
    },
    {
     "name": "stdout",
     "output_type": "stream",
     "text": [
      " AME\n",
      "current assets 1590130000\n",
      "current liability 831709000\n",
      "total assets from latest statement for  AME  is  6571061000  and total liability is  3103254000\n",
      "retained earnings 3339749000\n",
      "ebitda"
     ]
    },
    {
     "name": "stdout",
     "output_type": "stream",
     "text": [
      " 209504000\n",
      "gross profit 354072000\n",
      "50.97"
     ]
    },
    {
     "name": "stdout",
     "output_type": "stream",
     "text": [
      "\n",
      "done..\n",
      "symbol:  AMGN\n",
      "wait...\n",
      "go.."
     ]
    },
    {
     "name": "stdout",
     "output_type": "stream",
     "text": [
      "\n",
      "symbol"
     ]
    },
    {
     "name": "stdout",
     "output_type": "stream",
     "text": [
      " AMGN\n",
      "current assets 36048000000\n",
      "current liability 8551000000\n",
      "total assets from latest statement for  AMGN  is  70775000000  and total liability is  45450000000\n",
      "retained earnings -4698000000\n",
      "ebitda"
     ]
    },
    {
     "name": "stdout",
     "output_type": "stream",
     "text": [
      " 1606000000\n",
      "gross profit 3963000000\n",
      "167.706"
     ]
    },
    {
     "name": "stdout",
     "output_type": "stream",
     "text": [
      "\n",
      "done..\n",
      "symbol:  APH\n",
      "wait...\n",
      "go.."
     ]
    },
    {
     "name": "stdout",
     "output_type": "stream",
     "text": [
      "\n",
      "symbol"
     ]
    },
    {
     "name": "stdout",
     "output_type": "stream",
     "text": [
      " APH\n",
      "current assets 3372572000\n",
      "current liability 1555397000\n",
      "total assets from latest statement for  APH  is  6851769000  and total liability is  3875609000\n",
      "retained earnings 2437281000\n",
      "ebitda"
     ]
    },
    {
     "name": "stdout",
     "output_type": "stream",
     "text": [
      " \n",
      "gross profit \n",
      "53.00"
     ]
    },
    {
     "name": "stdout",
     "output_type": "stream",
     "text": [
      "\n",
      "done..\n",
      "symbol:  APC\n",
      "wait...\n",
      "go.."
     ]
    },
    {
     "name": "stdout",
     "output_type": "stream",
     "text": [
      "\n",
      "symbol"
     ]
    },
    {
     "name": "stdout",
     "output_type": "stream",
     "text": [
      " APC\n",
      "current assets 11739000000\n",
      "current liability 10983000000\n",
      "total assets from latest statement for  APC  is  60665000000  and total liability is  39988000000\n",
      "retained earnings 12633000000\n",
      "ebitda"
     ]
    },
    {
     "name": "stdout",
     "output_type": "stream",
     "text": [
      " 1978000000\n",
      "gross profit 4144000000\n",
      "80.295"
     ]
    },
    {
     "name": "stdout",
     "output_type": "stream",
     "text": [
      "\n",
      "done..\n",
      "symbol:  ADI\n",
      "wait...\n",
      "go.."
     ]
    },
    {
     "name": "stdout",
     "output_type": "stream",
     "text": [
      "\n",
      "symbol"
     ]
    },
    {
     "name": "stdout",
     "output_type": "stream",
     "text": [
      " ADI\n",
      "current assets 5923884000\n",
      "current liability 2622526000\n",
      "total assets from latest statement for  ADI  is  8973465000  and total liability is  3966268000\n",
      "retained earnings 4239109000\n",
      "ebitda"
     ]
    },
    {
     "name": "stdout",
     "output_type": "stream",
     "text": [
      " 205566000\n",
      "gross profit 476290000\n",
      "54.85"
     ]
    },
    {
     "name": "stdout",
     "output_type": "stream",
     "text": [
      "\n",
      "done..\n",
      "symbol:  AON\n",
      "wait...\n",
      "go.."
     ]
    },
    {
     "name": "stdout",
     "output_type": "stream",
     "text": [
      "\n",
      "symbol"
     ]
    },
    {
     "name": "stdout",
     "output_type": "stream",
     "text": [
      " AON\n",
      "current assets -\n",
      "current liability -\n",
      "total assets from latest statement for  AON  is  28827000000  and total liability is  21612000000\n",
      "retained earnings 4718000000\n",
      "ebitda"
     ]
    },
    {
     "name": "stdout",
     "output_type": "stream",
     "text": [
      " 455000000\n",
      "gross profit 2880000000\n",
      "92.44"
     ]
    },
    {
     "name": "stdout",
     "output_type": "stream",
     "text": [
      "\n",
      "done..\n",
      "symbol:  APA\n",
      "wait...\n",
      "go.."
     ]
    },
    {
     "name": "stdout",
     "output_type": "stream",
     "text": [
      "\n",
      "symbol"
     ]
    },
    {
     "name": "stdout",
     "output_type": "stream",
     "text": [
      " APA\n",
      "current assets 4426000000\n",
      "current liability 4307000000\n",
      "total assets from latest statement for  APA  is  60990000000  and total liability is  30172000000\n",
      "retained earnings 21156000000\n",
      "ebitda"
     ]
    },
    {
     "name": "stdout",
     "output_type": "stream",
     "text": [
      " -176000000\n",
      "gross profit 2749000000\n",
      "63.50"
     ]
    },
    {
     "name": "stdout",
     "output_type": "stream",
     "text": [
      "\n",
      "done..\n",
      "symbol:  AIV\n",
      "wait...\n",
      "go.."
     ]
    },
    {
     "name": "stdout",
     "output_type": "stream",
     "text": [
      "\n",
      "error on "
     ]
    },
    {
     "name": "stdout",
     "output_type": "stream",
     "text": [
      " AIV . Error message (<class 'TypeError'>, TypeError(\"'NoneType' object is not subscriptable\",), <traceback object at 0x7fe513253388>)\n",
      "done..\n",
      "symbol:  AAPL\n",
      "wait...\n",
      "go.."
     ]
    },
    {
     "name": "stdout",
     "output_type": "stream",
     "text": [
      "\n",
      "symbol"
     ]
    },
    {
     "name": "stdout",
     "output_type": "stream",
     "text": [
      " AAPL\n",
      "current assets 68531000000\n",
      "current liability 63448000000\n",
      "total assets from latest statement for  AAPL  is  231839000000  and total liability is  120292000000\n",
      "retained earnings 87152000000\n",
      "ebitda"
     ]
    },
    {
     "name": "stdout",
     "output_type": "stream",
     "text": [
      " \n",
      "gross profit \n",
      "115.231"
     ]
    },
    {
     "name": "stdout",
     "output_type": "stream",
     "text": [
      "\n",
      "done..\n",
      "symbol:  AMAT\n",
      "wait...\n",
      "go.."
     ]
    },
    {
     "name": "stdout",
     "output_type": "stream",
     "text": [
      "\n",
      "symbol"
     ]
    },
    {
     "name": "stdout",
     "output_type": "stream",
     "text": [
      " AMAT\n",
      "current assets 6640000000\n",
      "current liability 2755000000\n",
      "total assets from latest statement for  AMAT  is  12851000000  and total liability is  5167000000\n",
      "retained earnings 12938000000\n",
      "ebitda"
     ]
    },
    {
     "name": "stdout",
     "output_type": "stream",
     "text": [
      " 394000000\n",
      "gross profit 992000000\n",
      "23.80"
     ]
    },
    {
     "name": "stdout",
     "output_type": "stream",
     "text": [
      "\n",
      "done..\n",
      "symbol:  ADM\n",
      "wait...\n",
      "go.."
     ]
    },
    {
     "name": "stdout",
     "output_type": "stream",
     "text": [
      "\n",
      "symbol"
     ]
    },
    {
     "name": "stdout",
     "output_type": "stream",
     "text": [
      " ADM\n",
      "current assets 26639000000\n",
      "current liability 13751000000\n",
      "total assets from latest statement for  ADM  is  41821000000  and total liability is  21560000000\n",
      "retained earnings 15154000000\n",
      "ebitda"
     ]
    },
    {
     "name": "stdout",
     "output_type": "stream",
     "text": [
      " 1112000000\n",
      "gross profit 1470000000\n",
      "53.4699"
     ]
    },
    {
     "name": "stdout",
     "output_type": "stream",
     "text": [
      "\n",
      "done..\n",
      "symbol:  AIZ\n",
      "wait...\n",
      "go.."
     ]
    },
    {
     "name": "stdout",
     "output_type": "stream",
     "text": [
      "\n",
      "symbol"
     ]
    },
    {
     "name": "stdout",
     "output_type": "stream",
     "text": [
      " AIZ\n",
      "current assets -\n",
      "current liability -\n",
      "total assets from latest statement for  AIZ  is  30673129000  and total liability is  25330566000\n",
      "retained earnings 4778645000\n",
      "ebitda"
     ]
    },
    {
     "name": "stdout",
     "output_type": "stream",
     "text": [
      " 238527000\n",
      "gross profit 625236000\n",
      "67.70"
     ]
    },
    {
     "name": "stdout",
     "output_type": "stream",
     "text": [
      "\n",
      "done..\n",
      "symbol:  T\n",
      "wait...\n",
      "go.."
     ]
    },
    {
     "name": "stdout",
     "output_type": "stream",
     "text": [
      "\n",
      "symbol"
     ]
    },
    {
     "name": "stdout",
     "output_type": "stream",
     "text": [
      " T\n",
      "current assets 25835000000\n",
      "current liability 39979000000\n",
      "total assets from latest statement for  T  is  287939000000  and total liability is  195326000000\n",
      "retained earnings 34165000000\n",
      "ebitda"
     ]
    },
    {
     "name": "stdout",
     "output_type": "stream",
     "text": [
      " 5442000000\n",
      "gross profit 18416000000\n",
      "34.49"
     ]
    },
    {
     "name": "stdout",
     "output_type": "stream",
     "text": [
      "\n",
      "done..\n",
      "symbol:  ADSK\n",
      "wait...\n",
      "go.."
     ]
    },
    {
     "name": "stdout",
     "output_type": "stream",
     "text": [
      "\n",
      "symbol"
     ]
    },
    {
     "name": "stdout",
     "output_type": "stream",
     "text": [
      " ADSK\n",
      "current assets 2450000000\n",
      "current liability 1157300000\n",
      "total assets from latest statement for  ADSK  is  4703400000  and total liability is  2420000000\n",
      "retained earnings 584000000\n",
      "ebitda"
     ]
    },
    {
     "name": "stdout",
     "output_type": "stream",
     "text": [
      " 42900000\n",
      "gross profit 549200000\n",
      "60.70"
     ]
    },
    {
     "name": "stdout",
     "output_type": "stream",
     "text": [
      "\n",
      "done..\n",
      "symbol:  ADP\n",
      "wait...\n",
      "go.."
     ]
    },
    {
     "name": "stdout",
     "output_type": "stream",
     "text": [
      "\n",
      "symbol"
     ]
    },
    {
     "name": "stdout",
     "output_type": "stream",
     "text": [
      " ADP\n",
      "current assets 25793400000\n",
      "current liability 23159300000\n",
      "total assets from latest statement for  ADP  is  30208100000  and total liability is  24380800000\n",
      "retained earnings 12990000000\n",
      "ebitda"
     ]
    },
    {
     "name": "stdout",
     "output_type": "stream",
     "text": [
      " 454400000\n",
      "gross profit 1011900000\n",
      "85.8428"
     ]
    },
    {
     "name": "stdout",
     "output_type": "stream",
     "text": [
      "\n",
      "done..\n",
      "symbol:  AN\n",
      "wait...\n",
      "go.."
     ]
    },
    {
     "name": "stdout",
     "output_type": "stream",
     "text": [
      "\n",
      "symbol"
     ]
    },
    {
     "name": "stdout",
     "output_type": "stream",
     "text": [
      " AN\n",
      "current assets 3606900000\n",
      "current liability 3542500000\n",
      "total assets from latest statement for  AN  is  7793700000  and total liability is  5781700000\n",
      "retained earnings 3639900000\n",
      "ebitda"
     ]
    },
    {
     "name": "stdout",
     "output_type": "stream",
     "text": [
      " 208600000\n",
      "gross profit 752900000\n",
      "59.36"
     ]
    },
    {
     "name": "stdout",
     "output_type": "stream",
     "text": [
      "\n",
      "done..\n",
      "symbol:  AZO\n",
      "wait...\n",
      "go.."
     ]
    },
    {
     "name": "stdout",
     "output_type": "stream",
     "text": [
      "\n",
      "symbol"
     ]
    },
    {
     "name": "stdout",
     "output_type": "stream",
     "text": [
      " AZO\n",
      "current assets 3580612000\n",
      "current liability 4541094000\n",
      "total assets from latest statement for  AZO  is  7517858000  and total liability is  9139715000\n",
      "retained earnings -1529123000\n",
      "ebitda"
     ]
    },
    {
     "name": "stdout",
     "output_type": "stream",
     "text": [
      " 630201000\n",
      "gross profit 1595217000\n",
      "582.00"
     ]
    },
    {
     "name": "stdout",
     "output_type": "stream",
     "text": [
      "\n",
      "done..\n",
      "symbol:  AVGO\n",
      "wait...\n",
      "go.."
     ]
    },
    {
     "name": "stdout",
     "output_type": "stream",
     "text": [
      "\n",
      "symbol"
     ]
    },
    {
     "name": "stdout",
     "output_type": "stream",
     "text": [
      " AVGO\n",
      "current assets 3840000000\n",
      "current liability 940000000\n",
      "total assets from latest statement for  AVGO  is  10262000000  and total liability is  7164000000\n",
      "retained earnings 1230000000\n",
      "ebitda"
     ]
    },
    {
     "name": "stdout",
     "output_type": "stream",
     "text": [
      " -164000000\n",
      "gross profit 393000000\n",
      "91.20"
     ]
    },
    {
     "name": "stdout",
     "output_type": "stream",
     "text": [
      "\n",
      "done..\n",
      "symbol:  AVB\n",
      "wait...\n",
      "go.."
     ]
    },
    {
     "name": "stdout",
     "output_type": "stream",
     "text": [
      "\n",
      "symbol"
     ]
    },
    {
     "name": "stdout",
     "output_type": "stream",
     "text": [
      " AVB\n",
      "current assets -\n",
      "current liability -\n",
      "total assets from latest statement for  AVB  is  15881178000  and total liability is  6823300000\n",
      "retained earnings -256162000\n",
      "ebitda"
     ]
    },
    {
     "name": "stdout",
     "output_type": "stream",
     "text": [
      " 156787000\n",
      "gross profit 430526000\n",
      "161.51"
     ]
    },
    {
     "name": "stdout",
     "output_type": "stream",
     "text": [
      "\n",
      "done..\n",
      "symbol:  AVY\n",
      "wait...\n",
      "go.."
     ]
    },
    {
     "name": "stdout",
     "output_type": "stream",
     "text": [
      "\n",
      "symbol"
     ]
    },
    {
     "name": "stdout",
     "output_type": "stream",
     "text": [
      " AVY\n",
      "current assets 2069800000\n",
      "current liability 1632900000\n",
      "total assets from latest statement for  AVY  is  4493500000  and total liability is  3186700000\n",
      "retained earnings 2096200000\n",
      "ebitda"
     ]
    },
    {
     "name": "stdout",
     "output_type": "stream",
     "text": [
      " 116600000\n",
      "gross profit 400700000\n",
      "49.77"
     ]
    },
    {
     "name": "stdout",
     "output_type": "stream",
     "text": [
      "\n",
      "done..\n",
      "symbol:  AVP\n",
      "wait...\n",
      "go.."
     ]
    },
    {
     "name": "stdout",
     "output_type": "stream",
     "text": [
      "\n",
      "symbol"
     ]
    },
    {
     "name": "stdout",
     "output_type": "stream",
     "text": [
      " AVP\n",
      "current assets 3089400000\n",
      "current liability 2153100000\n",
      "total assets from latest statement for  AVP  is  6090400000  and total liability is  5181700000\n",
      "retained earnings 4060600000\n",
      "ebitda"
     ]
    },
    {
     "name": "stdout",
     "output_type": "stream",
     "text": [
      " 171900000\n",
      "gross profit 1324300000\n",
      "9.7399"
     ]
    },
    {
     "name": "stdout",
     "output_type": "stream",
     "text": [
      "\n",
      "done..\n",
      "symbol:  BHI\n",
      "wait...\n",
      "go.."
     ]
    },
    {
     "name": "stdout",
     "output_type": "stream",
     "text": [
      "\n",
      "symbol"
     ]
    },
    {
     "name": "stdout",
     "output_type": "stream",
     "text": [
      " BHI\n",
      "current assets 11811000000\n",
      "current liability 4962000000\n",
      "total assets from latest statement for  BHI  is  28642000000  and total liability is  10559000000\n",
      "retained earnings 11289000000\n",
      "ebitda"
     ]
    },
    {
     "name": "stdout",
     "output_type": "stream",
     "text": [
      " 661000000\n",
      "gross profit 1143000000\n",
      "56.96"
     ]
    },
    {
     "name": "stdout",
     "output_type": "stream",
     "text": [
      "\n",
      "done..\n",
      "symbol:  BLL\n",
      "wait...\n",
      "go.."
     ]
    },
    {
     "name": "stdout",
     "output_type": "stream",
     "text": [
      "\n",
      "symbol"
     ]
    },
    {
     "name": "stdout",
     "output_type": "stream",
     "text": [
      " BLL\n",
      "current assets 2378800000\n",
      "current liability 2021900000\n",
      "total assets from latest statement for  BLL  is  7614900000  and total liability is  6400400000\n",
      "retained earnings 4288100000\n",
      "ebitda"
     ]
    },
    {
     "name": "stdout",
     "output_type": "stream",
     "text": [
      " \n",
      "gross profit \n",
      "67.62"
     ]
    },
    {
     "name": "stdout",
     "output_type": "stream",
     "text": [
      "\n",
      "done..\n",
      "symbol:  BAC\n",
      "wait...\n",
      "go.."
     ]
    },
    {
     "name": "stdout",
     "output_type": "stream",
     "text": [
      "\n",
      "symbol"
     ]
    },
    {
     "name": "stdout",
     "output_type": "stream",
     "text": [
      " BAC\n",
      "current assets -\n",
      "current liability -\n",
      "total assets from latest statement for  BAC  is  2123613000000  and total liability is  1884932000000\n",
      "retained earnings 72811000000\n",
      "ebitda"
     ]
    },
    {
     "name": "stdout",
     "output_type": "stream",
     "text": [
      " 2800000000\n",
      "gross profit -\n",
      "17.08"
     ]
    },
    {
     "name": "stdout",
     "output_type": "stream",
     "text": [
      "\n",
      "done..\n",
      "symbol:  BCR\n",
      "wait...\n",
      "go.."
     ]
    },
    {
     "name": "stdout",
     "output_type": "stream",
     "text": [
      "\n",
      "symbol"
     ]
    },
    {
     "name": "stdout",
     "output_type": "stream",
     "text": [
      " BCR\n",
      "current assets 2031100000\n",
      "current liability 644900000\n",
      "total assets from latest statement for  BCR  is  5113700000  and total liability is  3281500000\n",
      "retained earnings -37600000\n",
      "ebitda"
     ]
    },
    {
     "name": "stdout",
     "output_type": "stream",
     "text": [
      " 191500000\n",
      "gross profit 521100000\n",
      "170.79"
     ]
    },
    {
     "name": "stdout",
     "output_type": "stream",
     "text": [
      "\n",
      "done..\n",
      "symbol:  BAX\n",
      "wait...\n",
      "go.."
     ]
    },
    {
     "name": "stdout",
     "output_type": "stream",
     "text": [
      "\n",
      "symbol"
     ]
    },
    {
     "name": "stdout",
     "output_type": "stream",
     "text": [
      " BAX\n",
      "current assets 9631000000\n",
      "current liability 5990000000\n",
      "total assets from latest statement for  BAX  is  25563000000  and total liability is  17159000000\n",
      "retained earnings 12563000000\n",
      "ebitda"
     ]
    },
    {
     "name": "stdout",
     "output_type": "stream",
     "text": [
      " 502000000\n",
      "gross profit 1931000000\n",
      "73.38"
     ]
    },
    {
     "name": "stdout",
     "output_type": "stream",
     "text": [
      "\n",
      "done..\n",
      "symbol:  BBT\n",
      "wait...\n",
      "go.."
     ]
    },
    {
     "name": "stdout",
     "output_type": "stream",
     "text": [
      "\n",
      "symbol"
     ]
    },
    {
     "name": "stdout",
     "output_type": "stream",
     "text": [
      " BBT\n",
      "current assets -\n",
      "current liability -\n",
      "total assets from latest statement for  BBT  is  187022000000  and total liability is  162784000000\n",
      "retained earnings 11982000000\n",
      "ebitda"
     ]
    },
    {
     "name": "stdout",
     "output_type": "stream",
     "text": [
      " 826000000\n",
      "gross profit -\n",
      "37.28"
     ]
    },
    {
     "name": "stdout",
     "output_type": "stream",
     "text": [
      "\n",
      "done..\n",
      "symbol:  BDX\n",
      "wait...\n",
      "go.."
     ]
    },
    {
     "name": "stdout",
     "output_type": "stream",
     "text": [
      "\n",
      "symbol"
     ]
    },
    {
     "name": "stdout",
     "output_type": "stream",
     "text": [
      " BDX\n",
      "current assets 6045000000\n",
      "current liability 2093000000\n",
      "total assets from latest statement for  BDX  is  12374000000  and total liability is  6996000000\n",
      "retained earnings 11909000000\n",
      "ebitda"
     ]
    },
    {
     "name": "stdout",
     "output_type": "stream",
     "text": [
      " 455000000\n",
      "gross profit 1112000000\n",
      "140.59"
     ]
    },
    {
     "name": "stdout",
     "output_type": "stream",
     "text": [
      "\n",
      "done..\n",
      "symbol:  BBBY\n",
      "wait...\n",
      "go.."
     ]
    },
    {
     "name": "stdout",
     "output_type": "stream",
     "text": [
      "\n",
      "symbol"
     ]
    },
    {
     "name": "stdout",
     "output_type": "stream",
     "text": [
      " BBBY\n",
      "current assets 4479768000\n",
      "current liability 2006898000\n",
      "total assets from latest statement for  BBBY  is  7034260000  and total liability is  4095081000\n",
      "retained earnings 9006907000\n",
      "ebitda"
     ]
    },
    {
     "name": "stdout",
     "output_type": "stream",
     "text": [
      " 368741000\n",
      "gross profit 1134045000\n",
      "72.78"
     ]
    },
    {
     "name": "stdout",
     "output_type": "stream",
     "text": [
      "\n",
      "done..\n",
      "symbol:  BMS\n",
      "wait...\n",
      "go.."
     ]
    },
    {
     "name": "stdout",
     "output_type": "stream",
     "text": [
      "\n",
      "symbol"
     ]
    },
    {
     "name": "stdout",
     "output_type": "stream",
     "text": [
      " BMS\n",
      "current assets 1650800000\n",
      "current liability 626400000\n",
      "total assets from latest statement for  BMS  is  4020800000  and total liability is  2425800000\n",
      "retained earnings 2054900000\n",
      "ebitda"
     ]
    },
    {
     "name": "stdout",
     "output_type": "stream",
     "text": [
      " 115700000\n",
      "gross profit 190300000\n",
      "40.38"
     ]
    },
    {
     "name": "stdout",
     "output_type": "stream",
     "text": [
      "\n",
      "done..\n",
      "symbol:  BRK-B\n",
      "wait...\n",
      "go.."
     ]
    },
    {
     "name": "stdout",
     "output_type": "stream",
     "text": [
      "\n",
      "error on "
     ]
    },
    {
     "name": "stdout",
     "output_type": "stream",
     "text": [
      " BRK-B . Error message (<class 'KeyError'>, KeyError('statement',), <traceback object at 0x7fe51324fc48>)\n",
      "done..\n",
      "symbol:  BBY\n",
      "wait...\n",
      "go.."
     ]
    },
    {
     "name": "stdout",
     "output_type": "stream",
     "text": [
      "\n",
      "symbol"
     ]
    },
    {
     "name": "stdout",
     "output_type": "stream",
     "text": [
      " BBY\n",
      "current assets 10611000000\n",
      "current liability 7251000000\n",
      "total assets from latest statement for  BBY  is  14349000000  and total liability is  9823000000\n",
      "retained earnings 3649000000\n",
      "ebitda"
     ]
    },
    {
     "name": "stdout",
     "output_type": "stream",
     "text": [
      " 248000000\n",
      "gross profit 2055000000\n",
      "37.34"
     ]
    },
    {
     "name": "stdout",
     "output_type": "stream",
     "text": [
      "\n",
      "done..\n",
      "symbol:  BIIB\n",
      "wait...\n",
      "go.."
     ]
    },
    {
     "name": "stdout",
     "output_type": "stream",
     "text": [
      "\n",
      "symbol"
     ]
    },
    {
     "name": "stdout",
     "output_type": "stream",
     "text": [
      " BIIB\n",
      "current assets 4372111000\n",
      "current liability 1940647000\n",
      "total assets from latest statement for  BIIB  is  13704142000  and total liability is  3276446000\n",
      "retained earnings 8400455000\n",
      "ebitda"
     ]
    },
    {
     "name": "stdout",
     "output_type": "stream",
     "text": [
      " \n",
      "gross profit \n",
      "326.89"
     ]
    },
    {
     "name": "stdout",
     "output_type": "stream",
     "text": [
      "\n",
      "done..\n",
      "symbol:  BLK\n",
      "wait...\n",
      "go.."
     ]
    },
    {
     "name": "stdout",
     "output_type": "stream",
     "text": [
      "\n",
      "symbol"
     ]
    },
    {
     "name": "stdout",
     "output_type": "stream",
     "text": [
      " BLK\n",
      "current assets -\n",
      "current liability -\n",
      "total assets from latest statement for  BLK  is  222812000000  and total liability is  195657000000\n",
      "retained earnings 9673000000\n",
      "ebitda"
     ]
    },
    {
     "name": "stdout",
     "output_type": "stream",
     "text": [
      " 1166000000\n",
      "gross profit 2788000000\n",
      "355.5886"
     ]
    },
    {
     "name": "stdout",
     "output_type": "stream",
     "text": [
      "\n",
      "done..\n",
      "symbol:  HRB\n",
      "wait...\n",
      "go.."
     ]
    },
    {
     "name": "stdout",
     "output_type": "stream",
     "text": [
      "\n",
      "symbol"
     ]
    },
    {
     "name": "stdout",
     "output_type": "stream",
     "text": [
      " HRB\n",
      "current assets 2292161000\n",
      "current liability 1683919000\n",
      "total assets from latest statement for  HRB  is  3890819000  and total liability is  2493619000\n",
      "retained earnings 1418124000\n",
      "ebitda"
     ]
    },
    {
     "name": "stdout",
     "output_type": "stream",
     "text": [
      " \n",
      "gross profit \n",
      "34.01"
     ]
    },
    {
     "name": "stdout",
     "output_type": "stream",
     "text": [
      "\n",
      "done..\n",
      "symbol:  BA\n",
      "wait...\n",
      "go.."
     ]
    },
    {
     "name": "stdout",
     "output_type": "stream",
     "text": [
      "\n",
      "symbol"
     ]
    },
    {
     "name": "stdout",
     "output_type": "stream",
     "text": [
      " BA\n",
      "current assets 65218000000\n",
      "current liability 53204000000\n",
      "total assets from latest statement for  BA  is  92653000000  and total liability is  78142000000\n",
      "retained earnings 35880000000\n",
      "ebitda"
     ]
    },
    {
     "name": "stdout",
     "output_type": "stream",
     "text": [
      " \n",
      "gross profit \n",
      "132.04"
     ]
    },
    {
     "name": "stdout",
     "output_type": "stream",
     "text": [
      "\n",
      "done..\n",
      "symbol:  BWA\n",
      "wait...\n",
      "go.."
     ]
    },
    {
     "name": "stdout",
     "output_type": "stream",
     "text": [
      "\n",
      "symbol"
     ]
    },
    {
     "name": "stdout",
     "output_type": "stream",
     "text": [
      " BWA\n",
      "current assets 2951800000\n",
      "current liability 2122800000\n",
      "total assets from latest statement for  BWA  is  7282300000  and total liability is  3551700000\n",
      "retained earnings 3606500000\n",
      "ebitda"
     ]
    },
    {
     "name": "stdout",
     "output_type": "stream",
     "text": [
      " 239100000\n",
      "gross profit 424500000\n",
      "57.07"
     ]
    },
    {
     "name": "stdout",
     "output_type": "stream",
     "text": [
      "\n",
      "done..\n",
      "symbol:  BXP\n",
      "wait...\n",
      "go.."
     ]
    },
    {
     "name": "stdout",
     "output_type": "stream",
     "text": [
      "\n",
      "symbol"
     ]
    },
    {
     "name": "stdout",
     "output_type": "stream",
     "text": [
      " BXP\n",
      "current assets -\n",
      "current liability -\n",
      "total assets from latest statement for  BXP  is  18875160000  and total liability is  13044007000\n",
      "retained earnings -148566000\n",
      "ebitda"
     ]
    },
    {
     "name": "stdout",
     "output_type": "stream",
     "text": [
      " 259864000\n",
      "gross profit 396039000\n",
      "131.16"
     ]
    },
    {
     "name": "stdout",
     "output_type": "stream",
     "text": [
      "\n",
      "done..\n",
      "symbol:  BSX\n",
      "wait...\n",
      "go.."
     ]
    },
    {
     "name": "stdout",
     "output_type": "stream",
     "text": [
      "\n",
      "symbol"
     ]
    },
    {
     "name": "stdout",
     "output_type": "stream",
     "text": [
      " BSX\n",
      "current assets 3175000000\n",
      "current liability 1820000000\n",
      "total assets from latest statement for  BSX  is  16718000000  and total liability is  10017000000\n",
      "retained earnings -8389000000\n",
      "ebitda"
     ]
    },
    {
     "name": "stdout",
     "output_type": "stream",
     "text": [
      " 56000000\n",
      "gross profit 1295000000\n",
      "12.86"
     ]
    },
    {
     "name": "stdout",
     "output_type": "stream",
     "text": [
      "\n",
      "done..\n",
      "symbol:  BMY\n",
      "wait...\n",
      "go.."
     ]
    },
    {
     "name": "stdout",
     "output_type": "stream",
     "text": [
      "\n",
      "symbol"
     ]
    },
    {
     "name": "stdout",
     "output_type": "stream",
     "text": [
      " BMY\n",
      "current assets 14177000000\n",
      "current liability 8103000000\n",
      "total assets from latest statement for  BMY  is  33450000000  and total liability is  18307000000\n",
      "retained earnings 33147000000\n",
      "ebitda"
     ]
    },
    {
     "name": "stdout",
     "output_type": "stream",
     "text": [
      " 1008000000\n",
      "gross profit 2914000000\n",
      "59.41"
     ]
    },
    {
     "name": "stdout",
     "output_type": "stream",
     "text": [
      "\n",
      "done..\n",
      "symbol:  BRCM\n",
      "wait...\n",
      "go.."
     ]
    },
    {
     "name": "stdout",
     "output_type": "stream",
     "text": [
      "\n",
      "symbol"
     ]
    },
    {
     "name": "stdout",
     "output_type": "stream",
     "text": [
      " BRCM\n",
      "current assets 5024000000\n",
      "current liability 1711000000\n",
      "total assets from latest statement for  BRCM  is  12215000000  and total liability is  3592000000\n",
      "retained earnings -3845000000\n",
      "ebitda"
     ]
    },
    {
     "name": "stdout",
     "output_type": "stream",
     "text": [
      " 120000000\n",
      "gross profit 1183000000\n",
      "42.81"
     ]
    },
    {
     "name": "stdout",
     "output_type": "stream",
     "text": [
      "\n",
      "done..\n",
      "symbol:  BF-B\n",
      "wait...\n",
      "go.."
     ]
    },
    {
     "name": "stdout",
     "output_type": "stream",
     "text": [
      "\n",
      "symbol"
     ]
    },
    {
     "name": "stdout",
     "output_type": "stream",
     "text": [
      " BF-B\n",
      "current assets 2259000000\n",
      "current liability 637000000\n",
      "total assets from latest statement for  BF-B  is  4191000000  and total liability is  2137000000\n",
      "retained earnings 2908000000\n",
      "ebitda"
     ]
    },
    {
     "name": "stdout",
     "output_type": "stream",
     "text": [
      " 221000000\n",
      "gross profit 495000000\n",
      "95.54"
     ]
    },
    {
     "name": "stdout",
     "output_type": "stream",
     "text": [
      "\n",
      "done..\n",
      "symbol:  CA\n",
      "wait...\n",
      "go.."
     ]
    },
    {
     "name": "stdout",
     "output_type": "stream",
     "text": [
      "\n",
      "symbol"
     ]
    },
    {
     "name": "stdout",
     "output_type": "stream",
     "text": [
      " CA\n",
      "current assets 4231000000\n",
      "current liability 3290000000\n",
      "total assets from latest statement for  CA  is  11372000000  and total liability is  5629000000\n",
      "retained earnings 6069000000\n",
      "ebitda"
     ]
    },
    {
     "name": "stdout",
     "output_type": "stream",
     "text": [
      " 320000000\n",
      "gross profit 845000000\n",
      "30.95"
     ]
    },
    {
     "name": "stdout",
     "output_type": "stream",
     "text": [
      "\n",
      "done..\n",
      "symbol:  CVC\n",
      "wait...\n",
      "go.."
     ]
    },
    {
     "name": "stdout",
     "output_type": "stream",
     "text": [
      "\n",
      "symbol"
     ]
    },
    {
     "name": "stdout",
     "output_type": "stream",
     "text": [
      " CVC\n",
      "current assets 1814580000\n",
      "current liability 1655641000\n",
      "total assets from latest statement for  CVC  is  6563745000  and total liability is  11632211000\n",
      "retained earnings -4290835000\n",
      "ebitda"
     ]
    },
    {
     "name": "stdout",
     "output_type": "stream",
     "text": [
      " 267156000\n",
      "gross profit 838559000\n",
      "20.43"
     ]
    },
    {
     "name": "stdout",
     "output_type": "stream",
     "text": [
      "\n",
      "done..\n",
      "symbol:  COG\n",
      "wait...\n",
      "go.."
     ]
    },
    {
     "name": "stdout",
     "output_type": "stream",
     "text": [
      "\n",
      "error on "
     ]
    },
    {
     "name": "stdout",
     "output_type": "stream",
     "text": [
      " COG . Error message (<class 'TypeError'>, TypeError(\"'NoneType' object is not subscriptable\",), <traceback object at 0x7fe513278f48>)\n",
      "done..\n",
      "symbol:  CAM\n",
      "wait...\n",
      "go.."
     ]
    },
    {
     "name": "stdout",
     "output_type": "stream",
     "text": [
      "\n",
      "symbol"
     ]
    },
    {
     "name": "stdout",
     "output_type": "stream",
     "text": [
      " CAM\n",
      "current assets 7496000000\n",
      "current liability 4063000000\n",
      "total assets from latest statement for  CAM  is  13089000000  and total liability is  8304000000\n",
      "retained earnings 5378000000\n",
      "ebitda"
     ]
    },
    {
     "name": "stdout",
     "output_type": "stream",
     "text": [
      " 279000000\n",
      "gross profit 707000000\n",
      "49.85"
     ]
    },
    {
     "name": "stdout",
     "output_type": "stream",
     "text": [
      "\n",
      "done..\n",
      "symbol:  CPB\n",
      "wait...\n",
      "go.."
     ]
    },
    {
     "name": "stdout",
     "output_type": "stream",
     "text": [
      "\n",
      "symbol"
     ]
    },
    {
     "name": "stdout",
     "output_type": "stream",
     "text": [
      " CPB\n",
      "current assets 2100000000\n",
      "current liability 2989000000\n",
      "total assets from latest statement for  CPB  is  8113000000  and total liability is  6498000000\n",
      "retained earnings 2198000000\n",
      "ebitda"
     ]
    },
    {
     "name": "stdout",
     "output_type": "stream",
     "text": [
      " 232000000\n",
      "gross profit 631000000\n",
      "44.595"
     ]
    },
    {
     "name": "stdout",
     "output_type": "stream",
     "text": [
      "\n",
      "done..\n",
      "symbol:  COF\n",
      "wait...\n",
      "go.."
     ]
    },
    {
     "name": "stdout",
     "output_type": "stream",
     "text": [
      "\n",
      "symbol"
     ]
    },
    {
     "name": "stdout",
     "output_type": "stream",
     "text": [
      " COF\n",
      "current assets -\n",
      "current liability -\n",
      "total assets from latest statement for  COF  is  298317000000  and total liability is  254502000000\n",
      "retained earnings 22270000000\n",
      "ebitda"
     ]
    },
    {
     "name": "stdout",
     "output_type": "stream",
     "text": [
      " 1910000000\n",
      "gross profit -\n",
      "82.43"
     ]
    },
    {
     "name": "stdout",
     "output_type": "stream",
     "text": [
      "\n",
      "done..\n",
      "symbol:  CAH\n",
      "wait...\n",
      "go.."
     ]
    },
    {
     "name": "stdout",
     "output_type": "stream",
     "text": [
      "\n",
      "symbol"
     ]
    },
    {
     "name": "stdout",
     "output_type": "stream",
     "text": [
      " CAH\n",
      "current assets 17538000000\n",
      "current liability 14896000000\n",
      "total assets from latest statement for  CAH  is  25711000000  and total liability is  19455000000\n",
      "retained earnings 4925000000\n",
      "ebitda"
     ]
    },
    {
     "name": "stdout",
     "output_type": "stream",
     "text": [
      " 469000000\n",
      "gross profit 1341000000\n",
      "82.20"
     ]
    },
    {
     "name": "stdout",
     "output_type": "stream",
     "text": [
      "\n",
      "done..\n",
      "symbol:  CFN\n",
      "wait...\n",
      "go.."
     ]
    },
    {
     "name": "stdout",
     "output_type": "stream",
     "text": [
      "\n",
      "symbol"
     ]
    },
    {
     "name": "stdout",
     "output_type": "stream",
     "text": [
      " CFN\n",
      "current assets 3106000000\n",
      "current liability 626000000\n",
      "total assets from latest statement for  CFN  is  9007000000  and total liability is  3676000000\n",
      "retained earnings 1541000000\n",
      "ebitda"
     ]
    },
    {
     "name": "stdout",
     "output_type": "stream",
     "text": [
      " 126000000\n",
      "gross profit 457000000\n",
      "59.18"
     ]
    },
    {
     "name": "stdout",
     "output_type": "stream",
     "text": [
      "\n",
      "done..\n",
      "symbol:  KMX\n",
      "wait...\n",
      "go.."
     ]
    },
    {
     "name": "stdout",
     "output_type": "stream",
     "text": [
      "\n",
      "symbol"
     ]
    },
    {
     "name": "stdout",
     "output_type": "stream",
     "text": [
      " KMX\n",
      "current assets 2516442000\n",
      "current liability 906927000\n",
      "total assets from latest statement for  KMX  is  12399913000  and total liability is  9041926000\n",
      "retained earnings 2204785000\n",
      "ebitda"
     ]
    },
    {
     "name": "stdout",
     "output_type": "stream",
     "text": [
      " 257992000\n",
      "gross profit 463339000\n",
      "56.82"
     ]
    },
    {
     "name": "stdout",
     "output_type": "stream",
     "text": [
      "\n",
      "done..\n",
      "symbol:  CCL\n",
      "wait...\n",
      "go.."
     ]
    },
    {
     "name": "stdout",
     "output_type": "stream",
     "text": [
      "\n",
      "symbol"
     ]
    },
    {
     "name": "stdout",
     "output_type": "stream",
     "text": [
      " CCL\n",
      "current assets 1602000000\n",
      "current liability 7056000000\n",
      "total assets from latest statement for  CCL  is  39997000000  and total liability is  14840000000\n",
      "retained earnings 19538000000\n",
      "ebitda"
     ]
    },
    {
     "name": "stdout",
     "output_type": "stream",
     "text": [
      " 1317000000\n",
      "gross profit 2193000000\n",
      "42.98"
     ]
    },
    {
     "name": "stdout",
     "output_type": "stream",
     "text": [
      "\n",
      "done..\n",
      "symbol:  CAT\n",
      "wait...\n",
      "go.."
     ]
    },
    {
     "name": "stdout",
     "output_type": "stream",
     "text": [
      "\n",
      "symbol"
     ]
    },
    {
     "name": "stdout",
     "output_type": "stream",
     "text": [
      " CAT\n",
      "current assets 41276000000\n",
      "current liability 29741000000\n",
      "total assets from latest statement for  CAT  is  87827000000  and total liability is  66971000000\n",
      "retained earnings 32961000000\n",
      "ebitda"
     ]
    },
    {
     "name": "stdout",
     "output_type": "stream",
     "text": [
      " 1540000000\n",
      "gross profit 3800000000\n",
      "99.405"
     ]
    },
    {
     "name": "stdout",
     "output_type": "stream",
     "text": [
      "\n",
      "done..\n",
      "symbol:  CBG\n",
      "wait...\n",
      "go.."
     ]
    },
    {
     "name": "stdout",
     "output_type": "stream",
     "text": [
      "\n",
      "symbol"
     ]
    },
    {
     "name": "stdout",
     "output_type": "stream",
     "text": [
      " CBG\n",
      "current assets 3461037000\n",
      "current liability 2677009000\n",
      "total assets from latest statement for  CBG  is  7529954000  and total liability is  5384019000\n",
      "retained earnings 1336818000\n",
      "ebitda"
     ]
    },
    {
     "name": "stdout",
     "output_type": "stream",
     "text": [
      " 206838000\n",
      "gross profit 245064000\n",
      "33.30"
     ]
    },
    {
     "name": "stdout",
     "output_type": "stream",
     "text": [
      "\n",
      "done..\n",
      "symbol:  CBS\n",
      "wait...\n",
      "go.."
     ]
    },
    {
     "name": "stdout",
     "output_type": "stream",
     "text": [
      "\n",
      "symbol"
     ]
    },
    {
     "name": "stdout",
     "output_type": "stream",
     "text": [
      " CBS\n",
      "current assets 5404000000\n",
      "current liability 3397000000\n",
      "total assets from latest statement for  CBS  is  23455000000  and total liability is  15929000000\n",
      "retained earnings -22344000000\n",
      "ebitda"
     ]
    },
    {
     "name": "stdout",
     "output_type": "stream",
     "text": [
      " 651000000\n",
      "gross profit 3367000000\n",
      "54.48"
     ]
    },
    {
     "name": "stdout",
     "output_type": "stream",
     "text": [
      "\n",
      "done..\n",
      "symbol:  CELG\n",
      "wait...\n",
      "go.."
     ]
    },
    {
     "name": "stdout",
     "output_type": "stream",
     "text": [
      "\n",
      "symbol"
     ]
    },
    {
     "name": "stdout",
     "output_type": "stream",
     "text": [
      " CELG\n",
      "current assets 8836100000\n",
      "current liability 1397500000\n",
      "total assets from latest statement for  CELG  is  16403300000  and total liability is  10634900000\n",
      "retained earnings 5858500000\n",
      "ebitda"
     ]
    },
    {
     "name": "stdout",
     "output_type": "stream",
     "text": [
      " 631000000\n",
      "gross profit 1884500000\n",
      "114.8699"
     ]
    },
    {
     "name": "stdout",
     "output_type": "stream",
     "text": [
      "\n",
      "done..\n",
      "symbol:  CNP\n",
      "wait...\n",
      "go.."
     ]
    },
    {
     "name": "stdout",
     "output_type": "stream",
     "text": [
      "\n",
      "symbol"
     ]
    },
    {
     "name": "stdout",
     "output_type": "stream",
     "text": [
      " CNP\n",
      "current assets 2576000000\n",
      "current liability 3008000000\n",
      "total assets from latest statement for  CNP  is  22048000000  and total liability is  17575000000\n",
      "retained earnings 387000000\n",
      "ebitda"
     ]
    },
    {
     "name": "stdout",
     "output_type": "stream",
     "text": [
      " 331000000\n",
      "gross profit 612000000\n",
      "23.8934"
     ]
    },
    {
     "name": "stdout",
     "output_type": "stream",
     "text": [
      "\n",
      "done..\n",
      "symbol:  CTL\n",
      "wait...\n",
      "go.."
     ]
    },
    {
     "name": "stdout",
     "output_type": "stream",
     "text": [
      "\n",
      "symbol"
     ]
    },
    {
     "name": "stdout",
     "output_type": "stream",
     "text": [
      " CTL\n",
      "current assets 4018000000\n",
      "current liability 4577000000\n",
      "total assets from latest statement for  CTL  is  50646000000  and total liability is  34201000000\n",
      "retained earnings 131000000\n",
      "ebitda"
     ]
    },
    {
     "name": "stdout",
     "output_type": "stream",
     "text": [
      " 624000000\n",
      "gross profit 2539000000\n",
      "40.81"
     ]
    },
    {
     "name": "stdout",
     "output_type": "stream",
     "text": [
      "\n",
      "done..\n",
      "symbol:  CERN\n",
      "wait...\n",
      "go.."
     ]
    },
    {
     "name": "stdout",
     "output_type": "stream",
     "text": [
      "\n",
      "symbol"
     ]
    },
    {
     "name": "stdout",
     "output_type": "stream",
     "text": [
      " CERN\n",
      "current assets 2235477000\n",
      "current liability 671120000\n",
      "total assets from latest statement for  CERN  is  4392638000  and total liability is  996428000\n",
      "retained earnings 2770609000\n",
      "ebitda"
     ]
    },
    {
     "name": "stdout",
     "output_type": "stream",
     "text": [
      " 190335000\n",
      "gross profit 414187000\n",
      "64.35"
     ]
    },
    {
     "name": "stdout",
     "output_type": "stream",
     "text": [
      "\n",
      "done..\n",
      "symbol:  CF\n",
      "wait...\n",
      "go.."
     ]
    },
    {
     "name": "stdout",
     "output_type": "stream",
     "text": [
      "\n",
      "symbol"
     ]
    },
    {
     "name": "stdout",
     "output_type": "stream",
     "text": [
      " CF\n",
      "current assets 3338700000\n",
      "current liability 1048800000\n",
      "total assets from latest statement for  CF  is  11659800000  and total liability is  7162700000\n",
      "retained earnings 3679100000\n",
      "ebitda"
     ]
    },
    {
     "name": "stdout",
     "output_type": "stream",
     "text": [
      " 246900000\n",
      "gross profit 301100000\n",
      "268.93"
     ]
    },
    {
     "name": "stdout",
     "output_type": "stream",
     "text": [
      "\n",
      "done..\n",
      "symbol:  CHRW\n",
      "wait...\n",
      "go.."
     ]
    },
    {
     "name": "stdout",
     "output_type": "stream",
     "text": [
      "\n",
      "symbol"
     ]
    },
    {
     "name": "stdout",
     "output_type": "stream",
     "text": [
      " CHRW\n",
      "current assets 1824716000\n",
      "current liability 1329202000\n",
      "total assets from latest statement for  CHRW  is  2941784000  and total liability is  1923067000\n",
      "retained earnings 2593010000\n",
      "ebitda"
     ]
    },
    {
     "name": "stdout",
     "output_type": "stream",
     "text": [
      " 203337000\n",
      "gross profit 527564000\n",
      "73.34"
     ]
    },
    {
     "name": "stdout",
     "output_type": "stream",
     "text": [
      "\n",
      "done..\n",
      "symbol:  CHK\n",
      "wait...\n",
      "go.."
     ]
    },
    {
     "name": "stdout",
     "output_type": "stream",
     "text": [
      "\n",
      "symbol"
     ]
    },
    {
     "name": "stdout",
     "output_type": "stream",
     "text": [
      " CHK\n",
      "current assets 3129000000\n",
      "current liability 5602000000\n",
      "total assets from latest statement for  CHK  is  40518000000  and total liability is  22887000000\n",
      "retained earnings 945000000\n",
      "ebitda"
     ]
    },
    {
     "name": "stdout",
     "output_type": "stream",
     "text": [
      " 1145000000\n",
      "gross profit 1348000000\n",
      "19.9801"
     ]
    },
    {
     "name": "stdout",
     "output_type": "stream",
     "text": [
      "\n",
      "done..\n",
      "symbol:  CVX\n",
      "wait...\n",
      "go.."
     ]
    },
    {
     "name": "stdout",
     "output_type": "stream",
     "text": [
      "\n",
      "symbol"
     ]
    },
    {
     "name": "stdout",
     "output_type": "stream",
     "text": [
      " CVX\n",
      "current assets 47083000000\n",
      "current liability 37088000000\n",
      "total assets from latest statement for  CVX  is  265431000000  and total liability is  109291000000\n",
      "retained earnings 183519000000\n",
      "ebitda"
     ]
    },
    {
     "name": "stdout",
     "output_type": "stream",
     "text": [
      " 8863000000\n",
      "gross profit 14678000000\n",
      "114.32"
     ]
    },
    {
     "name": "stdout",
     "output_type": "stream",
     "text": [
      "\n",
      "done..\n",
      "symbol:  CMG\n",
      "wait...\n",
      "go.."
     ]
    },
    {
     "name": "stdout",
     "output_type": "stream",
     "text": [
      "\n",
      "symbol"
     ]
    },
    {
     "name": "stdout",
     "output_type": "stream",
     "text": [
      " CMG\n",
      "current assets 873870000\n",
      "current liability 264986000\n",
      "total assets from latest statement for  CMG  is  2437053000  and total liability is  543289000\n",
      "retained earnings 1601037000\n",
      "ebitda"
     ]
    },
    {
     "name": "stdout",
     "output_type": "stream",
     "text": [
      " 208221000\n",
      "gross profit 312004000\n",
      "657.02"
     ]
    },
    {
     "name": "stdout",
     "output_type": "stream",
     "text": [
      "\n",
      "done..\n",
      "symbol:  CB\n",
      "wait...\n",
      "go.."
     ]
    },
    {
     "name": "stdout",
     "output_type": "stream",
     "text": [
      "\n",
      "symbol"
     ]
    },
    {
     "name": "stdout",
     "output_type": "stream",
     "text": [
      " CB\n",
      "current assets -\n",
      "current liability -\n",
      "total assets from latest statement for  CB  is  52070000000  and total liability is  35564000000\n",
      "retained earnings 23079000000\n",
      "ebitda"
     ]
    },
    {
     "name": "stdout",
     "output_type": "stream",
     "text": [
      " 818000000\n",
      "gross profit 1895000000\n",
      "103.31"
     ]
    },
    {
     "name": "stdout",
     "output_type": "stream",
     "text": [
      "\n",
      "done..\n",
      "symbol:  CI\n",
      "wait...\n",
      "go.."
     ]
    },
    {
     "name": "stdout",
     "output_type": "stream",
     "text": [
      "\n",
      "symbol"
     ]
    },
    {
     "name": "stdout",
     "output_type": "stream",
     "text": [
      " CI\n",
      "current assets -\n",
      "current liability -\n",
      "total assets from latest statement for  CI  is  55653000000  and total liability is  44403000000\n",
      "retained earnings 15196000000\n",
      "ebitda"
     ]
    },
    {
     "name": "stdout",
     "output_type": "stream",
     "text": [
      " 818000000\n",
      "gross profit 3397000000\n",
      "103.395"
     ]
    },
    {
     "name": "stdout",
     "output_type": "stream",
     "text": [
      "\n",
      "done..\n",
      "symbol:  XEC\n",
      "wait...\n",
      "go.."
     ]
    },
    {
     "name": "stdout",
     "output_type": "stream",
     "text": [
      "\n",
      "symbol"
     ]
    },
    {
     "name": "stdout",
     "output_type": "stream",
     "text": [
      " XEC\n",
      "current assets 1110537000\n",
      "current liability 815643000\n",
      "total assets from latest statement for  XEC  is  8644094000  and total liability is  4214120000\n",
      "retained earnings 2439794000\n",
      "ebitda"
     ]
    },
    {
     "name": "stdout",
     "output_type": "stream",
     "text": [
      " 239896000\n",
      "gross profit 497495000\n",
      "105.58"
     ]
    },
    {
     "name": "stdout",
     "output_type": "stream",
     "text": [
      "\n",
      "done..\n",
      "symbol:  CINF\n",
      "wait...\n",
      "go.."
     ]
    },
    {
     "name": "stdout",
     "output_type": "stream",
     "text": [
      "\n",
      "symbol"
     ]
    },
    {
     "name": "stdout",
     "output_type": "stream",
     "text": [
      " CINF\n",
      "current assets -\n",
      "current liability -\n",
      "total assets from latest statement for  CINF  is  18474000000  and total liability is  12098000000\n",
      "retained earnings 4409000000\n",
      "ebitda"
     ]
    },
    {
     "name": "stdout",
     "output_type": "stream",
     "text": [
      " 272000000\n",
      "gross profit 275000000\n",
      "51.1632"
     ]
    },
    {
     "name": "stdout",
     "output_type": "stream",
     "text": [
      "\n",
      "done..\n",
      "symbol:  CTAS\n",
      "wait...\n",
      "go.."
     ]
    },
    {
     "name": "stdout",
     "output_type": "stream",
     "text": [
      "\n",
      "symbol"
     ]
    },
    {
     "name": "stdout",
     "output_type": "stream",
     "text": [
      " CTAS\n",
      "current assets 2012949000\n",
      "current liability 636011000\n",
      "total assets from latest statement for  CTAS  is  4556270000  and total liability is  2284296000\n",
      "retained earnings 4109001000\n",
      "ebitda"
     ]
    },
    {
     "name": "stdout",
     "output_type": "stream",
     "text": [
      " 191899000\n",
      "gross profit 477946000\n",
      "72.32"
     ]
    },
    {
     "name": "stdout",
     "output_type": "stream",
     "text": [
      "\n",
      "done..\n",
      "symbol:  CSCO\n",
      "wait...\n",
      "go.."
     ]
    },
    {
     "name": "stdout",
     "output_type": "stream",
     "text": [
      "\n",
      "error on "
     ]
    },
    {
     "name": "stdout",
     "output_type": "stream",
     "text": [
      " CSCO . Error message (<class 'TypeError'>, TypeError(\"'NoneType' object is not subscriptable\",), <traceback object at 0x7fe518070248>)\n",
      "done..\n",
      "symbol:  C\n",
      "wait...\n",
      "go.."
     ]
    },
    {
     "name": "stdout",
     "output_type": "stream",
     "text": [
      "\n",
      "symbol"
     ]
    },
    {
     "name": "stdout",
     "output_type": "stream",
     "text": [
      " C\n",
      "current assets -\n",
      "current liability -\n",
      "total assets from latest statement for  C  is  1882849000000  and total liability is  1670577000000\n",
      "retained earnings 118041000000\n",
      "ebitda"
     ]
    },
    {
     "name": "stdout",
     "output_type": "stream",
     "text": [
      " 8224000000\n",
      "gross profit 17809000000\n",
      "54.04"
     ]
    },
    {
     "name": "stdout",
     "output_type": "stream",
     "text": [
      "\n",
      "done..\n",
      "symbol:  CTXS\n",
      "wait...\n",
      "go.."
     ]
    },
    {
     "name": "stdout",
     "output_type": "stream",
     "text": [
      "\n",
      "symbol"
     ]
    },
    {
     "name": "stdout",
     "output_type": "stream",
     "text": [
      " CTXS\n",
      "current assets 1444710000\n",
      "current liability 1462447000\n",
      "total assets from latest statement for  CTXS  is  5231477000  and total liability is  3135139000\n",
      "retained earnings 3060036000\n",
      "ebitda"
     ]
    },
    {
     "name": "stdout",
     "output_type": "stream",
     "text": [
      " 58773000\n",
      "gross profit 623009000\n",
      "65.98"
     ]
    },
    {
     "name": "stdout",
     "output_type": "stream",
     "text": [
      "\n",
      "done..\n",
      "symbol:  CLX\n",
      "wait...\n",
      "go.."
     ]
    },
    {
     "name": "stdout",
     "output_type": "stream",
     "text": [
      "\n",
      "symbol"
     ]
    },
    {
     "name": "stdout",
     "output_type": "stream",
     "text": [
      " CLX\n",
      "current assets 1395000000\n",
      "current liability 1638000000\n",
      "total assets from latest statement for  CLX  is  4258000000  and total liability is  4104000000\n",
      "retained earnings 1739000000\n",
      "ebitda"
     ]
    },
    {
     "name": "stdout",
     "output_type": "stream",
     "text": [
      " 284000000\n",
      "gross profit 639000000\n",
      "100.96"
     ]
    },
    {
     "name": "stdout",
     "output_type": "stream",
     "text": [
      "\n",
      "done..\n",
      "symbol:  CME\n",
      "wait...\n",
      "go.."
     ]
    },
    {
     "name": "stdout",
     "output_type": "stream",
     "text": [
      "\n",
      "symbol"
     ]
    },
    {
     "name": "stdout",
     "output_type": "stream",
     "text": [
      " CME\n",
      "current assets -\n",
      "current liability -\n",
      "total assets from latest statement for  CME  is  51611300000  and total liability is  30145900000\n",
      "retained earnings 3709800000\n",
      "ebitda"
     ]
    },
    {
     "name": "stdout",
     "output_type": "stream",
     "text": [
      " 450400000\n",
      "gross profit 703300000\n",
      "85.125"
     ]
    },
    {
     "name": "stdout",
     "output_type": "stream",
     "text": [
      "\n",
      "done..\n",
      "symbol:  CMS\n",
      "wait...\n",
      "go.."
     ]
    },
    {
     "name": "stdout",
     "output_type": "stream",
     "text": [
      "\n",
      "symbol"
     ]
    },
    {
     "name": "stdout",
     "output_type": "stream",
     "text": [
      " CMS\n",
      "current assets 2734000000\n",
      "current liability 1648000000\n",
      "total assets from latest statement for  CMS  is  18381000000  and total liability is  14674000000\n",
      "retained earnings -1080000000\n",
      "ebitda"
     ]
    },
    {
     "name": "stdout",
     "output_type": "stream",
     "text": [
      " 243000000\n",
      "gross profit 446000000\n",
      "33.55"
     ]
    },
    {
     "name": "stdout",
     "output_type": "stream",
     "text": [
      "\n",
      "done..\n",
      "symbol:  COH\n",
      "wait...\n",
      "go.."
     ]
    },
    {
     "name": "stdout",
     "output_type": "stream",
     "text": [
      "\n",
      "symbol"
     ]
    },
    {
     "name": "stdout",
     "output_type": "stream",
     "text": [
      " COH\n",
      "current assets 1938800000\n",
      "current liability 817500000\n",
      "total assets from latest statement for  COH  is  3671000000  and total liability is  1230900000\n",
      "retained earnings -193300000\n",
      "ebitda"
     ]
    },
    {
     "name": "stdout",
     "output_type": "stream",
     "text": [
      " 180500000\n",
      "gross profit 715400000\n",
      "35.13"
     ]
    },
    {
     "name": "stdout",
     "output_type": "stream",
     "text": [
      "\n",
      "done..\n",
      "symbol:  KO\n",
      "wait...\n",
      "go.."
     ]
    },
    {
     "name": "stdout",
     "output_type": "stream",
     "text": [
      "\n",
      "symbol"
     ]
    },
    {
     "name": "stdout",
     "output_type": "stream",
     "text": [
      " KO\n",
      "current assets 35452000000\n",
      "current liability 32760000000\n",
      "total assets from latest statement for  KO  is  96314000000  and total liability is  62885000000\n",
      "retained earnings 63972000000\n",
      "ebitda"
     ]
    },
    {
     "name": "stdout",
     "output_type": "stream",
     "text": [
      " 2773000000\n",
      "gross profit 7346000000\n",
      "44.5007"
     ]
    },
    {
     "name": "stdout",
     "output_type": "stream",
     "text": [
      "\n",
      "done..\n",
      "symbol:  CCE\n",
      "wait...\n",
      "go.."
     ]
    },
    {
     "name": "stdout",
     "output_type": "stream",
     "text": [
      "\n",
      "symbol"
     ]
    },
    {
     "name": "stdout",
     "output_type": "stream",
     "text": [
      " CCE\n",
      "current assets 2828000000\n",
      "current liability 2847000000\n",
      "total assets from latest statement for  CCE  is  9286000000  and total liability is  7556000000\n",
      "retained earnings 1940000000\n",
      "ebitda"
     ]
    },
    {
     "name": "stdout",
     "output_type": "stream",
     "text": [
      " 345000000\n",
      "gross profit 808000000\n",
      "44.29"
     ]
    },
    {
     "name": "stdout",
     "output_type": "stream",
     "text": [
      "\n",
      "done..\n",
      "symbol:  CTSH\n",
      "wait...\n",
      "go.."
     ]
    },
    {
     "name": "stdout",
     "output_type": "stream",
     "text": [
      "\n",
      "symbol"
     ]
    },
    {
     "name": "stdout",
     "output_type": "stream",
     "text": [
      " CTSH\n",
      "current assets 7260026000\n",
      "current liability 1741464000\n",
      "total assets from latest statement for  CTSH  is  9227043000  and total liability is  1845333000\n",
      "retained earnings 6938777000\n",
      "ebitda"
     ]
    },
    {
     "name": "stdout",
     "output_type": "stream",
     "text": [
      " 463739000\n",
      "gross profit 1011181000\n",
      "54.43"
     ]
    },
    {
     "name": "stdout",
     "output_type": "stream",
     "text": [
      "\n",
      "done..\n",
      "symbol:  CL\n",
      "wait...\n",
      "go.."
     ]
    },
    {
     "name": "stdout",
     "output_type": "stream",
     "text": [
      "\n",
      "symbol"
     ]
    },
    {
     "name": "stdout",
     "output_type": "stream",
     "text": [
      " CL\n",
      "current assets 5181000000\n",
      "current liability 4412000000\n",
      "total assets from latest statement for  CL  is  13685000000  and total liability is  12265000000\n",
      "retained earnings 18210000000\n",
      "ebitda"
     ]
    },
    {
     "name": "stdout",
     "output_type": "stream",
     "text": [
      " 944000000\n",
      "gross profit 2558000000\n",
      "69.785"
     ]
    },
    {
     "name": "stdout",
     "output_type": "stream",
     "text": [
      "\n",
      "done..\n",
      "symbol:  CMCSA\n",
      "wait...\n",
      "go.."
     ]
    },
    {
     "name": "stdout",
     "output_type": "stream",
     "text": [
      "\n",
      "symbol"
     ]
    },
    {
     "name": "stdout",
     "output_type": "stream",
     "text": [
      " CMCSA\n",
      "current assets 13936000000\n",
      "current liability 17084000000\n",
      "total assets from latest statement for  CMCSA  is  159237000000  and total liability is  104881000000\n",
      "retained earnings 21805000000\n",
      "ebitda"
     ]
    },
    {
     "name": "stdout",
     "output_type": "stream",
     "text": [
      " 3703000000\n",
      "gross profit 12019000000\n",
      "57.10"
     ]
    },
    {
     "name": "stdout",
     "output_type": "stream",
     "text": [
      "\n",
      "done..\n",
      "symbol:  CMA\n",
      "wait...\n",
      "go.."
     ]
    },
    {
     "name": "stdout",
     "output_type": "stream",
     "text": [
      "\n",
      "symbol"
     ]
    },
    {
     "name": "stdout",
     "output_type": "stream",
     "text": [
      " CMA\n",
      "current assets -\n",
      "current liability -\n",
      "total assets from latest statement for  CMA  is  68887000000  and total liability is  61454000000\n",
      "retained earnings 6631000000\n",
      "ebitda"
     ]
    },
    {
     "name": "stdout",
     "output_type": "stream",
     "text": [
      " 237000000\n",
      "gross profit -\n",
      "46.26"
     ]
    },
    {
     "name": "stdout",
     "output_type": "stream",
     "text": [
      "\n",
      "done..\n",
      "symbol:  CSC\n",
      "wait...\n",
      "go.."
     ]
    },
    {
     "name": "stdout",
     "output_type": "stream",
     "text": [
      "\n",
      "symbol"
     ]
    },
    {
     "name": "stdout",
     "output_type": "stream",
     "text": [
      " CSC\n",
      "current assets 5076000000\n",
      "current liability 3020000000\n",
      "total assets from latest statement for  CSC  is  10573000000  and total liability is  6886000000\n",
      "retained earnings 1453000000\n",
      "ebitda"
     ]
    },
    {
     "name": "stdout",
     "output_type": "stream",
     "text": [
      " 281000000\n",
      "gross profit 873000000\n",
      "63.48"
     ]
    },
    {
     "name": "stdout",
     "output_type": "stream",
     "text": [
      "\n",
      "done..\n",
      "symbol:  CAG\n",
      "wait...\n",
      "go.."
     ]
    },
    {
     "name": "stdout",
     "output_type": "stream",
     "text": [
      "\n",
      "symbol"
     ]
    },
    {
     "name": "stdout",
     "output_type": "stream",
     "text": [
      " CAG\n",
      "current assets 3691400000\n",
      "current liability 2900100000\n",
      "total assets from latest statement for  CAG  is  19373100000  and total liability is  13711800000\n",
      "retained earnings 5386600000\n",
      "ebitda"
     ]
    },
    {
     "name": "stdout",
     "output_type": "stream",
     "text": [
      " 211800000\n",
      "gross profit 703800000\n",
      "36.78"
     ]
    },
    {
     "name": "stdout",
     "output_type": "stream",
     "text": [
      "\n",
      "done..\n",
      "symbol:  COP\n",
      "wait...\n",
      "go.."
     ]
    },
    {
     "name": "stdout",
     "output_type": "stream",
     "text": [
      "\n",
      "symbol"
     ]
    },
    {
     "name": "stdout",
     "output_type": "stream",
     "text": [
      " COP\n",
      "current assets 16253000000\n",
      "current liability 14141000000\n",
      "total assets from latest statement for  COP  is  118986000000  and total liability is  63712000000\n",
      "retained earnings 45451000000\n",
      "ebitda"
     ]
    },
    {
     "name": "stdout",
     "output_type": "stream",
     "text": [
      " 2702000000\n",
      "gross profit 5336000000\n",
      "69.13"
     ]
    },
    {
     "name": "stdout",
     "output_type": "stream",
     "text": [
      "\n",
      "done..\n",
      "symbol:  CNX\n",
      "wait...\n",
      "go.."
     ]
    },
    {
     "name": "stdout",
     "output_type": "stream",
     "text": [
      "\n",
      "symbol"
     ]
    },
    {
     "name": "stdout",
     "output_type": "stream",
     "text": [
      " CNX\n",
      "current assets 1325095000\n",
      "current liability 1246646000\n",
      "total assets from latest statement for  CNX  is  11718935000  and total liability is  6464336000\n",
      "retained earnings 2995238000\n",
      "ebitda"
     ]
    },
    {
     "name": "stdout",
     "output_type": "stream",
     "text": [
      " 52364000\n",
      "gross profit 348807000\n",
      "37.58"
     ]
    },
    {
     "name": "stdout",
     "output_type": "stream",
     "text": [
      "\n",
      "done..\n",
      "symbol:  ED\n",
      "wait...\n",
      "go.."
     ]
    },
    {
     "name": "stdout",
     "output_type": "stream",
     "text": [
      "\n",
      "symbol"
     ]
    },
    {
     "name": "stdout",
     "output_type": "stream",
     "text": [
      " ED\n",
      "current assets 3519000000\n",
      "current liability 3873000000\n",
      "total assets from latest statement for  ED  is  40667000000  and total liability is  27960000000\n",
      "retained earnings -\n",
      "ebitda"
     ]
    },
    {
     "name": "stdout",
     "output_type": "stream",
     "text": [
      " 844000000\n",
      "gross profit 1542000000\n",
      "64.19"
     ]
    },
    {
     "name": "stdout",
     "output_type": "stream",
     "text": [
      "\n",
      "done..\n",
      "symbol:  STZ\n",
      "wait...\n",
      "go.."
     ]
    },
    {
     "name": "stdout",
     "output_type": "stream",
     "text": [
      "\n",
      "symbol"
     ]
    },
    {
     "name": "stdout",
     "output_type": "stream",
     "text": [
      " STZ\n",
      "current assets 2838100000\n",
      "current liability 1876300000\n",
      "total assets from latest statement for  STZ  is  14657400000  and total liability is  9170000000\n",
      "retained earnings 4840700000\n",
      "ebitda"
     ]
    },
    {
     "name": "stdout",
     "output_type": "stream",
     "text": [
      " 373700000\n",
      "gross profit 672000000\n",
      "94.66"
     ]
    },
    {
     "name": "stdout",
     "output_type": "stream",
     "text": [
      "\n",
      "done..\n",
      "symbol:  GLW\n",
      "wait...\n",
      "go.."
     ]
    },
    {
     "name": "stdout",
     "output_type": "stream",
     "text": [
      "\n",
      "symbol"
     ]
    },
    {
     "name": "stdout",
     "output_type": "stream",
     "text": [
      " GLW\n",
      "current assets 10013000000\n",
      "current liability 2138000000\n",
      "total assets from latest statement for  GLW  is  29815000000  and total liability is  8036000000\n",
      "retained earnings 12339000000\n",
      "ebitda"
     ]
    },
    {
     "name": "stdout",
     "output_type": "stream",
     "text": [
      " 1440000000\n",
      "gross profit 1089000000\n",
      "21.085"
     ]
    },
    {
     "name": "stdout",
     "output_type": "stream",
     "text": [
      "\n",
      "done..\n",
      "symbol:  COST\n",
      "wait...\n",
      "go.."
     ]
    },
    {
     "name": "stdout",
     "output_type": "stream",
     "text": [
      "\n",
      "symbol"
     ]
    },
    {
     "name": "stdout",
     "output_type": "stream",
     "text": [
      " COST\n",
      "current assets 17588000000\n",
      "current liability 14412000000\n",
      "total assets from latest statement for  COST  is  33024000000  and total liability is  20721000000\n",
      "retained earnings 7458000000\n",
      "ebitda"
     ]
    },
    {
     "name": "stdout",
     "output_type": "stream",
     "text": [
      " \n",
      "gross profit \n",
      "142.58"
     ]
    },
    {
     "name": "stdout",
     "output_type": "stream",
     "text": [
      "\n",
      "done..\n",
      "symbol:  COV\n",
      "wait...\n",
      "go.."
     ]
    },
    {
     "name": "stdout",
     "output_type": "stream",
     "text": [
      "\n",
      "symbol"
     ]
    },
    {
     "name": "stdout",
     "output_type": "stream",
     "text": [
      " COV\n",
      "current assets 5454000000\n",
      "current liability 3288000000\n",
      "total assets from latest statement for  COV  is  20701000000  and total liability is  10581000000\n",
      "retained earnings 2121000000\n",
      "ebitda"
     ]
    },
    {
     "name": "stdout",
     "output_type": "stream",
     "text": [
      " 450000000\n",
      "gross profit 1662000000\n",
      "101.707"
     ]
    },
    {
     "name": "stdout",
     "output_type": "stream",
     "text": [
      "\n",
      "done..\n",
      "symbol:  CCI\n",
      "wait...\n",
      "go.."
     ]
    },
    {
     "name": "stdout",
     "output_type": "stream",
     "text": [
      "\n",
      "symbol"
     ]
    },
    {
     "name": "stdout",
     "output_type": "stream",
     "text": [
      " CCI\n",
      "current assets 978795000\n",
      "current liability 845567000\n",
      "total assets from latest statement for  CCI  is  20784860000  and total liability is  13939886000\n",
      "retained earnings -2677959000\n",
      "ebitda"
     ]
    },
    {
     "name": "stdout",
     "output_type": "stream",
     "text": [
      " 249806000\n",
      "gross profit 585892000\n",
      "80.0432"
     ]
    },
    {
     "name": "stdout",
     "output_type": "stream",
     "text": [
      "\n",
      "done..\n",
      "symbol:  CSX\n",
      "wait...\n",
      "go.."
     ]
    },
    {
     "name": "stdout",
     "output_type": "stream",
     "text": [
      "\n",
      "symbol"
     ]
    },
    {
     "name": "stdout",
     "output_type": "stream",
     "text": [
      " CSX\n",
      "current assets 2676000000\n",
      "current liability 2231000000\n",
      "total assets from latest statement for  CSX  is  32623000000  and total liability is  21504000000\n",
      "retained earnings 10527000000\n",
      "ebitda"
     ]
    },
    {
     "name": "stdout",
     "output_type": "stream",
     "text": [
      " 950000000\n",
      "gross profit 2218000000\n",
      "36.10"
     ]
    },
    {
     "name": "stdout",
     "output_type": "stream",
     "text": [
      "\n",
      "done..\n",
      "symbol:  CMI\n",
      "wait...\n",
      "go.."
     ]
    },
    {
     "name": "stdout",
     "output_type": "stream",
     "text": [
      "\n",
      "symbol"
     ]
    },
    {
     "name": "stdout",
     "output_type": "stream",
     "text": [
      " CMI\n",
      "current assets 9068000000\n",
      "current liability 4038000000\n",
      "total assets from latest statement for  CMI  is  15644000000  and total liability is  7896000000\n",
      "retained earnings 9243000000\n",
      "ebitda"
     ]
    },
    {
     "name": "stdout",
     "output_type": "stream",
     "text": [
      " 684000000\n",
      "gross profit 1245000000\n",
      "145.67"
     ]
    },
    {
     "name": "stdout",
     "output_type": "stream",
     "text": [
      "\n",
      "done..\n",
      "symbol:  CVS\n",
      "wait...\n",
      "go.."
     ]
    },
    {
     "name": "stdout",
     "output_type": "stream",
     "text": [
      "\n",
      "symbol"
     ]
    },
    {
     "name": "stdout",
     "output_type": "stream",
     "text": [
      " CVS\n",
      "current assets 25337000000\n",
      "current liability 18213000000\n",
      "total assets from latest statement for  CVS  is  73576000000  and total liability is  35472000000\n",
      "retained earnings 30845000000\n",
      "ebitda"
     ]
    },
    {
     "name": "stdout",
     "output_type": "stream",
     "text": [
      " 1725000000\n",
      "gross profit 6468000000\n",
      "90.16"
     ]
    },
    {
     "name": "stdout",
     "output_type": "stream",
     "text": [
      "\n",
      "done..\n",
      "symbol:  DHR\n",
      "wait...\n",
      "go.."
     ]
    },
    {
     "name": "stdout",
     "output_type": "stream",
     "text": [
      "\n",
      "symbol"
     ]
    },
    {
     "name": "stdout",
     "output_type": "stream",
     "text": [
      " DHR\n",
      "current assets 9989500000\n",
      "current liability 4471100000\n",
      "total assets from latest statement for  DHR  is  35535900000  and total liability is  11795200000\n",
      "retained earnings 19731700000\n",
      "ebitda"
     ]
    },
    {
     "name": "stdout",
     "output_type": "stream",
     "text": [
      " 907600000\n",
      "gross profit 2565700000\n",
      "83.67"
     ]
    },
    {
     "name": "stdout",
     "output_type": "stream",
     "text": [
      "\n",
      "done..\n",
      "symbol:  DRI\n",
      "wait...\n",
      "go.."
     ]
    },
    {
     "name": "stdout",
     "output_type": "stream",
     "text": [
      "\n",
      "symbol"
     ]
    },
    {
     "name": "stdout",
     "output_type": "stream",
     "text": [
      " DRI\n",
      "current assets 1003900000\n",
      "current liability 1601800000\n",
      "total assets from latest statement for  DRI  is  6124100000  and total liability is  3996200000\n",
      "retained earnings 1426100000\n",
      "ebitda"
     ]
    },
    {
     "name": "stdout",
     "output_type": "stream",
     "text": [
      " 67600000\n",
      "gross profit 313200000\n",
      "57.76"
     ]
    },
    {
     "name": "stdout",
     "output_type": "stream",
     "text": [
      "\n",
      "done..\n",
      "symbol:  DVA\n",
      "wait...\n",
      "go.."
     ]
    },
    {
     "name": "stdout",
     "output_type": "stream",
     "text": [
      "\n",
      "symbol"
     ]
    },
    {
     "name": "stdout",
     "output_type": "stream",
     "text": [
      " DVA\n",
      "current assets 4178435000\n",
      "current liability 2597631000\n",
      "total assets from latest statement for  DVA  is  18101416000  and total liability is  12367631000\n",
      "retained earnings 3879083000\n",
      "ebitda"
     ]
    },
    {
     "name": "stdout",
     "output_type": "stream",
     "text": [
      " 336412000\n",
      "gross profit 925290000\n",
      "75.70"
     ]
    },
    {
     "name": "stdout",
     "output_type": "stream",
     "text": [
      "\n",
      "done..\n",
      "symbol:  DE\n",
      "wait...\n",
      "go.."
     ]
    },
    {
     "name": "stdout",
     "output_type": "stream",
     "text": [
      "\n",
      "symbol"
     ]
    },
    {
     "name": "stdout",
     "output_type": "stream",
     "text": [
      " DE\n",
      "current assets 47085400000\n",
      "current liability 21407000000\n",
      "total assets from latest statement for  DE  is  61748500000  and total liability is  50918500000\n",
      "retained earnings 21564600000\n",
      "ebitda"
     ]
    },
    {
     "name": "stdout",
     "output_type": "stream",
     "text": [
      " 1446200000\n",
      "gross profit 2888700000\n",
      "88.315"
     ]
    },
    {
     "name": "stdout",
     "output_type": "stream",
     "text": [
      "\n",
      "done..\n",
      "symbol:  DLPH\n",
      "wait...\n",
      "go.."
     ]
    },
    {
     "name": "stdout",
     "output_type": "stream",
     "text": [
      "\n",
      "symbol"
     ]
    },
    {
     "name": "stdout",
     "output_type": "stream",
     "text": [
      " DLPH\n",
      "current assets 5682000000\n",
      "current liability 3844000000\n",
      "total assets from latest statement for  DLPH  is  10923000000  and total liability is  8029000000\n",
      "retained earnings 1602000000\n",
      "ebitda"
     ]
    },
    {
     "name": "stdout",
     "output_type": "stream",
     "text": [
      " 419000000\n",
      "gross profit 756000000\n",
      "72.59"
     ]
    },
    {
     "name": "stdout",
     "output_type": "stream",
     "text": [
      "\n",
      "done..\n",
      "symbol:  DAL\n",
      "wait...\n",
      "go.."
     ]
    },
    {
     "name": "stdout",
     "output_type": "stream",
     "text": [
      "\n",
      "symbol"
     ]
    },
    {
     "name": "stdout",
     "output_type": "stream",
     "text": [
      " DAL\n",
      "current assets 10995000000\n",
      "current liability 14813000000\n",
      "total assets from latest statement for  DAL  is  51940000000  and total liability is  39644000000\n",
      "retained earnings 4244000000\n",
      "ebitda"
     ]
    },
    {
     "name": "stdout",
     "output_type": "stream",
     "text": [
      " 719000000\n",
      "gross profit 5289000000\n",
      "44.49"
     ]
    },
    {
     "name": "stdout",
     "output_type": "stream",
     "text": [
      "\n",
      "done..\n",
      "symbol:  DNR\n",
      "wait...\n",
      "go.."
     ]
    },
    {
     "name": "stdout",
     "output_type": "stream",
     "text": [
      "\n",
      "symbol"
     ]
    },
    {
     "name": "stdout",
     "output_type": "stream",
     "text": [
      " DNR\n",
      "current assets 416486000\n",
      "current liability 558851000\n",
      "total assets from latest statement for  DNR  is  12140053000  and total liability is  6790284000\n",
      "retained earnings 3050743000\n",
      "ebitda"
     ]
    },
    {
     "name": "stdout",
     "output_type": "stream",
     "text": [
      " 481070000\n",
      "gross profit 478185000\n",
      "7.941"
     ]
    },
    {
     "name": "stdout",
     "output_type": "stream",
     "text": [
      "\n",
      "done..\n",
      "symbol:  XRAY\n",
      "wait...\n",
      "go.."
     ]
    },
    {
     "name": "stdout",
     "output_type": "stream",
     "text": [
      "\n",
      "symbol"
     ]
    },
    {
     "name": "stdout",
     "output_type": "stream",
     "text": [
      " XRAY\n",
      "current assets 1257701000\n",
      "current liability 734569000\n",
      "total assets from latest statement for  XRAY  is  4884061000  and total liability is  2388953000\n",
      "retained earnings 3305448000\n",
      "ebitda"
     ]
    },
    {
     "name": "stdout",
     "output_type": "stream",
     "text": [
      " 110181000\n",
      "gross profit 388064000\n",
      "55.23"
     ]
    },
    {
     "name": "stdout",
     "output_type": "stream",
     "text": [
      "\n",
      "done..\n",
      "symbol:  DVN\n",
      "wait...\n",
      "go.."
     ]
    },
    {
     "name": "stdout",
     "output_type": "stream",
     "text": [
      "\n",
      "symbol"
     ]
    },
    {
     "name": "stdout",
     "output_type": "stream",
     "text": [
      " DVN\n",
      "current assets 5973000000\n",
      "current liability 5994000000\n",
      "total assets from latest statement for  DVN  is  50839000000  and total liability is  28663000000\n",
      "retained earnings 17138000000\n",
      "ebitda"
     ]
    },
    {
     "name": "stdout",
     "output_type": "stream",
     "text": [
      " 1770000000\n",
      "gross profit 4752000000\n",
      "60.524"
     ]
    },
    {
     "name": "stdout",
     "output_type": "stream",
     "text": [
      "\n",
      "done..\n",
      "symbol:  DO\n",
      "wait...\n",
      "go.."
     ]
    },
    {
     "name": "stdout",
     "output_type": "stream",
     "text": [
      "\n",
      "symbol"
     ]
    },
    {
     "name": "stdout",
     "output_type": "stream",
     "text": [
      " DO\n",
      "current assets 1771705000\n",
      "current liability 871747000\n",
      "total assets from latest statement for  DO  is  8036512000  and total liability is  3563598000\n",
      "retained earnings 2684355000\n",
      "ebitda"
     ]
    },
    {
     "name": "stdout",
     "output_type": "stream",
     "text": [
      " 91017000\n",
      "gross profit 728245000\n",
      "30.69"
     ]
    },
    {
     "name": "stdout",
     "output_type": "stream",
     "text": [
      "\n",
      "done..\n",
      "symbol:  DTV\n",
      "wait...\n",
      "go.."
     ]
    },
    {
     "name": "stdout",
     "output_type": "stream",
     "text": [
      "\n",
      "symbol"
     ]
    },
    {
     "name": "stdout",
     "output_type": "stream",
     "text": [
      " DTV\n",
      "current assets 6515000000\n",
      "current liability 6472000000\n",
      "total assets from latest statement for  DTV  is  22594000000  and total liability is  28539000000\n",
      "retained earnings -9180000000\n",
      "ebitda"
     ]
    },
    {
     "name": "stdout",
     "output_type": "stream",
     "text": [
      " 1241000000\n",
      "gross profit 3926000000\n",
      "87.27"
     ]
    },
    {
     "name": "stdout",
     "output_type": "stream",
     "text": [
      "\n",
      "done..\n",
      "symbol:  DFS\n",
      "wait...\n",
      "go.."
     ]
    },
    {
     "name": "stdout",
     "output_type": "stream",
     "text": [
      "\n",
      "symbol"
     ]
    },
    {
     "name": "stdout",
     "output_type": "stream",
     "text": [
      " DFS\n",
      "current assets -\n",
      "current liability -\n",
      "total assets from latest statement for  DFS  is  80596000000  and total liability is  69295000000\n",
      "retained earnings 11182000000\n",
      "ebitda"
     ]
    },
    {
     "name": "stdout",
     "output_type": "stream",
     "text": [
      " 1144000000\n",
      "gross profit -\n",
      "65.32"
     ]
    },
    {
     "name": "stdout",
     "output_type": "stream",
     "text": [
      "\n",
      "done..\n",
      "symbol:  DISCA\n",
      "wait...\n",
      "go.."
     ]
    },
    {
     "name": "stdout",
     "output_type": "stream",
     "text": [
      "\n",
      "symbol"
     ]
    },
    {
     "name": "stdout",
     "output_type": "stream",
     "text": [
      " DISCA\n",
      "current assets 2584000000\n",
      "current liability 2548000000\n",
      "total assets from latest statement for  DISCA  is  16373000000  and total liability is  9705000000\n",
      "retained earnings 3654000000\n",
      "ebitda"
     ]
    },
    {
     "name": "stdout",
     "output_type": "stream",
     "text": [
      " 525000000\n",
      "gross profit 1039000000\n",
      "34.80"
     ]
    },
    {
     "name": "stdout",
     "output_type": "stream",
     "text": [
      "\n",
      "done..\n",
      "symbol:  DG\n",
      "wait...\n",
      "go.."
     ]
    },
    {
     "name": "stdout",
     "output_type": "stream",
     "text": [
      "\n",
      "symbol"
     ]
    },
    {
     "name": "stdout",
     "output_type": "stream",
     "text": [
      " DG\n",
      "current assets 3140631000\n",
      "current liability 1969418000\n",
      "total assets from latest statement for  DG  is  10825794000  and total liability is  5729801000\n",
      "retained earnings 1811358000\n",
      "ebitda"
     ]
    },
    {
     "name": "stdout",
     "output_type": "stream",
     "text": [
      " 428526000\n",
      "gross profit 1455574000\n",
      "67.35"
     ]
    },
    {
     "name": "stdout",
     "output_type": "stream",
     "text": [
      "\n",
      "done..\n",
      "symbol:  DLTR\n",
      "wait...\n",
      "go.."
     ]
    },
    {
     "name": "stdout",
     "output_type": "stream",
     "text": [
      "\n",
      "symbol"
     ]
    },
    {
     "name": "stdout",
     "output_type": "stream",
     "text": [
      " DLTR\n",
      "current assets 1796100000\n",
      "current liability 866500000\n",
      "total assets from latest statement for  DLTR  is  3367700000  and total liability is  1782600000\n",
      "retained earnings -\n",
      "ebitda"
     ]
    },
    {
     "name": "stdout",
     "output_type": "stream",
     "text": [
      " 218500000\n",
      "gross profit 725200000\n",
      "68.54"
     ]
    },
    {
     "name": "stdout",
     "output_type": "stream",
     "text": [
      "\n",
      "done..\n",
      "symbol:  D\n",
      "wait...\n",
      "go.."
     ]
    },
    {
     "name": "stdout",
     "output_type": "stream",
     "text": [
      "\n",
      "symbol"
     ]
    },
    {
     "name": "stdout",
     "output_type": "stream",
     "text": [
      " D\n",
      "current assets 5561000000\n",
      "current liability 7243000000\n",
      "total assets from latest statement for  D  is  51499000000  and total liability is  39798000000\n",
      "retained earnings 6023000000\n",
      "ebitda"
     ]
    },
    {
     "name": "stdout",
     "output_type": "stream",
     "text": [
      " 451000000\n",
      "gross profit 836000000\n",
      "73.06"
     ]
    },
    {
     "name": "stdout",
     "output_type": "stream",
     "text": [
      "\n",
      "done..\n",
      "symbol:  DOV\n",
      "wait...\n",
      "go.."
     ]
    },
    {
     "name": "stdout",
     "output_type": "stream",
     "text": [
      "\n",
      "symbol"
     ]
    },
    {
     "name": "stdout",
     "output_type": "stream",
     "text": [
      " DOV\n",
      "current assets 3116331000\n",
      "current liability 1393964000\n",
      "total assets from latest statement for  DOV  is  8959186000  and total liability is  5037247000\n",
      "retained earnings -\n",
      "ebitda"
     ]
    },
    {
     "name": "stdout",
     "output_type": "stream",
     "text": [
      " 359936000\n",
      "gross profit 801842000\n",
      "76.30"
     ]
    },
    {
     "name": "stdout",
     "output_type": "stream",
     "text": [
      "\n",
      "done..\n",
      "symbol:  DOW\n",
      "wait...\n",
      "go.."
     ]
    },
    {
     "name": "stdout",
     "output_type": "stream",
     "text": [
      "\n",
      "symbol"
     ]
    },
    {
     "name": "stdout",
     "output_type": "stream",
     "text": [
      " DOW\n",
      "current assets 25730000000\n",
      "current liability 12087000000\n",
      "total assets from latest statement for  DOW  is  69573000000  and total liability is  43651000000\n",
      "retained earnings 22792000000\n",
      "ebitda"
     ]
    },
    {
     "name": "stdout",
     "output_type": "stream",
     "text": [
      " 1575000000\n",
      "gross profit 2629000000\n",
      "48.76"
     ]
    },
    {
     "name": "stdout",
     "output_type": "stream",
     "text": [
      "\n",
      "done..\n",
      "symbol:  DPS\n",
      "wait...\n",
      "go.."
     ]
    },
    {
     "name": "stdout",
     "output_type": "stream",
     "text": [
      "\n",
      "symbol"
     ]
    },
    {
     "name": "stdout",
     "output_type": "stream",
     "text": [
      " DPS\n",
      "current assets 1241000000\n",
      "current liability 1024000000\n",
      "total assets from latest statement for  DPS  is  8261000000  and total liability is  5898000000\n",
      "retained earnings 1702000000\n",
      "ebitda"
     ]
    },
    {
     "name": "stdout",
     "output_type": "stream",
     "text": [
      " 312000000\n",
      "gross profit 925000000\n",
      "73.67"
     ]
    },
    {
     "name": "stdout",
     "output_type": "stream",
     "text": [
      "\n",
      "done..\n",
      "symbol:  DTE\n",
      "wait...\n",
      "go.."
     ]
    },
    {
     "name": "stdout",
     "output_type": "stream",
     "text": [
      "\n",
      "symbol"
     ]
    },
    {
     "name": "stdout",
     "output_type": "stream",
     "text": [
      " DTE\n",
      "current assets 2755000000\n",
      "current liability 2805000000\n",
      "total assets from latest statement for  DTE  is  26376000000  and total liability is  18207000000\n",
      "retained earnings 4402000000\n",
      "ebitda"
     ]
    },
    {
     "name": "stdout",
     "output_type": "stream",
     "text": [
      " 285000000\n",
      "gross profit 616000000\n",
      "82.11"
     ]
    },
    {
     "name": "stdout",
     "output_type": "stream",
     "text": [
      "\n",
      "done..\n",
      "symbol:  DUK\n",
      "wait...\n",
      "go.."
     ]
    },
    {
     "name": "stdout",
     "output_type": "stream",
     "text": [
      "\n",
      "symbol"
     ]
    },
    {
     "name": "stdout",
     "output_type": "stream",
     "text": [
      " DUK\n",
      "current assets 11575000000\n",
      "current liability 8251000000\n",
      "total assets from latest statement for  DUK  is  119656000000  and total liability is  78244000000\n",
      "retained earnings 2479000000\n",
      "ebitda"
     ]
    },
    {
     "name": "stdout",
     "output_type": "stream",
     "text": [
      " 3233000000\n",
      "gross profit 2799000000\n",
      "82.14"
     ]
    },
    {
     "name": "stdout",
     "output_type": "stream",
     "text": [
      "\n",
      "done..\n",
      "symbol:  DNB\n",
      "wait...\n",
      "go.."
     ]
    },
    {
     "name": "stdout",
     "output_type": "stream",
     "text": [
      "\n",
      "symbol"
     ]
    },
    {
     "name": "stdout",
     "output_type": "stream",
     "text": [
      " DNB\n",
      "current assets 785400000\n",
      "current liability 785700000\n",
      "total assets from latest statement for  DNB  is  1789200000  and total liability is  2881200000\n",
      "retained earnings 2755300000\n",
      "ebitda"
     ]
    },
    {
     "name": "stdout",
     "output_type": "stream",
     "text": [
      " 89700000\n",
      "gross profit 417100000\n",
      "125.38"
     ]
    },
    {
     "name": "stdout",
     "output_type": "stream",
     "text": [
      "\n",
      "done..\n",
      "symbol:  ETFC\n",
      "wait...\n",
      "go.."
     ]
    },
    {
     "name": "stdout",
     "output_type": "stream",
     "text": [
      "\n",
      "symbol"
     ]
    },
    {
     "name": "stdout",
     "output_type": "stream",
     "text": [
      " ETFC\n",
      "current assets -\n",
      "current liability -\n",
      "total assets from latest statement for  ETFC  is  45819000000  and total liability is  40545000000\n",
      "retained earnings -1770000000\n",
      "ebitda"
     ]
    },
    {
     "name": "stdout",
     "output_type": "stream",
     "text": [
      " 204000000\n",
      "gross profit 401000000\n",
      "22.44"
     ]
    },
    {
     "name": "stdout",
     "output_type": "stream",
     "text": [
      "\n",
      "done..\n",
      "symbol:  DD\n",
      "wait...\n",
      "go.."
     ]
    },
    {
     "name": "stdout",
     "output_type": "stream",
     "text": [
      "\n",
      "symbol"
     ]
    },
    {
     "name": "stdout",
     "output_type": "stream",
     "text": [
      " DD\n",
      "current assets 21168000000\n",
      "current liability 12137000000\n",
      "total assets from latest statement for  DD  is  47911000000  and total liability is  31988000000\n",
      "retained earnings 16913000000\n",
      "ebitda"
     ]
    },
    {
     "name": "stdout",
     "output_type": "stream",
     "text": [
      " 879000000\n",
      "gross profit 2631000000\n",
      "71.48"
     ]
    },
    {
     "name": "stdout",
     "output_type": "stream",
     "text": [
      "\n",
      "done..\n",
      "symbol:  EMN\n",
      "wait...\n",
      "go.."
     ]
    },
    {
     "name": "stdout",
     "output_type": "stream",
     "text": [
      "\n",
      "symbol"
     ]
    },
    {
     "name": "stdout",
     "output_type": "stream",
     "text": [
      " EMN\n",
      "current assets 2890000000\n",
      "current liability 1398000000\n",
      "total assets from latest statement for  EMN  is  12135000000  and total liability is  8234000000\n",
      "retained earnings 4588000000\n",
      "ebitda"
     ]
    },
    {
     "name": "stdout",
     "output_type": "stream",
     "text": [
      " 343000000\n",
      "gross profit 636000000\n",
      "83.17"
     ]
    },
    {
     "name": "stdout",
     "output_type": "stream",
     "text": [
      "\n",
      "done..\n",
      "symbol:  ETN\n",
      "wait...\n",
      "go.."
     ]
    },
    {
     "name": "stdout",
     "output_type": "stream",
     "text": [
      "\n",
      "symbol"
     ]
    },
    {
     "name": "stdout",
     "output_type": "stream",
     "text": [
      " ETN\n",
      "current assets 8838000000\n",
      "current liability 5543000000\n",
      "total assets from latest statement for  ETN  is  35258000000  and total liability is  18216000000\n",
      "retained earnings -\n",
      "ebitda"
     ]
    },
    {
     "name": "stdout",
     "output_type": "stream",
     "text": [
      " 112000000\n",
      "gross profit 1742000000\n",
      "68.1811"
     ]
    },
    {
     "name": "stdout",
     "output_type": "stream",
     "text": [
      "\n",
      "done..\n",
      "symbol:  EBAY\n",
      "wait...\n",
      "go.."
     ]
    },
    {
     "name": "stdout",
     "output_type": "stream",
     "text": [
      "\n",
      "symbol"
     ]
    },
    {
     "name": "stdout",
     "output_type": "stream",
     "text": [
      " EBAY\n",
      "current assets 25654000000\n",
      "current liability 16491000000\n",
      "total assets from latest statement for  EBAY  is  44476000000  and total liability is  24666000000\n",
      "retained earnings 17877000000\n",
      "ebitda"
     ]
    },
    {
     "name": "stdout",
     "output_type": "stream",
     "text": [
      " 801000000\n",
      "gross profit 2964000000\n",
      "55.14"
     ]
    },
    {
     "name": "stdout",
     "output_type": "stream",
     "text": [
      "\n",
      "done..\n",
      "symbol:  ECL\n",
      "wait...\n",
      "go.."
     ]
    },
    {
     "name": "stdout",
     "output_type": "stream",
     "text": [
      "\n",
      "symbol"
     ]
    },
    {
     "name": "stdout",
     "output_type": "stream",
     "text": [
      " ECL\n",
      "current assets 4871800000\n",
      "current liability 4455000000\n",
      "total assets from latest statement for  ECL  is  19685800000  and total liability is  11987900000\n",
      "retained earnings 5318700000\n",
      "ebitda"
     ]
    },
    {
     "name": "stdout",
     "output_type": "stream",
     "text": [
      " 571400000\n",
      "gross profit 1724300000\n",
      "106.10"
     ]
    },
    {
     "name": "stdout",
     "output_type": "stream",
     "text": [
      "\n",
      "done..\n",
      "symbol:  EIX\n",
      "wait...\n",
      "go.."
     ]
    },
    {
     "name": "stdout",
     "output_type": "stream",
     "text": [
      "\n",
      "symbol"
     ]
    },
    {
     "name": "stdout",
     "output_type": "stream",
     "text": [
      " EIX\n",
      "current assets 4498000000\n",
      "current liability 5849000000\n",
      "total assets from latest statement for  EIX  is  49475000000  and total liability is  38739000000\n",
      "retained earnings 8314000000\n",
      "ebitda"
     ]
    },
    {
     "name": "stdout",
     "output_type": "stream",
     "text": [
      " 884000000\n",
      "gross profit 1294000000\n",
      "64.20"
     ]
    },
    {
     "name": "stdout",
     "output_type": "stream",
     "text": [
      "\n",
      "done..\n",
      "symbol:  EW\n",
      "wait...\n",
      "go.."
     ]
    },
    {
     "name": "stdout",
     "output_type": "stream",
     "text": [
      "\n",
      "symbol"
     ]
    },
    {
     "name": "stdout",
     "output_type": "stream",
     "text": [
      " EW\n",
      "current assets 2278100000\n",
      "current liability 540500000\n",
      "total assets from latest statement for  EW  is  3326600000  and total liability is  1411700000\n",
      "retained earnings 2638100000\n",
      "ebitda"
     ]
    },
    {
     "name": "stdout",
     "output_type": "stream",
     "text": [
      " 819800000\n",
      "gross profit 423900000\n",
      "132.19"
     ]
    },
    {
     "name": "stdout",
     "output_type": "stream",
     "text": [
      "\n",
      "done..\n",
      "symbol:  EA\n",
      "wait...\n",
      "go.."
     ]
    },
    {
     "name": "stdout",
     "output_type": "stream",
     "text": [
      "\n",
      "symbol"
     ]
    },
    {
     "name": "stdout",
     "output_type": "stream",
     "text": [
      " EA\n",
      "current assets 3532000000\n",
      "current liability 2387000000\n",
      "total assets from latest statement for  EA  is  6031000000  and total liability is  3361000000\n",
      "retained earnings 367000000\n",
      "ebitda"
     ]
    },
    {
     "name": "stdout",
     "output_type": "stream",
     "text": [
      " 18000000\n",
      "gross profit 563000000\n",
      "43.59"
     ]
    },
    {
     "name": "stdout",
     "output_type": "stream",
     "text": [
      "\n",
      "done..\n",
      "symbol:  EMC\n",
      "wait...\n",
      "go.."
     ]
    },
    {
     "name": "stdout",
     "output_type": "stream",
     "text": [
      "\n",
      "symbol"
     ]
    },
    {
     "name": "stdout",
     "output_type": "stream",
     "text": [
      " EMC\n",
      "current assets 14419000000\n",
      "current liability 10135000000\n",
      "total assets from latest statement for  EMC  is  45028000000  and total liability is  22359000000\n",
      "retained earnings 21997000000\n",
      "ebitda"
     ]
    },
    {
     "name": "stdout",
     "output_type": "stream",
     "text": [
      " 873000000\n",
      "gross profit 3743000000\n",
      "30.27"
     ]
    },
    {
     "name": "stdout",
     "output_type": "stream",
     "text": [
      "\n",
      "done..\n",
      "symbol:  EMR\n",
      "wait...\n",
      "go.."
     ]
    },
    {
     "name": "stdout",
     "output_type": "stream",
     "text": [
      "\n",
      "symbol"
     ]
    },
    {
     "name": "stdout",
     "output_type": "stream",
     "text": [
      " EMR\n",
      "current assets 10867000000\n",
      "current liability 8454000000\n",
      "total assets from latest statement for  EMR  is  24177000000  and total liability is  14058000000\n",
      "retained earnings 19867000000\n",
      "ebitda"
     ]
    },
    {
     "name": "stdout",
     "output_type": "stream",
     "text": [
      " 863000000\n",
      "gross profit 2889000000\n",
      "63.615"
     ]
    },
    {
     "name": "stdout",
     "output_type": "stream",
     "text": [
      "\n",
      "done..\n",
      "symbol:  ESV\n",
      "wait...\n",
      "go.."
     ]
    },
    {
     "name": "stdout",
     "output_type": "stream",
     "text": [
      "\n",
      "symbol"
     ]
    },
    {
     "name": "stdout",
     "output_type": "stream",
     "text": [
      " ESV\n",
      "current assets 3030400000\n",
      "current liability 1131500000\n",
      "total assets from latest statement for  ESV  is  19772500000  and total liability is  7936100000\n",
      "retained earnings 6348400000\n",
      "ebitda"
     ]
    },
    {
     "name": "stdout",
     "output_type": "stream",
     "text": [
      " 559200000\n",
      "gross profit 729800000\n",
      "33.19"
     ]
    },
    {
     "name": "stdout",
     "output_type": "stream",
     "text": [
      "\n",
      "done..\n",
      "symbol:  ETR\n",
      "wait...\n",
      "go.."
     ]
    },
    {
     "name": "stdout",
     "output_type": "stream",
     "text": [
      "\n",
      "symbol"
     ]
    },
    {
     "name": "stdout",
     "output_type": "stream",
     "text": [
      " ETR\n",
      "current assets 4264539000\n",
      "current liability 4453567000\n",
      "total assets from latest statement for  ETR  is  44541649000  and total liability is  34087854000\n",
      "retained earnings 10199338000\n",
      "ebitda"
     ]
    },
    {
     "name": "stdout",
     "output_type": "stream",
     "text": [
      " 561163000\n",
      "gross profit 1224452000\n",
      "83.84"
     ]
    },
    {
     "name": "stdout",
     "output_type": "stream",
     "text": [
      "\n",
      "done..\n",
      "symbol:  EOG\n",
      "wait...\n",
      "go.."
     ]
    },
    {
     "name": "stdout",
     "output_type": "stream",
     "text": [
      "\n",
      "symbol"
     ]
    },
    {
     "name": "stdout",
     "output_type": "stream",
     "text": [
      " EOG\n",
      "current assets 4884716000\n",
      "current liability 3378746000\n",
      "total assets from latest statement for  EOG  is  34500883000  and total liability is  16780985000\n",
      "retained earnings 14410707000\n",
      "ebitda"
     ]
    },
    {
     "name": "stdout",
     "output_type": "stream",
     "text": [
      " 1764824000\n",
      "gross profit 4462588000\n",
      "91.03"
     ]
    },
    {
     "name": "stdout",
     "output_type": "stream",
     "text": [
      "\n",
      "done..\n",
      "symbol:  EQT\n",
      "wait...\n",
      "go.."
     ]
    },
    {
     "name": "stdout",
     "output_type": "stream",
     "text": [
      "\n",
      "symbol"
     ]
    },
    {
     "name": "stdout",
     "output_type": "stream",
     "text": [
      " EQT\n",
      "current assets 1859218000\n",
      "current liability 616795000\n",
      "total assets from latest statement for  EQT  is  11763652000  and total liability is  7355563000\n",
      "retained earnings 2936387000\n",
      "ebitda"
     ]
    },
    {
     "name": "stdout",
     "output_type": "stream",
     "text": [
      " 232507000\n",
      "gross profit 467818000\n",
      "90.49"
     ]
    },
    {
     "name": "stdout",
     "output_type": "stream",
     "text": [
      "\n",
      "done..\n",
      "symbol:  EFX\n",
      "wait...\n",
      "go.."
     ]
    },
    {
     "name": "stdout",
     "output_type": "stream",
     "text": [
      "\n",
      "symbol"
     ]
    },
    {
     "name": "stdout",
     "output_type": "stream",
     "text": [
      " EFX\n",
      "current assets 550400000\n",
      "current liability 766100000\n",
      "total assets from latest statement for  EFX  is  4707100000  and total liability is  2373100000\n",
      "retained earnings 3486900000\n",
      "ebitda"
     ]
    },
    {
     "name": "stdout",
     "output_type": "stream",
     "text": [
      " 156900000\n",
      "gross profit 402400000\n",
      "79.805"
     ]
    },
    {
     "name": "stdout",
     "output_type": "stream",
     "text": [
      "\n",
      "done..\n",
      "symbol:  EQR\n",
      "wait...\n",
      "go.."
     ]
    },
    {
     "name": "stdout",
     "output_type": "stream",
     "text": [
      "\n",
      "symbol"
     ]
    },
    {
     "name": "stdout",
     "output_type": "stream",
     "text": [
      " EQR\n",
      "current assets -\n",
      "current liability -\n",
      "total assets from latest statement for  EQR  is  23008094000  and total liability is  12199609000\n",
      "retained earnings 1915344000\n",
      "ebitda"
     ]
    },
    {
     "name": "stdout",
     "output_type": "stream",
     "text": [
      " 239926000\n",
      "gross profit 443706000\n",
      "70.96"
     ]
    },
    {
     "name": "stdout",
     "output_type": "stream",
     "text": [
      "\n",
      "done..\n",
      "symbol:  ESS\n",
      "wait...\n",
      "go.."
     ]
    },
    {
     "name": "stdout",
     "output_type": "stream",
     "text": [
      "\n",
      "symbol"
     ]
    },
    {
     "name": "stdout",
     "output_type": "stream",
     "text": [
      " ESS\n",
      "current assets -\n",
      "current liability -\n",
      "total assets from latest statement for  ESS  is  11666562000  and total liability is  5661828000\n",
      "retained earnings -608498000\n",
      "ebitda"
     ]
    },
    {
     "name": "stdout",
     "output_type": "stream",
     "text": [
      " 95397000\n",
      "gross profit 182809000\n",
      "202.75"
     ]
    },
    {
     "name": "stdout",
     "output_type": "stream",
     "text": [
      "\n",
      "done..\n",
      "symbol:  EL\n",
      "wait...\n",
      "go.."
     ]
    },
    {
     "name": "stdout",
     "output_type": "stream",
     "text": [
      "\n",
      "symbol"
     ]
    },
    {
     "name": "stdout",
     "output_type": "stream",
     "text": [
      " EL\n",
      "current assets 4727900000\n",
      "current liability 1941700000\n",
      "total assets from latest statement for  EL  is  7664300000  and total liability is  3870100000\n",
      "retained earnings 6417400000\n",
      "ebitda"
     ]
    },
    {
     "name": "stdout",
     "output_type": "stream",
     "text": [
      " 348000000\n",
      "gross profit 2094400000\n",
      "74.06"
     ]
    },
    {
     "name": "stdout",
     "output_type": "stream",
     "text": [
      "\n",
      "done..\n",
      "symbol:  EXC\n",
      "wait...\n",
      "go.."
     ]
    },
    {
     "name": "stdout",
     "output_type": "stream",
     "text": [
      "\n",
      "symbol"
     ]
    },
    {
     "name": "stdout",
     "output_type": "stream",
     "text": [
      " EXC\n",
      "current assets 9823000000\n",
      "current liability 8567000000\n",
      "total assets from latest statement for  EXC  is  83656000000  and total liability is  60610000000\n",
      "retained earnings 10435000000\n",
      "ebitda"
     ]
    },
    {
     "name": "stdout",
     "output_type": "stream",
     "text": [
      " 1074000000\n",
      "gross profit 1446000000\n",
      "36.71"
     ]
    },
    {
     "name": "stdout",
     "output_type": "stream",
     "text": [
      "\n",
      "done..\n",
      "symbol:  EXPE\n",
      "wait...\n",
      "go.."
     ]
    },
    {
     "name": "stdout",
     "output_type": "stream",
     "text": [
      "\n",
      "symbol"
     ]
    },
    {
     "name": "stdout",
     "output_type": "stream",
     "text": [
      " EXPE\n",
      "current assets 3836818000\n",
      "current liability 4541707000\n",
      "total assets from latest statement for  EXPE  is  9424988000  and total liability is  7019757000\n",
      "retained earnings 31802000\n",
      "ebitda"
     ]
    },
    {
     "name": "stdout",
     "output_type": "stream",
     "text": [
      " 315083000\n",
      "gross profit 1412796000\n",
      "87.33"
     ]
    },
    {
     "name": "stdout",
     "output_type": "stream",
     "text": [
      "\n",
      "done..\n",
      "symbol:  EXPD\n",
      "wait...\n",
      "go.."
     ]
    },
    {
     "name": "stdout",
     "output_type": "stream",
     "text": [
      "\n",
      "symbol"
     ]
    },
    {
     "name": "stdout",
     "output_type": "stream",
     "text": [
      " EXPD\n",
      "current assets 2317972000\n",
      "current liability 962798000\n",
      "total assets from latest statement for  EXPD  is  2926053000  and total liability is  1024680000\n",
      "retained earnings 1920166000\n",
      "ebitda"
     ]
    },
    {
     "name": "stdout",
     "output_type": "stream",
     "text": [
      " 164260000\n",
      "gross profit 513256000\n",
      "45.39"
     ]
    },
    {
     "name": "stdout",
     "output_type": "stream",
     "text": [
      "\n",
      "done..\n",
      "symbol:  ESRX\n",
      "wait...\n",
      "go.."
     ]
    },
    {
     "name": "stdout",
     "output_type": "stream",
     "text": [
      "\n",
      "symbol"
     ]
    },
    {
     "name": "stdout",
     "output_type": "stream",
     "text": [
      " ESRX\n",
      "current assets 9704700000\n",
      "current liability 15922500000\n",
      "total assets from latest statement for  ESRX  is  53439200000  and total liability is  33281500000\n",
      "retained earnings 5338600000\n",
      "ebitda"
     ]
    },
    {
     "name": "stdout",
     "output_type": "stream",
     "text": [
      " 999900000\n",
      "gross profit 2073000000\n",
      "83.90"
     ]
    },
    {
     "name": "stdout",
     "output_type": "stream",
     "text": [
      "\n",
      "done..\n",
      "symbol:  XOM\n",
      "wait...\n",
      "go.."
     ]
    },
    {
     "name": "stdout",
     "output_type": "stream",
     "text": [
      "\n",
      "symbol"
     ]
    },
    {
     "name": "stdout",
     "output_type": "stream",
     "text": [
      " XOM\n",
      "current assets 58595000000\n",
      "current liability 65984000000\n",
      "total assets from latest statement for  XOM  is  352764000000  and total liability is  172177000000\n",
      "retained earnings 404738000000\n",
      "ebitda"
     ]
    },
    {
     "name": "stdout",
     "output_type": "stream",
     "text": [
      " 13498000000\n",
      "gross profit 33187000000\n",
      "94.295"
     ]
    },
    {
     "name": "stdout",
     "output_type": "stream",
     "text": [
      "\n",
      "done..\n",
      "symbol:  FFIV\n",
      "wait...\n",
      "go.."
     ]
    },
    {
     "name": "stdout",
     "output_type": "stream",
     "text": [
      "\n",
      "symbol"
     ]
    },
    {
     "name": "stdout",
     "output_type": "stream",
     "text": [
      " FFIV\n",
      "current assets 998848000\n",
      "current liability 636981000\n",
      "total assets from latest statement for  FFIV  is  2184950000  and total liability is  815640000\n",
      "retained earnings 1363141000\n",
      "ebitda"
     ]
    },
    {
     "name": "stdout",
     "output_type": "stream",
     "text": [
      " 149804000\n",
      "gross profit 383314000\n",
      "128.27"
     ]
    },
    {
     "name": "stdout",
     "output_type": "stream",
     "text": [
      "\n",
      "done..\n",
      "symbol:  FB\n",
      "wait...\n",
      "go.."
     ]
    },
    {
     "name": "stdout",
     "output_type": "stream",
     "text": [
      "\n",
      "symbol"
     ]
    },
    {
     "name": "stdout",
     "output_type": "stream",
     "text": [
      " FB\n",
      "current assets 16115000000\n",
      "current liability 1234000000\n",
      "total assets from latest statement for  FB  is  24188000000  and total liability is  2950000000\n",
      "retained earnings 5398000000\n",
      "ebitda"
     ]
    },
    {
     "name": "stdout",
     "output_type": "stream",
     "text": [
      " 1336000000\n",
      "gross profit 2638000000\n",
      "75.47"
     ]
    },
    {
     "name": "stdout",
     "output_type": "stream",
     "text": [
      "\n",
      "done..\n",
      "symbol:  FDO\n",
      "wait...\n",
      "go.."
     ]
    },
    {
     "name": "stdout",
     "output_type": "stream",
     "text": [
      "\n",
      "symbol"
     ]
    },
    {
     "name": "stdout",
     "output_type": "stream",
     "text": [
      " FDO\n",
      "current assets 2102046000\n",
      "current liability 1129030000\n",
      "total assets from latest statement for  FDO  is  3857295000  and total liability is  2191570000\n",
      "retained earnings 1724041000\n",
      "ebitda"
     ]
    },
    {
     "name": "stdout",
     "output_type": "stream",
     "text": [
      " 47912000\n",
      "gross profit -4343991000\n",
      "79.35"
     ]
    },
    {
     "name": "stdout",
     "output_type": "stream",
     "text": [
      "\n",
      "done..\n",
      "symbol:  FAST\n",
      "wait...\n",
      "go.."
     ]
    },
    {
     "name": "stdout",
     "output_type": "stream",
     "text": [
      "\n",
      "symbol"
     ]
    },
    {
     "name": "stdout",
     "output_type": "stream",
     "text": [
      " FAST\n",
      "current assets 1619405000\n",
      "current liability 407903000\n",
      "total assets from latest statement for  FAST  is  2372995000  and total liability is  471422000\n",
      "retained earnings 1841994000\n",
      "ebitda"
     ]
    },
    {
     "name": "stdout",
     "output_type": "stream",
     "text": [
      " 213259000\n",
      "gross profit 498693000\n",
      "44.69"
     ]
    },
    {
     "name": "stdout",
     "output_type": "stream",
     "text": [
      "\n",
      "done..\n",
      "symbol:  FDX\n",
      "wait...\n",
      "go.."
     ]
    },
    {
     "name": "stdout",
     "output_type": "stream",
     "text": [
      "\n",
      "symbol"
     ]
    },
    {
     "name": "stdout",
     "output_type": "stream",
     "text": [
      " FDX\n",
      "current assets 9250000000\n",
      "current liability 5153000000\n",
      "total assets from latest statement for  FDX  is  32587000000  and total liability is  17466000000\n",
      "retained earnings 20921000000\n",
      "ebitda"
     ]
    },
    {
     "name": "stdout",
     "output_type": "stream",
     "text": [
      " 937000000\n",
      "gross profit 7294000000\n",
      "180.0825"
     ]
    },
    {
     "name": "stdout",
     "output_type": "stream",
     "text": [
      "\n",
      "done..\n",
      "symbol:  FIS\n",
      "wait...\n",
      "go.."
     ]
    },
    {
     "name": "stdout",
     "output_type": "stream",
     "text": [
      "\n",
      "symbol"
     ]
    },
    {
     "name": "stdout",
     "output_type": "stream",
     "text": [
      " FIS\n",
      "current assets 2562900000\n",
      "current liability 1469700000\n",
      "total assets from latest statement for  FIS  is  14172100000  and total liability is  7717600000\n",
      "retained earnings 2620000000\n",
      "ebitda"
     ]
    },
    {
     "name": "stdout",
     "output_type": "stream",
     "text": [
      " 268900000\n",
      "gross profit 530200000\n",
      "61.469"
     ]
    },
    {
     "name": "stdout",
     "output_type": "stream",
     "text": [
      "\n",
      "done..\n",
      "symbol:  FITB\n",
      "wait...\n",
      "go.."
     ]
    },
    {
     "name": "stdout",
     "output_type": "stream",
     "text": [
      "\n",
      "symbol"
     ]
    },
    {
     "name": "stdout",
     "output_type": "stream",
     "text": [
      " FITB\n",
      "current assets -\n",
      "current liability -\n",
      "total assets from latest statement for  FITB  is  134188000000  and total liability is  118784000000\n",
      "retained earnings 10886000000\n",
      "ebitda"
     ]
    },
    {
     "name": "stdout",
     "output_type": "stream",
     "text": [
      " 529000000\n",
      "gross profit -\n",
      "19.805"
     ]
    },
    {
     "name": "stdout",
     "output_type": "stream",
     "text": [
      "\n",
      "done..\n",
      "symbol:  FSLR\n",
      "wait...\n",
      "go.."
     ]
    },
    {
     "name": "stdout",
     "output_type": "stream",
     "text": [
      "\n",
      "symbol"
     ]
    },
    {
     "name": "stdout",
     "output_type": "stream",
     "text": [
      " FSLR\n",
      "current assets 3253026000\n",
      "current liability 918672000\n",
      "total assets from latest statement for  FSLR  is  6439954000  and total liability is  1646737000\n",
      "retained earnings 2087731000\n",
      "ebitda"
     ]
    },
    {
     "name": "stdout",
     "output_type": "stream",
     "text": [
      " 81405000\n",
      "gross profit 189287000\n",
      "46.28"
     ]
    },
    {
     "name": "stdout",
     "output_type": "stream",
     "text": [
      "\n",
      "done..\n",
      "symbol:  FE\n",
      "wait...\n",
      "go.."
     ]
    },
    {
     "name": "stdout",
     "output_type": "stream",
     "text": [
      "\n",
      "symbol"
     ]
    },
    {
     "name": "stdout",
     "output_type": "stream",
     "text": [
      " FE\n",
      "current assets 3785000000\n",
      "current liability 5979000000\n",
      "total assets from latest statement for  FE  is  51224000000  and total liability is  38522000000\n",
      "retained earnings 2592000000\n",
      "ebitda"
     ]
    },
    {
     "name": "stdout",
     "output_type": "stream",
     "text": [
      " 760000000\n",
      "gross profit 2156000000\n",
      "37.14"
     ]
    },
    {
     "name": "stdout",
     "output_type": "stream",
     "text": [
      "\n",
      "done..\n",
      "symbol:  FISV\n",
      "wait...\n",
      "go.."
     ]
    },
    {
     "name": "stdout",
     "output_type": "stream",
     "text": [
      "\n",
      "symbol"
     ]
    },
    {
     "name": "stdout",
     "output_type": "stream",
     "text": [
      " FISV\n",
      "current assets 1579000000\n",
      "current liability 1397000000\n",
      "total assets from latest statement for  FISV  is  9438000000  and total liability is  5976000000\n",
      "retained earnings 7171000000\n",
      "ebitda"
     ]
    },
    {
     "name": "stdout",
     "output_type": "stream",
     "text": [
      " 315000000\n",
      "gross profit 558000000\n",
      "71.19"
     ]
    },
    {
     "name": "stdout",
     "output_type": "stream",
     "text": [
      "\n",
      "done..\n",
      "symbol:  FLIR\n",
      "wait...\n",
      "go.."
     ]
    },
    {
     "name": "stdout",
     "output_type": "stream",
     "text": [
      "\n",
      "symbol"
     ]
    },
    {
     "name": "stdout",
     "output_type": "stream",
     "text": [
      " FLIR\n",
      "current assets 1335175000\n",
      "current liability 287826000\n",
      "total assets from latest statement for  FLIR  is  2354292000  and total liability is  732558000\n",
      "retained earnings 1629524000\n",
      "ebitda"
     ]
    },
    {
     "name": "stdout",
     "output_type": "stream",
     "text": [
      " 74126000\n",
      "gross profit 184386000\n",
      "31.06"
     ]
    },
    {
     "name": "stdout",
     "output_type": "stream",
     "text": [
      "\n",
      "done..\n",
      "symbol:  FLS\n",
      "wait...\n",
      "go.."
     ]
    },
    {
     "name": "stdout",
     "output_type": "stream",
     "text": [
      "\n",
      "symbol"
     ]
    },
    {
     "name": "stdout",
     "output_type": "stream",
     "text": [
      " FLS\n",
      "current assets 2673210000\n",
      "current liability 1314605000\n",
      "total assets from latest statement for  FLS  is  4793774000  and total liability is  2878860000\n",
      "retained earnings 3278771000\n",
      "ebitda"
     ]
    },
    {
     "name": "stdout",
     "output_type": "stream",
     "text": [
      " 198454000\n",
      "gross profit 421489000\n",
      "59.67"
     ]
    },
    {
     "name": "stdout",
     "output_type": "stream",
     "text": [
      "\n",
      "done..\n",
      "symbol:  FLR\n",
      "wait...\n",
      "go.."
     ]
    },
    {
     "name": "stdout",
     "output_type": "stream",
     "text": [
      "\n",
      "symbol"
     ]
    },
    {
     "name": "stdout",
     "output_type": "stream",
     "text": [
      " FLR\n",
      "current assets 5659480000\n",
      "current liability 3303277000\n",
      "total assets from latest statement for  FLR  is  8048705000  and total liability is  4489824000\n",
      "retained earnings 3894404000\n",
      "ebitda"
     ]
    },
    {
     "name": "stdout",
     "output_type": "stream",
     "text": [
      " 349363000\n",
      "gross profit 380121000\n",
      "61.20"
     ]
    },
    {
     "name": "stdout",
     "output_type": "stream",
     "text": [
      "\n",
      "done..\n",
      "symbol:  FMC\n",
      "wait...\n",
      "go.."
     ]
    },
    {
     "name": "stdout",
     "output_type": "stream",
     "text": [
      "\n",
      "symbol"
     ]
    },
    {
     "name": "stdout",
     "output_type": "stream",
     "text": [
      " FMC\n",
      "current assets 2857300000\n",
      "current liability 1741500000\n",
      "total assets from latest statement for  FMC  is  5251100000  and total liability is  3527900000\n",
      "retained earnings 2928300000\n",
      "ebitda"
     ]
    },
    {
     "name": "stdout",
     "output_type": "stream",
     "text": [
      " 102900000\n",
      "gross profit 323700000\n",
      "53.98"
     ]
    },
    {
     "name": "stdout",
     "output_type": "stream",
     "text": [
      "\n",
      "done..\n",
      "symbol:  FTI\n",
      "wait...\n",
      "go.."
     ]
    },
    {
     "name": "stdout",
     "output_type": "stream",
     "text": [
      "\n",
      "symbol"
     ]
    },
    {
     "name": "stdout",
     "output_type": "stream",
     "text": [
      " FTI\n",
      "current assets 4403400000\n",
      "current liability 2698100000\n",
      "total assets from latest statement for  FTI  is  7034400000  and total liability is  4380900000\n",
      "retained earnings 3675700000\n",
      "ebitda"
     ]
    },
    {
     "name": "stdout",
     "output_type": "stream",
     "text": [
      " 268600000\n",
      "gross profit 497100000\n",
      "47.60"
     ]
    },
    {
     "name": "stdout",
     "output_type": "stream",
     "text": [
      "\n",
      "done..\n",
      "symbol:  F\n",
      "wait...\n",
      "go.."
     ]
    },
    {
     "name": "stdout",
     "output_type": "stream",
     "text": [
      "\n",
      "symbol"
     ]
    },
    {
     "name": "stdout",
     "output_type": "stream",
     "text": [
      " F\n",
      "current assets 137913000000\n",
      "current liability 22062000000\n",
      "total assets from latest statement for  F  is  210945000000  and total liability is  183832000000\n",
      "retained earnings 24699000000\n",
      "ebitda"
     ]
    },
    {
     "name": "stdout",
     "output_type": "stream",
     "text": [
      " 2325000000\n",
      "gross profit 5481000000\n",
      "15.89"
     ]
    },
    {
     "name": "stdout",
     "output_type": "stream",
     "text": [
      "\n",
      "done..\n",
      "symbol:  FRX\n",
      "wait...\n",
      "go.."
     ]
    },
    {
     "name": "stdout",
     "output_type": "stream",
     "text": [
      "\n",
      "error on "
     ]
    },
    {
     "name": "stdout",
     "output_type": "stream",
     "text": [
      " FRX . Error message (<class 'KeyError'>, KeyError('statement',), <traceback object at 0x7fe51327ec88>)\n",
      "done..\n",
      "symbol:  FOSL\n",
      "wait...\n",
      "go.."
     ]
    },
    {
     "name": "stdout",
     "output_type": "stream",
     "text": [
      "\n",
      "symbol"
     ]
    },
    {
     "name": "stdout",
     "output_type": "stream",
     "text": [
      " FOSL\n",
      "current assets 1495496000\n",
      "current liability 493023000\n",
      "total assets from latest statement for  FOSL  is  2236853000  and total liability is  1275604000\n",
      "retained earnings 783207000\n",
      "ebitda"
     ]
    },
    {
     "name": "stdout",
     "output_type": "stream",
     "text": [
      " 157131000\n",
      "gross profit 509037000\n",
      "109.5677"
     ]
    },
    {
     "name": "stdout",
     "output_type": "stream",
     "text": [
      "\n",
      "done..\n",
      "symbol:  BEN\n",
      "wait...\n",
      "go.."
     ]
    },
    {
     "name": "stdout",
     "output_type": "stream",
     "text": [
      "\n",
      "symbol"
     ]
    },
    {
     "name": "stdout",
     "output_type": "stream",
     "text": [
      " BEN\n",
      "current assets -\n",
      "current liability -\n",
      "total assets from latest statement for  BEN  is  16357100000  and total liability is  4538200000\n",
      "retained earnings 11625600000\n",
      "ebitda"
     ]
    },
    {
     "name": "stdout",
     "output_type": "stream",
     "text": [
      " 898300000\n",
      "gross profit 2143000000\n",
      "57.38"
     ]
    },
    {
     "name": "stdout",
     "output_type": "stream",
     "text": [
      "\n",
      "done..\n",
      "symbol:  FCX\n",
      "wait...\n",
      "go.."
     ]
    },
    {
     "name": "stdout",
     "output_type": "stream",
     "text": [
      "\n",
      "symbol"
     ]
    },
    {
     "name": "stdout",
     "output_type": "stream",
     "text": [
      " FCX\n",
      "current assets 9031000000\n",
      "current liability 6343000000\n",
      "total assets from latest statement for  FCX  is  63976000000  and total liability is  41636000000\n",
      "retained earnings 3306000000\n",
      "ebitda"
     ]
    },
    {
     "name": "stdout",
     "output_type": "stream",
     "text": [
      " 1201000000\n",
      "gross profit 1291000000\n",
      "25.965"
     ]
    },
    {
     "name": "stdout",
     "output_type": "stream",
     "text": [
      "\n",
      "done..\n",
      "symbol:  FTR\n",
      "wait...\n",
      "go.."
     ]
    },
    {
     "name": "stdout",
     "output_type": "stream",
     "text": [
      "\n",
      "symbol"
     ]
    },
    {
     "name": "stdout",
     "output_type": "stream",
     "text": [
      " FTR\n",
      "current assets 2927349000\n",
      "current liability 1338369000\n",
      "total assets from latest statement for  FTR  is  17639688000  and total liability is  13747169000\n",
      "retained earnings 195055000\n",
      "ebitda"
     ]
    },
    {
     "name": "stdout",
     "output_type": "stream",
     "text": [
      " 222137000\n",
      "gross profit 1140874000\n",
      "6.995"
     ]
    },
    {
     "name": "stdout",
     "output_type": "stream",
     "text": [
      "\n",
      "done..\n",
      "symbol:  GME\n",
      "wait...\n",
      "go.."
     ]
    },
    {
     "name": "stdout",
     "output_type": "stream",
     "text": [
      "\n",
      "symbol"
     ]
    },
    {
     "name": "stdout",
     "output_type": "stream",
     "text": [
      " GME\n",
      "current assets 1586300000\n",
      "current liability 1447700000\n",
      "total assets from latest statement for  GME  is  3763500000  and total liability is  1582100000\n",
      "retained earnings 2011400000\n",
      "ebitda"
     ]
    },
    {
     "name": "stdout",
     "output_type": "stream",
     "text": [
      " 36800000\n",
      "gross profit 550900000\n",
      "35.495"
     ]
    },
    {
     "name": "stdout",
     "output_type": "stream",
     "text": [
      "\n",
      "done..\n",
      "symbol:  GCI\n",
      "wait...\n",
      "go.."
     ]
    },
    {
     "name": "stdout",
     "output_type": "stream",
     "text": [
      "\n",
      "symbol"
     ]
    },
    {
     "name": "stdout",
     "output_type": "stream",
     "text": [
      " GCI\n",
      "current assets 2444011000\n",
      "current liability 1123138000\n",
      "total assets from latest statement for  GCI  is  9917060000  and total liability is  6963223000\n",
      "retained earnings 7971532000\n",
      "ebitda"
     ]
    },
    {
     "name": "stdout",
     "output_type": "stream",
     "text": [
      " \n",
      "gross profit \n",
      "33.11"
     ]
    },
    {
     "name": "stdout",
     "output_type": "stream",
     "text": [
      "\n",
      "done..\n",
      "symbol:  GPS\n",
      "wait...\n",
      "go.."
     ]
    },
    {
     "name": "stdout",
     "output_type": "stream",
     "text": [
      "\n",
      "symbol"
     ]
    },
    {
     "name": "stdout",
     "output_type": "stream",
     "text": [
      " GPS\n",
      "current assets 4244000000\n",
      "current liability 2262000000\n",
      "total assets from latest statement for  GPS  is  7678000000  and total liability is  4732000000\n",
      "retained earnings 2795000000\n",
      "ebitda"
     ]
    },
    {
     "name": "stdout",
     "output_type": "stream",
     "text": [
      " 568000000\n",
      "gross profit 1569000000\n",
      "39.605"
     ]
    },
    {
     "name": "stdout",
     "output_type": "stream",
     "text": [
      "\n",
      "done..\n",
      "symbol:  GRMN\n",
      "wait...\n",
      "go.."
     ]
    },
    {
     "name": "stdout",
     "output_type": "stream",
     "text": [
      "\n",
      "symbol"
     ]
    },
    {
     "name": "stdout",
     "output_type": "stream",
     "text": [
      " GRMN\n",
      "current assets 2421485000\n",
      "current liability 1123483000\n",
      "total assets from latest statement for  GRMN  is  4669364000  and total liability is  1432951000\n",
      "retained earnings 1649727000\n",
      "ebitda"
     ]
    },
    {
     "name": "stdout",
     "output_type": "stream",
     "text": [
      " 172661000\n",
      "gross profit 398245000\n",
      "56.5701"
     ]
    },
    {
     "name": "stdout",
     "output_type": "stream",
     "text": [
      "\n",
      "done..\n",
      "symbol:  GD\n",
      "wait...\n",
      "go.."
     ]
    },
    {
     "name": "stdout",
     "output_type": "stream",
     "text": [
      "\n",
      "symbol"
     ]
    },
    {
     "name": "stdout",
     "output_type": "stream",
     "text": [
      " GD\n",
      "current assets 18169000000\n",
      "current liability 14670000000\n",
      "total assets from latest statement for  GD  is  35311000000  and total liability is  22301000000\n",
      "retained earnings 20631000000\n",
      "ebitda"
     ]
    },
    {
     "name": "stdout",
     "output_type": "stream",
     "text": [
      " 979000000\n",
      "gross profit 1477000000\n",
      "144.0444"
     ]
    },
    {
     "name": "stdout",
     "output_type": "stream",
     "text": [
      "\n",
      "done..\n",
      "symbol:  GE\n",
      "wait...\n",
      "go.."
     ]
    },
    {
     "name": "stdout",
     "output_type": "stream",
     "text": [
      "\n",
      "symbol"
     ]
    },
    {
     "name": "stdout",
     "output_type": "stream",
     "text": [
      " GE\n",
      "current assets 413997000000\n",
      "current liability 205008000000\n",
      "total assets from latest statement for  GE  is  650021000000  and total liability is  515023000000\n",
      "retained earnings 152497000000\n",
      "ebitda"
     ]
    },
    {
     "name": "stdout",
     "output_type": "stream",
     "text": [
      " 6272000000\n",
      "gross profit 15772000000\n",
      "26.16"
     ]
    },
    {
     "name": "stdout",
     "output_type": "stream",
     "text": [
      "\n",
      "done..\n",
      "symbol:  GGP\n",
      "wait...\n",
      "go.."
     ]
    },
    {
     "name": "stdout",
     "output_type": "stream",
     "text": [
      "\n",
      "symbol"
     ]
    },
    {
     "name": "stdout",
     "output_type": "stream",
     "text": [
      " GGP\n",
      "current assets -\n",
      "current liability -\n",
      "total assets from latest statement for  GGP  is  25319908000  and total liability is  17560610000\n",
      "retained earnings -2957989000\n",
      "ebitda"
     ]
    },
    {
     "name": "stdout",
     "output_type": "stream",
     "text": [
      " 230055000\n",
      "gross profit 437736000\n",
      "27.17"
     ]
    },
    {
     "name": "stdout",
     "output_type": "stream",
     "text": [
      "\n",
      "done..\n",
      "symbol:  GIS\n",
      "wait...\n",
      "go.."
     ]
    },
    {
     "name": "stdout",
     "output_type": "stream",
     "text": [
      "\n",
      "symbol"
     ]
    },
    {
     "name": "stdout",
     "output_type": "stream",
     "text": [
      " GIS\n",
      "current assets 4695500000\n",
      "current liability 5793100000\n",
      "total assets from latest statement for  GIS  is  23372800000  and total liability is  16211400000\n",
      "retained earnings 11878000000\n",
      "ebitda"
     ]
    },
    {
     "name": "stdout",
     "output_type": "stream",
     "text": [
      " 479000000\n",
      "gross profit 1438700000\n",
      "53.03"
     ]
    },
    {
     "name": "stdout",
     "output_type": "stream",
     "text": [
      "\n",
      "done..\n",
      "symbol:  GM\n",
      "wait...\n",
      "go.."
     ]
    },
    {
     "name": "stdout",
     "output_type": "stream",
     "text": [
      "\n",
      "symbol"
     ]
    },
    {
     "name": "stdout",
     "output_type": "stream",
     "text": [
      " GM\n",
      "current assets 86640000000\n",
      "current liability 67329000000\n",
      "total assets from latest statement for  GM  is  176908000000  and total liability is  133906000000\n",
      "retained earnings 13975000000\n",
      "ebitda"
     ]
    },
    {
     "name": "stdout",
     "output_type": "stream",
     "text": [
      " 1965000000\n",
      "gross profit 4148000000\n",
      "33.4099"
     ]
    },
    {
     "name": "stdout",
     "output_type": "stream",
     "text": [
      "\n",
      "done..\n",
      "symbol:  GPC\n",
      "wait...\n",
      "go.."
     ]
    },
    {
     "name": "stdout",
     "output_type": "stream",
     "text": [
      "\n",
      "symbol"
     ]
    },
    {
     "name": "stdout",
     "output_type": "stream",
     "text": [
      " GPC\n",
      "current assets 5585377000\n",
      "current liability 3635782000\n",
      "total assets from latest statement for  GPC  is  8341457000  and total liability is  4844282000\n",
      "retained earnings 3764807000\n",
      "ebitda"
     ]
    },
    {
     "name": "stdout",
     "output_type": "stream",
     "text": [
      " 298283000\n",
      "gross profit 1183422000\n",
      "102.25"
     ]
    },
    {
     "name": "stdout",
     "output_type": "stream",
     "text": [
      "\n",
      "done..\n",
      "symbol:  GNW\n",
      "wait...\n",
      "go.."
     ]
    },
    {
     "name": "stdout",
     "output_type": "stream",
     "text": [
      "\n",
      "symbol"
     ]
    },
    {
     "name": "stdout",
     "output_type": "stream",
     "text": [
      " GNW\n",
      "current assets -\n",
      "current liability -\n",
      "total assets from latest statement for  GNW  is  110514000000  and total liability is  95349000000\n",
      "retained earnings 1939000000\n",
      "ebitda"
     ]
    },
    {
     "name": "stdout",
     "output_type": "stream",
     "text": [
      " -858000000\n",
      "gross profit 20000000\n",
      "8.685"
     ]
    },
    {
     "name": "stdout",
     "output_type": "stream",
     "text": [
      "\n",
      "done..\n",
      "symbol:  GILD\n",
      "wait...\n",
      "go.."
     ]
    },
    {
     "name": "stdout",
     "output_type": "stream",
     "text": [
      "\n",
      "symbol"
     ]
    },
    {
     "name": "stdout",
     "output_type": "stream",
     "text": [
      " GILD\n",
      "current assets 12562031000\n",
      "current liability 6054952000\n",
      "total assets from latest statement for  GILD  is  28844393000  and total liability is  15250788000\n",
      "retained earnings 11247655000\n",
      "ebitda"
     ]
    },
    {
     "name": "stdout",
     "output_type": "stream",
     "text": [
      " \n",
      "gross profit \n",
      "101.91"
     ]
    },
    {
     "name": "stdout",
     "output_type": "stream",
     "text": [
      "\n",
      "done..\n",
      "symbol:  GS\n",
      "wait...\n",
      "go.."
     ]
    },
    {
     "name": "stdout",
     "output_type": "stream",
     "text": [
      "\n",
      "error on "
     ]
    },
    {
     "name": "stdout",
     "output_type": "stream",
     "text": [
      " GS . Error message (<class 'TypeError'>, TypeError(\"'NoneType' object is not subscriptable\",), <traceback object at 0x7fe518094608>)\n",
      "done..\n",
      "symbol:  GT\n",
      "wait...\n",
      "go.."
     ]
    },
    {
     "name": "stdout",
     "output_type": "stream",
     "text": [
      "\n",
      "symbol"
     ]
    },
    {
     "name": "stdout",
     "output_type": "stream",
     "text": [
      " GT\n",
      "current assets 8047000000\n",
      "current liability 4773000000\n",
      "total assets from latest statement for  GT  is  16656000000  and total liability is  14199000000\n",
      "retained earnings 2231000000\n",
      "ebitda"
     ]
    },
    {
     "name": "stdout",
     "output_type": "stream",
     "text": [
      " 407000000\n",
      "gross profit 1141000000\n",
      "27.35"
     ]
    },
    {
     "name": "stdout",
     "output_type": "stream",
     "text": [
      "\n",
      "done..\n",
      "symbol:  GOOGL\n",
      "wait...\n",
      "go.."
     ]
    },
    {
     "name": "stdout",
     "output_type": "stream",
     "text": [
      "\n",
      "symbol"
     ]
    },
    {
     "name": "stdout",
     "output_type": "stream",
     "text": [
      " GOOGL\n",
      "current assets 80115000000\n",
      "current liability 17920000000\n",
      "total assets from latest statement for  GOOGL  is  125781000000  and total liability is  26966000000\n",
      "retained earnings 70949000000\n",
      "ebitda"
     ]
    },
    {
     "name": "stdout",
     "output_type": "stream",
     "text": [
      " 3857000000\n",
      "gross profit 9828000000\n",
      "535.68"
     ]
    },
    {
     "name": "stdout",
     "output_type": "stream",
     "text": [
      "\n",
      "done..\n",
      "symbol:  GOOG\n",
      "wait...\n",
      "go.."
     ]
    },
    {
     "name": "stdout",
     "output_type": "stream",
     "text": [
      "\n",
      "error on "
     ]
    },
    {
     "name": "stdout",
     "output_type": "stream",
     "text": [
      " GOOG . Error message (<class 'KeyError'>, KeyError('statement',), <traceback object at 0x7fe5132b8a48>)\n",
      "done..\n",
      "symbol:  GHC\n",
      "wait...\n",
      "go.."
     ]
    },
    {
     "name": "stdout",
     "output_type": "stream",
     "text": [
      "\n",
      "symbol"
     ]
    },
    {
     "name": "stdout",
     "output_type": "stream",
     "text": [
      " GHC\n",
      "current assets 1264117000\n",
      "current liability 1014549000\n",
      "total assets from latest statement for  GHC  is  5488436000  and total liability is  2564456000\n",
      "retained earnings 5674096000\n",
      "ebitda"
     ]
    },
    {
     "name": "stdout",
     "output_type": "stream",
     "text": [
      " 157365000\n",
      "gross profit 496970000\n",
      "894.00"
     ]
    },
    {
     "name": "stdout",
     "output_type": "stream",
     "text": [
      "\n",
      "done..\n",
      "symbol:  GWW\n",
      "wait...\n",
      "go.."
     ]
    },
    {
     "name": "stdout",
     "output_type": "stream",
     "text": [
      "\n",
      "symbol"
     ]
    },
    {
     "name": "stdout",
     "output_type": "stream",
     "text": [
      " GWW\n",
      "current assets 3043663000\n",
      "current liability 1156783000\n",
      "total assets from latest statement for  GWW  is  5326416000  and total liability is  1930279000\n",
      "retained earnings 6261502000\n",
      "ebitda"
     ]
    },
    {
     "name": "stdout",
     "output_type": "stream",
     "text": [
      " 385012000\n",
      "gross profit 1102784000\n",
      "244.09"
     ]
    },
    {
     "name": "stdout",
     "output_type": "stream",
     "text": [
      "\n",
      "done..\n",
      "symbol:  HAL\n",
      "wait...\n",
      "go.."
     ]
    },
    {
     "name": "stdout",
     "output_type": "stream",
     "text": [
      "\n",
      "symbol"
     ]
    },
    {
     "name": "stdout",
     "output_type": "stream",
     "text": [
      " HAL\n",
      "current assets 14847000000\n",
      "current liability 5889000000\n",
      "total assets from latest statement for  HAL  is  31583000000  and total liability is  16092000000\n",
      "retained earnings 21060000000\n",
      "ebitda"
     ]
    },
    {
     "name": "stdout",
     "output_type": "stream",
     "text": [
      " 1550000000\n",
      "gross profit 1513000000\n",
      "40.70"
     ]
    },
    {
     "name": "stdout",
     "output_type": "stream",
     "text": [
      "\n",
      "done..\n",
      "symbol:  HOG\n",
      "wait...\n",
      "go.."
     ]
    },
    {
     "name": "stdout",
     "output_type": "stream",
     "text": [
      "\n",
      "symbol"
     ]
    },
    {
     "name": "stdout",
     "output_type": "stream",
     "text": [
      " HOG\n",
      "current assets 4202478000\n",
      "current liability 2707044000\n",
      "total assets from latest statement for  HOG  is  10025506000  and total liability is  6741143000\n",
      "retained earnings 8443005000\n",
      "ebitda"
     ]
    },
    {
     "name": "stdout",
     "output_type": "stream",
     "text": [
      " 225582000\n",
      "gross profit 504008000\n",
      "68.96"
     ]
    },
    {
     "name": "stdout",
     "output_type": "stream",
     "text": [
      "\n",
      "done..\n",
      "symbol:  HAR\n",
      "wait...\n",
      "go.."
     ]
    },
    {
     "name": "stdout",
     "output_type": "stream",
     "text": [
      "\n",
      "symbol"
     ]
    },
    {
     "name": "stdout",
     "output_type": "stream",
     "text": [
      " HAR\n",
      "current assets 2422343000\n",
      "current liability 1518768000\n",
      "total assets from latest statement for  HAR  is  4059314000  and total liability is  2207077000\n",
      "retained earnings 2039472000\n",
      "ebitda"
     ]
    },
    {
     "name": "stdout",
     "output_type": "stream",
     "text": [
      " 113383000\n",
      "gross profit 414632000\n",
      "106.735"
     ]
    },
    {
     "name": "stdout",
     "output_type": "stream",
     "text": [
      "\n",
      "done..\n",
      "symbol:  HRS\n",
      "wait...\n",
      "go.."
     ]
    },
    {
     "name": "stdout",
     "output_type": "stream",
     "text": [
      "\n",
      "symbol"
     ]
    },
    {
     "name": "stdout",
     "output_type": "stream",
     "text": [
      " HRS\n",
      "current assets 1924600000\n",
      "current liability 1082200000\n",
      "total assets from latest statement for  HRS  is  4836600000  and total liability is  3040600000\n",
      "retained earnings 1231400000\n",
      "ebitda"
     ]
    },
    {
     "name": "stdout",
     "output_type": "stream",
     "text": [
      " 198300000\n",
      "gross profit 392800000\n",
      "70.70"
     ]
    },
    {
     "name": "stdout",
     "output_type": "stream",
     "text": [
      "\n",
      "done..\n",
      "symbol:  HIG\n",
      "wait...\n",
      "go.."
     ]
    },
    {
     "name": "stdout",
     "output_type": "stream",
     "text": [
      "\n",
      "symbol"
     ]
    },
    {
     "name": "stdout",
     "output_type": "stream",
     "text": [
      " HIG\n",
      "current assets -\n",
      "current liability -\n",
      "total assets from latest statement for  HIG  is  247100000000  and total liability is  228265000000\n",
      "retained earnings 10886000000\n",
      "ebitda"
     ]
    },
    {
     "name": "stdout",
     "output_type": "stream",
     "text": [
      " 589000000\n",
      "gross profit 2145000000\n",
      "41.015"
     ]
    },
    {
     "name": "stdout",
     "output_type": "stream",
     "text": [
      "\n",
      "done..\n",
      "symbol:  HAS\n",
      "wait...\n",
      "go.."
     ]
    },
    {
     "name": "stdout",
     "output_type": "stream",
     "text": [
      "\n",
      "symbol"
     ]
    },
    {
     "name": "stdout",
     "output_type": "stream",
     "text": [
      " HAS\n",
      "current assets 2646189000\n",
      "current liability 1014028000\n",
      "total assets from latest statement for  HAS  is  4508802000  and total liability is  2966289000\n",
      "retained earnings 3513546000\n",
      "ebitda"
     ]
    },
    {
     "name": "stdout",
     "output_type": "stream",
     "text": [
      " 268764000\n",
      "gross profit 867133000\n",
      "57.62"
     ]
    },
    {
     "name": "stdout",
     "output_type": "stream",
     "text": [
      "\n",
      "done..\n",
      "symbol:  HCP\n",
      "wait...\n",
      "go.."
     ]
    },
    {
     "name": "stdout",
     "output_type": "stream",
     "text": [
      "\n",
      "symbol"
     ]
    },
    {
     "name": "stdout",
     "output_type": "stream",
     "text": [
      " HCP\n",
      "current assets -\n",
      "current liability -\n",
      "total assets from latest statement for  HCP  is  20744890000  and total liability is  9971765000\n",
      "retained earnings -\n",
      "ebitda"
     ]
    },
    {
     "name": "stdout",
     "output_type": "stream",
     "text": [
      " 352221000\n",
      "gross profit 579121000\n",
      "45.39"
     ]
    },
    {
     "name": "stdout",
     "output_type": "stream",
     "text": [
      "\n",
      "done..\n",
      "symbol:  HCN\n",
      "wait...\n",
      "go.."
     ]
    },
    {
     "name": "stdout",
     "output_type": "stream",
     "text": [
      "\n",
      "symbol"
     ]
    },
    {
     "name": "stdout",
     "output_type": "stream",
     "text": [
      " HCN\n",
      "current assets -\n",
      "current liability -\n",
      "total assets from latest statement for  HCN  is  24541722000  and total liability is  11269697000\n",
      "retained earnings -5358834000\n",
      "ebitda"
     ]
    },
    {
     "name": "stdout",
     "output_type": "stream",
     "text": [
      " 234036000\n",
      "gross profit 483022000\n",
      "74.51"
     ]
    },
    {
     "name": "stdout",
     "output_type": "stream",
     "text": [
      "\n",
      "done..\n",
      "symbol:  HP\n",
      "wait...\n",
      "go.."
     ]
    },
    {
     "name": "stdout",
     "output_type": "stream",
     "text": [
      "\n",
      "symbol"
     ]
    },
    {
     "name": "stdout",
     "output_type": "stream",
     "text": [
      " HP\n",
      "current assets 1450421000\n",
      "current liability 502111000\n",
      "total assets from latest statement for  HP  is  6693082000  and total liability is  1873995000\n",
      "retained earnings 4431974000\n",
      "ebitda"
     ]
    },
    {
     "name": "stdout",
     "output_type": "stream",
     "text": [
      " 296513000\n",
      "gross profit 436848000\n",
      "69.51"
     ]
    },
    {
     "name": "stdout",
     "output_type": "stream",
     "text": [
      "\n",
      "done..\n",
      "symbol:  HSY\n",
      "wait...\n",
      "go.."
     ]
    },
    {
     "name": "stdout",
     "output_type": "stream",
     "text": [
      "\n",
      "symbol"
     ]
    },
    {
     "name": "stdout",
     "output_type": "stream",
     "text": [
      " HSY\n",
      "current assets 2261809000\n",
      "current liability 1261565000\n",
      "total assets from latest statement for  HSY  is  5184969000  and total liability is  3639702000\n",
      "retained earnings 5665043000\n",
      "ebitda"
     ]
    },
    {
     "name": "stdout",
     "output_type": "stream",
     "text": [
      " 298749000\n",
      "gross profit 717474000\n",
      "100.33"
     ]
    },
    {
     "name": "stdout",
     "output_type": "stream",
     "text": [
      "\n",
      "done..\n",
      "symbol:  HES\n",
      "wait...\n",
      "go.."
     ]
    },
    {
     "name": "stdout",
     "output_type": "stream",
     "text": [
      "\n",
      "symbol"
     ]
    },
    {
     "name": "stdout",
     "output_type": "stream",
     "text": [
      " HES\n",
      "current assets 8865000000\n",
      "current liability 5015000000\n",
      "total assets from latest statement for  HES  is  40975000000  and total liability is  16726000000\n",
      "retained earnings 21020000000\n",
      "ebitda"
     ]
    },
    {
     "name": "stdout",
     "output_type": "stream",
     "text": [
      " 699000000\n",
      "gross profit 1811000000\n",
      "75.37"
     ]
    },
    {
     "name": "stdout",
     "output_type": "stream",
     "text": [
      "\n",
      "done..\n",
      "symbol:  HPQ\n",
      "wait...\n",
      "go.."
     ]
    },
    {
     "name": "stdout",
     "output_type": "stream",
     "text": [
      "\n",
      "symbol"
     ]
    },
    {
     "name": "stdout",
     "output_type": "stream",
     "text": [
      " HPQ\n",
      "current assets 49287000000\n",
      "current liability 42476000000\n",
      "total assets from latest statement for  HPQ  is  103170000000  and total liability is  74661000000\n",
      "retained earnings 27984000000\n",
      "ebitda"
     ]
    },
    {
     "name": "stdout",
     "output_type": "stream",
     "text": [
      " 1313000000\n",
      "gross profit 6611000000\n",
      "39.185"
     ]
    },
    {
     "name": "stdout",
     "output_type": "stream",
     "text": [
      "\n",
      "done..\n",
      "symbol:  HD\n",
      "wait...\n",
      "go.."
     ]
    },
    {
     "name": "stdout",
     "output_type": "stream",
     "text": [
      "\n",
      "symbol"
     ]
    },
    {
     "name": "stdout",
     "output_type": "stream",
     "text": [
      " HD\n",
      "current assets 16749000000\n",
      "current liability 12260000000\n",
      "total assets from latest statement for  HD  is  41512000000  and total liability is  31402000000\n",
      "retained earnings 26234000000\n",
      "ebitda"
     ]
    },
    {
     "name": "stdout",
     "output_type": "stream",
     "text": [
      " 2658000000\n",
      "gross profit 7185000000\n",
      "98.26"
     ]
    },
    {
     "name": "stdout",
     "output_type": "stream",
     "text": [
      "\n",
      "done..\n",
      "symbol:  HON\n",
      "wait...\n",
      "go.."
     ]
    },
    {
     "name": "stdout",
     "output_type": "stream",
     "text": [
      "\n",
      "symbol"
     ]
    },
    {
     "name": "stdout",
     "output_type": "stream",
     "text": [
      " HON\n",
      "current assets 22358000000\n",
      "current liability 13947000000\n",
      "total assets from latest statement for  HON  is  46181000000  and total liability is  27040000000\n",
      "retained earnings 22576000000\n",
      "ebitda"
     ]
    },
    {
     "name": "stdout",
     "output_type": "stream",
     "text": [
      " 1580000000\n",
      "gross profit 2980000000\n",
      "97.455"
     ]
    },
    {
     "name": "stdout",
     "output_type": "stream",
     "text": [
      "\n",
      "done..\n",
      "symbol:  HRL\n",
      "wait...\n",
      "go.."
     ]
    },
    {
     "name": "stdout",
     "output_type": "stream",
     "text": [
      "\n",
      "symbol"
     ]
    },
    {
     "name": "stdout",
     "output_type": "stream",
     "text": [
      " HRL\n",
      "current assets 2245041000\n",
      "current liability 785099000\n",
      "total assets from latest statement for  HRL  is  5188433000  and total liability is  1617130000\n",
      "retained earnings 3715339000\n",
      "ebitda"
     ]
    },
    {
     "name": "stdout",
     "output_type": "stream",
     "text": [
      " 216107000\n",
      "gross profit 363999000\n",
      "52.65"
     ]
    },
    {
     "name": "stdout",
     "output_type": "stream",
     "text": [
      "\n",
      "done..\n",
      "symbol:  DHI\n",
      "wait...\n",
      "go.."
     ]
    },
    {
     "name": "stdout",
     "output_type": "stream",
     "text": [
      "\n",
      "symbol"
     ]
    },
    {
     "name": "stdout",
     "output_type": "stream",
     "text": [
      " DHI\n",
      "current assets -\n",
      "current liability -\n",
      "total assets from latest statement for  DHI  is  10202500000  and total liability is  5086700000\n",
      "retained earnings 2630500000\n",
      "ebitda"
     ]
    },
    {
     "name": "stdout",
     "output_type": "stream",
     "text": [
      " 250800000\n",
      "gross profit 356300000\n",
      "25.22"
     ]
    },
    {
     "name": "stdout",
     "output_type": "stream",
     "text": [
      "\n",
      "done..\n",
      "symbol:  HSP\n",
      "wait...\n",
      "go.."
     ]
    },
    {
     "name": "stdout",
     "output_type": "stream",
     "text": [
      "\n",
      "symbol"
     ]
    },
    {
     "name": "stdout",
     "output_type": "stream",
     "text": [
      " HSP\n",
      "current assets 2759200000\n",
      "current liability 1169900000\n",
      "total assets from latest statement for  HSP  is  6493100000  and total liability is  3141400000\n",
      "retained earnings -\n",
      "ebitda"
     ]
    },
    {
     "name": "stdout",
     "output_type": "stream",
     "text": [
      " 223300000\n",
      "gross profit 431300000\n",
      "60.44"
     ]
    },
    {
     "name": "stdout",
     "output_type": "stream",
     "text": [
      "\n",
      "done..\n",
      "symbol:  HST\n",
      "wait...\n",
      "go.."
     ]
    },
    {
     "name": "stdout",
     "output_type": "stream",
     "text": [
      "\n",
      "symbol"
     ]
    },
    {
     "name": "stdout",
     "output_type": "stream",
     "text": [
      " HST\n",
      "current assets 473000000\n",
      "current liability 590000000\n",
      "total assets from latest statement for  HST  is  12215000000  and total liability is  4656000000\n",
      "retained earnings -1148000000\n",
      "ebitda"
     ]
    },
    {
     "name": "stdout",
     "output_type": "stream",
     "text": [
      " 341000000\n",
      "gross profit 912000000\n",
      "23.32"
     ]
    },
    {
     "name": "stdout",
     "output_type": "stream",
     "text": [
      "\n",
      "done..\n",
      "symbol:  HCBK\n",
      "wait...\n",
      "go.."
     ]
    },
    {
     "name": "stdout",
     "output_type": "stream",
     "text": [
      "\n",
      "symbol"
     ]
    },
    {
     "name": "stdout",
     "output_type": "stream",
     "text": [
      " HCBK\n",
      "current assets -\n",
      "current liability -\n",
      "total assets from latest statement for  HCBK  is  37161125000  and total liability is  32345552000\n",
      "retained earnings 1942454000\n",
      "ebitda"
     ]
    },
    {
     "name": "stdout",
     "output_type": "stream",
     "text": [
      " 205063000\n",
      "gross profit -\n",
      "9.79"
     ]
    },
    {
     "name": "stdout",
     "output_type": "stream",
     "text": [
      "\n",
      "done..\n",
      "symbol:  HUM\n",
      "wait...\n",
      "go.."
     ]
    },
    {
     "name": "stdout",
     "output_type": "stream",
     "text": [
      "\n",
      "symbol"
     ]
    },
    {
     "name": "stdout",
     "output_type": "stream",
     "text": [
      " HUM\n",
      "current assets -\n",
      "current liability -\n",
      "total assets from latest statement for  HUM  is  24331000000  and total liability is  14206000000\n",
      "retained earnings 9813000000\n",
      "ebitda"
     ]
    },
    {
     "name": "stdout",
     "output_type": "stream",
     "text": [
      " 589000000\n",
      "gross profit 2572000000\n",
      "139.61"
     ]
    },
    {
     "name": "stdout",
     "output_type": "stream",
     "text": [
      "\n",
      "done..\n",
      "symbol:  HBAN\n",
      "wait...\n",
      "go.."
     ]
    },
    {
     "name": "stdout",
     "output_type": "stream",
     "text": [
      "\n",
      "symbol"
     ]
    },
    {
     "name": "stdout",
     "output_type": "stream",
     "text": [
      " HBAN\n",
      "current assets -\n",
      "current liability -\n",
      "total assets from latest statement for  HBAN  is  64330629000  and total liability is  58046419000\n",
      "retained earnings -1159168000\n",
      "ebitda"
     ]
    },
    {
     "name": "stdout",
     "output_type": "stream",
     "text": [
      " 223150000\n",
      "gross profit -\n",
      "10.055"
     ]
    },
    {
     "name": "stdout",
     "output_type": "stream",
     "text": [
      "\n",
      "done..\n",
      "symbol:  ITW\n",
      "wait...\n",
      "go.."
     ]
    },
    {
     "name": "stdout",
     "output_type": "stream",
     "text": [
      "\n",
      "symbol"
     ]
    },
    {
     "name": "stdout",
     "output_type": "stream",
     "text": [
      " ITW\n",
      "current assets 9791000000\n",
      "current liability 3923000000\n",
      "total assets from latest statement for  ITW  is  19936000000  and total liability is  11496000000\n",
      "retained earnings 16568000000\n",
      "ebitda"
     ]
    },
    {
     "name": "stdout",
     "output_type": "stream",
     "text": [
      " 770000000\n",
      "gross profit 1500000000\n",
      "95.055"
     ]
    },
    {
     "name": "stdout",
     "output_type": "stream",
     "text": [
      "\n",
      "done..\n",
      "symbol:  IR\n",
      "wait...\n",
      "go.."
     ]
    },
    {
     "name": "stdout",
     "output_type": "stream",
     "text": [
      "\n",
      "symbol"
     ]
    },
    {
     "name": "stdout",
     "output_type": "stream",
     "text": [
      " IR\n",
      "current assets 5170100000\n",
      "current liability 4130000000\n",
      "total assets from latest statement for  IR  is  16865600000  and total liability is  10591500000\n",
      "retained earnings 6351200000\n",
      "ebitda"
     ]
    },
    {
     "name": "stdout",
     "output_type": "stream",
     "text": [
      " 449600000\n",
      "gross profit 1058100000\n",
      "62.97"
     ]
    },
    {
     "name": "stdout",
     "output_type": "stream",
     "text": [
      "\n",
      "done..\n",
      "symbol:  TEG\n",
      "wait...\n",
      "go.."
     ]
    },
    {
     "name": "stdout",
     "output_type": "stream",
     "text": [
      "\n",
      "error on "
     ]
    },
    {
     "name": "stdout",
     "output_type": "stream",
     "text": [
      " TEG . Error message (<class 'KeyError'>, KeyError('statement',), <traceback object at 0x7fe51323a7c8>)\n",
      "done..\n",
      "symbol:  INTC\n",
      "wait...\n",
      "go.."
     ]
    },
    {
     "name": "stdout",
     "output_type": "stream",
     "text": [
      "\n",
      "symbol"
     ]
    },
    {
     "name": "stdout",
     "output_type": "stream",
     "text": [
      " INTC\n",
      "current assets 27509000000\n",
      "current liability 14904000000\n",
      "total assets from latest statement for  INTC  is  90616000000  and total liability is  33628000000\n",
      "retained earnings 33233000000\n",
      "ebitda"
     ]
    },
    {
     "name": "stdout",
     "output_type": "stream",
     "text": [
      " 4550000000\n",
      "gross profit 9458000000\n",
      "37.46"
     ]
    },
    {
     "name": "stdout",
     "output_type": "stream",
     "text": [
      "\n",
      "done..\n",
      "symbol:  ICE\n",
      "wait...\n",
      "go.."
     ]
    },
    {
     "name": "stdout",
     "output_type": "stream",
     "text": [
      "\n",
      "symbol"
     ]
    },
    {
     "name": "stdout",
     "output_type": "stream",
     "text": [
      " ICE\n",
      "current assets -\n",
      "current liability -\n",
      "total assets from latest statement for  ICE  is  67286000000  and total liability is  54528000000\n",
      "retained earnings 3000000000\n",
      "ebitda"
     ]
    },
    {
     "name": "stdout",
     "output_type": "stream",
     "text": [
      " 335000000\n",
      "gross profit 984000000\n",
      "224.42"
     ]
    },
    {
     "name": "stdout",
     "output_type": "stream",
     "text": [
      "\n",
      "done..\n",
      "symbol:  IPG\n",
      "wait...\n",
      "go.."
     ]
    },
    {
     "name": "stdout",
     "output_type": "stream",
     "text": [
      "\n",
      "symbol"
     ]
    },
    {
     "name": "stdout",
     "output_type": "stream",
     "text": [
      " IPG\n",
      "current assets 6900900000\n",
      "current liability 6644300000\n",
      "total assets from latest statement for  IPG  is  11778400000  and total liability is  9439800000\n",
      "retained earnings 915200000\n",
      "ebitda"
     ]
    },
    {
     "name": "stdout",
     "output_type": "stream",
     "text": [
      " 178200000\n",
      "gross profit 1841100000\n",
      "20.51"
     ]
    },
    {
     "name": "stdout",
     "output_type": "stream",
     "text": [
      "\n",
      "done..\n",
      "symbol:  IBM\n",
      "wait...\n",
      "go.."
     ]
    },
    {
     "name": "stdout",
     "output_type": "stream",
     "text": [
      "\n",
      "symbol"
     ]
    },
    {
     "name": "stdout",
     "output_type": "stream",
     "text": [
      " IBM\n",
      "current assets 47163000000\n",
      "current liability 42306000000\n",
      "total assets from latest statement for  IBM  is  118911000000  and total liability is  104655000000\n",
      "retained earnings 133403000000\n",
      "ebitda"
     ]
    },
    {
     "name": "stdout",
     "output_type": "stream",
     "text": [
      " \n",
      "gross profit \n",
      "162.3532"
     ]
    },
    {
     "name": "stdout",
     "output_type": "stream",
     "text": [
      "\n",
      "done..\n",
      "symbol:  IFF\n",
      "wait...\n",
      "go.."
     ]
    },
    {
     "name": "stdout",
     "output_type": "stream",
     "text": [
      "\n",
      "symbol"
     ]
    },
    {
     "name": "stdout",
     "output_type": "stream",
     "text": [
      " IFF\n",
      "current assets 1712609000\n",
      "current liability 516854000\n",
      "total assets from latest statement for  IFF  is  3476509000  and total liability is  1832855000\n",
      "retained earnings 3298761000\n",
      "ebitda"
     ]
    },
    {
     "name": "stdout",
     "output_type": "stream",
     "text": [
      " 153154000\n",
      "gross profit 340111000\n",
      "101.92"
     ]
    },
    {
     "name": "stdout",
     "output_type": "stream",
     "text": [
      "\n",
      "done..\n",
      "symbol:  IP\n",
      "wait...\n",
      "go.."
     ]
    },
    {
     "name": "stdout",
     "output_type": "stream",
     "text": [
      "\n",
      "symbol"
     ]
    },
    {
     "name": "stdout",
     "output_type": "stream",
     "text": [
      " IP\n",
      "current assets 8139000000\n",
      "current liability 4870000000\n",
      "total assets from latest statement for  IP  is  29403000000  and total liability is  22587000000\n",
      "retained earnings 4446000000\n",
      "ebitda"
     ]
    },
    {
     "name": "stdout",
     "output_type": "stream",
     "text": [
      " 722000000\n",
      "gross profit 1701000000\n",
      "53.93"
     ]
    },
    {
     "name": "stdout",
     "output_type": "stream",
     "text": [
      "\n",
      "done..\n",
      "symbol:  INTU\n",
      "wait...\n",
      "go.."
     ]
    },
    {
     "name": "stdout",
     "output_type": "stream",
     "text": [
      "\n",
      "symbol"
     ]
    },
    {
     "name": "stdout",
     "output_type": "stream",
     "text": [
      " INTU\n",
      "current assets 2437000000\n",
      "current liability 1360000000\n",
      "total assets from latest statement for  INTU  is  5038000000  and total liability is  2111000000\n",
      "retained earnings 5791000000\n",
      "ebitda"
     ]
    },
    {
     "name": "stdout",
     "output_type": "stream",
     "text": [
      " -114000000\n",
      "gross profit 507000000\n",
      "93.57"
     ]
    },
    {
     "name": "stdout",
     "output_type": "stream",
     "text": [
      "\n",
      "done..\n",
      "symbol:  ISRG\n",
      "wait...\n",
      "go.."
     ]
    },
    {
     "name": "stdout",
     "output_type": "stream",
     "text": [
      "\n",
      "error on "
     ]
    },
    {
     "name": "stdout",
     "output_type": "stream",
     "text": [
      " ISRG . Error message (<class 'TypeError'>, TypeError(\"'NoneType' object is not subscriptable\",), <traceback object at 0x7fe51320a148>)\n",
      "done..\n",
      "symbol:  IVZ\n",
      "wait...\n",
      "go.."
     ]
    },
    {
     "name": "stdout",
     "output_type": "stream",
     "text": [
      "\n",
      "symbol"
     ]
    },
    {
     "name": "stdout",
     "output_type": "stream",
     "text": [
      " IVZ\n",
      "current assets 11630700000\n",
      "current liability 8870000000\n",
      "total assets from latest statement for  IVZ  is  20081000000  and total liability is  11499400000\n",
      "retained earnings 3764500000\n",
      "ebitda"
     ]
    },
    {
     "name": "stdout",
     "output_type": "stream",
     "text": [
      " 402700000\n",
      "gross profit 1311000000\n",
      "40.47"
     ]
    },
    {
     "name": "stdout",
     "output_type": "stream",
     "text": [
      "\n",
      "done..\n",
      "symbol:  IRM\n",
      "wait...\n",
      "go.."
     ]
    },
    {
     "name": "stdout",
     "output_type": "stream",
     "text": [
      "\n",
      "symbol"
     ]
    },
    {
     "name": "stdout",
     "output_type": "stream",
     "text": [
      " IRM\n",
      "current assets 962868000\n",
      "current liability 901708000\n",
      "total assets from latest statement for  IRM  is  6735124000  and total liability is  5446989000\n",
      "retained earnings 276348000\n",
      "ebitda"
     ]
    },
    {
     "name": "stdout",
     "output_type": "stream",
     "text": [
      " 27615000\n",
      "gross profit 449931000\n",
      "38.65"
     ]
    },
    {
     "name": "stdout",
     "output_type": "stream",
     "text": [
      "\n",
      "done..\n",
      "symbol:  JBL\n",
      "wait...\n",
      "go.."
     ]
    },
    {
     "name": "stdout",
     "output_type": "stream",
     "text": [
      "\n",
      "symbol"
     ]
    },
    {
     "name": "stdout",
     "output_type": "stream",
     "text": [
      " JBL\n",
      "current assets 5359017000\n",
      "current liability 4321097000\n",
      "total assets from latest statement for  JBL  is  8479746000  and total liability is  6237918000\n",
      "retained earnings 1245772000\n",
      "ebitda"
     ]
    },
    {
     "name": "stdout",
     "output_type": "stream",
     "text": [
      " 45185000\n",
      "gross profit 262252000\n",
      "20.52"
     ]
    },
    {
     "name": "stdout",
     "output_type": "stream",
     "text": [
      "\n",
      "done..\n",
      "symbol:  JEC\n",
      "wait...\n",
      "go.."
     ]
    },
    {
     "name": "stdout",
     "output_type": "stream",
     "text": [
      "\n",
      "symbol"
     ]
    },
    {
     "name": "stdout",
     "output_type": "stream",
     "text": [
      " JEC\n",
      "current assets 3892071000\n",
      "current liability 2349846000\n",
      "total assets from latest statement for  JEC  is  8453659000  and total liability is  3984404000\n",
      "retained earnings 3527193000\n",
      "ebitda"
     ]
    },
    {
     "name": "stdout",
     "output_type": "stream",
     "text": [
      " 145751000\n",
      "gross profit 541800000\n",
      "46.21"
     ]
    },
    {
     "name": "stdout",
     "output_type": "stream",
     "text": [
      "\n",
      "done..\n",
      "symbol:  JNJ\n",
      "wait...\n",
      "go.."
     ]
    },
    {
     "name": "stdout",
     "output_type": "stream",
     "text": [
      "\n",
      "error on "
     ]
    },
    {
     "name": "stdout",
     "output_type": "stream",
     "text": [
      " JNJ . Error message (<class 'TypeError'>, TypeError(\"'NoneType' object is not subscriptable\",), <traceback object at 0x7fe5132749c8>)\n",
      "done..\n",
      "symbol:  JCI\n",
      "wait...\n",
      "go.."
     ]
    },
    {
     "name": "stdout",
     "output_type": "stream",
     "text": [
      "\n",
      "symbol"
     ]
    },
    {
     "name": "stdout",
     "output_type": "stream",
     "text": [
      " JCI\n",
      "current assets 13107000000\n",
      "current liability 11694000000\n",
      "total assets from latest statement for  JCI  is  32804000000  and total liability is  21048000000\n",
      "retained earnings 9956000000\n",
      "ebitda"
     ]
    },
    {
     "name": "stdout",
     "output_type": "stream",
     "text": [
      " 508000000\n",
      "gross profit 1842000000\n",
      "49.905"
     ]
    },
    {
     "name": "stdout",
     "output_type": "stream",
     "text": [
      "\n",
      "done..\n",
      "symbol:  JOY\n",
      "wait...\n",
      "go.."
     ]
    },
    {
     "name": "stdout",
     "output_type": "stream",
     "text": [
      "\n",
      "symbol"
     ]
    },
    {
     "name": "stdout",
     "output_type": "stream",
     "text": [
      " JOY\n",
      "current assets 2597930000\n",
      "current liability 1173257000\n",
      "total assets from latest statement for  JOY  is  5590709000  and total liability is  2780723000\n",
      "retained earnings -\n",
      "ebitda"
     ]
    },
    {
     "name": "stdout",
     "output_type": "stream",
     "text": [
      " 120998000\n",
      "gross profit 251932000\n",
      "50.15"
     ]
    },
    {
     "name": "stdout",
     "output_type": "stream",
     "text": [
      "\n",
      "done..\n",
      "symbol:  JPM\n",
      "wait...\n",
      "go.."
     ]
    },
    {
     "name": "stdout",
     "output_type": "stream",
     "text": [
      "\n",
      "symbol"
     ]
    },
    {
     "name": "stdout",
     "output_type": "stream",
     "text": [
      " JPM\n",
      "current assets -\n",
      "current liability -\n",
      "total assets from latest statement for  JPM  is  2520336000000  and total liability is  2293022000000\n",
      "retained earnings 123497000000\n",
      "ebitda"
     ]
    },
    {
     "name": "stdout",
     "output_type": "stream",
     "text": [
      " \n",
      "gross profit \n",
      "60.89"
     ]
    },
    {
     "name": "stdout",
     "output_type": "stream",
     "text": [
      "\n",
      "done..\n",
      "symbol:  JNPR\n",
      "wait...\n",
      "go.."
     ]
    },
    {
     "name": "stdout",
     "output_type": "stream",
     "text": [
      "\n",
      "symbol"
     ]
    },
    {
     "name": "stdout",
     "output_type": "stream",
     "text": [
      " JNPR\n",
      "current assets 3063300000\n",
      "current liability 1449000000\n",
      "total assets from latest statement for  JNPR  is  9569000000  and total liability is  3378600000\n",
      "retained earnings -2963700000\n",
      "ebitda"
     ]
    },
    {
     "name": "stdout",
     "output_type": "stream",
     "text": [
      " \n",
      "gross profit \n",
      "21.55"
     ]
    },
    {
     "name": "stdout",
     "output_type": "stream",
     "text": [
      "\n",
      "done..\n",
      "symbol:  KSU\n",
      "wait...\n",
      "go.."
     ]
    },
    {
     "name": "stdout",
     "output_type": "stream",
     "text": [
      "\n",
      "symbol"
     ]
    },
    {
     "name": "stdout",
     "output_type": "stream",
     "text": [
      " KSU\n",
      "current assets 780300000\n",
      "current liability 760900000\n",
      "total assets from latest statement for  KSU  is  7817000000  and total liability is  4170900000\n",
      "retained earnings 2691600000\n",
      "ebitda"
     ]
    },
    {
     "name": "stdout",
     "output_type": "stream",
     "text": [
      " \n",
      "gross profit \n",
      "117.79"
     ]
    },
    {
     "name": "stdout",
     "output_type": "stream",
     "text": [
      "\n",
      "done..\n",
      "symbol:  K\n",
      "wait...\n",
      "go.."
     ]
    },
    {
     "name": "stdout",
     "output_type": "stream",
     "text": [
      "\n",
      "symbol"
     ]
    },
    {
     "name": "stdout",
     "output_type": "stream",
     "text": [
      " K\n",
      "current assets 3572000000\n",
      "current liability 4662000000\n",
      "total assets from latest statement for  K  is  15772000000  and total liability is  12389000000\n",
      "retained earnings 7161000000\n",
      "ebitda"
     ]
    },
    {
     "name": "stdout",
     "output_type": "stream",
     "text": [
      " 366000000\n",
      "gross profit 1292000000\n",
      "66.62"
     ]
    },
    {
     "name": "stdout",
     "output_type": "stream",
     "text": [
      "\n",
      "done..\n",
      "symbol:  GMCR\n",
      "wait...\n",
      "go.."
     ]
    },
    {
     "name": "stdout",
     "output_type": "stream",
     "text": [
      "\n",
      "symbol"
     ]
    },
    {
     "name": "stdout",
     "output_type": "stream",
     "text": [
      " GMCR\n",
      "current assets 2445520000\n",
      "current liability 842988000\n",
      "total assets from latest statement for  GMCR  is  4797307000  and total liability is  1326186000\n",
      "retained earnings 1687619000\n",
      "ebitda"
     ]
    },
    {
     "name": "stdout",
     "output_type": "stream",
     "text": [
      " 221475000\n",
      "gross profit 449789000\n",
      "137.26"
     ]
    },
    {
     "name": "stdout",
     "output_type": "stream",
     "text": [
      "\n",
      "done..\n",
      "symbol:  KEY\n",
      "wait...\n",
      "go.."
     ]
    },
    {
     "name": "stdout",
     "output_type": "stream",
     "text": [
      "\n",
      "symbol"
     ]
    },
    {
     "name": "stdout",
     "output_type": "stream",
     "text": [
      " KEY\n",
      "current assets -\n",
      "current liability -\n",
      "total assets from latest statement for  KEY  is  89784000000  and total liability is  79298000000\n",
      "retained earnings 8082000000\n",
      "ebitda"
     ]
    },
    {
     "name": "stdout",
     "output_type": "stream",
     "text": [
      " 303000000\n",
      "gross profit -\n",
      "13.27"
     ]
    },
    {
     "name": "stdout",
     "output_type": "stream",
     "text": [
      "\n",
      "done..\n",
      "symbol:  KMB\n",
      "wait...\n",
      "go.."
     ]
    },
    {
     "name": "stdout",
     "output_type": "stream",
     "text": [
      "\n",
      "symbol"
     ]
    },
    {
     "name": "stdout",
     "output_type": "stream",
     "text": [
      " KMB\n",
      "current assets 6921000000\n",
      "current liability 6260000000\n",
      "total assets from latest statement for  KMB  is  18876000000  and total liability is  14611000000\n",
      "retained earnings -\n",
      "ebitda"
     ]
    },
    {
     "name": "stdout",
     "output_type": "stream",
     "text": [
      " \n",
      "gross profit \n",
      "116.48"
     ]
    },
    {
     "name": "stdout",
     "output_type": "stream",
     "text": [
      "\n",
      "done..\n",
      "symbol:  KIM\n",
      "wait...\n",
      "go.."
     ]
    },
    {
     "name": "stdout",
     "output_type": "stream",
     "text": [
      "\n",
      "symbol"
     ]
    },
    {
     "name": "stdout",
     "output_type": "stream",
     "text": [
      " KIM\n",
      "current assets -\n",
      "current liability -\n",
      "total assets from latest statement for  KIM  is  10190372000  and total liability is  5472381000\n",
      "retained earnings -1033535000\n",
      "ebitda"
     ]
    },
    {
     "name": "stdout",
     "output_type": "stream",
     "text": [
      " \n",
      "gross profit \n",
      "25.485"
     ]
    },
    {
     "name": "stdout",
     "output_type": "stream",
     "text": [
      "\n",
      "done..\n",
      "symbol:  KMI\n",
      "wait...\n",
      "go.."
     ]
    },
    {
     "name": "stdout",
     "output_type": "stream",
     "text": [
      "\n",
      "symbol"
     ]
    },
    {
     "name": "stdout",
     "output_type": "stream",
     "text": [
      " KMI\n",
      "current assets 3486000000\n",
      "current liability 6085000000\n",
      "total assets from latest statement for  KMI  is  77118000000  and total liability is  64573000000\n",
      "retained earnings -1776000000\n",
      "ebitda"
     ]
    },
    {
     "name": "stdout",
     "output_type": "stream",
     "text": [
      " 1025000000\n",
      "gross profit 2092000000\n",
      "41.695"
     ]
    },
    {
     "name": "stdout",
     "output_type": "stream",
     "text": [
      "\n",
      "done..\n",
      "symbol:  KLAC\n",
      "wait...\n",
      "go.."
     ]
    },
    {
     "name": "stdout",
     "output_type": "stream",
     "text": [
      "\n",
      "symbol"
     ]
    },
    {
     "name": "stdout",
     "output_type": "stream",
     "text": [
      " KLAC\n",
      "current assets 4368537000\n",
      "current liability 804837000\n",
      "total assets from latest statement for  KLAC  is  5301572000  and total liability is  1771852000\n",
      "retained earnings 2329936000\n",
      "ebitda"
     ]
    },
    {
     "name": "stdout",
     "output_type": "stream",
     "text": [
      " 112528000\n",
      "gross profit 354434000\n",
      "68.45"
     ]
    },
    {
     "name": "stdout",
     "output_type": "stream",
     "text": [
      "\n",
      "done..\n",
      "symbol:  KSS\n",
      "wait...\n",
      "go.."
     ]
    },
    {
     "name": "stdout",
     "output_type": "stream",
     "text": [
      "\n",
      "symbol"
     ]
    },
    {
     "name": "stdout",
     "output_type": "stream",
     "text": [
      " KSS\n",
      "current assets 5077000000\n",
      "current liability 2684000000\n",
      "total assets from latest statement for  KSS  is  14101000000  and total liability is  8292000000\n",
      "retained earnings 11656000000\n",
      "ebitda"
     ]
    },
    {
     "name": "stdout",
     "output_type": "stream",
     "text": [
      " 281000000\n",
      "gross profit 1654000000\n",
      "57.1241"
     ]
    },
    {
     "name": "stdout",
     "output_type": "stream",
     "text": [
      "\n",
      "done..\n",
      "symbol:  KRFT\n",
      "wait...\n",
      "go.."
     ]
    },
    {
     "name": "stdout",
     "output_type": "stream",
     "text": [
      "\n",
      "symbol"
     ]
    },
    {
     "name": "stdout",
     "output_type": "stream",
     "text": [
      " KRFT\n",
      "current assets 4622000000\n",
      "current liability 4291000000\n",
      "total assets from latest statement for  KRFT  is  22803000000  and total liability is  17218000000\n",
      "retained earnings 2094000000\n",
      "ebitda"
     ]
    },
    {
     "name": "stdout",
     "output_type": "stream",
     "text": [
      " 726000000\n",
      "gross profit 1292000000\n",
      "59.99"
     ]
    },
    {
     "name": "stdout",
     "output_type": "stream",
     "text": [
      "\n",
      "done..\n",
      "symbol:  KR\n",
      "wait...\n",
      "go.."
     ]
    },
    {
     "name": "stdout",
     "output_type": "stream",
     "text": [
      "\n",
      "symbol"
     ]
    },
    {
     "name": "stdout",
     "output_type": "stream",
     "text": [
      " KR\n",
      "current assets 8295000000\n",
      "current liability 10840000000\n",
      "total assets from latest statement for  KR  is  29079000000  and total liability is  24082000000\n",
      "retained earnings 11667000000\n",
      "ebitda"
     ]
    },
    {
     "name": "stdout",
     "output_type": "stream",
     "text": [
      " 644000000\n",
      "gross profit 5174000000\n",
      "59.44"
     ]
    },
    {
     "name": "stdout",
     "output_type": "stream",
     "text": [
      "\n",
      "done..\n",
      "symbol:  LB\n",
      "wait...\n",
      "go.."
     ]
    },
    {
     "name": "stdout",
     "output_type": "stream",
     "text": [
      "\n",
      "symbol"
     ]
    },
    {
     "name": "stdout",
     "output_type": "stream",
     "text": [
      " LB\n",
      "current assets 2699000000\n",
      "current liability 1580000000\n",
      "total assets from latest statement for  LB  is  6870000000  and total liability is  7374000000\n",
      "retained earnings -263000000\n",
      "ebitda"
     ]
    },
    {
     "name": "stdout",
     "output_type": "stream",
     "text": [
      " 378000000\n",
      "gross profit 1044000000\n",
      "80.62"
     ]
    },
    {
     "name": "stdout",
     "output_type": "stream",
     "text": [
      "\n",
      "done..\n",
      "symbol:  LLL\n",
      "wait...\n",
      "go.."
     ]
    },
    {
     "name": "stdout",
     "output_type": "stream",
     "text": [
      "\n",
      "symbol"
     ]
    },
    {
     "name": "stdout",
     "output_type": "stream",
     "text": [
      " LLL\n",
      "current assets 4656000000\n",
      "current liability 2392000000\n",
      "total assets from latest statement for  LLL  is  14041000000  and total liability is  8138000000\n",
      "retained earnings 6028000000\n",
      "ebitda"
     ]
    },
    {
     "name": "stdout",
     "output_type": "stream",
     "text": [
      " 262000000\n",
      "gross profit 257000000\n",
      "123.49"
     ]
    },
    {
     "name": "stdout",
     "output_type": "stream",
     "text": [
      "\n",
      "done..\n",
      "symbol:  LH\n",
      "wait...\n",
      "go.."
     ]
    },
    {
     "name": "stdout",
     "output_type": "stream",
     "text": [
      "\n",
      "symbol"
     ]
    },
    {
     "name": "stdout",
     "output_type": "stream",
     "text": [
      " LH\n",
      "current assets 1687800000\n",
      "current liability 749000000\n",
      "total assets from latest statement for  LH  is  7231800000  and total liability is  4461000000\n",
      "retained earnings 3685600000\n",
      "ebitda"
     ]
    },
    {
     "name": "stdout",
     "output_type": "stream",
     "text": [
      " 244900000\n",
      "gross profit 571200000\n",
      "104.21"
     ]
    },
    {
     "name": "stdout",
     "output_type": "stream",
     "text": [
      "\n",
      "done..\n",
      "symbol:  LRCX\n",
      "wait...\n",
      "go.."
     ]
    },
    {
     "name": "stdout",
     "output_type": "stream",
     "text": [
      "\n",
      "symbol"
     ]
    },
    {
     "name": "stdout",
     "output_type": "stream",
     "text": [
      " LRCX\n",
      "current assets 4783662000\n",
      "current liability 1582001000\n",
      "total assets from latest statement for  LRCX  is  7993306000  and total liability is  2780222000\n",
      "retained earnings 3575737000\n",
      "ebitda"
     ]
    },
    {
     "name": "stdout",
     "output_type": "stream",
     "text": [
      " 289498000\n",
      "gross profit 557036000\n",
      "82.19"
     ]
    },
    {
     "name": "stdout",
     "output_type": "stream",
     "text": [
      "\n",
      "done..\n",
      "symbol:  LM\n",
      "wait...\n",
      "go.."
     ]
    },
    {
     "name": "stdout",
     "output_type": "stream",
     "text": [
      "\n",
      "symbol"
     ]
    },
    {
     "name": "stdout",
     "output_type": "stream",
     "text": [
      " LM\n",
      "current assets -\n",
      "current liability -\n",
      "total assets from latest statement for  LM  is  6755032000  and total liability is  2123794000\n",
      "retained earnings 1565983000\n",
      "ebitda"
     ]
    },
    {
     "name": "stdout",
     "output_type": "stream",
     "text": [
      " 23800000\n",
      "gross profit 688920000\n",
      "55.10"
     ]
    },
    {
     "name": "stdout",
     "output_type": "stream",
     "text": [
      "\n",
      "done..\n",
      "symbol:  LEG\n",
      "wait...\n",
      "go.."
     ]
    },
    {
     "name": "stdout",
     "output_type": "stream",
     "text": [
      "\n",
      "symbol"
     ]
    },
    {
     "name": "stdout",
     "output_type": "stream",
     "text": [
      " LEG\n",
      "current assets 1435000000\n",
      "current liability 1144400000\n",
      "total assets from latest statement for  LEG  is  3184700000  and total liability is  1956100000\n",
      "retained earnings 2084800000\n",
      "ebitda"
     ]
    },
    {
     "name": "stdout",
     "output_type": "stream",
     "text": [
      " 189300000\n",
      "gross profit 201400000\n",
      "41.895"
     ]
    },
    {
     "name": "stdout",
     "output_type": "stream",
     "text": [
      "\n",
      "done..\n",
      "symbol:  LEN\n",
      "wait...\n",
      "go.."
     ]
    },
    {
     "name": "stdout",
     "output_type": "stream",
     "text": [
      "\n",
      "error on "
     ]
    },
    {
     "name": "stdout",
     "output_type": "stream",
     "text": [
      " LEN . Error message (<class 'KeyError'>, KeyError('statement',), <traceback object at 0x7fe5131dce48>)\n",
      "done..\n",
      "symbol:  LUK\n",
      "wait...\n",
      "go.."
     ]
    },
    {
     "name": "stdout",
     "output_type": "stream",
     "text": [
      "\n",
      "symbol"
     ]
    },
    {
     "name": "stdout",
     "output_type": "stream",
     "text": [
      " LUK\n",
      "current assets 43600412000\n",
      "current liability 33303505000\n",
      "total assets from latest statement for  LUK  is  52727801000  and total liability is  41986613000\n",
      "retained earnings 4461634000\n",
      "ebitda"
     ]
    },
    {
     "name": "stdout",
     "output_type": "stream",
     "text": [
      " 386290000\n",
      "gross profit 765901000\n",
      "22.54"
     ]
    },
    {
     "name": "stdout",
     "output_type": "stream",
     "text": [
      "\n",
      "done..\n",
      "symbol:  LLY\n",
      "wait...\n",
      "go.."
     ]
    },
    {
     "name": "stdout",
     "output_type": "stream",
     "text": [
      "\n",
      "symbol"
     ]
    },
    {
     "name": "stdout",
     "output_type": "stream",
     "text": [
      " LLY\n",
      "current assets 13156700000\n",
      "current liability 7417400000\n",
      "total assets from latest statement for  LLY  is  35018400000  and total liability is  17023600000\n",
      "retained earnings 17204300000\n",
      "ebitda"
     ]
    },
    {
     "name": "stdout",
     "output_type": "stream",
     "text": [
      " 940400000\n",
      "gross profit 3745900000\n",
      "70.635"
     ]
    },
    {
     "name": "stdout",
     "output_type": "stream",
     "text": [
      "\n",
      "done..\n",
      "symbol:  LNC\n",
      "wait...\n",
      "go.."
     ]
    },
    {
     "name": "stdout",
     "output_type": "stream",
     "text": [
      "\n",
      "symbol"
     ]
    },
    {
     "name": "stdout",
     "output_type": "stream",
     "text": [
      " LNC\n",
      "current assets -\n",
      "current liability -\n",
      "total assets from latest statement for  LNC  is  248446000000  and total liability is  232994000000\n",
      "retained earnings 5834000000\n",
      "ebitda"
     ]
    },
    {
     "name": "stdout",
     "output_type": "stream",
     "text": [
      " 668000000\n",
      "gross profit 1299000000\n",
      "56.18"
     ]
    },
    {
     "name": "stdout",
     "output_type": "stream",
     "text": [
      "\n",
      "done..\n",
      "symbol:  LLTC\n",
      "wait...\n",
      "go.."
     ]
    },
    {
     "name": "stdout",
     "output_type": "stream",
     "text": [
      "\n",
      "error on "
     ]
    },
    {
     "name": "stdout",
     "output_type": "stream",
     "text": [
      " LLTC . Error message (<class 'TypeError'>, TypeError(\"'NoneType' object is not subscriptable\",), <traceback object at 0x7fe513274f48>)\n",
      "done..\n",
      "symbol:  LMT\n",
      "wait...\n",
      "go.."
     ]
    },
    {
     "name": "stdout",
     "output_type": "stream",
     "text": [
      "\n",
      "symbol"
     ]
    },
    {
     "name": "stdout",
     "output_type": "stream",
     "text": [
      " LMT\n",
      "current assets 13684000000\n",
      "current liability 12133000000\n",
      "total assets from latest statement for  LMT  is  36933000000  and total liability is  32359000000\n",
      "retained earnings 14124000000\n",
      "ebitda"
     ]
    },
    {
     "name": "stdout",
     "output_type": "stream",
     "text": [
      " 1393000000\n",
      "gross profit 1275000000\n",
      "189.99"
     ]
    },
    {
     "name": "stdout",
     "output_type": "stream",
     "text": [
      "\n",
      "done..\n",
      "symbol:  L\n",
      "wait...\n",
      "go.."
     ]
    },
    {
     "name": "stdout",
     "output_type": "stream",
     "text": [
      "\n",
      "symbol"
     ]
    },
    {
     "name": "stdout",
     "output_type": "stream",
     "text": [
      " L\n",
      "current assets -\n",
      "current liability -\n",
      "total assets from latest statement for  L  is  78529000000  and total liability is  58872000000\n",
      "retained earnings 15817000000\n",
      "ebitda"
     ]
    },
    {
     "name": "stdout",
     "output_type": "stream",
     "text": [
      " 460000000\n",
      "gross profit 2169000000\n",
      "41.30"
     ]
    },
    {
     "name": "stdout",
     "output_type": "stream",
     "text": [
      "\n",
      "done..\n",
      "symbol:  LO\n",
      "wait...\n",
      "go.."
     ]
    },
    {
     "name": "stdout",
     "output_type": "stream",
     "text": [
      "\n",
      "symbol"
     ]
    },
    {
     "name": "stdout",
     "output_type": "stream",
     "text": [
      " LO\n",
      "current assets 2392000000\n",
      "current liability 1474000000\n",
      "total assets from latest statement for  LO  is  3275000000  and total liability is  5430000000\n",
      "retained earnings -1245000000\n",
      "ebitda"
     ]
    },
    {
     "name": "stdout",
     "output_type": "stream",
     "text": [
      " 517000000\n",
      "gross profit 711000000\n",
      "63.488"
     ]
    },
    {
     "name": "stdout",
     "output_type": "stream",
     "text": [
      "\n",
      "done..\n",
      "symbol:  LOW\n",
      "wait...\n",
      "go.."
     ]
    },
    {
     "name": "stdout",
     "output_type": "stream",
     "text": [
      "\n",
      "symbol"
     ]
    },
    {
     "name": "stdout",
     "output_type": "stream",
     "text": [
      " LOW\n",
      "current assets 11075000000\n",
      "current liability 10013000000\n",
      "total assets from latest statement for  LOW  is  33137000000  and total liability is  21897000000\n",
      "retained earnings 10749000000\n",
      "ebitda"
     ]
    },
    {
     "name": "stdout",
     "output_type": "stream",
     "text": [
      " 1570000000\n",
      "gross profit 5735000000\n",
      "63.90"
     ]
    },
    {
     "name": "stdout",
     "output_type": "stream",
     "text": [
      "\n",
      "done..\n",
      "symbol:  LYB\n",
      "wait...\n",
      "go.."
     ]
    },
    {
     "name": "stdout",
     "output_type": "stream",
     "text": [
      "\n",
      "symbol"
     ]
    },
    {
     "name": "stdout",
     "output_type": "stream",
     "text": [
      " LYB\n",
      "current assets 12932000000\n",
      "current liability 5634000000\n",
      "total assets from latest statement for  LYB  is  25631000000  and total liability is  15788000000\n",
      "retained earnings 6330000000\n",
      "ebitda"
     ]
    },
    {
     "name": "stdout",
     "output_type": "stream",
     "text": [
      " 1786000000\n",
      "gross profit 1948000000\n",
      "77.54"
     ]
    },
    {
     "name": "stdout",
     "output_type": "stream",
     "text": [
      "\n",
      "done..\n",
      "symbol:  MTB\n",
      "wait...\n",
      "go.."
     ]
    },
    {
     "name": "stdout",
     "output_type": "stream",
     "text": [
      "\n",
      "symbol"
     ]
    },
    {
     "name": "stdout",
     "output_type": "stream",
     "text": [
      " MTB\n",
      "current assets -\n",
      "current liability -\n",
      "total assets from latest statement for  MTB  is  97228342000  and total liability is  84895026000\n",
      "retained earnings 7642995000\n",
      "ebitda"
     ]
    },
    {
     "name": "stdout",
     "output_type": "stream",
     "text": [
      " 469958000\n",
      "gross profit -\n",
      "125.57"
     ]
    },
    {
     "name": "stdout",
     "output_type": "stream",
     "text": [
      "\n",
      "done..\n",
      "symbol:  MAC\n",
      "wait...\n",
      "go.."
     ]
    },
    {
     "name": "stdout",
     "output_type": "stream",
     "text": [
      "\n",
      "symbol"
     ]
    },
    {
     "name": "stdout",
     "output_type": "stream",
     "text": [
      " MAC\n",
      "current assets -\n",
      "current liability -\n",
      "total assets from latest statement for  MAC  is  9206108000  and total liability is  6015288000\n",
      "retained earnings -740906000\n",
      "ebitda"
     ]
    },
    {
     "name": "stdout",
     "output_type": "stream",
     "text": [
      " 68970000\n",
      "gross profit 156627000\n",
      "79.90"
     ]
    },
    {
     "name": "stdout",
     "output_type": "stream",
     "text": [
      "\n",
      "done..\n",
      "symbol:  M\n",
      "wait...\n",
      "go.."
     ]
    },
    {
     "name": "stdout",
     "output_type": "stream",
     "text": [
      "\n",
      "symbol"
     ]
    },
    {
     "name": "stdout",
     "output_type": "stream",
     "text": [
      " M\n",
      "current assets 7797000000\n",
      "current liability 5136000000\n",
      "total assets from latest statement for  M  is  20619000000  and total liability is  14812000000\n",
      "retained earnings -\n",
      "ebitda"
     ]
    },
    {
     "name": "stdout",
     "output_type": "stream",
     "text": [
      " 572000000\n",
      "gross profit 2595000000\n",
      "63.30"
     ]
    },
    {
     "name": "stdout",
     "output_type": "stream",
     "text": [
      "\n",
      "done..\n",
      "symbol:  MRO\n",
      "wait...\n",
      "go.."
     ]
    },
    {
     "name": "stdout",
     "output_type": "stream",
     "text": [
      "\n",
      "symbol"
     ]
    },
    {
     "name": "stdout",
     "output_type": "stream",
     "text": [
      " MRO\n",
      "current assets 4204000000\n",
      "current liability 4176000000\n",
      "total assets from latest statement for  MRO  is  36700000000  and total liability is  16474000000\n",
      "retained earnings 16854000000\n",
      "ebitda"
     ]
    },
    {
     "name": "stdout",
     "output_type": "stream",
     "text": [
      " 453000000\n",
      "gross profit 2277000000\n",
      "30.0034"
     ]
    },
    {
     "name": "stdout",
     "output_type": "stream",
     "text": [
      "\n",
      "done..\n",
      "symbol:  MPC\n",
      "wait...\n",
      "go.."
     ]
    },
    {
     "name": "stdout",
     "output_type": "stream",
     "text": [
      "\n",
      "symbol"
     ]
    },
    {
     "name": "stdout",
     "output_type": "stream",
     "text": [
      " MPC\n",
      "current assets 13596000000\n",
      "current liability 11055000000\n",
      "total assets from latest statement for  MPC  is  29376000000  and total liability is  18756000000\n",
      "retained earnings 6325000000\n",
      "ebitda"
     ]
    },
    {
     "name": "stdout",
     "output_type": "stream",
     "text": [
      " 1321000000\n",
      "gross profit 3618000000\n",
      "94.73"
     ]
    },
    {
     "name": "stdout",
     "output_type": "stream",
     "text": [
      "\n",
      "done..\n",
      "symbol:  MAR\n",
      "wait...\n",
      "go.."
     ]
    },
    {
     "name": "stdout",
     "output_type": "stream",
     "text": [
      "\n",
      "symbol"
     ]
    },
    {
     "name": "stdout",
     "output_type": "stream",
     "text": [
      " MAR\n",
      "current assets 1552000000\n",
      "current liability 2738000000\n",
      "total assets from latest statement for  MAR  is  6847000000  and total liability is  8689000000\n",
      "retained earnings 4156000000\n",
      "ebitda"
     ]
    },
    {
     "name": "stdout",
     "output_type": "stream",
     "text": [
      " 319000000\n",
      "gross profit 503000000\n",
      "77.59"
     ]
    },
    {
     "name": "stdout",
     "output_type": "stream",
     "text": [
      "\n",
      "done..\n",
      "symbol:  MMC\n",
      "wait...\n",
      "go.."
     ]
    },
    {
     "name": "stdout",
     "output_type": "stream",
     "text": [
      "\n",
      "symbol"
     ]
    },
    {
     "name": "stdout",
     "output_type": "stream",
     "text": [
      " MMC\n",
      "current assets -\n",
      "current liability -\n",
      "total assets from latest statement for  MMC  is  17987000000  and total liability is  10154000000\n",
      "retained earnings 10042000000\n",
      "ebitda"
     ]
    },
    {
     "name": "stdout",
     "output_type": "stream",
     "text": [
      " 477000000\n",
      "gross profit 3141000000\n",
      "56.92"
     ]
    },
    {
     "name": "stdout",
     "output_type": "stream",
     "text": [
      "\n",
      "done..\n",
      "symbol:  MAS\n",
      "wait...\n",
      "go.."
     ]
    },
    {
     "name": "stdout",
     "output_type": "stream",
     "text": [
      "\n",
      "symbol"
     ]
    },
    {
     "name": "stdout",
     "output_type": "stream",
     "text": [
      " MAS\n",
      "current assets 4001000000\n",
      "current liability 2415000000\n",
      "total assets from latest statement for  MAS  is  7373000000  and total liability is  6226000000\n",
      "retained earnings 716000000\n",
      "ebitda"
     ]
    },
    {
     "name": "stdout",
     "output_type": "stream",
     "text": [
      " \n",
      "gross profit \n",
      "24.28"
     ]
    },
    {
     "name": "stdout",
     "output_type": "stream",
     "text": [
      "\n",
      "done..\n",
      "symbol:  MA\n",
      "wait...\n",
      "go.."
     ]
    },
    {
     "name": "stdout",
     "output_type": "stream",
     "text": [
      "\n",
      "symbol"
     ]
    },
    {
     "name": "stdout",
     "output_type": "stream",
     "text": [
      " MA\n",
      "current assets 10956000000\n",
      "current liability 5849000000\n",
      "total assets from latest statement for  MA  is  14659000000  and total liability is  8158000000\n",
      "retained earnings 12553000000\n",
      "ebitda"
     ]
    },
    {
     "name": "stdout",
     "output_type": "stream",
     "text": [
      " 1429000000\n",
      "gross profit 2503000000\n",
      "87.555"
     ]
    },
    {
     "name": "stdout",
     "output_type": "stream",
     "text": [
      "\n",
      "done..\n",
      "symbol:  MAT\n",
      "wait...\n",
      "go.."
     ]
    },
    {
     "name": "stdout",
     "output_type": "stream",
     "text": [
      "\n",
      "error on "
     ]
    },
    {
     "name": "stdout",
     "output_type": "stream",
     "text": [
      " MAT . Error message (<class 'TypeError'>, TypeError(\"'NoneType' object is not subscriptable\",), <traceback object at 0x7fe5131cd908>)\n",
      "done..\n",
      "symbol:  MKC\n",
      "wait...\n",
      "go.."
     ]
    },
    {
     "name": "stdout",
     "output_type": "stream",
     "text": [
      "\n",
      "symbol"
     ]
    },
    {
     "name": "stdout",
     "output_type": "stream",
     "text": [
      " MKC\n",
      "current assets 1408800000\n",
      "current liability 1077600000\n",
      "total assets from latest statement for  MKC  is  4472100000  and total liability is  2519600000\n",
      "retained earnings 993600000\n",
      "ebitda"
     ]
    },
    {
     "name": "stdout",
     "output_type": "stream",
     "text": [
      " 157600000\n",
      "gross profit 420100000\n",
      "73.82"
     ]
    },
    {
     "name": "stdout",
     "output_type": "stream",
     "text": [
      "\n",
      "done..\n",
      "symbol:  MCD\n",
      "wait...\n",
      "go.."
     ]
    },
    {
     "name": "stdout",
     "output_type": "stream",
     "text": [
      "\n",
      "symbol"
     ]
    },
    {
     "name": "stdout",
     "output_type": "stream",
     "text": [
      " MCD\n",
      "current assets 5210400000\n",
      "current liability 4179600000\n",
      "total assets from latest statement for  MCD  is  36020800000  and total liability is  22394900000\n",
      "retained earnings 42201800000\n",
      "ebitda"
     ]
    },
    {
     "name": "stdout",
     "output_type": "stream",
     "text": [
      " 2070400000\n",
      "gross profit 2681200000\n",
      "95.14"
     ]
    },
    {
     "name": "stdout",
     "output_type": "stream",
     "text": [
      "\n",
      "done..\n",
      "symbol:  MHFI\n",
      "wait...\n",
      "go.."
     ]
    },
    {
     "name": "stdout",
     "output_type": "stream",
     "text": [
      "\n",
      "symbol"
     ]
    },
    {
     "name": "stdout",
     "output_type": "stream",
     "text": [
      " MHFI\n",
      "current assets 3188000000\n",
      "current liability 2384000000\n",
      "total assets from latest statement for  MHFI  is  6270000000  and total liability is  3919000000\n",
      "retained earnings 7877000000\n",
      "ebitda"
     ]
    },
    {
     "name": "stdout",
     "output_type": "stream",
     "text": [
      " 345000000\n",
      "gross profit 1180000000\n",
      "93.01"
     ]
    },
    {
     "name": "stdout",
     "output_type": "stream",
     "text": [
      "\n",
      "done..\n",
      "symbol:  MCK\n",
      "wait...\n",
      "go.."
     ]
    },
    {
     "name": "stdout",
     "output_type": "stream",
     "text": [
      "\n",
      "symbol"
     ]
    },
    {
     "name": "stdout",
     "output_type": "stream",
     "text": [
      " MCK\n",
      "current assets 33879000000\n",
      "current liability 29337000000\n",
      "total assets from latest statement for  MCK  is  52232000000  and total liability is  43301000000\n",
      "retained earnings 12211000000\n",
      "ebitda"
     ]
    },
    {
     "name": "stdout",
     "output_type": "stream",
     "text": [
      " 812000000\n",
      "gross profit 2923000000\n",
      "210.07"
     ]
    },
    {
     "name": "stdout",
     "output_type": "stream",
     "text": [
      "\n",
      "done..\n",
      "symbol:  MJN\n",
      "wait...\n",
      "go.."
     ]
    },
    {
     "name": "stdout",
     "output_type": "stream",
     "text": [
      "\n",
      "symbol"
     ]
    },
    {
     "name": "stdout",
     "output_type": "stream",
     "text": [
      " MJN\n",
      "current assets 2336800000\n",
      "current liability 1237100000\n",
      "total assets from latest statement for  MJN  is  3691800000  and total liability is  3121400000\n",
      "retained earnings 1748200000\n",
      "ebitda"
     ]
    },
    {
     "name": "stdout",
     "output_type": "stream",
     "text": [
      " 242600000\n",
      "gross profit 652800000\n",
      "103.10"
     ]
    },
    {
     "name": "stdout",
     "output_type": "stream",
     "text": [
      "\n",
      "done..\n",
      "symbol:  MWV\n",
      "wait...\n",
      "go.."
     ]
    },
    {
     "name": "stdout",
     "output_type": "stream",
     "text": [
      "\n",
      "error on "
     ]
    },
    {
     "name": "stdout",
     "output_type": "stream",
     "text": [
      " MWV . Error message (<class 'TypeError'>, TypeError(\"'NoneType' object is not subscriptable\",), <traceback object at 0x7fe5131cadc8>)\n",
      "done..\n",
      "symbol:  MDT\n",
      "wait...\n",
      "go.."
     ]
    },
    {
     "name": "stdout",
     "output_type": "stream",
     "text": [
      "\n",
      "symbol"
     ]
    },
    {
     "name": "stdout",
     "output_type": "stream",
     "text": [
      " MDT\n",
      "current assets 21597000000\n",
      "current liability 6952000000\n",
      "total assets from latest statement for  MDT  is  38780000000  and total liability is  19342000000\n",
      "retained earnings 19846000000\n",
      "ebitda"
     ]
    },
    {
     "name": "stdout",
     "output_type": "stream",
     "text": [
      " 1030000000\n",
      "gross profit 3224000000\n",
      "74.48"
     ]
    },
    {
     "name": "stdout",
     "output_type": "stream",
     "text": [
      "\n",
      "done..\n",
      "symbol:  MRK\n",
      "wait...\n",
      "go.."
     ]
    },
    {
     "name": "stdout",
     "output_type": "stream",
     "text": [
      "\n",
      "symbol"
     ]
    },
    {
     "name": "stdout",
     "output_type": "stream",
     "text": [
      " MRK\n",
      "current assets 34723000000\n",
      "current liability 25927000000\n",
      "total assets from latest statement for  MRK  is  101808000000  and total liability is  56584000000\n",
      "retained earnings 39989000000\n",
      "ebitda"
     ]
    },
    {
     "name": "stdout",
     "output_type": "stream",
     "text": [
      " 1490000000\n",
      "gross profit 6334000000\n",
      "60.6875"
     ]
    },
    {
     "name": "stdout",
     "output_type": "stream",
     "text": [
      "\n",
      "done..\n",
      "symbol:  MET\n",
      "wait...\n",
      "go.."
     ]
    },
    {
     "name": "stdout",
     "output_type": "stream",
     "text": [
      "\n",
      "symbol"
     ]
    },
    {
     "name": "stdout",
     "output_type": "stream",
     "text": [
      " MET\n",
      "current assets -\n",
      "current liability -\n",
      "total assets from latest statement for  MET  is  908627000000  and total liability is  837720000000\n",
      "retained earnings 30928000000\n",
      "ebitda"
     ]
    },
    {
     "name": "stdout",
     "output_type": "stream",
     "text": [
      " 2952000000\n",
      "gross profit 9334000000\n",
      "54.895"
     ]
    },
    {
     "name": "stdout",
     "output_type": "stream",
     "text": [
      "\n",
      "done..\n",
      "symbol:  KORS\n",
      "wait...\n",
      "go.."
     ]
    },
    {
     "name": "stdout",
     "output_type": "stream",
     "text": [
      "\n",
      "symbol"
     ]
    },
    {
     "name": "stdout",
     "output_type": "stream",
     "text": [
      " KORS\n",
      "current assets 2133373000\n",
      "current liability 325865000\n",
      "total assets from latest statement for  KORS  is  2689430000  and total liability is  444301000\n",
      "retained earnings 1682444000\n",
      "ebitda"
     ]
    },
    {
     "name": "stdout",
     "output_type": "stream",
     "text": [
      " 304128000\n",
      "gross profit 645027000\n",
      "73.88"
     ]
    },
    {
     "name": "stdout",
     "output_type": "stream",
     "text": [
      "\n",
      "done..\n",
      "symbol:  MCHP\n",
      "wait...\n",
      "go.."
     ]
    },
    {
     "name": "stdout",
     "output_type": "stream",
     "text": [
      "\n",
      "symbol"
     ]
    },
    {
     "name": "stdout",
     "output_type": "stream",
     "text": [
      " MCHP\n",
      "current assets 1978965000\n",
      "current liability 385484000\n",
      "total assets from latest statement for  MCHP  is  4610627000  and total liability is  2407206000\n",
      "retained earnings 1507915000\n",
      "ebitda"
     ]
    },
    {
     "name": "stdout",
     "output_type": "stream",
     "text": [
      " 104723000\n",
      "gross profit 307454000\n",
      "44.35"
     ]
    },
    {
     "name": "stdout",
     "output_type": "stream",
     "text": [
      "\n",
      "done..\n",
      "symbol:  MU\n",
      "wait...\n",
      "go.."
     ]
    },
    {
     "name": "stdout",
     "output_type": "stream",
     "text": [
      "\n",
      "symbol"
     ]
    },
    {
     "name": "stdout",
     "output_type": "stream",
     "text": [
      " MU\n",
      "current assets 10245000000\n",
      "current liability 4811000000\n",
      "total assets from latest statement for  MU  is  22498000000  and total liability is  11670000000\n",
      "retained earnings 2729000000\n",
      "ebitda"
     ]
    },
    {
     "name": "stdout",
     "output_type": "stream",
     "text": [
      " 1033000000\n",
      "gross profit 1385000000\n",
      "35.53"
     ]
    },
    {
     "name": "stdout",
     "output_type": "stream",
     "text": [
      "\n",
      "done..\n",
      "symbol:  MSFT\n",
      "wait...\n",
      "go.."
     ]
    },
    {
     "name": "stdout",
     "output_type": "stream",
     "text": [
      "\n",
      "symbol"
     ]
    },
    {
     "name": "stdout",
     "output_type": "stream",
     "text": [
      " MSFT\n",
      "current assets 112439000000\n",
      "current liability 44694000000\n",
      "total assets from latest statement for  MSFT  is  169656000000  and total liability is  79486000000\n",
      "retained earnings 18051000000\n",
      "ebitda"
     ]
    },
    {
     "name": "stdout",
     "output_type": "stream",
     "text": [
      " 5896000000\n",
      "gross profit 14928000000\n",
      "48.377"
     ]
    },
    {
     "name": "stdout",
     "output_type": "stream",
     "text": [
      "\n",
      "done..\n",
      "symbol:  MHK\n",
      "wait...\n",
      "go.."
     ]
    },
    {
     "name": "stdout",
     "output_type": "stream",
     "text": [
      "\n",
      "symbol"
     ]
    },
    {
     "name": "stdout",
     "output_type": "stream",
     "text": [
      " MHK\n",
      "current assets 3379089000\n",
      "current liability 1872520000\n",
      "total assets from latest statement for  MHK  is  8881681000  and total liability is  4217072000\n",
      "retained earnings 3187640000\n",
      "ebitda"
     ]
    },
    {
     "name": "stdout",
     "output_type": "stream",
     "text": [
      " 223803000\n",
      "gross profit 574812000\n",
      "152.82"
     ]
    },
    {
     "name": "stdout",
     "output_type": "stream",
     "text": [
      "\n",
      "done..\n",
      "symbol:  TAP\n",
      "wait...\n",
      "go.."
     ]
    },
    {
     "name": "stdout",
     "output_type": "stream",
     "text": [
      "\n",
      "symbol"
     ]
    },
    {
     "name": "stdout",
     "output_type": "stream",
     "text": [
      " TAP\n",
      "current assets 1811900000\n",
      "current liability 2619800000\n",
      "total assets from latest statement for  TAP  is  14833400000  and total liability is  6435400000\n",
      "retained earnings 4414300000\n",
      "ebitda"
     ]
    },
    {
     "name": "stdout",
     "output_type": "stream",
     "text": [
      " -33200000\n",
      "gross profit 501400000\n",
      "76.18"
     ]
    },
    {
     "name": "stdout",
     "output_type": "stream",
     "text": [
      "\n",
      "done..\n",
      "symbol:  MDLZ\n",
      "wait...\n",
      "go.."
     ]
    },
    {
     "name": "stdout",
     "output_type": "stream",
     "text": [
      "\n",
      "symbol"
     ]
    },
    {
     "name": "stdout",
     "output_type": "stream",
     "text": [
      " MDLZ\n",
      "current assets 12846000000\n",
      "current liability 14615000000\n",
      "total assets from latest statement for  MDLZ  is  69967000000  and total liability is  39123000000\n",
      "retained earnings 14298000000\n",
      "ebitda"
     ]
    },
    {
     "name": "stdout",
     "output_type": "stream",
     "text": [
      " 136000000\n",
      "gross profit 3142000000\n",
      "39.005"
     ]
    },
    {
     "name": "stdout",
     "output_type": "stream",
     "text": [
      "\n",
      "done..\n",
      "symbol:  MON\n",
      "wait...\n",
      "go.."
     ]
    },
    {
     "name": "stdout",
     "output_type": "stream",
     "text": [
      "\n",
      "symbol"
     ]
    },
    {
     "name": "stdout",
     "output_type": "stream",
     "text": [
      " MON\n",
      "current assets 9675000000\n",
      "current liability 5112000000\n",
      "total assets from latest statement for  MON  is  21981000000  and total liability is  14106000000\n",
      "retained earnings 9012000000\n",
      "ebitda"
     ]
    },
    {
     "name": "stdout",
     "output_type": "stream",
     "text": [
      " -137000000\n",
      "gross profit 1233000000\n",
      "119.239"
     ]
    },
    {
     "name": "stdout",
     "output_type": "stream",
     "text": [
      "\n",
      "done..\n",
      "symbol:  MNST\n",
      "wait...\n",
      "go.."
     ]
    },
    {
     "name": "stdout",
     "output_type": "stream",
     "text": [
      "\n",
      "symbol"
     ]
    },
    {
     "name": "stdout",
     "output_type": "stream",
     "text": [
      " MNST\n",
      "current assets 1617479000\n",
      "current liability 370611000\n",
      "total assets from latest statement for  MNST  is  1862878000  and total liability is  476438000\n",
      "retained earnings 2205179000\n",
      "ebitda"
     ]
    },
    {
     "name": "stdout",
     "output_type": "stream",
     "text": [
      " 188868000\n",
      "gross profit 341920000\n",
      "109.35"
     ]
    },
    {
     "name": "stdout",
     "output_type": "stream",
     "text": [
      "\n",
      "done..\n",
      "symbol:  MCO\n",
      "wait...\n",
      "go.."
     ]
    },
    {
     "name": "stdout",
     "output_type": "stream",
     "text": [
      "\n",
      "symbol"
     ]
    },
    {
     "name": "stdout",
     "output_type": "stream",
     "text": [
      " MCO\n",
      "current assets 3061900000\n",
      "current liability 1041700000\n",
      "total assets from latest statement for  MCO  is  4993700000  and total liability is  4605400000\n",
      "retained earnings 5936200000\n",
      "ebitda"
     ]
    },
    {
     "name": "stdout",
     "output_type": "stream",
     "text": [
      " 328400000\n",
      "gross profit 579400000\n",
      "100.69"
     ]
    },
    {
     "name": "stdout",
     "output_type": "stream",
     "text": [
      "\n",
      "done..\n",
      "symbol:  MS\n",
      "wait...\n",
      "go.."
     ]
    },
    {
     "name": "stdout",
     "output_type": "stream",
     "text": [
      "\n",
      "symbol"
     ]
    },
    {
     "name": "stdout",
     "output_type": "stream",
     "text": [
      " MS\n",
      "current assets -\n",
      "current liability -\n",
      "total assets from latest statement for  MS  is  814511000000  and total liability is  741593000000\n",
      "retained earnings 46573000000\n",
      "ebitda"
     ]
    },
    {
     "name": "stdout",
     "output_type": "stream",
     "text": [
      " 3091000000\n",
      "gross profit 8956000000\n",
      "35.75"
     ]
    },
    {
     "name": "stdout",
     "output_type": "stream",
     "text": [
      "\n",
      "done..\n",
      "symbol:  MOS\n",
      "wait...\n",
      "go.."
     ]
    },
    {
     "name": "stdout",
     "output_type": "stream",
     "text": [
      "\n",
      "symbol"
     ]
    },
    {
     "name": "stdout",
     "output_type": "stream",
     "text": [
      " MOS\n",
      "current assets 6291300000\n",
      "current liability 1302300000\n",
      "total assets from latest statement for  MOS  is  17656600000  and total liability is  4124000000\n",
      "retained earnings 11707600000\n",
      "ebitda"
     ]
    },
    {
     "name": "stdout",
     "output_type": "stream",
     "text": [
      " 116700000\n",
      "gross profit 386900000\n",
      "44.938"
     ]
    },
    {
     "name": "stdout",
     "output_type": "stream",
     "text": [
      "\n",
      "done..\n",
      "symbol:  MSI\n",
      "wait...\n",
      "go.."
     ]
    },
    {
     "name": "stdout",
     "output_type": "stream",
     "text": [
      "\n",
      "symbol"
     ]
    },
    {
     "name": "stdout",
     "output_type": "stream",
     "text": [
      " MSI\n",
      "current assets 7168000000\n",
      "current liability 3024000000\n",
      "total assets from latest statement for  MSI  is  12195000000  and total liability is  8984000000\n",
      "retained earnings 3284000000\n",
      "ebitda"
     ]
    },
    {
     "name": "stdout",
     "output_type": "stream",
     "text": [
      " 182000000\n",
      "gross profit 686000000\n",
      "65.50"
     ]
    },
    {
     "name": "stdout",
     "output_type": "stream",
     "text": [
      "\n",
      "done..\n",
      "symbol:  MUR\n",
      "wait...\n",
      "go.."
     ]
    },
    {
     "name": "stdout",
     "output_type": "stream",
     "text": [
      "\n",
      "symbol"
     ]
    },
    {
     "name": "stdout",
     "output_type": "stream",
     "text": [
      " MUR\n",
      "current assets 3287118000\n",
      "current liability 2620217000\n",
      "total assets from latest statement for  MUR  is  17845766000  and total liability is  9443258000\n",
      "retained earnings 8414917000\n",
      "ebitda"
     ]
    },
    {
     "name": "stdout",
     "output_type": "stream",
     "text": [
      " 426140000\n",
      "gross profit 1165489000\n",
      "49.46"
     ]
    },
    {
     "name": "stdout",
     "output_type": "stream",
     "text": [
      "\n",
      "done..\n",
      "symbol:  MYL\n",
      "wait...\n",
      "go.."
     ]
    },
    {
     "name": "stdout",
     "output_type": "stream",
     "text": [
      "\n",
      "symbol"
     ]
    },
    {
     "name": "stdout",
     "output_type": "stream",
     "text": [
      " MYL\n",
      "current assets 5817800000\n",
      "current liability 4473900000\n",
      "total assets from latest statement for  MYL  is  15174100000  and total liability is  11786600000\n",
      "retained earnings 3425300000\n",
      "ebitda"
     ]
    },
    {
     "name": "stdout",
     "output_type": "stream",
     "text": [
      " \n",
      "gross profit \n",
      "57.69"
     ]
    },
    {
     "name": "stdout",
     "output_type": "stream",
     "text": [
      "\n",
      "done..\n",
      "symbol:  NBR\n",
      "wait...\n",
      "go.."
     ]
    },
    {
     "name": "stdout",
     "output_type": "stream",
     "text": [
      "\n",
      "symbol"
     ]
    },
    {
     "name": "stdout",
     "output_type": "stream",
     "text": [
      " NBR\n",
      "current assets 2792471000\n",
      "current liability 1415581000\n",
      "total assets from latest statement for  NBR  is  12619340000  and total liability is  6756467000\n",
      "retained earnings 4481606000\n",
      "ebitda"
     ]
    },
    {
     "name": "stdout",
     "output_type": "stream",
     "text": [
      " 207079000\n",
      "gross profit 631776000\n",
      "13.155"
     ]
    },
    {
     "name": "stdout",
     "output_type": "stream",
     "text": [
      "\n",
      "done..\n",
      "symbol:  NDAQ\n",
      "wait...\n",
      "go.."
     ]
    },
    {
     "name": "stdout",
     "output_type": "stream",
     "text": [
      "\n",
      "symbol"
     ]
    },
    {
     "name": "stdout",
     "output_type": "stream",
     "text": [
      " NDAQ\n",
      "current assets -\n",
      "current liability -\n",
      "total assets from latest statement for  NDAQ  is  12692000000  and total liability is  6575000000\n",
      "retained earnings 3231000000\n",
      "ebitda"
     ]
    },
    {
     "name": "stdout",
     "output_type": "stream",
     "text": [
      " 207000000\n",
      "gross profit 468000000\n",
      "44.78"
     ]
    },
    {
     "name": "stdout",
     "output_type": "stream",
     "text": [
      "\n",
      "done..\n",
      "symbol:  NOV\n",
      "wait...\n",
      "go.."
     ]
    },
    {
     "name": "stdout",
     "output_type": "stream",
     "text": [
      "\n",
      "symbol"
     ]
    },
    {
     "name": "stdout",
     "output_type": "stream",
     "text": [
      " NOV\n",
      "current assets 16670000000\n",
      "current liability 7201000000\n",
      "total assets from latest statement for  NOV  is  34270000000  and total liability is  12747000000\n",
      "retained earnings 12782000000\n",
      "ebitda"
     ]
    },
    {
     "name": "stdout",
     "output_type": "stream",
     "text": [
      " 1010000000\n",
      "gross profit 1528000000\n",
      "67.035"
     ]
    },
    {
     "name": "stdout",
     "output_type": "stream",
     "text": [
      "\n",
      "done..\n",
      "symbol:  NAVI\n",
      "wait...\n",
      "go.."
     ]
    },
    {
     "name": "stdout",
     "output_type": "stream",
     "text": [
      "\n",
      "error on "
     ]
    },
    {
     "name": "stdout",
     "output_type": "stream",
     "text": [
      " NAVI . Error message (<class 'KeyError'>, KeyError('statement',), <traceback object at 0x7fe51324ffc8>)\n",
      "done..\n",
      "symbol:  NTAP\n",
      "wait...\n",
      "go.."
     ]
    },
    {
     "name": "stdout",
     "output_type": "stream",
     "text": [
      "\n",
      "error on "
     ]
    },
    {
     "name": "stdout",
     "output_type": "stream",
     "text": [
      " NTAP . Error message (<class 'TypeError'>, TypeError(\"'NoneType' object is not subscriptable\",), <traceback object at 0x7fe51328da88>)\n",
      "done..\n",
      "symbol:  NFLX\n",
      "wait...\n",
      "go.."
     ]
    },
    {
     "name": "stdout",
     "output_type": "stream",
     "text": [
      "\n",
      "symbol"
     ]
    },
    {
     "name": "stdout",
     "output_type": "stream",
     "text": [
      " NFLX\n",
      "current assets 3823482000\n",
      "current liability 2548655000\n",
      "total assets from latest statement for  NFLX  is  6778329000  and total liability is  5053455000\n",
      "retained earnings 735913000\n",
      "ebitda"
     ]
    },
    {
     "name": "stdout",
     "output_type": "stream",
     "text": [
      " 111023000\n",
      "gross profit 455038000\n",
      "346.78"
     ]
    },
    {
     "name": "stdout",
     "output_type": "stream",
     "text": [
      "\n",
      "done..\n",
      "symbol:  NWL\n",
      "wait...\n",
      "go.."
     ]
    },
    {
     "name": "stdout",
     "output_type": "stream",
     "text": [
      "\n",
      "symbol"
     ]
    },
    {
     "name": "stdout",
     "output_type": "stream",
     "text": [
      " NWL\n",
      "current assets 2377400000\n",
      "current liability 2188700000\n",
      "total assets from latest statement for  NWL  is  6349200000  and total liability is  4323700000\n",
      "retained earnings 2197200000\n",
      "ebitda"
     ]
    },
    {
     "name": "stdout",
     "output_type": "stream",
     "text": [
      " 164900000\n",
      "gross profit 551600000\n",
      "35.80"
     ]
    },
    {
     "name": "stdout",
     "output_type": "stream",
     "text": [
      "\n",
      "done..\n",
      "symbol:  NFX\n",
      "wait...\n",
      "go.."
     ]
    },
    {
     "name": "stdout",
     "output_type": "stream",
     "text": [
      "\n",
      "symbol"
     ]
    },
    {
     "name": "stdout",
     "output_type": "stream",
     "text": [
      " NFX\n",
      "current assets 906000000\n",
      "current liability 925000000\n",
      "total assets from latest statement for  NFX  is  9068000000  and total liability is  5543000000\n",
      "retained earnings 1967000000\n",
      "ebitda"
     ]
    },
    {
     "name": "stdout",
     "output_type": "stream",
     "text": [
      " 473000000\n",
      "gross profit 484000000\n",
      "26.86"
     ]
    },
    {
     "name": "stdout",
     "output_type": "stream",
     "text": [
      "\n",
      "done..\n",
      "symbol:  NEM\n",
      "wait...\n",
      "go.."
     ]
    },
    {
     "name": "stdout",
     "output_type": "stream",
     "text": [
      "\n",
      "error on "
     ]
    },
    {
     "name": "stdout",
     "output_type": "stream",
     "text": [
      " NEM . Error message (<class 'TypeError'>, TypeError(\"'NoneType' object is not subscriptable\",), <traceback object at 0x7fe51805e788>)\n",
      "done..\n",
      "symbol:  NWSA\n",
      "wait...\n",
      "go.."
     ]
    },
    {
     "name": "stdout",
     "output_type": "stream",
     "text": [
      "\n",
      "error on "
     ]
    },
    {
     "name": "stdout",
     "output_type": "stream",
     "text": [
      " NWSA . Error message (<class 'KeyError'>, KeyError('statement',), <traceback object at 0x7fe5131d2a08>)\n",
      "done..\n",
      "symbol:  NEE\n",
      "wait...\n",
      "go.."
     ]
    },
    {
     "name": "stdout",
     "output_type": "stream",
     "text": [
      "\n",
      "symbol"
     ]
    },
    {
     "name": "stdout",
     "output_type": "stream",
     "text": [
      " NEE\n",
      "current assets 5633000000\n",
      "current liability 9572000000\n",
      "total assets from latest statement for  NEE  is  72193000000  and total liability is  53383000000\n",
      "retained earnings 12204000000\n",
      "ebitda"
     ]
    },
    {
     "name": "stdout",
     "output_type": "stream",
     "text": [
      " 1259000000\n",
      "gross profit 2316000000\n",
      "105.12"
     ]
    },
    {
     "name": "stdout",
     "output_type": "stream",
     "text": [
      "\n",
      "done..\n",
      "symbol:  NLSN\n",
      "wait...\n",
      "go.."
     ]
    },
    {
     "name": "stdout",
     "output_type": "stream",
     "text": [
      "\n",
      "symbol"
     ]
    },
    {
     "name": "stdout",
     "output_type": "stream",
     "text": [
      " NLSN\n",
      "current assets 1982000000\n",
      "current liability 1542000000\n",
      "total assets from latest statement for  NLSN  is  15361000000  and total liability is  9746000000\n",
      "retained earnings -289000000\n",
      "ebitda"
     ]
    },
    {
     "name": "stdout",
     "output_type": "stream",
     "text": [
      " 261000000\n",
      "gross profit 924000000\n",
      "41.725"
     ]
    },
    {
     "name": "stdout",
     "output_type": "stream",
     "text": [
      "\n",
      "done..\n",
      "symbol:  NKE\n",
      "wait...\n",
      "go.."
     ]
    },
    {
     "name": "stdout",
     "output_type": "stream",
     "text": [
      "\n",
      "symbol"
     ]
    },
    {
     "name": "stdout",
     "output_type": "stream",
     "text": [
      " NKE\n",
      "current assets 13540000000\n",
      "current liability 4813000000\n",
      "total assets from latest statement for  NKE  is  18521000000  and total liability is  7416000000\n",
      "retained earnings 4808000000\n",
      "ebitda"
     ]
    },
    {
     "name": "stdout",
     "output_type": "stream",
     "text": [
      " 1229000000\n",
      "gross profit 3721000000\n",
      "97.90"
     ]
    },
    {
     "name": "stdout",
     "output_type": "stream",
     "text": [
      "\n",
      "done..\n",
      "symbol:  NI\n",
      "wait...\n",
      "go.."
     ]
    },
    {
     "name": "stdout",
     "output_type": "stream",
     "text": [
      "\n",
      "symbol"
     ]
    },
    {
     "name": "stdout",
     "output_type": "stream",
     "text": [
      " NI\n",
      "current assets 2011600000\n",
      "current liability 3048500000\n",
      "total assets from latest statement for  NI  is  23710100000  and total liability is  17702800000\n",
      "retained earnings 1339900000\n",
      "ebitda"
     ]
    },
    {
     "name": "stdout",
     "output_type": "stream",
     "text": [
      " 167000000\n",
      "gross profit 893400000\n",
      "41.69"
     ]
    },
    {
     "name": "stdout",
     "output_type": "stream",
     "text": [
      "\n",
      "done..\n",
      "symbol:  NE\n",
      "wait...\n",
      "go.."
     ]
    },
    {
     "name": "stdout",
     "output_type": "stream",
     "text": [
      "\n",
      "symbol"
     ]
    },
    {
     "name": "stdout",
     "output_type": "stream",
     "text": [
      " NE\n",
      "current assets 1412076000\n",
      "current liability 900814000\n",
      "total assets from latest statement for  NE  is  16989900000  and total liability is  8212421000\n",
      "retained earnings 8017321000\n",
      "ebitda"
     ]
    },
    {
     "name": "stdout",
     "output_type": "stream",
     "text": [
      " 346248000\n",
      "gross profit 634508000\n",
      "17.64"
     ]
    },
    {
     "name": "stdout",
     "output_type": "stream",
     "text": [
      "\n",
      "done..\n",
      "symbol:  NBL\n",
      "wait...\n",
      "go.."
     ]
    },
    {
     "name": "stdout",
     "output_type": "stream",
     "text": [
      "\n",
      "symbol"
     ]
    },
    {
     "name": "stdout",
     "output_type": "stream",
     "text": [
      " NBL\n",
      "current assets 2270000000\n",
      "current liability 2232000000\n",
      "total assets from latest statement for  NBL  is  21186000000  and total liability is  11248000000\n",
      "retained earnings 7122000000\n",
      "ebitda"
     ]
    },
    {
     "name": "stdout",
     "output_type": "stream",
     "text": [
      " 627000000\n",
      "gross profit 1053000000\n",
      "50.59"
     ]
    },
    {
     "name": "stdout",
     "output_type": "stream",
     "text": [
      "\n",
      "done..\n",
      "symbol:  JWN\n",
      "wait...\n",
      "go.."
     ]
    },
    {
     "name": "stdout",
     "output_type": "stream",
     "text": [
      "\n",
      "symbol"
     ]
    },
    {
     "name": "stdout",
     "output_type": "stream",
     "text": [
      " JWN\n",
      "current assets 5387000000\n",
      "current liability 2838000000\n",
      "total assets from latest statement for  JWN  is  8906000000  and total liability is  6805000000\n",
      "retained earnings 179000000\n",
      "ebitda"
     ]
    },
    {
     "name": "stdout",
     "output_type": "stream",
     "text": [
      " 331000000\n",
      "gross profit 1263000000\n",
      "75.38"
     ]
    },
    {
     "name": "stdout",
     "output_type": "stream",
     "text": [
      "\n",
      "done..\n",
      "symbol:  NSC\n",
      "wait...\n",
      "go.."
     ]
    },
    {
     "name": "stdout",
     "output_type": "stream",
     "text": [
      "\n",
      "symbol"
     ]
    },
    {
     "name": "stdout",
     "output_type": "stream",
     "text": [
      " NSC\n",
      "current assets 3012000000\n",
      "current liability 2082000000\n",
      "total assets from latest statement for  NSC  is  33206000000  and total liability is  20767000000\n",
      "retained earnings 10156000000\n",
      "ebitda"
     ]
    },
    {
     "name": "stdout",
     "output_type": "stream",
     "text": [
      " 1030000000\n",
      "gross profit 1962000000\n",
      "108.51"
     ]
    },
    {
     "name": "stdout",
     "output_type": "stream",
     "text": [
      "\n",
      "done..\n",
      "symbol:  NU\n",
      "wait...\n",
      "go.."
     ]
    },
    {
     "name": "stdout",
     "output_type": "stream",
     "text": [
      "\n",
      "symbol"
     ]
    },
    {
     "name": "stdout",
     "output_type": "stream",
     "text": [
      " NU\n",
      "current assets 2101550000\n",
      "current liability 2929676000\n",
      "total assets from latest statement for  NU  is  27982311000  and total liability is  17936191000\n",
      "retained earnings 2351421000\n",
      "ebitda"
     ]
    },
    {
     "name": "stdout",
     "output_type": "stream",
     "text": [
      " 452769000\n",
      "gross profit 831808000\n",
      "51.19"
     ]
    },
    {
     "name": "stdout",
     "output_type": "stream",
     "text": [
      "\n",
      "done..\n",
      "symbol:  NTRS\n",
      "wait...\n",
      "go.."
     ]
    },
    {
     "name": "stdout",
     "output_type": "stream",
     "text": [
      "\n",
      "symbol"
     ]
    },
    {
     "name": "stdout",
     "output_type": "stream",
     "text": [
      " NTRS\n",
      "current assets -\n",
      "current liability -\n",
      "total assets from latest statement for  NTRS  is  105761200000  and total liability is  97718600000\n",
      "retained earnings 7344100000\n",
      "ebitda"
     ]
    },
    {
     "name": "stdout",
     "output_type": "stream",
     "text": [
      " 317900000\n",
      "gross profit -\n",
      "67.37"
     ]
    },
    {
     "name": "stdout",
     "output_type": "stream",
     "text": [
      "\n",
      "done..\n",
      "symbol:  NOC\n",
      "wait...\n",
      "go.."
     ]
    },
    {
     "name": "stdout",
     "output_type": "stream",
     "text": [
      "\n",
      "symbol"
     ]
    },
    {
     "name": "stdout",
     "output_type": "stream",
     "text": [
      " NOC\n",
      "current assets 8122000000\n",
      "current liability 5511000000\n",
      "total assets from latest statement for  NOC  is  25043000000  and total liability is  15150000000\n",
      "retained earnings 12568000000\n",
      "ebitda"
     ]
    },
    {
     "name": "stdout",
     "output_type": "stream",
     "text": [
      " 763000000\n",
      "gross profit 1349000000\n",
      "139.25"
     ]
    },
    {
     "name": "stdout",
     "output_type": "stream",
     "text": [
      "\n",
      "done..\n",
      "symbol:  NRG\n",
      "wait...\n",
      "go.."
     ]
    },
    {
     "name": "stdout",
     "output_type": "stream",
     "text": [
      "\n",
      "symbol"
     ]
    },
    {
     "name": "stdout",
     "output_type": "stream",
     "text": [
      " NRG\n",
      "current assets 7872000000\n",
      "current liability 4543000000\n",
      "total assets from latest statement for  NRG  is  40069000000  and total liability is  29854000000\n",
      "retained earnings 3564000000\n",
      "ebitda"
     ]
    },
    {
     "name": "stdout",
     "output_type": "stream",
     "text": [
      " 551000000\n",
      "gross profit 1291000000\n",
      "31.01"
     ]
    },
    {
     "name": "stdout",
     "output_type": "stream",
     "text": [
      "\n",
      "done..\n",
      "symbol:  NUE\n",
      "wait...\n",
      "go.."
     ]
    },
    {
     "name": "stdout",
     "output_type": "stream",
     "text": [
      "\n",
      "symbol"
     ]
    },
    {
     "name": "stdout",
     "output_type": "stream",
     "text": [
      " NUE\n",
      "current assets 6796244000\n",
      "current liability 2156496000\n",
      "total assets from latest statement for  NUE  is  15493594000  and total liability is  7758312000\n",
      "retained earnings 7287500000\n",
      "ebitda"
     ]
    },
    {
     "name": "stdout",
     "output_type": "stream",
     "text": [
      " 446982000\n",
      "gross profit 599586000\n",
      "53.23"
     ]
    },
    {
     "name": "stdout",
     "output_type": "stream",
     "text": [
      "\n",
      "done..\n",
      "symbol:  NVDA\n",
      "wait...\n",
      "go.."
     ]
    },
    {
     "name": "stdout",
     "output_type": "stream",
     "text": [
      "\n",
      "symbol"
     ]
    },
    {
     "name": "stdout",
     "output_type": "stream",
     "text": [
      " NVDA\n",
      "current assets 5341109000\n",
      "current liability 933907000\n",
      "total assets from latest statement for  NVDA  is  6885869000  and total liability is  2681276000\n",
      "retained earnings 3801966000\n",
      "ebitda"
     ]
    },
    {
     "name": "stdout",
     "output_type": "stream",
     "text": [
      " 220612000\n",
      "gross profit 676698000\n",
      "20.445"
     ]
    },
    {
     "name": "stdout",
     "output_type": "stream",
     "text": [
      "\n",
      "done..\n",
      "symbol:  ORLY\n",
      "wait...\n",
      "go.."
     ]
    },
    {
     "name": "stdout",
     "output_type": "stream",
     "text": [
      "\n",
      "symbol"
     ]
    },
    {
     "name": "stdout",
     "output_type": "stream",
     "text": [
      " ORLY\n",
      "current assets 3070751000\n",
      "current liability 2845942000\n",
      "total assets from latest statement for  ORLY  is  6475176000  and total liability is  4498770000\n",
      "retained earnings 806641000\n",
      "ebitda"
     ]
    },
    {
     "name": "stdout",
     "output_type": "stream",
     "text": [
      " 345301000\n",
      "gross profit 968201000\n",
      "182.965"
     ]
    },
    {
     "name": "stdout",
     "output_type": "stream",
     "text": [
      "\n",
      "done..\n",
      "symbol:  OXY\n",
      "wait...\n",
      "go.."
     ]
    },
    {
     "name": "stdout",
     "output_type": "stream",
     "text": [
      "\n",
      "symbol"
     ]
    },
    {
     "name": "stdout",
     "output_type": "stream",
     "text": [
      " OXY\n",
      "current assets 10507000000\n",
      "current liability 9521000000\n",
      "total assets from latest statement for  OXY  is  71510000000  and total liability is  28031000000\n",
      "retained earnings 44166000000\n",
      "ebitda"
     ]
    },
    {
     "name": "stdout",
     "output_type": "stream",
     "text": [
      " 1952000000\n",
      "gross profit 2611000000\n",
      "81.07"
     ]
    },
    {
     "name": "stdout",
     "output_type": "stream",
     "text": [
      "\n",
      "done..\n",
      "symbol:  OMC\n",
      "wait...\n",
      "go.."
     ]
    },
    {
     "name": "stdout",
     "output_type": "stream",
     "text": [
      "\n",
      "symbol"
     ]
    },
    {
     "name": "stdout",
     "output_type": "stream",
     "text": [
      " OMC\n",
      "current assets 9567200000\n",
      "current liability 11075300000\n",
      "total assets from latest statement for  OMC  is  19968600000  and total liability is  16740100000\n",
      "retained earnings 9373600000\n",
      "ebitda"
     ]
    },
    {
     "name": "stdout",
     "output_type": "stream",
     "text": [
      " 444500000\n",
      "gross profit 3749700000\n",
      "78.07"
     ]
    },
    {
     "name": "stdout",
     "output_type": "stream",
     "text": [
      "\n",
      "done..\n",
      "symbol:  OKE\n",
      "wait...\n",
      "go.."
     ]
    },
    {
     "name": "stdout",
     "output_type": "stream",
     "text": [
      "\n",
      "symbol"
     ]
    },
    {
     "name": "stdout",
     "output_type": "stream",
     "text": [
      " OKE\n",
      "current assets 1712787000\n",
      "current liability 1781901000\n",
      "total assets from latest statement for  OKE  is  14312196000  and total liability is  13688964000\n",
      "retained earnings 170249000\n",
      "ebitda"
     ]
    },
    {
     "name": "stdout",
     "output_type": "stream",
     "text": [
      " 238362000\n",
      "gross profit 536941000\n",
      "52.58"
     ]
    },
    {
     "name": "stdout",
     "output_type": "stream",
     "text": [
      "\n",
      "done..\n",
      "symbol:  ORCL\n",
      "wait...\n",
      "go.."
     ]
    },
    {
     "name": "stdout",
     "output_type": "stream",
     "text": [
      "\n",
      "symbol"
     ]
    },
    {
     "name": "stdout",
     "output_type": "stream",
     "text": [
      " ORCL\n",
      "current assets 58194000000\n",
      "current liability 13377000000\n",
      "total assets from latest statement for  ORCL  is  99726000000  and total liability is  51795000000\n",
      "retained earnings 25838000000\n",
      "ebitda"
     ]
    },
    {
     "name": "stdout",
     "output_type": "stream",
     "text": [
      " 2979000000\n",
      "gross profit 6915000000\n",
      "42.20"
     ]
    },
    {
     "name": "stdout",
     "output_type": "stream",
     "text": [
      "\n",
      "done..\n",
      "symbol:  OI\n",
      "wait...\n",
      "go.."
     ]
    },
    {
     "name": "stdout",
     "output_type": "stream",
     "text": [
      "\n",
      "symbol"
     ]
    },
    {
     "name": "stdout",
     "output_type": "stream",
     "text": [
      " OI\n",
      "current assets 2523000000\n",
      "current liability 2788000000\n",
      "total assets from latest statement for  OI  is  8158000000  and total liability is  6335000000\n",
      "retained earnings -\n",
      "ebitda"
     ]
    },
    {
     "name": "stdout",
     "output_type": "stream",
     "text": [
      " 144000000\n",
      "gross profit 337000000\n",
      "25.62"
     ]
    },
    {
     "name": "stdout",
     "output_type": "stream",
     "text": [
      "\n",
      "done..\n",
      "symbol:  PCAR\n",
      "wait...\n",
      "go.."
     ]
    },
    {
     "name": "stdout",
     "output_type": "stream",
     "text": [
      "\n",
      "symbol"
     ]
    },
    {
     "name": "stdout",
     "output_type": "stream",
     "text": [
      " PCAR\n",
      "current assets 5578800000\n",
      "current liability 3305800000\n",
      "total assets from latest statement for  PCAR  is  21026100000  and total liability is  11265300000\n",
      "retained earnings 6902400000\n",
      "ebitda"
     ]
    },
    {
     "name": "stdout",
     "output_type": "stream",
     "text": [
      " 585000000\n",
      "gross profit 804100000\n",
      "67.96"
     ]
    },
    {
     "name": "stdout",
     "output_type": "stream",
     "text": [
      "\n",
      "done..\n",
      "symbol:  PLL\n",
      "wait...\n",
      "go.."
     ]
    },
    {
     "name": "stdout",
     "output_type": "stream",
     "text": [
      "\n",
      "symbol"
     ]
    },
    {
     "name": "stdout",
     "output_type": "stream",
     "text": [
      " PLL\n",
      "current assets 2137223000\n",
      "current liability 1097646000\n",
      "total assets from latest statement for  PLL  is  3852513000  and total liability is  1957156000\n",
      "retained earnings 2512961000\n",
      "ebitda"
     ]
    },
    {
     "name": "stdout",
     "output_type": "stream",
     "text": [
      " \n",
      "gross profit \n",
      "96.42"
     ]
    },
    {
     "name": "stdout",
     "output_type": "stream",
     "text": [
      "\n",
      "done..\n",
      "symbol:  PH\n",
      "wait...\n",
      "go.."
     ]
    },
    {
     "name": "stdout",
     "output_type": "stream",
     "text": [
      "\n",
      "symbol"
     ]
    },
    {
     "name": "stdout",
     "output_type": "stream",
     "text": [
      " PH\n",
      "current assets 6071580000\n",
      "current liability 3252796000\n",
      "total assets from latest statement for  PH  is  13274362000  and total liability is  6614934000\n",
      "retained earnings 9174189000\n",
      "ebitda"
     ]
    },
    {
     "name": "stdout",
     "output_type": "stream",
     "text": [
      " 427987000\n",
      "gross profit 839461000\n",
      "128.58"
     ]
    },
    {
     "name": "stdout",
     "output_type": "stream",
     "text": [
      "\n",
      "done..\n",
      "symbol:  PDCO\n",
      "wait...\n",
      "go.."
     ]
    },
    {
     "name": "stdout",
     "output_type": "stream",
     "text": [
      "\n",
      "symbol"
     ]
    },
    {
     "name": "stdout",
     "output_type": "stream",
     "text": [
      " PDCO\n",
      "current assets 1445186000\n",
      "current liability 582966000\n",
      "total assets from latest statement for  PDCO  is  2899172000  and total liability is  1431071000\n",
      "retained earnings 1519645000\n",
      "ebitda"
     ]
    },
    {
     "name": "stdout",
     "output_type": "stream",
     "text": [
      " 86256000\n",
      "gross profit 296225000\n",
      "48.10"
     ]
    },
    {
     "name": "stdout",
     "output_type": "stream",
     "text": [
      "\n",
      "done..\n",
      "symbol:  PAYX\n",
      "wait...\n",
      "go.."
     ]
    },
    {
     "name": "stdout",
     "output_type": "stream",
     "text": [
      "\n",
      "symbol"
     ]
    },
    {
     "name": "stdout",
     "output_type": "stream",
     "text": [
      " PAYX\n",
      "current assets 4872000000\n",
      "current liability 4344000000\n",
      "total assets from latest statement for  PAYX  is  6286600000  and total liability is  4501000000\n",
      "retained earnings 943700000\n",
      "ebitda"
     ]
    },
    {
     "name": "stdout",
     "output_type": "stream",
     "text": [
      " \n",
      "gross profit \n",
      "47.38"
     ]
    },
    {
     "name": "stdout",
     "output_type": "stream",
     "text": [
      "\n",
      "done..\n",
      "symbol:  BTU\n",
      "wait...\n",
      "go.."
     ]
    },
    {
     "name": "stdout",
     "output_type": "stream",
     "text": [
      "\n",
      "symbol"
     ]
    },
    {
     "name": "stdout",
     "output_type": "stream",
     "text": [
      " BTU\n",
      "current assets 1931400000\n",
      "current liability 1700300000\n",
      "total assets from latest statement for  BTU  is  13544700000  and total liability is  9951100000\n",
      "retained earnings 2108200000\n",
      "ebitda"
     ]
    },
    {
     "name": "stdout",
     "output_type": "stream",
     "text": [
      " 39900000\n",
      "gross profit 269600000\n",
      "9.68"
     ]
    },
    {
     "name": "stdout",
     "output_type": "stream",
     "text": [
      "\n",
      "done..\n",
      "symbol:  PNR\n",
      "wait...\n",
      "go.."
     ]
    },
    {
     "name": "stdout",
     "output_type": "stream",
     "text": [
      "\n",
      "symbol"
     ]
    },
    {
     "name": "stdout",
     "output_type": "stream",
     "text": [
      " PNR\n",
      "current assets 3052400000\n",
      "current liability 1668700000\n",
      "total assets from latest statement for  PNR  is  10926900000  and total liability is  5959500000\n",
      "retained earnings 1923200000\n",
      "ebitda"
     ]
    },
    {
     "name": "stdout",
     "output_type": "stream",
     "text": [
      " 276300000\n",
      "gross profit 597900000\n",
      "62.31"
     ]
    },
    {
     "name": "stdout",
     "output_type": "stream",
     "text": [
      "\n",
      "done..\n",
      "symbol:  PBCT\n",
      "wait...\n",
      "go.."
     ]
    },
    {
     "name": "stdout",
     "output_type": "stream",
     "text": [
      "\n",
      "symbol"
     ]
    },
    {
     "name": "stdout",
     "output_type": "stream",
     "text": [
      " PBCT\n",
      "current assets -\n",
      "current liability -\n",
      "total assets from latest statement for  PBCT  is  34774900000  and total liability is  30119900000\n",
      "retained earnings 812100000\n",
      "ebitda"
     ]
    },
    {
     "name": "stdout",
     "output_type": "stream",
     "text": [
      " 101500000\n",
      "gross profit -\n",
      "14.69"
     ]
    },
    {
     "name": "stdout",
     "output_type": "stream",
     "text": [
      "\n",
      "done..\n",
      "symbol:  POM\n",
      "wait...\n",
      "go.."
     ]
    },
    {
     "name": "stdout",
     "output_type": "stream",
     "text": [
      "\n",
      "symbol"
     ]
    },
    {
     "name": "stdout",
     "output_type": "stream",
     "text": [
      " POM\n",
      "current assets 1316000000\n",
      "current liability 1767000000\n",
      "total assets from latest statement for  POM  is  15070000000  and total liability is  10642000000\n",
      "retained earnings 587000000\n",
      "ebitda"
     ]
    },
    {
     "name": "stdout",
     "output_type": "stream",
     "text": [
      " 165000000\n",
      "gross profit 372000000\n",
      "27.50"
     ]
    },
    {
     "name": "stdout",
     "output_type": "stream",
     "text": [
      "\n",
      "done..\n",
      "symbol:  PEP\n",
      "wait...\n",
      "go.."
     ]
    },
    {
     "name": "stdout",
     "output_type": "stream",
     "text": [
      "\n",
      "symbol"
     ]
    },
    {
     "name": "stdout",
     "output_type": "stream",
     "text": [
      " PEP\n",
      "current assets 26590000000\n",
      "current liability 22844000000\n",
      "total assets from latest statement for  PEP  is  80466000000  and total liability is  57395000000\n",
      "retained earnings 48764000000\n",
      "ebitda"
     ]
    },
    {
     "name": "stdout",
     "output_type": "stream",
     "text": [
      " 2870000000\n",
      "gross profit 9223000000\n",
      "100.385"
     ]
    },
    {
     "name": "stdout",
     "output_type": "stream",
     "text": [
      "\n",
      "done..\n",
      "symbol:  PKI\n",
      "wait...\n",
      "go.."
     ]
    },
    {
     "name": "stdout",
     "output_type": "stream",
     "text": [
      "\n",
      "symbol"
     ]
    },
    {
     "name": "stdout",
     "output_type": "stream",
     "text": [
      " PKI\n",
      "current assets 1074347000\n",
      "current liability 567433000\n",
      "total assets from latest statement for  PKI  is  3886470000  and total liability is  1823716000\n",
      "retained earnings 1787614000\n",
      "ebitda"
     ]
    },
    {
     "name": "stdout",
     "output_type": "stream",
     "text": [
      " 58776000\n",
      "gross profit 243309000\n",
      "44.79"
     ]
    },
    {
     "name": "stdout",
     "output_type": "stream",
     "text": [
      "\n",
      "done..\n",
      "symbol:  PRGO\n",
      "wait...\n",
      "go.."
     ]
    },
    {
     "name": "stdout",
     "output_type": "stream",
     "text": [
      "\n",
      "symbol"
     ]
    },
    {
     "name": "stdout",
     "output_type": "stream",
     "text": [
      " PRGO\n",
      "current assets 2367200000\n",
      "current liability 743500000\n",
      "total assets from latest statement for  PRGO  is  5508800000  and total liability is  3038900000\n",
      "retained earnings 1818800000\n",
      "ebitda"
     ]
    },
    {
     "name": "stdout",
     "output_type": "stream",
     "text": [
      " 157300000\n",
      "gross profit 356300000\n",
      "157.915"
     ]
    },
    {
     "name": "stdout",
     "output_type": "stream",
     "text": [
      "\n",
      "done..\n",
      "symbol:  PETM\n",
      "wait...\n",
      "go.."
     ]
    },
    {
     "name": "stdout",
     "output_type": "stream",
     "text": [
      "\n",
      "symbol"
     ]
    },
    {
     "name": "stdout",
     "output_type": "stream",
     "text": [
      " PETM\n",
      "current assets 1374889000\n",
      "current liability 787960000\n",
      "total assets from latest statement for  PETM  is  2565747000  and total liability is  1405951000\n",
      "retained earnings 2335983000\n",
      "ebitda"
     ]
    },
    {
     "name": "stdout",
     "output_type": "stream",
     "text": [
      " 162952000\n",
      "gross profit 515117000\n",
      "78.41"
     ]
    },
    {
     "name": "stdout",
     "output_type": "stream",
     "text": [
      "\n",
      "done..\n",
      "symbol:  PFE\n",
      "wait...\n",
      "go.."
     ]
    },
    {
     "name": "stdout",
     "output_type": "stream",
     "text": [
      "\n",
      "symbol"
     ]
    },
    {
     "name": "stdout",
     "output_type": "stream",
     "text": [
      " PFE\n",
      "current assets 56987000000\n",
      "current liability 19920000000\n",
      "total assets from latest statement for  PFE  is  171362000000  and total liability is  93374000000\n",
      "retained earnings 74292000000\n",
      "ebitda"
     ]
    },
    {
     "name": "stdout",
     "output_type": "stream",
     "text": [
      " 3587000000\n",
      "gross profit 9993000000\n",
      "31.54"
     ]
    },
    {
     "name": "stdout",
     "output_type": "stream",
     "text": [
      "\n",
      "done..\n",
      "symbol:  PCG\n",
      "wait...\n",
      "go.."
     ]
    },
    {
     "name": "stdout",
     "output_type": "stream",
     "text": [
      "\n",
      "symbol"
     ]
    },
    {
     "name": "stdout",
     "output_type": "stream",
     "text": [
      " PCG\n",
      "current assets 6071000000\n",
      "current liability 5726000000\n",
      "total assets from latest statement for  PCG  is  57884000000  and total liability is  41853000000\n",
      "retained earnings 5403000000\n",
      "ebitda"
     ]
    },
    {
     "name": "stdout",
     "output_type": "stream",
     "text": [
      " 1103000000\n",
      "gross profit 1736000000\n",
      "51.645"
     ]
    },
    {
     "name": "stdout",
     "output_type": "stream",
     "text": [
      "\n",
      "done..\n",
      "symbol:  PM\n",
      "wait...\n",
      "go.."
     ]
    },
    {
     "name": "stdout",
     "output_type": "stream",
     "text": [
      "\n",
      "symbol"
     ]
    },
    {
     "name": "stdout",
     "output_type": "stream",
     "text": [
      " PM\n",
      "current assets 14710000000\n",
      "current liability 13580000000\n",
      "total assets from latest statement for  PM  is  36325000000  and total liability is  45617000000\n",
      "retained earnings 28601000000\n",
      "ebitda"
     ]
    },
    {
     "name": "stdout",
     "output_type": "stream",
     "text": [
      " 2874000000\n",
      "gross profit 5101000000\n",
      "87.155"
     ]
    },
    {
     "name": "stdout",
     "output_type": "stream",
     "text": [
      "\n",
      "done..\n",
      "symbol:  PSX\n",
      "wait...\n",
      "go.."
     ]
    },
    {
     "name": "stdout",
     "output_type": "stream",
     "text": [
      "\n",
      "symbol"
     ]
    },
    {
     "name": "stdout",
     "output_type": "stream",
     "text": [
      " PSX\n",
      "current assets 18194000000\n",
      "current liability 13769000000\n",
      "total assets from latest statement for  PSX  is  49650000000  and total liability is  27904000000\n",
      "retained earnings 8439000000\n",
      "ebitda"
     ]
    },
    {
     "name": "stdout",
     "output_type": "stream",
     "text": [
      " \n",
      "gross profit \n",
      "73.81"
     ]
    },
    {
     "name": "stdout",
     "output_type": "stream",
     "text": [
      "\n",
      "done..\n",
      "symbol:  PNW\n",
      "wait...\n",
      "go.."
     ]
    },
    {
     "name": "stdout",
     "output_type": "stream",
     "text": [
      "\n",
      "symbol"
     ]
    },
    {
     "name": "stdout",
     "output_type": "stream",
     "text": [
      " PNW\n",
      "current assets 999072000\n",
      "current liability 1554707000\n",
      "total assets from latest statement for  PNW  is  13690317000  and total liability is  9456427000\n",
      "retained earnings 1808232000\n",
      "ebitda"
     ]
    },
    {
     "name": "stdout",
     "output_type": "stream",
     "text": [
      " 267675000\n",
      "gross profit 404188000\n",
      "64.675"
     ]
    },
    {
     "name": "stdout",
     "output_type": "stream",
     "text": [
      "\n",
      "done..\n",
      "symbol:  PXD\n",
      "wait...\n",
      "go.."
     ]
    },
    {
     "name": "stdout",
     "output_type": "stream",
     "text": [
      "\n",
      "symbol"
     ]
    },
    {
     "name": "stdout",
     "output_type": "stream",
     "text": [
      " PXD\n",
      "current assets 1491000000\n",
      "current liability 1439000000\n",
      "total assets from latest statement for  PXD  is  13272000000  and total liability is  6127000000\n",
      "retained earnings 2152000000\n",
      "ebitda"
     ]
    },
    {
     "name": "stdout",
     "output_type": "stream",
     "text": [
      " 683000000\n",
      "gross profit 778000000\n",
      "148.13"
     ]
    },
    {
     "name": "stdout",
     "output_type": "stream",
     "text": [
      "\n",
      "done..\n",
      "symbol:  PBI\n",
      "wait...\n",
      "go.."
     ]
    },
    {
     "name": "stdout",
     "output_type": "stream",
     "text": [
      "\n",
      "symbol"
     ]
    },
    {
     "name": "stdout",
     "output_type": "stream",
     "text": [
      " PBI\n",
      "current assets 2692102000\n",
      "current liability 2256394000\n",
      "total assets from latest statement for  PBI  is  6424037000  and total liability is  6145691000\n",
      "retained earnings 4872875000\n",
      "ebitda"
     ]
    },
    {
     "name": "stdout",
     "output_type": "stream",
     "text": [
      " 163695000\n",
      "gross profit 520100000\n",
      "23.90"
     ]
    },
    {
     "name": "stdout",
     "output_type": "stream",
     "text": [
      "\n",
      "done..\n",
      "symbol:  PCL\n",
      "wait...\n",
      "go.."
     ]
    },
    {
     "name": "stdout",
     "output_type": "stream",
     "text": [
      "\n",
      "symbol"
     ]
    },
    {
     "name": "stdout",
     "output_type": "stream",
     "text": [
      " PCL\n",
      "current assets 248000000\n",
      "current liability 294000000\n",
      "total assets from latest statement for  PCL  is  5277000000  and total liability is  3573000000\n",
      "retained earnings -261000000\n",
      "ebitda"
     ]
    },
    {
     "name": "stdout",
     "output_type": "stream",
     "text": [
      " 106000000\n",
      "gross profit 109000000\n",
      "41.495"
     ]
    },
    {
     "name": "stdout",
     "output_type": "stream",
     "text": [
      "\n",
      "done..\n",
      "symbol:  PNC\n",
      "wait...\n",
      "go.."
     ]
    },
    {
     "name": "stdout",
     "output_type": "stream",
     "text": [
      "\n",
      "symbol"
     ]
    },
    {
     "name": "stdout",
     "output_type": "stream",
     "text": [
      " PNC\n",
      "current assets -\n",
      "current liability -\n",
      "total assets from latest statement for  PNC  is  334424000000  and total liability is  289943000000\n",
      "retained earnings 25464000000\n",
      "ebitda"
     ]
    },
    {
     "name": "stdout",
     "output_type": "stream",
     "text": [
      " 1572000000\n",
      "gross profit -\n",
      "87.24"
     ]
    },
    {
     "name": "stdout",
     "output_type": "stream",
     "text": [
      "\n",
      "done..\n",
      "symbol:  PPG\n",
      "wait...\n",
      "go.."
     ]
    },
    {
     "name": "stdout",
     "output_type": "stream",
     "text": [
      "\n",
      "symbol"
     ]
    },
    {
     "name": "stdout",
     "output_type": "stream",
     "text": [
      " PPG\n",
      "current assets 8898000000\n",
      "current liability 4896000000\n",
      "total assets from latest statement for  PPG  is  17087000000  and total liability is  10966000000\n",
      "retained earnings 14506000000\n",
      "ebitda"
     ]
    },
    {
     "name": "stdout",
     "output_type": "stream",
     "text": [
      " \n",
      "gross profit \n",
      "218.90"
     ]
    },
    {
     "name": "stdout",
     "output_type": "stream",
     "text": [
      "\n",
      "done..\n",
      "symbol:  PPL\n",
      "wait...\n",
      "go.."
     ]
    },
    {
     "name": "stdout",
     "output_type": "stream",
     "text": [
      "\n",
      "symbol"
     ]
    },
    {
     "name": "stdout",
     "output_type": "stream",
     "text": [
      " PPL\n",
      "current assets 5760000000\n",
      "current liability 5412000000\n",
      "total assets from latest statement for  PPL  is  48189000000  and total liability is  34215000000\n",
      "retained earnings 6017000000\n",
      "ebitda"
     ]
    },
    {
     "name": "stdout",
     "output_type": "stream",
     "text": [
      " 999000000\n",
      "gross profit 1882000000\n",
      "35.835"
     ]
    },
    {
     "name": "stdout",
     "output_type": "stream",
     "text": [
      "\n",
      "done..\n",
      "symbol:  PX\n",
      "wait...\n",
      "go.."
     ]
    },
    {
     "name": "stdout",
     "output_type": "stream",
     "text": [
      "\n",
      "symbol"
     ]
    },
    {
     "name": "stdout",
     "output_type": "stream",
     "text": [
      " PX\n",
      "current assets 3058000000\n",
      "current liability 2960000000\n",
      "total assets from latest statement for  PX  is  20384000000  and total liability is  13642000000\n",
      "retained earnings 11348000000\n",
      "ebitda"
     ]
    },
    {
     "name": "stdout",
     "output_type": "stream",
     "text": [
      " 711000000\n",
      "gross profit 1364000000\n",
      "128.16"
     ]
    },
    {
     "name": "stdout",
     "output_type": "stream",
     "text": [
      "\n",
      "done..\n",
      "symbol:  PCP\n",
      "wait...\n",
      "go.."
     ]
    },
    {
     "name": "stdout",
     "output_type": "stream",
     "text": [
      "\n",
      "symbol"
     ]
    },
    {
     "name": "stdout",
     "output_type": "stream",
     "text": [
      " PCP\n",
      "current assets 5855000000\n",
      "current liability 1957000000\n",
      "total assets from latest statement for  PCP  is  19562000000  and total liability is  7930000000\n",
      "retained earnings 11113000000\n",
      "ebitda"
     ]
    },
    {
     "name": "stdout",
     "output_type": "stream",
     "text": [
      " 707000000\n",
      "gross profit 862000000\n",
      "235.37"
     ]
    },
    {
     "name": "stdout",
     "output_type": "stream",
     "text": [
      "\n",
      "done..\n",
      "symbol:  PFG\n",
      "wait...\n",
      "go.."
     ]
    },
    {
     "name": "stdout",
     "output_type": "stream",
     "text": [
      "\n",
      "symbol"
     ]
    },
    {
     "name": "stdout",
     "output_type": "stream",
     "text": [
      " PFG\n",
      "current assets -\n",
      "current liability -\n",
      "total assets from latest statement for  PFG  is  216422800000  and total liability is  206050300000\n",
      "retained earnings 5945200000\n",
      "ebitda"
     ]
    },
    {
     "name": "stdout",
     "output_type": "stream",
     "text": [
      " 393800000\n",
      "gross profit 1370500000\n",
      "53.035"
     ]
    },
    {
     "name": "stdout",
     "output_type": "stream",
     "text": [
      "\n",
      "done..\n",
      "symbol:  PG\n",
      "wait...\n",
      "go.."
     ]
    },
    {
     "name": "stdout",
     "output_type": "stream",
     "text": [
      "\n",
      "symbol"
     ]
    },
    {
     "name": "stdout",
     "output_type": "stream",
     "text": [
      " PG\n",
      "current assets 29107000000\n",
      "current liability 32071000000\n",
      "total assets from latest statement for  PG  is  138183000000  and total liability is  72128000000\n",
      "retained earnings 85207000000\n",
      "ebitda"
     ]
    },
    {
     "name": "stdout",
     "output_type": "stream",
     "text": [
      " 2992000000\n",
      "gross profit 10240000000\n",
      "90.89"
     ]
    },
    {
     "name": "stdout",
     "output_type": "stream",
     "text": [
      "\n",
      "done..\n",
      "symbol:  PGR\n",
      "wait...\n",
      "go.."
     ]
    },
    {
     "name": "stdout",
     "output_type": "stream",
     "text": [
      "\n",
      "error on "
     ]
    },
    {
     "name": "stdout",
     "output_type": "stream",
     "text": [
      " PGR . Error message (<class 'TypeError'>, TypeError(\"'NoneType' object is not subscriptable\",), <traceback object at 0x7fe5131d6948>)\n",
      "done..\n",
      "symbol:  PLD\n",
      "wait...\n",
      "go.."
     ]
    },
    {
     "name": "stdout",
     "output_type": "stream",
     "text": [
      "\n",
      "symbol"
     ]
    },
    {
     "name": "stdout",
     "output_type": "stream",
     "text": [
      " PLD\n",
      "current assets -\n",
      "current liability -\n",
      "total assets from latest statement for  PLD  is  24072103000  and total liability is  10632002000\n",
      "retained earnings -4214224000\n",
      "ebitda"
     ]
    },
    {
     "name": "stdout",
     "output_type": "stream",
     "text": [
      " 192949000\n",
      "gross profit 312827000\n",
      "42.57"
     ]
    },
    {
     "name": "stdout",
     "output_type": "stream",
     "text": [
      "\n",
      "done..\n",
      "symbol:  PRU\n",
      "wait...\n",
      "go.."
     ]
    },
    {
     "name": "stdout",
     "output_type": "stream",
     "text": [
      "\n",
      "symbol"
     ]
    },
    {
     "name": "stdout",
     "output_type": "stream",
     "text": [
      " PRU\n",
      "current assets -\n",
      "current liability -\n",
      "total assets from latest statement for  PRU  is  764147000000  and total liability is  722378000000\n",
      "retained earnings 16616000000\n",
      "ebitda"
     ]
    },
    {
     "name": "stdout",
     "output_type": "stream",
     "text": [
      " 284000000\n",
      "gross profit 4700000000\n",
      "84.76"
     ]
    },
    {
     "name": "stdout",
     "output_type": "stream",
     "text": [
      "\n",
      "done..\n",
      "symbol:  PEG\n",
      "wait...\n",
      "go.."
     ]
    },
    {
     "name": "stdout",
     "output_type": "stream",
     "text": [
      "\n",
      "symbol"
     ]
    },
    {
     "name": "stdout",
     "output_type": "stream",
     "text": [
      " PEG\n",
      "current assets 3846000000\n",
      "current liability 3136000000\n",
      "total assets from latest statement for  PEG  is  34147000000  and total liability is  22064000000\n",
      "retained earnings 7938000000\n",
      "ebitda"
     ]
    },
    {
     "name": "stdout",
     "output_type": "stream",
     "text": [
      " 805000000\n",
      "gross profit 1064000000\n",
      "41.46"
     ]
    },
    {
     "name": "stdout",
     "output_type": "stream",
     "text": [
      "\n",
      "done..\n",
      "symbol:  PSA\n",
      "wait...\n",
      "go.."
     ]
    },
    {
     "name": "stdout",
     "output_type": "stream",
     "text": [
      "\n",
      "symbol"
     ]
    },
    {
     "name": "stdout",
     "output_type": "stream",
     "text": [
      " PSA\n",
      "current assets -\n",
      "current liability -\n",
      "total assets from latest statement for  PSA  is  9624468000  and total liability is  358038000\n",
      "retained earnings -417663000\n",
      "ebitda"
     ]
    },
    {
     "name": "stdout",
     "output_type": "stream",
     "text": [
      " 281649000\n",
      "gross profit 411603000\n",
      "185.885"
     ]
    },
    {
     "name": "stdout",
     "output_type": "stream",
     "text": [
      "\n",
      "done..\n",
      "symbol:  PHM\n",
      "wait...\n",
      "go.."
     ]
    },
    {
     "name": "stdout",
     "output_type": "stream",
     "text": [
      "\n",
      "symbol"
     ]
    },
    {
     "name": "stdout",
     "output_type": "stream",
     "text": [
      " PHM\n",
      "current assets -\n",
      "current liability -\n",
      "total assets from latest statement for  PHM  is  8614645000  and total liability is  3904236000\n",
      "retained earnings -\n",
      "ebitda"
     ]
    },
    {
     "name": "stdout",
     "output_type": "stream",
     "text": [
      " 225137000\n",
      "gross profit 373193000\n",
      "21.705"
     ]
    },
    {
     "name": "stdout",
     "output_type": "stream",
     "text": [
      "\n",
      "done..\n",
      "symbol:  PVH\n",
      "wait...\n",
      "go.."
     ]
    },
    {
     "name": "stdout",
     "output_type": "stream",
     "text": [
      "\n",
      "symbol"
     ]
    },
    {
     "name": "stdout",
     "output_type": "stream",
     "text": [
      " PVH\n",
      "current assets 2994500000\n",
      "current liability 1604100000\n",
      "total assets from latest statement for  PVH  is  11585300000  and total liability is  7055000000\n",
      "retained earnings 1727200000\n",
      "ebitda"
     ]
    },
    {
     "name": "stdout",
     "output_type": "stream",
     "text": [
      " 159300000\n",
      "gross profit 1054700000\n",
      "122.04"
     ]
    },
    {
     "name": "stdout",
     "output_type": "stream",
     "text": [
      "\n",
      "done..\n",
      "symbol:  QEP\n",
      "wait...\n",
      "go.."
     ]
    },
    {
     "name": "stdout",
     "output_type": "stream",
     "text": [
      "\n",
      "symbol"
     ]
    },
    {
     "name": "stdout",
     "output_type": "stream",
     "text": [
      " QEP\n",
      "current assets 837500000\n",
      "current liability 1004800000\n",
      "total assets from latest statement for  QEP  is  10276200000  and total liability is  6770600000\n",
      "retained earnings 3025400000\n",
      "ebitda"
     ]
    },
    {
     "name": "stdout",
     "output_type": "stream",
     "text": [
      " 199200000\n",
      "gross profit 359400000\n",
      "21.74"
     ]
    },
    {
     "name": "stdout",
     "output_type": "stream",
     "text": [
      "\n",
      "done..\n",
      "symbol:  QCOM\n",
      "wait...\n",
      "go.."
     ]
    },
    {
     "name": "stdout",
     "output_type": "stream",
     "text": [
      "\n",
      "symbol"
     ]
    },
    {
     "name": "stdout",
     "output_type": "stream",
     "text": [
      " QCOM\n",
      "current assets 22413000000\n",
      "current liability 6013000000\n",
      "total assets from latest statement for  QCOM  is  48574000000  and total liability is  9405000000\n",
      "retained earnings 30799000000\n",
      "ebitda"
     ]
    },
    {
     "name": "stdout",
     "output_type": "stream",
     "text": [
      " 2252000000\n",
      "gross profit 3935000000\n",
      "72.71"
     ]
    },
    {
     "name": "stdout",
     "output_type": "stream",
     "text": [
      "\n",
      "done..\n",
      "symbol:  PWR\n",
      "wait...\n",
      "go.."
     ]
    },
    {
     "name": "stdout",
     "output_type": "stream",
     "text": [
      "\n",
      "symbol"
     ]
    },
    {
     "name": "stdout",
     "output_type": "stream",
     "text": [
      " PWR\n",
      "current assets 2536467000\n",
      "current liability 1128127000\n",
      "total assets from latest statement for  PWR  is  6229289000  and total liability is  1758252000\n",
      "retained earnings 1300215000\n",
      "ebitda"
     ]
    },
    {
     "name": "stdout",
     "output_type": "stream",
     "text": [
      " 143436000\n",
      "gross profit 352971000\n",
      "29.13"
     ]
    },
    {
     "name": "stdout",
     "output_type": "stream",
     "text": [
      "\n",
      "done..\n",
      "symbol:  DGX\n",
      "wait...\n",
      "go.."
     ]
    },
    {
     "name": "stdout",
     "output_type": "stream",
     "text": [
      "\n",
      "symbol"
     ]
    },
    {
     "name": "stdout",
     "output_type": "stream",
     "text": [
      " DGX\n",
      "current assets 1563000000\n",
      "current liability 1190000000\n",
      "total assets from latest statement for  DGX  is  9801000000  and total liability is  5619000000\n",
      "retained earnings 5581000000\n",
      "ebitda"
     ]
    },
    {
     "name": "stdout",
     "output_type": "stream",
     "text": [
      " 262000000\n",
      "gross profit 726000000\n",
      "65.10"
     ]
    },
    {
     "name": "stdout",
     "output_type": "stream",
     "text": [
      "\n",
      "done..\n",
      "symbol:  RL\n",
      "wait...\n",
      "go.."
     ]
    },
    {
     "name": "stdout",
     "output_type": "stream",
     "text": [
      "\n",
      "symbol"
     ]
    },
    {
     "name": "stdout",
     "output_type": "stream",
     "text": [
      " RL\n",
      "current assets 3560000000\n",
      "current liability 1283000000\n",
      "total assets from latest statement for  RL  is  6398000000  and total liability is  2369000000\n",
      "retained earnings 5530000000\n",
      "ebitda"
     ]
    },
    {
     "name": "stdout",
     "output_type": "stream",
     "text": [
      " 283000000\n",
      "gross profit 1132000000\n",
      "180.79"
     ]
    },
    {
     "name": "stdout",
     "output_type": "stream",
     "text": [
      "\n",
      "done..\n",
      "symbol:  RRC\n",
      "wait...\n",
      "go.."
     ]
    },
    {
     "name": "stdout",
     "output_type": "stream",
     "text": [
      "\n",
      "symbol"
     ]
    },
    {
     "name": "stdout",
     "output_type": "stream",
     "text": [
      " RRC\n",
      "current assets 236642000\n",
      "current liability 466412000\n",
      "total assets from latest statement for  RRC  is  8034450000  and total liability is  4865533000\n",
      "retained earnings 781049000\n",
      "ebitda"
     ]
    },
    {
     "name": "stdout",
     "output_type": "stream",
     "text": [
      " 279128000\n",
      "gross profit 323116000\n",
      "65.18"
     ]
    },
    {
     "name": "stdout",
     "output_type": "stream",
     "text": [
      "\n",
      "done..\n",
      "symbol:  RTN\n",
      "wait...\n",
      "go.."
     ]
    },
    {
     "name": "stdout",
     "output_type": "stream",
     "text": [
      "\n",
      "symbol"
     ]
    },
    {
     "name": "stdout",
     "output_type": "stream",
     "text": [
      " RTN\n",
      "current assets 10285000000\n",
      "current liability 5955000000\n",
      "total assets from latest statement for  RTN  is  26307000000  and total liability is  14523000000\n",
      "retained earnings 15273000000\n",
      "ebitda"
     ]
    },
    {
     "name": "stdout",
     "output_type": "stream",
     "text": [
      " 765000000\n",
      "gross profit 1303000000\n",
      "106.225"
     ]
    },
    {
     "name": "stdout",
     "output_type": "stream",
     "text": [
      "\n",
      "done..\n",
      "symbol:  RHT\n",
      "wait...\n",
      "go.."
     ]
    },
    {
     "name": "stdout",
     "output_type": "stream",
     "text": [
      "\n",
      "symbol"
     ]
    },
    {
     "name": "stdout",
     "output_type": "stream",
     "text": [
      " RHT\n",
      "current assets 1325564000\n",
      "current liability 1134009000\n",
      "total assets from latest statement for  RHT  is  3067304000  and total liability is  1552648000\n",
      "retained earnings 804740000\n",
      "ebitda"
     ]
    },
    {
     "name": "stdout",
     "output_type": "stream",
     "text": [
      " 65948000\n",
      "gross profit 378725000\n",
      "61.16"
     ]
    },
    {
     "name": "stdout",
     "output_type": "stream",
     "text": [
      "\n",
      "done..\n",
      "symbol:  REGN\n",
      "wait...\n",
      "go.."
     ]
    },
    {
     "name": "stdout",
     "output_type": "stream",
     "text": [
      "\n",
      "symbol"
     ]
    },
    {
     "name": "stdout",
     "output_type": "stream",
     "text": [
      " REGN\n",
      "current assets 2200512000\n",
      "current liability 410200000\n",
      "total assets from latest statement for  REGN  is  3739419000  and total liability is  1187631000\n",
      "retained earnings 145206000\n",
      "ebitda"
     ]
    },
    {
     "name": "stdout",
     "output_type": "stream",
     "text": [
      " 185310000\n",
      "gross profit 670195000\n",
      "418.35"
     ]
    },
    {
     "name": "stdout",
     "output_type": "stream",
     "text": [
      "\n",
      "done..\n",
      "symbol:  RF\n",
      "wait...\n",
      "go.."
     ]
    },
    {
     "name": "stdout",
     "output_type": "stream",
     "text": [
      "\n",
      "symbol"
     ]
    },
    {
     "name": "stdout",
     "output_type": "stream",
     "text": [
      " RF\n",
      "current assets -\n",
      "current liability -\n",
      "total assets from latest statement for  RF  is  119226000000  and total liability is  102066000000\n",
      "retained earnings -1272000000\n",
      "ebitda"
     ]
    },
    {
     "name": "stdout",
     "output_type": "stream",
     "text": [
      " 499000000\n",
      "gross profit -\n",
      "9.84"
     ]
    },
    {
     "name": "stdout",
     "output_type": "stream",
     "text": [
      "\n",
      "done..\n",
      "symbol:  RSG\n",
      "wait...\n",
      "go.."
     ]
    },
    {
     "name": "stdout",
     "output_type": "stream",
     "text": [
      "\n",
      "symbol"
     ]
    },
    {
     "name": "stdout",
     "output_type": "stream",
     "text": [
      " RSG\n",
      "current assets 1360900000\n",
      "current liability 1725000000\n",
      "total assets from latest statement for  RSG  is  19987000000  and total liability is  12058000000\n",
      "retained earnings 2843900000\n",
      "ebitda"
     ]
    },
    {
     "name": "stdout",
     "output_type": "stream",
     "text": [
      " 382400000\n",
      "gross profit 866800000\n",
      "39.27"
     ]
    },
    {
     "name": "stdout",
     "output_type": "stream",
     "text": [
      "\n",
      "done..\n",
      "symbol:  RAI\n",
      "wait...\n",
      "go.."
     ]
    },
    {
     "name": "stdout",
     "output_type": "stream",
     "text": [
      "\n",
      "symbol"
     ]
    },
    {
     "name": "stdout",
     "output_type": "stream",
     "text": [
      " RAI\n",
      "current assets 3456000000\n",
      "current liability 3286000000\n",
      "total assets from latest statement for  RAI  is  15332000000  and total liability is  10339000000\n",
      "retained earnings -1103000000\n",
      "ebitda"
     ]
    },
    {
     "name": "stdout",
     "output_type": "stream",
     "text": [
      " 823000000\n",
      "gross profit 1206000000\n",
      "65.71"
     ]
    },
    {
     "name": "stdout",
     "output_type": "stream",
     "text": [
      "\n",
      "done..\n",
      "symbol:  RHI\n",
      "wait...\n",
      "go.."
     ]
    },
    {
     "name": "stdout",
     "output_type": "stream",
     "text": [
      "\n",
      "symbol"
     ]
    },
    {
     "name": "stdout",
     "output_type": "stream",
     "text": [
      " RHI\n",
      "current assets 1273919000\n",
      "current liability 580890000\n",
      "total assets from latest statement for  RHI  is  1588445000  and total liability is  612884000\n",
      "retained earnings 35436000\n",
      "ebitda"
     ]
    },
    {
     "name": "stdout",
     "output_type": "stream",
     "text": [
      " 123653000\n",
      "gross profit 478444000\n",
      "56.07"
     ]
    },
    {
     "name": "stdout",
     "output_type": "stream",
     "text": [
      "\n",
      "done..\n",
      "symbol:  ROK\n",
      "wait...\n",
      "go.."
     ]
    },
    {
     "name": "stdout",
     "output_type": "stream",
     "text": [
      "\n",
      "symbol"
     ]
    },
    {
     "name": "stdout",
     "output_type": "stream",
     "text": [
      " ROK\n",
      "current assets 3934200000\n",
      "current liability 1692100000\n",
      "total assets from latest statement for  ROK  is  6229500000  and total liability is  3571400000\n",
      "retained earnings 4839600000\n",
      "ebitda"
     ]
    },
    {
     "name": "stdout",
     "output_type": "stream",
     "text": [
      " 354000000\n",
      "gross profit 752900000\n",
      "116.52"
     ]
    },
    {
     "name": "stdout",
     "output_type": "stream",
     "text": [
      "\n",
      "done..\n",
      "symbol:  COL\n",
      "wait...\n",
      "go.."
     ]
    },
    {
     "name": "stdout",
     "output_type": "stream",
     "text": [
      "\n",
      "error on "
     ]
    },
    {
     "name": "stdout",
     "output_type": "stream",
     "text": [
      " COL . Error message (<class 'KeyError'>, KeyError('statement',), <traceback object at 0x7fe5131e0a48>)\n",
      "done..\n",
      "symbol:  ROP\n",
      "wait...\n",
      "go.."
     ]
    },
    {
     "name": "stdout",
     "output_type": "stream",
     "text": [
      "\n",
      "symbol"
     ]
    },
    {
     "name": "stdout",
     "output_type": "stream",
     "text": [
      " ROP\n",
      "current assets 1532691000\n",
      "current liability 662005000\n",
      "total assets from latest statement for  ROP  is  8510266000  and total liability is  3862042000\n",
      "retained earnings 3359297000\n",
      "ebitda"
     ]
    },
    {
     "name": "stdout",
     "output_type": "stream",
     "text": [
      " 246210000\n",
      "gross profit 524040000\n",
      "156.76"
     ]
    },
    {
     "name": "stdout",
     "output_type": "stream",
     "text": [
      "\n",
      "done..\n",
      "symbol:  ROST\n",
      "wait...\n",
      "go.."
     ]
    },
    {
     "name": "stdout",
     "output_type": "stream",
     "text": [
      "\n",
      "symbol"
     ]
    },
    {
     "name": "stdout",
     "output_type": "stream",
     "text": [
      " ROST\n",
      "current assets 2023865000\n",
      "current liability 1532121000\n",
      "total assets from latest statement for  ROST  is  4167832000  and total liability is  2018505000\n",
      "retained earnings 1325197000\n",
      "ebitda"
     ]
    },
    {
     "name": "stdout",
     "output_type": "stream",
     "text": [
      " 390419000\n",
      "gross profit 785548000\n",
      "90.22"
     ]
    },
    {
     "name": "stdout",
     "output_type": "stream",
     "text": [
      "\n",
      "done..\n",
      "symbol:  RDC\n",
      "wait...\n",
      "go.."
     ]
    },
    {
     "name": "stdout",
     "output_type": "stream",
     "text": [
      "\n",
      "symbol"
     ]
    },
    {
     "name": "stdout",
     "output_type": "stream",
     "text": [
      " RDC\n",
      "current assets 1300695000\n",
      "current liability 262092000\n",
      "total assets from latest statement for  RDC  is  8828780000  and total liability is  3718789000\n",
      "retained earnings 3806453000\n",
      "ebitda"
     ]
    },
    {
     "name": "stdout",
     "output_type": "stream",
     "text": [
      " 106825000\n",
      "gross profit 220785000\n",
      "21.75"
     ]
    },
    {
     "name": "stdout",
     "output_type": "stream",
     "text": [
      "\n",
      "done..\n",
      "symbol:  R\n",
      "wait...\n",
      "go.."
     ]
    },
    {
     "name": "stdout",
     "output_type": "stream",
     "text": [
      "\n",
      "symbol"
     ]
    },
    {
     "name": "stdout",
     "output_type": "stream",
     "text": [
      " R\n",
      "current assets 1122362000\n",
      "current liability 1475573000\n",
      "total assets from latest statement for  R  is  9604362000  and total liability is  7621863000\n",
      "retained earnings 1470499000\n",
      "ebitda"
     ]
    },
    {
     "name": "stdout",
     "output_type": "stream",
     "text": [
      " 165603000\n",
      "gross profit 361806000\n",
      "92.96"
     ]
    },
    {
     "name": "stdout",
     "output_type": "stream",
     "text": [
      "\n",
      "done..\n",
      "symbol:  SWY\n",
      "wait...\n",
      "go.."
     ]
    },
    {
     "name": "stdout",
     "output_type": "stream",
     "text": [
      "\n",
      "symbol"
     ]
    },
    {
     "name": "stdout",
     "output_type": "stream",
     "text": [
      " SWY\n",
      "current assets 4539100000\n",
      "current liability 2897100000\n",
      "total assets from latest statement for  SWY  is  12800800000  and total liability is  7253200000\n",
      "retained earnings 4257500000\n",
      "ebitda"
     ]
    },
    {
     "name": "stdout",
     "output_type": "stream",
     "text": [
      " 12600000\n",
      "gross profit 2174600000\n",
      "34.81"
     ]
    },
    {
     "name": "stdout",
     "output_type": "stream",
     "text": [
      "\n",
      "done..\n",
      "symbol:  CRM\n",
      "wait...\n",
      "go.."
     ]
    },
    {
     "name": "stdout",
     "output_type": "stream",
     "text": [
      "\n",
      "symbol"
     ]
    },
    {
     "name": "stdout",
     "output_type": "stream",
     "text": [
      " CRM\n",
      "current assets 2439155000\n",
      "current liability 3308352000\n",
      "total assets from latest statement for  CRM  is  9412663000  and total liability is  5620167000\n",
      "retained earnings -540080000\n",
      "ebitda"
     ]
    },
    {
     "name": "stdout",
     "output_type": "stream",
     "text": [
      " -4167000\n",
      "gross profit 1050444000\n",
      "58.86"
     ]
    },
    {
     "name": "stdout",
     "output_type": "stream",
     "text": [
      "\n",
      "done..\n",
      "symbol:  SNDK\n",
      "wait...\n",
      "go.."
     ]
    },
    {
     "name": "stdout",
     "output_type": "stream",
     "text": [
      "\n",
      "symbol"
     ]
    },
    {
     "name": "stdout",
     "output_type": "stream",
     "text": [
      " SNDK\n",
      "current assets 4354134000\n",
      "current liability 2214946000\n",
      "total assets from latest statement for  SNDK  is  10708261000  and total liability is  3643555000\n",
      "retained earnings 1780420000\n",
      "ebitda"
     ]
    },
    {
     "name": "stdout",
     "output_type": "stream",
     "text": [
      " 372919000\n",
      "gross profit 817138000\n",
      "101.57"
     ]
    },
    {
     "name": "stdout",
     "output_type": "stream",
     "text": [
      "\n",
      "done..\n",
      "symbol:  SCG\n",
      "wait...\n",
      "go.."
     ]
    },
    {
     "name": "stdout",
     "output_type": "stream",
     "text": [
      "\n",
      "symbol"
     ]
    },
    {
     "name": "stdout",
     "output_type": "stream",
     "text": [
      " SCG\n",
      "current assets 1359000000\n",
      "current liability 1536000000\n",
      "total assets from latest statement for  SCG  is  15871000000  and total liability is  10923000000\n",
      "retained earnings 2654000000\n",
      "ebitda"
     ]
    },
    {
     "name": "stdout",
     "output_type": "stream",
     "text": [
      " 286000000\n",
      "gross profit 422000000\n",
      "57.63"
     ]
    },
    {
     "name": "stdout",
     "output_type": "stream",
     "text": [
      "\n",
      "done..\n",
      "symbol:  SLB\n",
      "wait...\n",
      "go.."
     ]
    },
    {
     "name": "stdout",
     "output_type": "stream",
     "text": [
      "\n",
      "symbol"
     ]
    },
    {
     "name": "stdout",
     "output_type": "stream",
     "text": [
      " SLB\n",
      "current assets 25473000000\n",
      "current liability 12388000000\n",
      "total assets from latest statement for  SLB  is  68320000000  and total liability is  27815000000\n",
      "retained earnings 41543000000\n",
      "ebitda"
     ]
    },
    {
     "name": "stdout",
     "output_type": "stream",
     "text": [
      " 2609000000\n",
      "gross profit 2955000000\n",
      "85.5314"
     ]
    },
    {
     "name": "stdout",
     "output_type": "stream",
     "text": [
      "\n",
      "done..\n",
      "symbol:  SCHW\n",
      "wait...\n",
      "go.."
     ]
    },
    {
     "name": "stdout",
     "output_type": "stream",
     "text": [
      "\n",
      "symbol"
     ]
    },
    {
     "name": "stdout",
     "output_type": "stream",
     "text": [
      " SCHW\n",
      "current assets -\n",
      "current liability -\n",
      "total assets from latest statement for  SCHW  is  147444000000  and total liability is  135971000000\n",
      "retained earnings 9949000000\n",
      "ebitda"
     ]
    },
    {
     "name": "stdout",
     "output_type": "stream",
     "text": [
      " 545000000\n",
      "gross profit 1551000000\n",
      "28.145"
     ]
    },
    {
     "name": "stdout",
     "output_type": "stream",
     "text": [
      "\n",
      "done..\n",
      "symbol:  SNI\n",
      "wait...\n",
      "go.."
     ]
    },
    {
     "name": "stdout",
     "output_type": "stream",
     "text": [
      "\n",
      "symbol"
     ]
    },
    {
     "name": "stdout",
     "output_type": "stream",
     "text": [
      " SNI\n",
      "current assets 1314681000\n",
      "current liability 1126653000\n",
      "total assets from latest statement for  SNI  is  3921558000  and total liability is  2120181000\n",
      "retained earnings 299783000\n",
      "ebitda"
     ]
    },
    {
     "name": "stdout",
     "output_type": "stream",
     "text": [
      " 258446000\n",
      "gross profit 437324000\n",
      "78.42"
     ]
    },
    {
     "name": "stdout",
     "output_type": "stream",
     "text": [
      "\n",
      "done..\n",
      "symbol:  STX\n",
      "wait...\n",
      "go.."
     ]
    },
    {
     "name": "stdout",
     "output_type": "stream",
     "text": [
      "\n",
      "symbol"
     ]
    },
    {
     "name": "stdout",
     "output_type": "stream",
     "text": [
      " STX\n",
      "current assets 5583000000\n",
      "current liability 2596000000\n",
      "total assets from latest statement for  STX  is  9765000000  and total liability is  6819000000\n",
      "retained earnings -2619000000\n",
      "ebitda"
     ]
    },
    {
     "name": "stdout",
     "output_type": "stream",
     "text": [
      " 446000000\n",
      "gross profit 1051000000\n",
      "67.73"
     ]
    },
    {
     "name": "stdout",
     "output_type": "stream",
     "text": [
      "\n",
      "done..\n",
      "symbol:  SEE\n",
      "wait...\n",
      "go.."
     ]
    },
    {
     "name": "stdout",
     "output_type": "stream",
     "text": [
      "\n",
      "symbol"
     ]
    },
    {
     "name": "stdout",
     "output_type": "stream",
     "text": [
      " SEE\n",
      "current assets 2912700000\n",
      "current liability 2020300000\n",
      "total assets from latest statement for  SEE  is  8354500000  and total liability is  7027200000\n",
      "retained earnings 383900000\n",
      "ebitda"
     ]
    },
    {
     "name": "stdout",
     "output_type": "stream",
     "text": [
      " 164600000\n",
      "gross profit 693500000\n",
      "39.375"
     ]
    },
    {
     "name": "stdout",
     "output_type": "stream",
     "text": [
      "\n",
      "done..\n",
      "symbol:  SRE\n",
      "wait...\n",
      "go.."
     ]
    },
    {
     "name": "stdout",
     "output_type": "stream",
     "text": [
      "\n",
      "symbol"
     ]
    },
    {
     "name": "stdout",
     "output_type": "stream",
     "text": [
      " SRE\n",
      "current assets 4414000000\n",
      "current liability 4292000000\n",
      "total assets from latest statement for  SRE  is  38982000000  and total liability is  27629000000\n",
      "retained earnings 9205000000\n",
      "ebitda"
     ]
    },
    {
     "name": "stdout",
     "output_type": "stream",
     "text": [
      " 550000000\n",
      "gross profit 911000000\n",
      "110.72"
     ]
    },
    {
     "name": "stdout",
     "output_type": "stream",
     "text": [
      "\n",
      "done..\n",
      "symbol:  SHW\n",
      "wait...\n",
      "go.."
     ]
    },
    {
     "name": "stdout",
     "output_type": "stream",
     "text": [
      "\n",
      "symbol"
     ]
    },
    {
     "name": "stdout",
     "output_type": "stream",
     "text": [
      " SHW\n",
      "current assets 3079735000\n",
      "current liability 2868382000\n",
      "total assets from latest statement for  SHW  is  6317005000  and total liability is  4965069000\n",
      "retained earnings 2345016000\n",
      "ebitda"
     ]
    },
    {
     "name": "stdout",
     "output_type": "stream",
     "text": [
      " 490073000\n",
      "gross profit 1470955000\n",
      "244.00"
     ]
    },
    {
     "name": "stdout",
     "output_type": "stream",
     "text": [
      "\n",
      "done..\n",
      "symbol:  SIAL\n",
      "wait...\n",
      "go.."
     ]
    },
    {
     "name": "stdout",
     "output_type": "stream",
     "text": [
      "\n",
      "symbol"
     ]
    },
    {
     "name": "stdout",
     "output_type": "stream",
     "text": [
      " SIAL\n",
      "current assets 2182000000\n",
      "current liability 375000000\n",
      "total assets from latest statement for  SIAL  is  3996000000  and total liability is  894000000\n",
      "retained earnings 4943000000\n",
      "ebitda"
     ]
    },
    {
     "name": "stdout",
     "output_type": "stream",
     "text": [
      " 152000000\n",
      "gross profit 348000000\n",
      "136.04"
     ]
    },
    {
     "name": "stdout",
     "output_type": "stream",
     "text": [
      "\n",
      "done..\n",
      "symbol:  SPG\n",
      "wait...\n",
      "go.."
     ]
    },
    {
     "name": "stdout",
     "output_type": "stream",
     "text": [
      "\n",
      "symbol"
     ]
    },
    {
     "name": "stdout",
     "output_type": "stream",
     "text": [
      " SPG\n",
      "current assets -\n",
      "current liability -\n",
      "total assets from latest statement for  SPG  is  29672165000  and total liability is  24625307000\n",
      "retained earnings -4200226000\n",
      "ebitda"
     ]
    },
    {
     "name": "stdout",
     "output_type": "stream",
     "text": [
      " 491113000\n",
      "gross profit 1009177000\n",
      "181.12"
     ]
    },
    {
     "name": "stdout",
     "output_type": "stream",
     "text": [
      "\n",
      "done..\n",
      "symbol:  SJM\n",
      "wait...\n",
      "go.."
     ]
    },
    {
     "name": "stdout",
     "output_type": "stream",
     "text": [
      "\n",
      "symbol"
     ]
    },
    {
     "name": "stdout",
     "output_type": "stream",
     "text": [
      " SJM\n",
      "current assets 1725800000\n",
      "current liability 1004100000\n",
      "total assets from latest statement for  SJM  is  9334800000  and total liability is  4169800000\n",
      "retained earnings 1231000000\n",
      "ebitda"
     ]
    },
    {
     "name": "stdout",
     "output_type": "stream",
     "text": [
      " 255100000\n",
      "gross profit 536500000\n",
      "102.90"
     ]
    },
    {
     "name": "stdout",
     "output_type": "stream",
     "text": [
      "\n",
      "done..\n",
      "symbol:  SNA\n",
      "wait...\n",
      "go.."
     ]
    },
    {
     "name": "stdout",
     "output_type": "stream",
     "text": [
      "\n",
      "symbol"
     ]
    },
    {
     "name": "stdout",
     "output_type": "stream",
     "text": [
      " SNA\n",
      "current assets 1860200000\n",
      "current liability 733900000\n",
      "total assets from latest statement for  SNA  is  4268500000  and total liability is  1991500000\n",
      "retained earnings 2552100000\n",
      "ebitda"
     ]
    },
    {
     "name": "stdout",
     "output_type": "stream",
     "text": [
      " 167400000\n",
      "gross profit 431600000\n",
      "135.01"
     ]
    },
    {
     "name": "stdout",
     "output_type": "stream",
     "text": [
      "\n",
      "done..\n",
      "symbol:  SO\n",
      "wait...\n",
      "go.."
     ]
    },
    {
     "name": "stdout",
     "output_type": "stream",
     "text": [
      "\n",
      "symbol"
     ]
    },
    {
     "name": "stdout",
     "output_type": "stream",
     "text": [
      " SO\n",
      "current assets 6258000000\n",
      "current liability 6890000000\n",
      "total assets from latest statement for  SO  is  67654000000  and total liability is  46666000000\n",
      "retained earnings 9800000000\n",
      "ebitda"
     ]
    },
    {
     "name": "stdout",
     "output_type": "stream",
     "text": [
      " 1334000000\n",
      "gross profit 2468000000\n",
      "48.05"
     ]
    },
    {
     "name": "stdout",
     "output_type": "stream",
     "text": [
      "\n",
      "done..\n",
      "symbol:  LUV\n",
      "wait...\n",
      "go.."
     ]
    },
    {
     "name": "stdout",
     "output_type": "stream",
     "text": [
      "\n",
      "symbol"
     ]
    },
    {
     "name": "stdout",
     "output_type": "stream",
     "text": [
      " LUV\n",
      "current assets 4985000000\n",
      "current liability 6446000000\n",
      "total assets from latest statement for  LUV  is  20539000000  and total liability is  13110000000\n",
      "retained earnings 7266000000\n",
      "ebitda"
     ]
    },
    {
     "name": "stdout",
     "output_type": "stream",
     "text": [
      " 550000000\n",
      "gross profit 2805000000\n",
      "40.60"
     ]
    },
    {
     "name": "stdout",
     "output_type": "stream",
     "text": [
      "\n",
      "done..\n",
      "symbol:  SWN\n",
      "wait...\n",
      "go.."
     ]
    },
    {
     "name": "stdout",
     "output_type": "stream",
     "text": [
      "\n",
      "symbol"
     ]
    },
    {
     "name": "stdout",
     "output_type": "stream",
     "text": [
      " SWN\n",
      "current assets 660000000\n",
      "current liability 888000000\n",
      "total assets from latest statement for  SWN  is  9177000000  and total liability is  4884000000\n",
      "retained earnings 3265000000\n",
      "ebitda"
     ]
    },
    {
     "name": "stdout",
     "output_type": "stream",
     "text": [
      " 365000000\n",
      "gross profit 600000000\n",
      "31.23"
     ]
    },
    {
     "name": "stdout",
     "output_type": "stream",
     "text": [
      "\n",
      "done..\n",
      "symbol:  SE\n",
      "wait...\n",
      "go.."
     ]
    },
    {
     "name": "stdout",
     "output_type": "stream",
     "text": [
      "\n",
      "symbol"
     ]
    },
    {
     "name": "stdout",
     "output_type": "stream",
     "text": [
      " SE\n",
      "current assets 2252000000\n",
      "current liability 3491000000\n",
      "total assets from latest statement for  SE  is  34001000000  and total liability is  25387000000\n",
      "retained earnings 2473000000\n",
      "ebitda"
     ]
    },
    {
     "name": "stdout",
     "output_type": "stream",
     "text": [
      " 497000000\n",
      "gross profit 668000000\n",
      "37.255"
     ]
    },
    {
     "name": "stdout",
     "output_type": "stream",
     "text": [
      "\n",
      "done..\n",
      "symbol:  STJ\n",
      "wait...\n",
      "go.."
     ]
    },
    {
     "name": "stdout",
     "output_type": "stream",
     "text": [
      "\n",
      "symbol"
     ]
    },
    {
     "name": "stdout",
     "output_type": "stream",
     "text": [
      " STJ\n",
      "current assets 3836000000\n",
      "current liability 1988000000\n",
      "total assets from latest statement for  STJ  is  10236000000  and total liability is  6141000000\n",
      "retained earnings 4057000000\n",
      "ebitda"
     ]
    },
    {
     "name": "stdout",
     "output_type": "stream",
     "text": [
      " 250000000\n",
      "gross profit 960000000\n",
      "67.73"
     ]
    },
    {
     "name": "stdout",
     "output_type": "stream",
     "text": [
      "\n",
      "done..\n",
      "symbol:  SWK\n",
      "wait...\n",
      "go.."
     ]
    },
    {
     "name": "stdout",
     "output_type": "stream",
     "text": [
      "\n",
      "error on "
     ]
    },
    {
     "name": "stdout",
     "output_type": "stream",
     "text": [
      " SWK . Error message (<class 'KeyError'>, KeyError('statement',), <traceback object at 0x7fe5131cd8c8>)\n",
      "done..\n",
      "symbol:  SPLS\n",
      "wait...\n",
      "go.."
     ]
    },
    {
     "name": "stdout",
     "output_type": "stream",
     "text": [
      "\n",
      "symbol"
     ]
    },
    {
     "name": "stdout",
     "output_type": "stream",
     "text": [
      " SPLS\n",
      "current assets 5598635000\n",
      "current liability 3620722000\n",
      "total assets from latest statement for  SPLS  is  11304403000  and total liability is  5280314000\n",
      "retained earnings 7166108000\n",
      "ebitda"
     ]
    },
    {
     "name": "stdout",
     "output_type": "stream",
     "text": [
      " 326337000\n",
      "gross profit 1596276000\n",
      "14.06"
     ]
    },
    {
     "name": "stdout",
     "output_type": "stream",
     "text": [
      "\n",
      "done..\n",
      "symbol:  SBUX\n",
      "wait...\n",
      "go.."
     ]
    },
    {
     "name": "stdout",
     "output_type": "stream",
     "text": [
      "\n",
      "symbol"
     ]
    },
    {
     "name": "stdout",
     "output_type": "stream",
     "text": [
      " SBUX\n",
      "current assets 4168700000\n",
      "current liability 3038700000\n",
      "total assets from latest statement for  SBUX  is  10752900000  and total liability is  5480900000\n",
      "retained earnings 5206600000\n",
      "ebitda"
     ]
    },
    {
     "name": "stdout",
     "output_type": "stream",
     "text": [
      " 940500000\n",
      "gross profit 2457600000\n",
      "80.1662"
     ]
    },
    {
     "name": "stdout",
     "output_type": "stream",
     "text": [
      "\n",
      "done..\n",
      "symbol:  HOT\n",
      "wait...\n",
      "go.."
     ]
    },
    {
     "name": "stdout",
     "output_type": "stream",
     "text": [
      "\n",
      "symbol"
     ]
    },
    {
     "name": "stdout",
     "output_type": "stream",
     "text": [
      " HOT\n",
      "current assets 1752000000\n",
      "current liability 1931000000\n",
      "total assets from latest statement for  HOT  is  8426000000  and total liability is  6278000000\n",
      "retained earnings 2535000000\n",
      "ebitda"
     ]
    },
    {
     "name": "stdout",
     "output_type": "stream",
     "text": [
      " 161000000\n",
      "gross profit 1064000000\n",
      "77.60"
     ]
    },
    {
     "name": "stdout",
     "output_type": "stream",
     "text": [
      "\n",
      "done..\n",
      "symbol:  STT\n",
      "wait...\n",
      "go.."
     ]
    },
    {
     "name": "stdout",
     "output_type": "stream",
     "text": [
      "\n",
      "symbol"
     ]
    },
    {
     "name": "stdout",
     "output_type": "stream",
     "text": [
      " STT\n",
      "current assets -\n",
      "current liability -\n",
      "total assets from latest statement for  STT  is  274805000000  and total liability is  253649000000\n",
      "retained earnings 14531000000\n",
      "ebitda"
     ]
    },
    {
     "name": "stdout",
     "output_type": "stream",
     "text": [
      " 789000000\n",
      "gross profit -\n",
      "77.04"
     ]
    },
    {
     "name": "stdout",
     "output_type": "stream",
     "text": [
      "\n",
      "done..\n",
      "symbol:  SRCL\n",
      "wait...\n",
      "go.."
     ]
    },
    {
     "name": "stdout",
     "output_type": "stream",
     "text": [
      "\n",
      "symbol"
     ]
    },
    {
     "name": "stdout",
     "output_type": "stream",
     "text": [
      " SRCL\n",
      "current assets 592677000\n",
      "current liability 515305000\n",
      "total assets from latest statement for  SRCL  is  4445634000  and total liability is  2588947000\n",
      "retained earnings 1694549000\n",
      "ebitda"
     ]
    },
    {
     "name": "stdout",
     "output_type": "stream",
     "text": [
      " 139086000\n",
      "gross profit 278669000\n",
      "129.45"
     ]
    },
    {
     "name": "stdout",
     "output_type": "stream",
     "text": [
      "\n",
      "done..\n",
      "symbol:  SYK\n",
      "wait...\n",
      "go.."
     ]
    },
    {
     "name": "stdout",
     "output_type": "stream",
     "text": [
      "\n",
      "symbol"
     ]
    },
    {
     "name": "stdout",
     "output_type": "stream",
     "text": [
      " SYK\n",
      "current assets 9326000000\n",
      "current liability 4211000000\n",
      "total assets from latest statement for  SYK  is  17515000000  and total liability is  8891000000\n",
      "retained earnings 7430000000\n",
      "ebitda"
     ]
    },
    {
     "name": "stdout",
     "output_type": "stream",
     "text": [
      " 425000000\n",
      "gross profit 1567000000\n",
      "94.57"
     ]
    },
    {
     "name": "stdout",
     "output_type": "stream",
     "text": [
      "\n",
      "done..\n",
      "symbol:  STI\n",
      "wait...\n",
      "go.."
     ]
    },
    {
     "name": "stdout",
     "output_type": "stream",
     "text": [
      "\n",
      "symbol"
     ]
    },
    {
     "name": "stdout",
     "output_type": "stream",
     "text": [
      " STI\n",
      "current assets -\n",
      "current liability -\n",
      "total assets from latest statement for  STI  is  186818000000  and total liability is  164549000000\n",
      "retained earnings 13020000000\n",
      "ebitda"
     ]
    },
    {
     "name": "stdout",
     "output_type": "stream",
     "text": [
      " 726000000\n",
      "gross profit -\n",
      "39.31"
     ]
    },
    {
     "name": "stdout",
     "output_type": "stream",
     "text": [
      "\n",
      "done..\n",
      "symbol:  SYMC\n",
      "wait...\n",
      "go.."
     ]
    },
    {
     "name": "stdout",
     "output_type": "stream",
     "text": [
      "\n",
      "symbol"
     ]
    },
    {
     "name": "stdout",
     "output_type": "stream",
     "text": [
      " SYMC\n",
      "current assets 5038000000\n",
      "current liability 4045000000\n",
      "total assets from latest statement for  SYMC  is  12883000000  and total liability is  6986000000\n",
      "retained earnings -668000000\n",
      "ebitda"
     ]
    },
    {
     "name": "stdout",
     "output_type": "stream",
     "text": [
      " 352000000\n",
      "gross profit 1339000000\n",
      "26.27"
     ]
    },
    {
     "name": "stdout",
     "output_type": "stream",
     "text": [
      "\n",
      "done..\n",
      "symbol:  SYY\n",
      "wait...\n",
      "go.."
     ]
    },
    {
     "name": "stdout",
     "output_type": "stream",
     "text": [
      "\n",
      "symbol"
     ]
    },
    {
     "name": "stdout",
     "output_type": "stream",
     "text": [
      " SYY\n",
      "current assets 7108403000\n",
      "current liability 4536489000\n",
      "total assets from latest statement for  SYY  is  13617913000  and total liability is  8296497000\n",
      "retained earnings 8878693000\n",
      "ebitda"
     ]
    },
    {
     "name": "stdout",
     "output_type": "stream",
     "text": [
      " 467801000\n",
      "gross profit 2188717000\n",
      "39.95"
     ]
    },
    {
     "name": "stdout",
     "output_type": "stream",
     "text": [
      "\n",
      "done..\n",
      "symbol:  TROW\n",
      "wait...\n",
      "go.."
     ]
    },
    {
     "name": "stdout",
     "output_type": "stream",
     "text": [
      "\n",
      "symbol"
     ]
    },
    {
     "name": "stdout",
     "output_type": "stream",
     "text": [
      " TROW\n",
      "current assets -\n",
      "current liability -\n",
      "total assets from latest statement for  TROW  is  5768000000  and total liability is  540500000\n",
      "retained earnings 4249100000\n",
      "ebitda"
     ]
    },
    {
     "name": "stdout",
     "output_type": "stream",
     "text": [
      " 493900000\n",
      "gross profit 1020800000\n",
      "83.29"
     ]
    },
    {
     "name": "stdout",
     "output_type": "stream",
     "text": [
      "\n",
      "done..\n",
      "symbol:  TGT\n",
      "wait...\n",
      "go.."
     ]
    },
    {
     "name": "stdout",
     "output_type": "stream",
     "text": [
      "\n",
      "symbol"
     ]
    },
    {
     "name": "stdout",
     "output_type": "stream",
     "text": [
      " TGT\n",
      "current assets 11554000000\n",
      "current liability 11336000000\n",
      "total assets from latest statement for  TGT  is  44455000000  and total liability is  28022000000\n",
      "retained earnings 12611000000\n",
      "ebitda"
     ]
    },
    {
     "name": "stdout",
     "output_type": "stream",
     "text": [
      " 818000000\n",
      "gross profit 5241000000\n",
      "72.855"
     ]
    },
    {
     "name": "stdout",
     "output_type": "stream",
     "text": [
      "\n",
      "done..\n",
      "symbol:  TEL\n",
      "wait...\n",
      "go.."
     ]
    },
    {
     "name": "stdout",
     "output_type": "stream",
     "text": [
      "\n",
      "symbol"
     ]
    },
    {
     "name": "stdout",
     "output_type": "stream",
     "text": [
      " TEL\n",
      "current assets 7544000000\n",
      "current liability 3954000000\n",
      "total assets from latest statement for  TEL  is  20152000000  and total liability is  11145000000\n",
      "retained earnings 4253000000\n",
      "ebitda"
     ]
    },
    {
     "name": "stdout",
     "output_type": "stream",
     "text": [
      " 533000000\n",
      "gross profit 1198000000\n",
      "64.00"
     ]
    },
    {
     "name": "stdout",
     "output_type": "stream",
     "text": [
      "\n",
      "done..\n",
      "symbol:  TE\n",
      "wait...\n",
      "go.."
     ]
    },
    {
     "name": "stdout",
     "output_type": "stream",
     "text": [
      "\n",
      "symbol"
     ]
    },
    {
     "name": "stdout",
     "output_type": "stream",
     "text": [
      " TE\n",
      "current assets 857700000\n",
      "current liability 765400000\n",
      "total assets from latest statement for  TE  is  7448000000  and total liability is  5114300000\n",
      "retained earnings 548300000\n",
      "ebitda"
     ]
    },
    {
     "name": "stdout",
     "output_type": "stream",
     "text": [
      " 103400000\n",
      "gross profit 339300000\n",
      "19.885"
     ]
    },
    {
     "name": "stdout",
     "output_type": "stream",
     "text": [
      "\n",
      "done..\n",
      "symbol:  THC\n",
      "wait...\n",
      "go.."
     ]
    },
    {
     "name": "stdout",
     "output_type": "stream",
     "text": [
      "\n",
      "symbol"
     ]
    },
    {
     "name": "stdout",
     "output_type": "stream",
     "text": [
      " THC\n",
      "current assets 4208000000\n",
      "current liability 3384000000\n",
      "total assets from latest statement for  THC  is  16907000000  and total liability is  15907000000\n",
      "retained earnings -1480000000\n",
      "ebitda"
     ]
    },
    {
     "name": "stdout",
     "output_type": "stream",
     "text": [
      " 207000000\n",
      "gross profit 3393000000\n",
      "46.94"
     ]
    },
    {
     "name": "stdout",
     "output_type": "stream",
     "text": [
      "\n",
      "done..\n",
      "symbol:  TDC\n",
      "wait...\n",
      "go.."
     ]
    },
    {
     "name": "stdout",
     "output_type": "stream",
     "text": [
      "\n",
      "symbol"
     ]
    },
    {
     "name": "stdout",
     "output_type": "stream",
     "text": [
      " TDC\n",
      "current assets 1506000000\n",
      "current liability 771000000\n",
      "total assets from latest statement for  TDC  is  3018000000  and total liability is  1176000000\n",
      "retained earnings 2282000000\n",
      "ebitda"
     ]
    },
    {
     "name": "stdout",
     "output_type": "stream",
     "text": [
      " 123000000\n",
      "gross profit 350000000\n",
      "44.421"
     ]
    },
    {
     "name": "stdout",
     "output_type": "stream",
     "text": [
      "\n",
      "done..\n",
      "symbol:  TSO\n",
      "wait...\n",
      "go.."
     ]
    },
    {
     "name": "stdout",
     "output_type": "stream",
     "text": [
      "\n",
      "symbol"
     ]
    },
    {
     "name": "stdout",
     "output_type": "stream",
     "text": [
      " TSO\n",
      "current assets 5906000000\n",
      "current liability 3867000000\n",
      "total assets from latest statement for  TSO  is  14071000000  and total liability is  9720000000\n",
      "retained earnings 4177000000\n",
      "ebitda"
     ]
    },
    {
     "name": "stdout",
     "output_type": "stream",
     "text": [
      " 413000000\n",
      "gross profit 1237000000\n",
      "77.43"
     ]
    },
    {
     "name": "stdout",
     "output_type": "stream",
     "text": [
      "\n",
      "done..\n",
      "symbol:  TXN\n",
      "wait...\n",
      "go.."
     ]
    },
    {
     "name": "stdout",
     "output_type": "stream",
     "text": [
      "\n",
      "symbol"
     ]
    },
    {
     "name": "stdout",
     "output_type": "stream",
     "text": [
      " TXN\n",
      "current assets 7456000000\n",
      "current liability 1803000000\n",
      "total assets from latest statement for  TXN  is  17810000000  and total liability is  7344000000\n",
      "retained earnings 28686000000\n",
      "ebitda"
     ]
    },
    {
     "name": "stdout",
     "output_type": "stream",
     "text": [
      " 985000000\n",
      "gross profit 1881000000\n",
      "54.29"
     ]
    },
    {
     "name": "stdout",
     "output_type": "stream",
     "text": [
      "\n",
      "done..\n",
      "symbol:  TXT\n",
      "wait...\n",
      "go.."
     ]
    },
    {
     "name": "stdout",
     "output_type": "stream",
     "text": [
      "\n",
      "symbol"
     ]
    },
    {
     "name": "stdout",
     "output_type": "stream",
     "text": [
      " TXT\n",
      "current assets 6281000000\n",
      "current liability 3893000000\n",
      "total assets from latest statement for  TXT  is  14739000000  and total liability is  10167000000\n",
      "retained earnings 4416000000\n",
      "ebitda"
     ]
    },
    {
     "name": "stdout",
     "output_type": "stream",
     "text": [
      " 278000000\n",
      "gross profit 585000000\n",
      "41.95"
     ]
    },
    {
     "name": "stdout",
     "output_type": "stream",
     "text": [
      "\n",
      "done..\n",
      "symbol:  ADT\n",
      "wait...\n",
      "go.."
     ]
    },
    {
     "name": "stdout",
     "output_type": "stream",
     "text": [
      "\n",
      "symbol"
     ]
    },
    {
     "name": "stdout",
     "output_type": "stream",
     "text": [
      " ADT\n",
      "current assets 409000000\n",
      "current liability 708000000\n",
      "total assets from latest statement for  ADT  is  10549000000  and total liability is  7421000000\n",
      "retained earnings 445000000\n",
      "ebitda"
     ]
    },
    {
     "name": "stdout",
     "output_type": "stream",
     "text": [
      " 159000000\n",
      "gross profit 498000000\n",
      "34.54"
     ]
    },
    {
     "name": "stdout",
     "output_type": "stream",
     "text": [
      "\n",
      "done..\n",
      "symbol:  BK\n",
      "wait...\n",
      "go.."
     ]
    },
    {
     "name": "stdout",
     "output_type": "stream",
     "text": [
      "\n",
      "symbol"
     ]
    },
    {
     "name": "stdout",
     "output_type": "stream",
     "text": [
      " BK\n",
      "current assets -\n",
      "current liability -\n",
      "total assets from latest statement for  BK  is  386296000000  and total liability is  347599000000\n",
      "retained earnings 17670000000\n",
      "ebitda"
     ]
    },
    {
     "name": "stdout",
     "output_type": "stream",
     "text": [
      " 1750000000\n",
      "gross profit 4610000000\n",
      "40.065"
     ]
    },
    {
     "name": "stdout",
     "output_type": "stream",
     "text": [
      "\n",
      "done..\n",
      "symbol:  PCLN\n",
      "wait...\n",
      "go.."
     ]
    },
    {
     "name": "stdout",
     "output_type": "stream",
     "text": [
      "\n",
      "symbol"
     ]
    },
    {
     "name": "stdout",
     "output_type": "stream",
     "text": [
      " PCLN\n",
      "current assets 7303865000\n",
      "current liability 1589145000\n",
      "total assets from latest statement for  PCLN  is  15184380000  and total liability is  6451269000\n",
      "retained earnings 6188674000\n",
      "ebitda"
     ]
    },
    {
     "name": "stdout",
     "output_type": "stream",
     "text": [
      " 1328542000\n",
      "gross profit 2619978000\n",
      "1137.25"
     ]
    },
    {
     "name": "stdout",
     "output_type": "stream",
     "text": [
      "\n",
      "done..\n",
      "symbol:  WMB\n",
      "wait...\n",
      "go.."
     ]
    },
    {
     "name": "stdout",
     "output_type": "stream",
     "text": [
      "\n",
      "symbol"
     ]
    },
    {
     "name": "stdout",
     "output_type": "stream",
     "text": [
      " WMB\n",
      "current assets 1898000000\n",
      "current liability 2931000000\n",
      "total assets from latest statement for  WMB  is  49807000000  and total liability is  40678000000\n",
      "retained earnings -5315000000\n",
      "ebitda"
     ]
    },
    {
     "name": "stdout",
     "output_type": "stream",
     "text": [
      " 2916000000\n",
      "gross profit 850000000\n",
      "51.295"
     ]
    },
    {
     "name": "stdout",
     "output_type": "stream",
     "text": [
      "\n",
      "done..\n",
      "symbol:  TMO\n",
      "wait...\n",
      "go.."
     ]
    },
    {
     "name": "stdout",
     "output_type": "stream",
     "text": [
      "\n",
      "symbol"
     ]
    },
    {
     "name": "stdout",
     "output_type": "stream",
     "text": [
      " TMO\n",
      "current assets 5944400000\n",
      "current liability 6235600000\n",
      "total assets from latest statement for  TMO  is  44313400000  and total liability is  23654800000\n",
      "retained earnings 9454600000\n",
      "ebitda"
     ]
    },
    {
     "name": "stdout",
     "output_type": "stream",
     "text": [
      " 236500000\n",
      "gross profit 1846500000\n",
      "128.74"
     ]
    },
    {
     "name": "stdout",
     "output_type": "stream",
     "text": [
      "\n",
      "done..\n",
      "symbol:  TIF\n",
      "wait...\n",
      "go.."
     ]
    },
    {
     "name": "stdout",
     "output_type": "stream",
     "text": [
      "\n",
      "symbol"
     ]
    },
    {
     "name": "stdout",
     "output_type": "stream",
     "text": [
      " TIF\n",
      "current assets 3510377000\n",
      "current liability 634536000\n",
      "total assets from latest statement for  TIF  is  4996989000  and total liability is  2102717000\n",
      "retained earnings 1807966000\n",
      "ebitda"
     ]
    },
    {
     "name": "stdout",
     "output_type": "stream",
     "text": [
      " 208521000\n",
      "gross profit 595163000\n",
      "107.05"
     ]
    },
    {
     "name": "stdout",
     "output_type": "stream",
     "text": [
      "\n",
      "done..\n",
      "symbol:  TWC\n",
      "wait...\n",
      "go.."
     ]
    },
    {
     "name": "stdout",
     "output_type": "stream",
     "text": [
      "\n",
      "symbol"
     ]
    },
    {
     "name": "stdout",
     "output_type": "stream",
     "text": [
      " TWC\n",
      "current assets 2074000000\n",
      "current liability 5019000000\n",
      "total assets from latest statement for  TWC  is  48636000000  and total liability is  40731000000\n",
      "retained earnings 824000000\n",
      "ebitda"
     ]
    },
    {
     "name": "stdout",
     "output_type": "stream",
     "text": [
      " 1156000000\n",
      "gross profit 3987000000\n",
      "149.236"
     ]
    },
    {
     "name": "stdout",
     "output_type": "stream",
     "text": [
      "\n",
      "done..\n",
      "symbol:  TWX\n",
      "wait...\n",
      "go.."
     ]
    },
    {
     "name": "stdout",
     "output_type": "stream",
     "text": [
      "\n",
      "symbol"
     ]
    },
    {
     "name": "stdout",
     "output_type": "stream",
     "text": [
      " TWX\n",
      "current assets 12893000000\n",
      "current liability 8724000000\n",
      "total assets from latest statement for  TWX  is  63095000000  and total liability is  37865000000\n",
      "retained earnings -81932000000\n",
      "ebitda"
     ]
    },
    {
     "name": "stdout",
     "output_type": "stream",
     "text": [
      " 836000000\n",
      "gross profit 2562000000\n",
      "84.39"
     ]
    },
    {
     "name": "stdout",
     "output_type": "stream",
     "text": [
      "\n",
      "done..\n",
      "symbol:  TJX\n",
      "wait...\n",
      "go.."
     ]
    },
    {
     "name": "stdout",
     "output_type": "stream",
     "text": [
      "\n",
      "symbol"
     ]
    },
    {
     "name": "stdout",
     "output_type": "stream",
     "text": [
      " TJX\n",
      "current assets 6593763000\n",
      "current liability 3824929000\n",
      "total assets from latest statement for  TJX  is  10921997000  and total liability is  6647345000\n",
      "retained earnings 3749205000\n",
      "ebitda"
     ]
    },
    {
     "name": "stdout",
     "output_type": "stream",
     "text": [
      " 841768000\n",
      "gross profit 1981356000\n",
      "65.14"
     ]
    },
    {
     "name": "stdout",
     "output_type": "stream",
     "text": [
      "\n",
      "done..\n",
      "symbol:  TMK\n",
      "wait...\n",
      "go.."
     ]
    },
    {
     "name": "stdout",
     "output_type": "stream",
     "text": [
      "\n",
      "symbol"
     ]
    },
    {
     "name": "stdout",
     "output_type": "stream",
     "text": [
      " TMK\n",
      "current assets -\n",
      "current liability -\n",
      "total assets from latest statement for  TMK  is  19870507000  and total liability is  15340715000\n",
      "retained earnings 3443803000\n",
      "ebitda"
     ]
    },
    {
     "name": "stdout",
     "output_type": "stream",
     "text": [
      " 208597000\n",
      "gross profit 367833000\n",
      "52.96"
     ]
    },
    {
     "name": "stdout",
     "output_type": "stream",
     "text": [
      "\n",
      "done..\n",
      "symbol:  TSS\n",
      "wait...\n",
      "go.."
     ]
    },
    {
     "name": "stdout",
     "output_type": "stream",
     "text": [
      "\n",
      "symbol"
     ]
    },
    {
     "name": "stdout",
     "output_type": "stream",
     "text": [
      " TSS\n",
      "current assets 688701000\n",
      "current liability 301394000\n",
      "total assets from latest statement for  TSS  is  3720582000  and total liability is  2015841000\n",
      "retained earnings 1905112000\n",
      "ebitda"
     ]
    },
    {
     "name": "stdout",
     "output_type": "stream",
     "text": [
      " 119410000\n",
      "gross profit 209500000\n",
      "33.345"
     ]
    },
    {
     "name": "stdout",
     "output_type": "stream",
     "text": [
      "\n",
      "done..\n",
      "symbol:  TSCO\n",
      "wait...\n",
      "go.."
     ]
    },
    {
     "name": "stdout",
     "output_type": "stream",
     "text": [
      "\n",
      "symbol"
     ]
    },
    {
     "name": "stdout",
     "output_type": "stream",
     "text": [
      " TSCO\n",
      "current assets 1284185000\n",
      "current liability 628987000\n",
      "total assets from latest statement for  TSCO  is  2025528000  and total liability is  759603000\n",
      "retained earnings 1773433000\n",
      "ebitda"
     ]
    },
    {
     "name": "stdout",
     "output_type": "stream",
     "text": [
      " 211029000\n",
      "gross profit 550532000\n",
      "76.33"
     ]
    },
    {
     "name": "stdout",
     "output_type": "stream",
     "text": [
      "\n",
      "done..\n",
      "symbol:  RIG\n",
      "wait...\n",
      "go.."
     ]
    },
    {
     "name": "stdout",
     "output_type": "stream",
     "text": [
      "\n",
      "symbol"
     ]
    },
    {
     "name": "stdout",
     "output_type": "stream",
     "text": [
      " RIG\n",
      "current assets 6367000000\n",
      "current liability 3546000000\n",
      "total assets from latest statement for  RIG  is  29964000000  and total liability is  15005000000\n",
      "retained earnings 4088000000\n",
      "ebitda"
     ]
    },
    {
     "name": "stdout",
     "output_type": "stream",
     "text": [
      " -2156000000\n",
      "gross profit 952000000\n",
      "19.61"
     ]
    },
    {
     "name": "stdout",
     "output_type": "stream",
     "text": [
      "\n",
      "done..\n",
      "symbol:  TRV\n",
      "wait...\n",
      "go.."
     ]
    },
    {
     "name": "stdout",
     "output_type": "stream",
     "text": [
      "\n",
      "symbol"
     ]
    },
    {
     "name": "stdout",
     "output_type": "stream",
     "text": [
      " TRV\n",
      "current assets -\n",
      "current liability -\n",
      "total assets from latest statement for  TRV  is  104522000000  and total liability is  79201000000\n",
      "retained earnings 26394000000\n",
      "ebitda"
     ]
    },
    {
     "name": "stdout",
     "output_type": "stream",
     "text": [
      " 1351000000\n",
      "gross profit 3366000000\n",
      "104.38"
     ]
    },
    {
     "name": "stdout",
     "output_type": "stream",
     "text": [
      "\n",
      "done..\n",
      "symbol:  TRIP\n",
      "wait...\n",
      "go.."
     ]
    },
    {
     "name": "stdout",
     "output_type": "stream",
     "text": [
      "\n",
      "symbol"
     ]
    },
    {
     "name": "stdout",
     "output_type": "stream",
     "text": [
      " TRIP\n",
      "current assets 792000000\n",
      "current liability 417000000\n",
      "total assets from latest statement for  TRIP  is  1956000000  and total liability is  870000000\n",
      "retained earnings 592000000\n",
      "ebitda"
     ]
    },
    {
     "name": "stdout",
     "output_type": "stream",
     "text": [
      " 77000000\n",
      "gross profit 343000000\n",
      "74.83"
     ]
    },
    {
     "name": "stdout",
     "output_type": "stream",
     "text": [
      "\n",
      "done..\n",
      "symbol:  FOXA\n",
      "wait...\n",
      "go.."
     ]
    },
    {
     "name": "stdout",
     "output_type": "stream",
     "text": [
      "\n",
      "symbol"
     ]
    },
    {
     "name": "stdout",
     "output_type": "stream",
     "text": [
      " FOXA\n",
      "current assets 14950000000\n",
      "current liability 9158000000\n",
      "total assets from latest statement for  FOXA  is  54711000000  and total liability is  37906000000\n",
      "retained earnings 2131000000\n",
      "ebitda"
     ]
    },
    {
     "name": "stdout",
     "output_type": "stream",
     "text": [
      " 1908000000\n",
      "gross profit 7887000000\n",
      "37.33"
     ]
    },
    {
     "name": "stdout",
     "output_type": "stream",
     "text": [
      "\n",
      "done..\n",
      "symbol:  TYC\n",
      "wait...\n",
      "go.."
     ]
    },
    {
     "name": "stdout",
     "output_type": "stream",
     "text": [
      "\n",
      "symbol"
     ]
    },
    {
     "name": "stdout",
     "output_type": "stream",
     "text": [
      " TYC\n",
      "current assets 4751000000\n",
      "current liability 3471000000\n",
      "total assets from latest statement for  TYC  is  11809000000  and total liability is  7149000000\n",
      "retained earnings 4873000000\n",
      "ebitda"
     ]
    },
    {
     "name": "stdout",
     "output_type": "stream",
     "text": [
      " -195000000\n",
      "gross profit 982000000\n",
      "43.10"
     ]
    },
    {
     "name": "stdout",
     "output_type": "stream",
     "text": [
      "\n",
      "done..\n",
      "symbol:  TSN\n",
      "wait...\n",
      "go.."
     ]
    },
    {
     "name": "stdout",
     "output_type": "stream",
     "text": [
      "\n",
      "symbol"
     ]
    },
    {
     "name": "stdout",
     "output_type": "stream",
     "text": [
      " TSN\n",
      "current assets 6221000000\n",
      "current liability 3797000000\n",
      "total assets from latest statement for  TSN  is  23956000000  and total liability is  15066000000\n",
      "retained earnings 5748000000\n",
      "ebitda"
     ]
    },
    {
     "name": "stdout",
     "output_type": "stream",
     "text": [
      " 272000000\n",
      "gross profit 712000000\n",
      "41.19"
     ]
    },
    {
     "name": "stdout",
     "output_type": "stream",
     "text": [
      "\n",
      "done..\n",
      "symbol:  UA\n",
      "wait...\n",
      "go.."
     ]
    },
    {
     "name": "stdout",
     "output_type": "stream",
     "text": [
      "\n",
      "symbol"
     ]
    },
    {
     "name": "stdout",
     "output_type": "stream",
     "text": [
      " UA\n",
      "current assets 1463903000\n",
      "current liability 490479000\n",
      "total assets from latest statement for  UA  is  1978110000  and total liability is  723969000\n",
      "retained earnings 770484000\n",
      "ebitda"
     ]
    },
    {
     "name": "stdout",
     "output_type": "stream",
     "text": [
      " 142751000\n",
      "gross profit 465300000\n",
      "69.35"
     ]
    },
    {
     "name": "stdout",
     "output_type": "stream",
     "text": [
      "\n",
      "done..\n",
      "symbol:  UNP\n",
      "wait...\n",
      "go.."
     ]
    },
    {
     "name": "stdout",
     "output_type": "stream",
     "text": [
      "\n",
      "symbol"
     ]
    },
    {
     "name": "stdout",
     "output_type": "stream",
     "text": [
      " UNP\n",
      "current assets 4780000000\n",
      "current liability 3833000000\n",
      "total assets from latest statement for  UNP  is  52568000000  and total liability is  31015000000\n",
      "retained earnings 26380000000\n",
      "ebitda"
     ]
    },
    {
     "name": "stdout",
     "output_type": "stream",
     "text": [
      " 2350000000\n",
      "gross profit 4650000000\n",
      "117.8034"
     ]
    },
    {
     "name": "stdout",
     "output_type": "stream",
     "text": [
      "\n",
      "done..\n",
      "symbol:  UPS\n",
      "wait...\n",
      "go.."
     ]
    },
    {
     "name": "stdout",
     "output_type": "stream",
     "text": [
      "\n",
      "symbol"
     ]
    },
    {
     "name": "stdout",
     "output_type": "stream",
     "text": [
      " UPS\n",
      "current assets 13318000000\n",
      "current liability 9096000000\n",
      "total assets from latest statement for  UPS  is  35906000000  and total liability is  30279000000\n",
      "retained earnings 6229000000\n",
      "ebitda"
     ]
    },
    {
     "name": "stdout",
     "output_type": "stream",
     "text": [
      " 1956000000\n",
      "gross profit 10681000000\n",
      "110.61"
     ]
    },
    {
     "name": "stdout",
     "output_type": "stream",
     "text": [
      "\n",
      "done..\n",
      "symbol:  X\n",
      "wait...\n",
      "go.."
     ]
    },
    {
     "name": "stdout",
     "output_type": "stream",
     "text": [
      "\n",
      "symbol"
     ]
    },
    {
     "name": "stdout",
     "output_type": "stream",
     "text": [
      " X\n",
      "current assets 6101000000\n",
      "current liability 3550000000\n",
      "total assets from latest statement for  X  is  12008000000  and total liability is  8066000000\n",
      "retained earnings 1594000000\n",
      "ebitda"
     ]
    },
    {
     "name": "stdout",
     "output_type": "stream",
     "text": [
      " -144000000\n",
      "gross profit 739000000\n",
      "31.86"
     ]
    },
    {
     "name": "stdout",
     "output_type": "stream",
     "text": [
      "\n",
      "done..\n",
      "symbol:  UTX\n",
      "wait...\n",
      "go.."
     ]
    },
    {
     "name": "stdout",
     "output_type": "stream",
     "text": [
      "\n",
      "symbol"
     ]
    },
    {
     "name": "stdout",
     "output_type": "stream",
     "text": [
      " UTX\n",
      "current assets 29411000000\n",
      "current liability 23908000000\n",
      "total assets from latest statement for  UTX  is  91774000000  and total liability is  57584000000\n",
      "retained earnings 43668000000\n",
      "ebitda"
     ]
    },
    {
     "name": "stdout",
     "output_type": "stream",
     "text": [
      " 2746000000\n",
      "gross profit 4702000000\n",
      "110.02"
     ]
    },
    {
     "name": "stdout",
     "output_type": "stream",
     "text": [
      "\n",
      "done..\n",
      "symbol:  UNH\n",
      "wait...\n",
      "go.."
     ]
    },
    {
     "name": "stdout",
     "output_type": "stream",
     "text": [
      "\n",
      "symbol"
     ]
    },
    {
     "name": "stdout",
     "output_type": "stream",
     "text": [
      " UNH\n",
      "current assets -\n",
      "current liability -\n",
      "total assets from latest statement for  UNH  is  85426000000  and total liability is  51436000000\n",
      "retained earnings 33578000000\n",
      "ebitda"
     ]
    },
    {
     "name": "stdout",
     "output_type": "stream",
     "text": [
      " 2903000000\n",
      "gross profit 9667000000\n",
      "99.775"
     ]
    },
    {
     "name": "stdout",
     "output_type": "stream",
     "text": [
      "\n",
      "done..\n",
      "symbol:  UNM\n",
      "wait...\n",
      "go.."
     ]
    },
    {
     "name": "stdout",
     "output_type": "stream",
     "text": [
      "\n",
      "symbol"
     ]
    },
    {
     "name": "stdout",
     "output_type": "stream",
     "text": [
      " UNM\n",
      "current assets -\n",
      "current liability -\n",
      "total assets from latest statement for  UNM  is  61960600000  and total liability is  52716600000\n",
      "retained earnings 8658000000\n",
      "ebitda"
     ]
    },
    {
     "name": "stdout",
     "output_type": "stream",
     "text": [
      " 350500000\n",
      "gross profit 851600000\n",
      "33.22"
     ]
    },
    {
     "name": "stdout",
     "output_type": "stream",
     "text": [
      "\n",
      "done..\n",
      "symbol:  URBN\n",
      "wait...\n",
      "go.."
     ]
    },
    {
     "name": "stdout",
     "output_type": "stream",
     "text": [
      "\n",
      "symbol"
     ]
    },
    {
     "name": "stdout",
     "output_type": "stream",
     "text": [
      " URBN\n",
      "current assets 791964000\n",
      "current liability 368198000\n",
      "total assets from latest statement for  URBN  is  1904146000  and total liability is  568089000\n",
      "retained earnings 1333658000\n",
      "ebitda"
     ]
    },
    {
     "name": "stdout",
     "output_type": "stream",
     "text": [
      " 104594000\n",
      "gross profit 303258000\n",
      "30.94"
     ]
    },
    {
     "name": "stdout",
     "output_type": "stream",
     "text": [
      "\n",
      "done..\n",
      "symbol:  USB\n",
      "wait...\n",
      "go.."
     ]
    },
    {
     "name": "stdout",
     "output_type": "stream",
     "text": [
      "\n",
      "symbol"
     ]
    },
    {
     "name": "stdout",
     "output_type": "stream",
     "text": [
      " USB\n",
      "current assets -\n",
      "current liability -\n",
      "total assets from latest statement for  USB  is  391284000000  and total liability is  348143000000\n",
      "retained earnings 41543000000\n",
      "ebitda"
     ]
    },
    {
     "name": "stdout",
     "output_type": "stream",
     "text": [
      " 2259000000\n",
      "gross profit -\n",
      "43.98"
     ]
    },
    {
     "name": "stdout",
     "output_type": "stream",
     "text": [
      "\n",
      "done..\n",
      "symbol:  VLO\n",
      "wait...\n",
      "go.."
     ]
    },
    {
     "name": "stdout",
     "output_type": "stream",
     "text": [
      "\n",
      "symbol"
     ]
    },
    {
     "name": "stdout",
     "output_type": "stream",
     "text": [
      " VLO\n",
      "current assets 19666000000\n",
      "current liability 13460000000\n",
      "total assets from latest statement for  VLO  is  48455000000  and total liability is  27901000000\n",
      "retained earnings 21034000000\n",
      "ebitda"
     ]
    },
    {
     "name": "stdout",
     "output_type": "stream",
     "text": [
      " 1681000000\n",
      "gross profit 3385000000\n",
      "50.97"
     ]
    },
    {
     "name": "stdout",
     "output_type": "stream",
     "text": [
      "\n",
      "done..\n",
      "symbol:  VAR\n",
      "wait...\n",
      "go.."
     ]
    },
    {
     "name": "stdout",
     "output_type": "stream",
     "text": [
      "\n",
      "symbol"
     ]
    },
    {
     "name": "stdout",
     "output_type": "stream",
     "text": [
      " VAR\n",
      "current assets 2494165000\n",
      "current liability 1201654000\n",
      "total assets from latest statement for  VAR  is  3357290000  and total liability is  1740870000\n",
      "retained earnings 931241000\n",
      "ebitda"
     ]
    },
    {
     "name": "stdout",
     "output_type": "stream",
     "text": [
      " 161859000\n",
      "gross profit 340059000\n",
      "87.98"
     ]
    },
    {
     "name": "stdout",
     "output_type": "stream",
     "text": [
      "\n",
      "done..\n",
      "symbol:  VTR\n",
      "wait...\n",
      "go.."
     ]
    },
    {
     "name": "stdout",
     "output_type": "stream",
     "text": [
      "\n",
      "symbol"
     ]
    },
    {
     "name": "stdout",
     "output_type": "stream",
     "text": [
      " VTR\n",
      "current assets -\n",
      "current liability -\n",
      "total assets from latest statement for  VTR  is  20651165000  and total liability is  11939289000\n",
      "retained earnings -1398378000\n",
      "ebitda"
     ]
    },
    {
     "name": "stdout",
     "output_type": "stream",
     "text": [
      " 205378000\n",
      "gross profit 467678000\n",
      "72.3725"
     ]
    },
    {
     "name": "stdout",
     "output_type": "stream",
     "text": [
      "\n",
      "done..\n",
      "symbol:  VRSN\n",
      "wait...\n",
      "go.."
     ]
    },
    {
     "name": "stdout",
     "output_type": "stream",
     "text": [
      "\n",
      "symbol"
     ]
    },
    {
     "name": "stdout",
     "output_type": "stream",
     "text": [
      " VRSN\n",
      "current assets 1522987000\n",
      "current liability 1849266000\n",
      "total assets from latest statement for  VRSN  is  2207422000  and total liability is  2956176000\n",
      "retained earnings -19066307000\n",
      "ebitda"
     ]
    },
    {
     "name": "stdout",
     "output_type": "stream",
     "text": [
      " 133027000\n",
      "gross profit 208089000\n",
      "58.305"
     ]
    },
    {
     "name": "stdout",
     "output_type": "stream",
     "text": [
      "\n",
      "done..\n",
      "symbol:  VZ\n",
      "wait...\n",
      "go.."
     ]
    },
    {
     "name": "stdout",
     "output_type": "stream",
     "text": [
      "\n",
      "symbol"
     ]
    },
    {
     "name": "stdout",
     "output_type": "stream",
     "text": [
      " VZ\n",
      "current assets 24773000000\n",
      "current liability 26889000000\n",
      "total assets from latest statement for  VZ  is  226293000000  and total liability is  209716000000\n",
      "retained earnings 6964000000\n",
      "ebitda"
     ]
    },
    {
     "name": "stdout",
     "output_type": "stream",
     "text": [
      " 6913000000\n",
      "gross profit 19334000000\n",
      "49.45"
     ]
    },
    {
     "name": "stdout",
     "output_type": "stream",
     "text": [
      "\n",
      "done..\n",
      "symbol:  VRTX\n",
      "wait...\n",
      "go.."
     ]
    },
    {
     "name": "stdout",
     "output_type": "stream",
     "text": [
      "\n",
      "symbol"
     ]
    },
    {
     "name": "stdout",
     "output_type": "stream",
     "text": [
      " VRTX\n",
      "current assets 1650096000\n",
      "current liability 372178000\n",
      "total assets from latest statement for  VRTX  is  2406086000  and total liability is  1250181000\n",
      "retained earnings -4528794000\n",
      "ebitda"
     ]
    },
    {
     "name": "stdout",
     "output_type": "stream",
     "text": [
      " -145554000\n",
      "gross profit 164803000\n",
      "118.745"
     ]
    },
    {
     "name": "stdout",
     "output_type": "stream",
     "text": [
      "\n",
      "done..\n",
      "symbol:  VFC\n",
      "wait...\n",
      "go.."
     ]
    },
    {
     "name": "stdout",
     "output_type": "stream",
     "text": [
      "\n",
      "symbol"
     ]
    },
    {
     "name": "stdout",
     "output_type": "stream",
     "text": [
      " VFC\n",
      "current assets 4524213000\n",
      "current liability 2266478000\n",
      "total assets from latest statement for  VFC  is  10815876000  and total liability is  4953516000\n",
      "retained earnings 3249659000\n",
      "ebitda"
     ]
    },
    {
     "name": "stdout",
     "output_type": "stream",
     "text": [
      " 633325000\n",
      "gross profit 1701792000\n",
      "73.84"
     ]
    },
    {
     "name": "stdout",
     "output_type": "stream",
     "text": [
      "\n",
      "done..\n",
      "symbol:  VIAB\n",
      "wait...\n",
      "go.."
     ]
    },
    {
     "name": "stdout",
     "output_type": "stream",
     "text": [
      "\n",
      "error on "
     ]
    },
    {
     "name": "stdout",
     "output_type": "stream",
     "text": [
      " VIAB . Error message (<class 'KeyError'>, KeyError('statement',), <traceback object at 0x7fe51320bb48>)\n",
      "done..\n",
      "symbol:  V\n",
      "wait...\n",
      "go.."
     ]
    },
    {
     "name": "stdout",
     "output_type": "stream",
     "text": [
      "\n",
      "symbol"
     ]
    },
    {
     "name": "stdout",
     "output_type": "stream",
     "text": [
      " V\n",
      "current assets 9562000000\n",
      "current liability 6006000000\n",
      "total assets from latest statement for  V  is  38569000000  and total liability is  11156000000\n",
      "retained earnings 9131000000\n",
      "ebitda"
     ]
    },
    {
     "name": "stdout",
     "output_type": "stream",
     "text": [
      " 1550000000\n",
      "gross profit 2733000000\n",
      "259.93"
     ]
    },
    {
     "name": "stdout",
     "output_type": "stream",
     "text": [
      "\n",
      "done..\n",
      "symbol:  VNO\n",
      "wait...\n",
      "go.."
     ]
    },
    {
     "name": "stdout",
     "output_type": "stream",
     "text": [
      "\n",
      "symbol"
     ]
    },
    {
     "name": "stdout",
     "output_type": "stream",
     "text": [
      " VNO\n",
      "current assets -\n",
      "current liability -\n",
      "total assets from latest statement for  VNO  is  20736779000  and total liability is  13061677000\n",
      "retained earnings -1872250000\n",
      "ebitda"
     ]
    },
    {
     "name": "stdout",
     "output_type": "stream",
     "text": [
      " 284185000\n",
      "gross profit 405153000\n",
      "112.51"
     ]
    },
    {
     "name": "stdout",
     "output_type": "stream",
     "text": [
      "\n",
      "done..\n",
      "symbol:  VMC\n",
      "wait...\n",
      "go.."
     ]
    },
    {
     "name": "stdout",
     "output_type": "stream",
     "text": [
      "\n",
      "symbol"
     ]
    },
    {
     "name": "stdout",
     "output_type": "stream",
     "text": [
      " VMC\n",
      "current assets 954618000\n",
      "current liability 364812000\n",
      "total assets from latest statement for  VMC  is  8091538000  and total liability is  3890439000\n",
      "retained earnings 1441742000\n",
      "ebitda"
     ]
    },
    {
     "name": "stdout",
     "output_type": "stream",
     "text": [
      " 139738000\n",
      "gross profit 209041000\n",
      "65.39"
     ]
    },
    {
     "name": "stdout",
     "output_type": "stream",
     "text": [
      "\n",
      "done..\n",
      "symbol:  WMT\n",
      "wait...\n",
      "go.."
     ]
    },
    {
     "name": "stdout",
     "output_type": "stream",
     "text": [
      "\n",
      "symbol"
     ]
    },
    {
     "name": "stdout",
     "output_type": "stream",
     "text": [
      " WMT\n",
      "current assets 59632000000\n",
      "current liability 67152000000\n",
      "total assets from latest statement for  WMT  is  203985000000  and total liability is  126239000000\n",
      "retained earnings 77172000000\n",
      "ebitda"
     ]
    },
    {
     "name": "stdout",
     "output_type": "stream",
     "text": [
      " 6772000000\n",
      "gross profit 30115000000\n",
      "86.145"
     ]
    },
    {
     "name": "stdout",
     "output_type": "stream",
     "text": [
      "\n",
      "done..\n",
      "symbol:  WAG\n",
      "wait...\n",
      "go.."
     ]
    },
    {
     "name": "stdout",
     "output_type": "stream",
     "text": [
      "\n",
      "symbol"
     ]
    },
    {
     "name": "stdout",
     "output_type": "stream",
     "text": [
      " WAG\n",
      "current assets 12242000000\n",
      "current liability 8895000000\n",
      "total assets from latest statement for  WAG  is  37182000000  and total liability is  16621000000\n",
      "retained earnings 22229000000\n",
      "ebitda"
     ]
    },
    {
     "name": "stdout",
     "output_type": "stream",
     "text": [
      " 198000000\n",
      "gross profit 5327000000\n",
      "67.09"
     ]
    },
    {
     "name": "stdout",
     "output_type": "stream",
     "text": [
      "\n",
      "done..\n",
      "symbol:  DIS\n",
      "wait...\n",
      "go.."
     ]
    },
    {
     "name": "stdout",
     "output_type": "stream",
     "text": [
      "\n",
      "symbol"
     ]
    },
    {
     "name": "stdout",
     "output_type": "stream",
     "text": [
      " DIS\n",
      "current assets 15176000000\n",
      "current liability 13292000000\n",
      "total assets from latest statement for  DIS  is  84186000000  and total liability is  39228000000\n",
      "retained earnings 53734000000\n",
      "ebitda"
     ]
    },
    {
     "name": "stdout",
     "output_type": "stream",
     "text": [
      " 2461000000\n",
      "gross profit 13249000000\n",
      "93.305"
     ]
    },
    {
     "name": "stdout",
     "output_type": "stream",
     "text": [
      "\n",
      "done..\n",
      "symbol:  WM\n",
      "wait...\n",
      "go.."
     ]
    },
    {
     "name": "stdout",
     "output_type": "stream",
     "text": [
      "\n",
      "symbol"
     ]
    },
    {
     "name": "stdout",
     "output_type": "stream",
     "text": [
      " WM\n",
      "current assets 4116000000\n",
      "current liability 3789000000\n",
      "total assets from latest statement for  WM  is  22211000000  and total liability is  16847000000\n",
      "retained earnings 6473000000\n",
      "ebitda"
     ]
    },
    {
     "name": "stdout",
     "output_type": "stream",
     "text": [
      " 530000000\n",
      "gross profit 1303000000\n",
      "48.919"
     ]
    },
    {
     "name": "stdout",
     "output_type": "stream",
     "text": [
      "\n",
      "done..\n",
      "symbol:  WAT\n",
      "wait...\n",
      "go.."
     ]
    },
    {
     "name": "stdout",
     "output_type": "stream",
     "text": [
      "\n",
      "symbol"
     ]
    },
    {
     "name": "stdout",
     "output_type": "stream",
     "text": [
      " WAT\n",
      "current assets 2680606000\n",
      "current liability 594590000\n",
      "total assets from latest statement for  WAT  is  3727530000  and total liability is  1884045000\n",
      "retained earnings 4129724000\n",
      "ebitda"
     ]
    },
    {
     "name": "stdout",
     "output_type": "stream",
     "text": [
      " 120095000\n",
      "gross profit 279948000\n",
      "116.62"
     ]
    },
    {
     "name": "stdout",
     "output_type": "stream",
     "text": [
      "\n",
      "done..\n",
      "symbol:  WLP\n",
      "wait...\n",
      "go.."
     ]
    },
    {
     "name": "stdout",
     "output_type": "stream",
     "text": [
      "\n",
      "symbol"
     ]
    },
    {
     "name": "stdout",
     "output_type": "stream",
     "text": [
      " WLP\n",
      "current assets -\n",
      "current liability -\n",
      "total assets from latest statement for  WLP  is  62058200000  and total liability is  37764200000\n",
      "retained earnings 13863800000\n",
      "ebitda"
     ]
    },
    {
     "name": "stdout",
     "output_type": "stream",
     "text": [
      " 1242500000\n",
      "gross profit 4345900000\n",
      "128.7594"
     ]
    },
    {
     "name": "stdout",
     "output_type": "stream",
     "text": [
      "\n",
      "done..\n",
      "symbol:  WFC\n",
      "wait...\n",
      "go.."
     ]
    },
    {
     "name": "stdout",
     "output_type": "stream",
     "text": [
      "\n",
      "symbol"
     ]
    },
    {
     "name": "stdout",
     "output_type": "stream",
     "text": [
      " WFC\n",
      "current assets -\n",
      "current liability -\n",
      "total assets from latest statement for  WFC  is  1636855000000  and total liability is  1454374000000\n",
      "retained earnings 103494000000\n",
      "ebitda"
     ]
    },
    {
     "name": "stdout",
     "output_type": "stream",
     "text": [
      " 9347000000\n",
      "gross profit -\n",
      "54.25"
     ]
    },
    {
     "name": "stdout",
     "output_type": "stream",
     "text": [
      "\n",
      "done..\n",
      "symbol:  WDC\n",
      "wait...\n",
      "go.."
     ]
    },
    {
     "name": "stdout",
     "output_type": "stream",
     "text": [
      "\n",
      "symbol"
     ]
    },
    {
     "name": "stdout",
     "output_type": "stream",
     "text": [
      " WDC\n",
      "current assets 8990000000\n",
      "current liability 3918000000\n",
      "total assets from latest statement for  WDC  is  15652000000  and total liability is  6689000000\n",
      "retained earnings 8394000000\n",
      "ebitda"
     ]
    },
    {
     "name": "stdout",
     "output_type": "stream",
     "text": [
      " 473000000\n",
      "gross profit 1149000000\n",
      "102.83"
     ]
    },
    {
     "name": "stdout",
     "output_type": "stream",
     "text": [
      "\n",
      "done..\n",
      "symbol:  WU\n",
      "wait...\n",
      "go.."
     ]
    },
    {
     "name": "stdout",
     "output_type": "stream",
     "text": [
      "\n",
      "symbol"
     ]
    },
    {
     "name": "stdout",
     "output_type": "stream",
     "text": [
      " WU\n",
      "current assets 5133200000\n",
      "current liability 8273600000\n",
      "total assets from latest statement for  WU  is  9846600000  and total liability is  8666900000\n",
      "retained earnings 856200000\n",
      "ebitda"
     ]
    },
    {
     "name": "stdout",
     "output_type": "stream",
     "text": [
      " 316000000\n",
      "gross profit 600400000\n",
      "18.2904"
     ]
    },
    {
     "name": "stdout",
     "output_type": "stream",
     "text": [
      "\n",
      "done..\n",
      "symbol:  WY\n",
      "wait...\n",
      "go.."
     ]
    },
    {
     "name": "stdout",
     "output_type": "stream",
     "text": [
      "\n",
      "symbol"
     ]
    },
    {
     "name": "stdout",
     "output_type": "stream",
     "text": [
      " WY\n",
      "current assets 3290000000\n",
      "current liability 1069000000\n",
      "total assets from latest statement for  WY  is  15706000000  and total liability is  8614000000\n",
      "retained earnings 495000000\n",
      "ebitda"
     ]
    },
    {
     "name": "stdout",
     "output_type": "stream",
     "text": [
      " 395000000\n",
      "gross profit 412000000\n",
      "35.295"
     ]
    },
    {
     "name": "stdout",
     "output_type": "stream",
     "text": [
      "\n",
      "done..\n",
      "symbol:  WHR\n",
      "wait...\n",
      "go.."
     ]
    },
    {
     "name": "stdout",
     "output_type": "stream",
     "text": [
      "\n",
      "symbol"
     ]
    },
    {
     "name": "stdout",
     "output_type": "stream",
     "text": [
      " WHR\n",
      "current assets 6959000000\n",
      "current liability 6402000000\n",
      "total assets from latest statement for  WHR  is  15708000000  and total liability is  10397000000\n",
      "retained earnings 6186000000\n",
      "ebitda"
     ]
    },
    {
     "name": "stdout",
     "output_type": "stream",
     "text": [
      " 296000000\n",
      "gross profit 827000000\n",
      "183.99"
     ]
    },
    {
     "name": "stdout",
     "output_type": "stream",
     "text": [
      "\n",
      "done..\n",
      "symbol:  WFM\n",
      "wait...\n",
      "go.."
     ]
    },
    {
     "name": "stdout",
     "output_type": "stream",
     "text": [
      "\n",
      "symbol"
     ]
    },
    {
     "name": "stdout",
     "output_type": "stream",
     "text": [
      " WFM\n",
      "current assets 1756000000\n",
      "current liability 1257000000\n",
      "total assets from latest statement for  WFM  is  5744000000  and total liability is  1931000000\n",
      "retained earnings 1668000000\n",
      "ebitda"
     ]
    },
    {
     "name": "stdout",
     "output_type": "stream",
     "text": [
      " 207000000\n",
      "gross profit 1154000000\n",
      "48.30"
     ]
    },
    {
     "name": "stdout",
     "output_type": "stream",
     "text": [
      "\n",
      "done..\n",
      "symbol:  WIN\n",
      "wait...\n",
      "go.."
     ]
    },
    {
     "name": "stdout",
     "output_type": "stream",
     "text": [
      "\n",
      "symbol"
     ]
    },
    {
     "name": "stdout",
     "output_type": "stream",
     "text": [
      " WIN\n",
      "current assets 1028100000\n",
      "current liability 1403900000\n",
      "total assets from latest statement for  WIN  is  12831600000  and total liability is  12372700000\n",
      "retained earnings -\n",
      "ebitda"
     ]
    },
    {
     "name": "stdout",
     "output_type": "stream",
     "text": [
      " 151500000\n",
      "gross profit 745600000\n",
      "10.0737"
     ]
    },
    {
     "name": "stdout",
     "output_type": "stream",
     "text": [
      "\n",
      "done..\n",
      "symbol:  WEC\n",
      "wait...\n",
      "go.."
     ]
    },
    {
     "name": "stdout",
     "output_type": "stream",
     "text": [
      "\n",
      "symbol"
     ]
    },
    {
     "name": "stdout",
     "output_type": "stream",
     "text": [
      " WEC\n",
      "current assets 1285500000\n",
      "current liability 980800000\n",
      "total assets from latest statement for  WEC  is  14619800000  and total liability is  10222300000\n",
      "retained earnings -\n",
      "ebitda"
     ]
    },
    {
     "name": "stdout",
     "output_type": "stream",
     "text": [
      " 266300000\n",
      "gross profit 369300000\n",
      "49.73"
     ]
    },
    {
     "name": "stdout",
     "output_type": "stream",
     "text": [
      "\n",
      "done..\n",
      "symbol:  WYN\n",
      "wait...\n",
      "go.."
     ]
    },
    {
     "name": "stdout",
     "output_type": "stream",
     "text": [
      "\n",
      "symbol"
     ]
    },
    {
     "name": "stdout",
     "output_type": "stream",
     "text": [
      " WYN\n",
      "current assets 1842000000\n",
      "current liability 1811000000\n",
      "total assets from latest statement for  WYN  is  9557000000  and total liability is  8149000000\n",
      "retained earnings 1146000000\n",
      "ebitda"
     ]
    },
    {
     "name": "stdout",
     "output_type": "stream",
     "text": [
      " 352000000\n",
      "gross profit 834000000\n",
      "82.635"
     ]
    },
    {
     "name": "stdout",
     "output_type": "stream",
     "text": [
      "\n",
      "done..\n",
      "symbol:  WYNN\n",
      "wait...\n",
      "go.."
     ]
    },
    {
     "name": "stdout",
     "output_type": "stream",
     "text": [
      "\n",
      "symbol"
     ]
    },
    {
     "name": "stdout",
     "output_type": "stream",
     "text": [
      " WYNN\n",
      "current assets 3470319000\n",
      "current liability 1344312000\n",
      "total assets from latest statement for  WYNN  is  9181699000  and total liability is  9086984000\n",
      "retained earnings 308641000\n",
      "ebitda"
     ]
    },
    {
     "name": "stdout",
     "output_type": "stream",
     "text": [
      " 336942000\n",
      "gross profit 551489000\n",
      "174.21"
     ]
    },
    {
     "name": "stdout",
     "output_type": "stream",
     "text": [
      "\n",
      "done..\n",
      "symbol:  XEL\n",
      "wait...\n",
      "go.."
     ]
    },
    {
     "name": "stdout",
     "output_type": "stream",
     "text": [
      "\n",
      "symbol"
     ]
    },
    {
     "name": "stdout",
     "output_type": "stream",
     "text": [
      " XEL\n",
      "current assets 3123820000\n",
      "current liability 3059929000\n",
      "total assets from latest statement for  XEL  is  34717644000  and total liability is  24796872000\n",
      "retained earnings 2961406000\n",
      "ebitda"
     ]
    },
    {
     "name": "stdout",
     "output_type": "stream",
     "text": [
      " 438822000\n",
      "gross profit 839627000\n",
      "34.64"
     ]
    },
    {
     "name": "stdout",
     "output_type": "stream",
     "text": [
      "\n",
      "done..\n",
      "symbol:  XRX\n",
      "wait...\n",
      "go.."
     ]
    },
    {
     "name": "stdout",
     "output_type": "stream",
     "text": [
      "\n",
      "symbol"
     ]
    },
    {
     "name": "stdout",
     "output_type": "stream",
     "text": [
      " XRX\n",
      "current assets 7882000000\n",
      "current liability 5703000000\n",
      "total assets from latest statement for  XRX  is  27877000000  and total liability is  15726000000\n",
      "retained earnings 9412000000\n",
      "ebitda"
     ]
    },
    {
     "name": "stdout",
     "output_type": "stream",
     "text": [
      " 301000000\n",
      "gross profit 1571000000\n",
      "13.81"
     ]
    },
    {
     "name": "stdout",
     "output_type": "stream",
     "text": [
      "\n",
      "done..\n",
      "symbol:  XLNX\n",
      "wait...\n",
      "go.."
     ]
    },
    {
     "name": "stdout",
     "output_type": "stream",
     "text": [
      "\n",
      "symbol"
     ]
    },
    {
     "name": "stdout",
     "output_type": "stream",
     "text": [
      " XLNX\n",
      "current assets 3303977000\n",
      "current liability 970649000\n",
      "total assets from latest statement for  XLNX  is  5017302000  and total liability is  2273868000\n",
      "retained earnings 1977185000\n",
      "ebitda"
     ]
    },
    {
     "name": "stdout",
     "output_type": "stream",
     "text": [
      " 200049000\n",
      "gross profit 434645000\n",
      "45.65"
     ]
    },
    {
     "name": "stdout",
     "output_type": "stream",
     "text": [
      "\n",
      "done..\n",
      "symbol:  XL\n",
      "wait...\n",
      "go.."
     ]
    },
    {
     "name": "stdout",
     "output_type": "stream",
     "text": [
      "\n",
      "symbol"
     ]
    },
    {
     "name": "stdout",
     "output_type": "stream",
     "text": [
      " XL\n",
      "current assets -\n",
      "current liability -\n",
      "total assets from latest statement for  XL  is  47848915000  and total liability is  37814626000\n",
      "retained earnings 1124195000\n",
      "ebitda"
     ]
    },
    {
     "name": "stdout",
     "output_type": "stream",
     "text": [
      " -294886000\n",
      "gross profit 725708000\n",
      "35.41"
     ]
    },
    {
     "name": "stdout",
     "output_type": "stream",
     "text": [
      "\n",
      "done..\n",
      "symbol:  XYL\n",
      "wait...\n",
      "go.."
     ]
    },
    {
     "name": "stdout",
     "output_type": "stream",
     "text": [
      "\n",
      "symbol"
     ]
    },
    {
     "name": "stdout",
     "output_type": "stream",
     "text": [
      " XYL\n",
      "current assets 2025000000\n",
      "current liability 850000000\n",
      "total assets from latest statement for  XYL  is  4814000000  and total liability is  2621000000\n",
      "retained earnings 575000000\n",
      "ebitda"
     ]
    },
    {
     "name": "stdout",
     "output_type": "stream",
     "text": [
      " 142000000\n",
      "gross profit 376000000\n",
      "38.22"
     ]
    },
    {
     "name": "stdout",
     "output_type": "stream",
     "text": [
      "\n",
      "done..\n",
      "symbol:  YHOO\n",
      "wait...\n",
      "go.."
     ]
    },
    {
     "name": "stdout",
     "output_type": "stream",
     "text": [
      "\n",
      "symbol"
     ]
    },
    {
     "name": "stdout",
     "output_type": "stream",
     "text": [
      " YHOO\n",
      "current assets 12579507000\n",
      "current liability 4377961000\n",
      "total assets from latest statement for  YHOO  is  57297599000  and total liability is  20584032000\n",
      "retained earnings 11622814000\n",
      "ebitda"
     ]
    },
    {
     "name": "stdout",
     "output_type": "stream",
     "text": [
      " 10352403000\n",
      "gross profit 827140000\n",
      "50.645"
     ]
    },
    {
     "name": "stdout",
     "output_type": "stream",
     "text": [
      "\n",
      "done..\n",
      "symbol:  YUM\n",
      "wait...\n",
      "go.."
     ]
    },
    {
     "name": "stdout",
     "output_type": "stream",
     "text": [
      "\n",
      "symbol"
     ]
    },
    {
     "name": "stdout",
     "output_type": "stream",
     "text": [
      " YUM\n",
      "current assets 2070000000\n",
      "current liability 2112000000\n",
      "total assets from latest statement for  YUM  is  9177000000  and total liability is  6636000000\n",
      "retained earnings 2462000000\n",
      "ebitda"
     ]
    },
    {
     "name": "stdout",
     "output_type": "stream",
     "text": [
      " 612000000\n",
      "gross profit 892000000\n",
      "77.89"
     ]
    },
    {
     "name": "stdout",
     "output_type": "stream",
     "text": [
      "\n",
      "done..\n",
      "symbol:  ZMH\n",
      "wait...\n",
      "go.."
     ]
    },
    {
     "name": "stdout",
     "output_type": "stream",
     "text": [
      "\n",
      "symbol"
     ]
    },
    {
     "name": "stdout",
     "output_type": "stream",
     "text": [
      " ZMH\n",
      "current assets 4332700000\n",
      "current liability 1093000000\n",
      "total assets from latest statement for  ZMH  is  9670900000  and total liability is  3131400000\n",
      "retained earnings 8165900000\n",
      "ebitda"
     ]
    },
    {
     "name": "stdout",
     "output_type": "stream",
     "text": [
      " 243700000\n",
      "gross profit 807700000\n",
      "113.97"
     ]
    },
    {
     "name": "stdout",
     "output_type": "stream",
     "text": [
      "\n",
      "done..\n",
      "symbol:  ZION\n",
      "wait...\n",
      "go.."
     ]
    },
    {
     "name": "stdout",
     "output_type": "stream",
     "text": [
      "\n",
      "error on "
     ]
    },
    {
     "name": "stdout",
     "output_type": "stream",
     "text": [
      " ZION . Error message (<class 'KeyError'>, KeyError('statement',), <traceback object at 0x7fe513297048>)\n",
      "done..\n",
      "symbol:  ZTS\n",
      "wait...\n",
      "go.."
     ]
    },
    {
     "name": "stdout",
     "output_type": "stream",
     "text": [
      "\n",
      "symbol"
     ]
    },
    {
     "name": "stdout",
     "output_type": "stream",
     "text": [
      " ZTS\n",
      "current assets 3353000000\n",
      "current liability 998000000\n",
      "total assets from latest statement for  ZTS  is  6527000000  and total liability is  5163000000\n",
      "retained earnings 661000000\n",
      "ebitda"
     ]
    },
    {
     "name": "stdout",
     "output_type": "stream",
     "text": [
      " 267000000\n",
      "gross profit 776000000\n",
      "44.805"
     ]
    },
    {
     "name": "stdout",
     "output_type": "stream",
     "text": [
      "\n",
      "done..\n",
      "0     (MMM, 32776000000, 16603000000, 12681000000, 7...\n",
      "1     (ABT, 42514000000, 19626000000, 16464000000, 1...\n",
      "2     (ABBV, 28454000000, 23809000000, 17555000000, ...\n",
      "3     (ACN, 17930452000, 11645115000, 11904442000, 8...\n",
      "4     (ACE, 97557000000, 67540000000, -, -, 16089000...\n",
      "5     (ACT, 53467400000, 24327000000, 6252300000, 44...\n",
      "6     (ADBE, 10493680000, 3762420000, 4279468000, 22...\n",
      "7     (AES, 38983000000, 31339000000, 7887000000, 70...\n",
      "8     (AET, 53025600000, 38104400000, -, -, 11150100...\n",
      "9     (AFL, 127871000000, 110313000000, -, -, 210890...\n",
      "10    (A, 10380000000, 4743000000, 4834000000, 15790...\n",
      "11                                (GAS, , , , , , , , )\n",
      "12    (APD, 17779100000, 10126100000, 3294800000, 29...\n",
      "13    (ARG, 5904774000, 3902350000, 1428026000, 9865...\n",
      "14    (AKAM, 3854291000, 1005911000, 1152676000, 301...\n",
      "...\n",
      "486    (WFM, 5744000000, 1931000000, 1756000000, 1257...\n",
      "487    (WIN, 12831600000, 12372700000, 1028100000, 14...\n",
      "488    (WEC, 14619800000, 10222300000, 1285500000, 98...\n",
      "489    (WYN, 9557000000, 8149000000, 1842000000, 1811...\n",
      "490    (WYNN, 9181699000, 9086984000, 3470319000, 134...\n",
      "491    (XEL, 34717644000, 24796872000, 3123820000, 30...\n",
      "492    (XRX, 27877000000, 15726000000, 7882000000, 57...\n",
      "493    (XLNX, 5017302000, 2273868000, 3303977000, 970...\n",
      "494    (XL, 47848915000, 37814626000, -, -, 112419500...\n",
      "495    (XYL, 4814000000, 2621000000, 2025000000, 8500...\n",
      "496    (YHOO, 57297599000, 20584032000, 12579507000, ...\n",
      "497    (YUM, 9177000000, 6636000000, 2070000000, 2112...\n",
      "498    (ZMH, 9670900000, 3131400000, 4332700000, 1093...\n",
      "499                               (ZION, , , , , , , , )\n",
      "500    (ZTS, 6527000000, 5163000000, 3353000000, 9980...\n",
      "Name: Symbol, Length: 501, dtype: object\n"
     ]
    }
   ],
   "source": [
    "#sp500_fin.iloc[:,0:2]\n",
    "stocks = sp500_fin['Symbol']\n",
    "global timer\n",
    "timer = 1\n",
    "altman = (stocks.apply(altman_variables))\n",
    "print (altman)"
   ]
  },
  {
   "cell_type": "heading",
   "metadata": {},
   "level": 6,
   "source": [
    "store file in csv"
   ]
  },
  {
   "cell_type": "code",
   "execution_count": 149,
   "metadata": {},
   "outputs": [
    {
     "data": {
      "text/html": [
       "<div style=\"max-height:1000px;max-width:1500px;overflow:auto;\">\n",
       "<table border=\"1\" class=\"dataframe\">\n",
       "  <thead>\n",
       "    <tr style=\"text-align: right;\">\n",
       "      <th></th>\n",
       "      <th>stock</th>\n",
       "      <th>total_assets</th>\n",
       "      <th>total_liability</th>\n",
       "      <th>current_assets</th>\n",
       "      <th>current_liability</th>\n",
       "      <th>retained_earnings</th>\n",
       "      <th>ebitda</th>\n",
       "      <th>sales</th>\n",
       "      <th>stockprice</th>\n",
       "      <th>0</th>\n",
       "      <th>1</th>\n",
       "      <th>2</th>\n",
       "      <th>3</th>\n",
       "      <th>4</th>\n",
       "      <th>5</th>\n",
       "      <th>6</th>\n",
       "      <th>7</th>\n",
       "      <th>8</th>\n",
       "    </tr>\n",
       "  </thead>\n",
       "  <tbody>\n",
       "    <tr>\n",
       "      <th>stock</th>\n",
       "      <td> NaN</td>\n",
       "      <td> NaN</td>\n",
       "      <td> NaN</td>\n",
       "      <td> NaN</td>\n",
       "      <td> NaN</td>\n",
       "      <td> NaN</td>\n",
       "      <td> NaN</td>\n",
       "      <td> NaN</td>\n",
       "      <td> NaN</td>\n",
       "      <td>  NaN</td>\n",
       "      <td>           NaN</td>\n",
       "      <td>           NaN</td>\n",
       "      <td>         NaN</td>\n",
       "      <td>         NaN</td>\n",
       "      <td>          NaN</td>\n",
       "      <td>         NaN</td>\n",
       "      <td>         NaN</td>\n",
       "      <td>      NaN</td>\n",
       "    </tr>\n",
       "    <tr>\n",
       "      <th>0</th>\n",
       "      <td> NaN</td>\n",
       "      <td> NaN</td>\n",
       "      <td> NaN</td>\n",
       "      <td> NaN</td>\n",
       "      <td> NaN</td>\n",
       "      <td> NaN</td>\n",
       "      <td> NaN</td>\n",
       "      <td> NaN</td>\n",
       "      <td> NaN</td>\n",
       "      <td>  MMM</td>\n",
       "      <td>   32776000000</td>\n",
       "      <td>   16603000000</td>\n",
       "      <td> 12681000000</td>\n",
       "      <td>  7705000000</td>\n",
       "      <td>  34484000000</td>\n",
       "      <td>  1908000000</td>\n",
       "      <td>  3932000000</td>\n",
       "      <td>   159.98</td>\n",
       "    </tr>\n",
       "    <tr>\n",
       "      <th>1</th>\n",
       "      <td> NaN</td>\n",
       "      <td> NaN</td>\n",
       "      <td> NaN</td>\n",
       "      <td> NaN</td>\n",
       "      <td> NaN</td>\n",
       "      <td> NaN</td>\n",
       "      <td> NaN</td>\n",
       "      <td> NaN</td>\n",
       "      <td> NaN</td>\n",
       "      <td>  ABT</td>\n",
       "      <td>   42514000000</td>\n",
       "      <td>   19626000000</td>\n",
       "      <td> 16464000000</td>\n",
       "      <td> 10823000000</td>\n",
       "      <td>  22335000000</td>\n",
       "      <td>   585000000</td>\n",
       "      <td>  2220000000</td>\n",
       "      <td>    45.29</td>\n",
       "    </tr>\n",
       "    <tr>\n",
       "      <th>2</th>\n",
       "      <td> NaN</td>\n",
       "      <td> NaN</td>\n",
       "      <td> NaN</td>\n",
       "      <td> NaN</td>\n",
       "      <td> NaN</td>\n",
       "      <td> NaN</td>\n",
       "      <td> NaN</td>\n",
       "      <td> NaN</td>\n",
       "      <td> NaN</td>\n",
       "      <td> ABBV</td>\n",
       "      <td>   28454000000</td>\n",
       "      <td>   23809000000</td>\n",
       "      <td> 17555000000</td>\n",
       "      <td>  6635000000</td>\n",
       "      <td>   2131000000</td>\n",
       "      <td>   815000000</td>\n",
       "      <td>  3925000000</td>\n",
       "      <td>    68.93</td>\n",
       "    </tr>\n",
       "    <tr>\n",
       "      <th>3</th>\n",
       "      <td> NaN</td>\n",
       "      <td> NaN</td>\n",
       "      <td> NaN</td>\n",
       "      <td> NaN</td>\n",
       "      <td> NaN</td>\n",
       "      <td> NaN</td>\n",
       "      <td> NaN</td>\n",
       "      <td> NaN</td>\n",
       "      <td> NaN</td>\n",
       "      <td>  ACN</td>\n",
       "      <td>   17930452000</td>\n",
       "      <td>   11645115000</td>\n",
       "      <td> 11904442000</td>\n",
       "      <td>  8158079000</td>\n",
       "      <td>  11758131000</td>\n",
       "      <td>  1093383000</td>\n",
       "      <td>  2468620000</td>\n",
       "      <td>    85.75</td>\n",
       "    </tr>\n",
       "    <tr>\n",
       "      <th>4</th>\n",
       "      <td> NaN</td>\n",
       "      <td> NaN</td>\n",
       "      <td> NaN</td>\n",
       "      <td> NaN</td>\n",
       "      <td> NaN</td>\n",
       "      <td> NaN</td>\n",
       "      <td> NaN</td>\n",
       "      <td> NaN</td>\n",
       "      <td> NaN</td>\n",
       "      <td>  ACE</td>\n",
       "      <td>   97557000000</td>\n",
       "      <td>   67540000000</td>\n",
       "      <td>           -</td>\n",
       "      <td>           -</td>\n",
       "      <td>  16089000000</td>\n",
       "      <td>  1031000000</td>\n",
       "      <td>  1566000000</td>\n",
       "      <td>   114.76</td>\n",
       "    </tr>\n",
       "    <tr>\n",
       "      <th>5</th>\n",
       "      <td> NaN</td>\n",
       "      <td> NaN</td>\n",
       "      <td> NaN</td>\n",
       "      <td> NaN</td>\n",
       "      <td> NaN</td>\n",
       "      <td> NaN</td>\n",
       "      <td> NaN</td>\n",
       "      <td> NaN</td>\n",
       "      <td> NaN</td>\n",
       "      <td>  ACT</td>\n",
       "      <td>   53467400000</td>\n",
       "      <td>   24327000000</td>\n",
       "      <td>  6252300000</td>\n",
       "      <td>  4481300000</td>\n",
       "      <td>    534700000</td>\n",
       "      <td> -1018600000</td>\n",
       "      <td>  1800100000</td>\n",
       "      <td>   262.90</td>\n",
       "    </tr>\n",
       "    <tr>\n",
       "      <th>6</th>\n",
       "      <td> NaN</td>\n",
       "      <td> NaN</td>\n",
       "      <td> NaN</td>\n",
       "      <td> NaN</td>\n",
       "      <td> NaN</td>\n",
       "      <td> NaN</td>\n",
       "      <td> NaN</td>\n",
       "      <td> NaN</td>\n",
       "      <td> NaN</td>\n",
       "      <td> ADBE</td>\n",
       "      <td>   10493680000</td>\n",
       "      <td>    3762420000</td>\n",
       "      <td>  4279468000</td>\n",
       "      <td>  2245248000</td>\n",
       "      <td>   6850790000</td>\n",
       "      <td>    76299000</td>\n",
       "      <td>   847685000</td>\n",
       "      <td>    73.18</td>\n",
       "    </tr>\n",
       "    <tr>\n",
       "      <th>7</th>\n",
       "      <td> NaN</td>\n",
       "      <td> NaN</td>\n",
       "      <td> NaN</td>\n",
       "      <td> NaN</td>\n",
       "      <td> NaN</td>\n",
       "      <td> NaN</td>\n",
       "      <td> NaN</td>\n",
       "      <td> NaN</td>\n",
       "      <td> NaN</td>\n",
       "      <td>  AES</td>\n",
       "      <td>   38983000000</td>\n",
       "      <td>   31339000000</td>\n",
       "      <td>  7887000000</td>\n",
       "      <td>  7073000000</td>\n",
       "      <td>    413000000</td>\n",
       "      <td>  1043000000</td>\n",
       "      <td>   767000000</td>\n",
       "      <td>    13.71</td>\n",
       "    </tr>\n",
       "    <tr>\n",
       "      <th>8</th>\n",
       "      <td> NaN</td>\n",
       "      <td> NaN</td>\n",
       "      <td> NaN</td>\n",
       "      <td> NaN</td>\n",
       "      <td> NaN</td>\n",
       "      <td> NaN</td>\n",
       "      <td> NaN</td>\n",
       "      <td> NaN</td>\n",
       "      <td> NaN</td>\n",
       "      <td>  AET</td>\n",
       "      <td>   53025600000</td>\n",
       "      <td>   38104400000</td>\n",
       "      <td>           -</td>\n",
       "      <td>           -</td>\n",
       "      <td>  11150100000</td>\n",
       "      <td>  1077500000</td>\n",
       "      <td>  3851700000</td>\n",
       "      <td>    88.07</td>\n",
       "    </tr>\n",
       "    <tr>\n",
       "      <th>9</th>\n",
       "      <td> NaN</td>\n",
       "      <td> NaN</td>\n",
       "      <td> NaN</td>\n",
       "      <td> NaN</td>\n",
       "      <td> NaN</td>\n",
       "      <td> NaN</td>\n",
       "      <td> NaN</td>\n",
       "      <td> NaN</td>\n",
       "      <td> NaN</td>\n",
       "      <td>  AFL</td>\n",
       "      <td>  127871000000</td>\n",
       "      <td>  110313000000</td>\n",
       "      <td>           -</td>\n",
       "      <td>           -</td>\n",
       "      <td>  21089000000</td>\n",
       "      <td>  1319000000</td>\n",
       "      <td>  2176000000</td>\n",
       "      <td>   59.489</td>\n",
       "    </tr>\n",
       "    <tr>\n",
       "      <th>10</th>\n",
       "      <td> NaN</td>\n",
       "      <td> NaN</td>\n",
       "      <td> NaN</td>\n",
       "      <td> NaN</td>\n",
       "      <td> NaN</td>\n",
       "      <td> NaN</td>\n",
       "      <td> NaN</td>\n",
       "      <td> NaN</td>\n",
       "      <td> NaN</td>\n",
       "      <td>    A</td>\n",
       "      <td>   10380000000</td>\n",
       "      <td>    4743000000</td>\n",
       "      <td>  4834000000</td>\n",
       "      <td>  1579000000</td>\n",
       "      <td>   6487000000</td>\n",
       "      <td>   212000000</td>\n",
       "      <td>   914000000</td>\n",
       "      <td>    41.96</td>\n",
       "    </tr>\n",
       "    <tr>\n",
       "      <th>11</th>\n",
       "      <td> NaN</td>\n",
       "      <td> NaN</td>\n",
       "      <td> NaN</td>\n",
       "      <td> NaN</td>\n",
       "      <td> NaN</td>\n",
       "      <td> NaN</td>\n",
       "      <td> NaN</td>\n",
       "      <td> NaN</td>\n",
       "      <td> NaN</td>\n",
       "      <td>  GAS</td>\n",
       "      <td>              </td>\n",
       "      <td>              </td>\n",
       "      <td>            </td>\n",
       "      <td>            </td>\n",
       "      <td>             </td>\n",
       "      <td>            </td>\n",
       "      <td>            </td>\n",
       "      <td>         </td>\n",
       "    </tr>\n",
       "    <tr>\n",
       "      <th>12</th>\n",
       "      <td> NaN</td>\n",
       "      <td> NaN</td>\n",
       "      <td> NaN</td>\n",
       "      <td> NaN</td>\n",
       "      <td> NaN</td>\n",
       "      <td> NaN</td>\n",
       "      <td> NaN</td>\n",
       "      <td> NaN</td>\n",
       "      <td> NaN</td>\n",
       "      <td>  APD</td>\n",
       "      <td>   17779100000</td>\n",
       "      <td>   10126100000</td>\n",
       "      <td>  3294800000</td>\n",
       "      <td>  2963000000</td>\n",
       "      <td>   9993200000</td>\n",
       "      <td>   183800000</td>\n",
       "      <td>   744600000</td>\n",
       "      <td>   143.86</td>\n",
       "    </tr>\n",
       "    <tr>\n",
       "      <th>13</th>\n",
       "      <td> NaN</td>\n",
       "      <td> NaN</td>\n",
       "      <td> NaN</td>\n",
       "      <td> NaN</td>\n",
       "      <td> NaN</td>\n",
       "      <td> NaN</td>\n",
       "      <td> NaN</td>\n",
       "      <td> NaN</td>\n",
       "      <td> NaN</td>\n",
       "      <td>  ARG</td>\n",
       "      <td>    5904774000</td>\n",
       "      <td>    3902350000</td>\n",
       "      <td>  1428026000</td>\n",
       "      <td>   986523000</td>\n",
       "      <td>   2145629000</td>\n",
       "      <td>   157300000</td>\n",
       "      <td>   757221000</td>\n",
       "      <td>   114.10</td>\n",
       "    </tr>\n",
       "    <tr>\n",
       "      <th>14</th>\n",
       "      <td> NaN</td>\n",
       "      <td> NaN</td>\n",
       "      <td> NaN</td>\n",
       "      <td> NaN</td>\n",
       "      <td> NaN</td>\n",
       "      <td> NaN</td>\n",
       "      <td> NaN</td>\n",
       "      <td> NaN</td>\n",
       "      <td> NaN</td>\n",
       "      <td> AKAM</td>\n",
       "      <td>    3854291000</td>\n",
       "      <td>    1005911000</td>\n",
       "      <td>  1152676000</td>\n",
       "      <td>   301601000</td>\n",
       "      <td>  -1695374000</td>\n",
       "      <td>   122061000</td>\n",
       "      <td>   339230000</td>\n",
       "      <td>    63.25</td>\n",
       "    </tr>\n",
       "    <tr>\n",
       "      <th>15</th>\n",
       "      <td> NaN</td>\n",
       "      <td> NaN</td>\n",
       "      <td> NaN</td>\n",
       "      <td> NaN</td>\n",
       "      <td> NaN</td>\n",
       "      <td> NaN</td>\n",
       "      <td> NaN</td>\n",
       "      <td> NaN</td>\n",
       "      <td> NaN</td>\n",
       "      <td>   AA</td>\n",
       "      <td>   37122000000</td>\n",
       "      <td>   24726000000</td>\n",
       "      <td>  9689000000</td>\n",
       "      <td>  5354000000</td>\n",
       "      <td>   9276000000</td>\n",
       "      <td>   456000000</td>\n",
       "      <td>  1335000000</td>\n",
       "      <td>    17.32</td>\n",
       "    </tr>\n",
       "    <tr>\n",
       "      <th>16</th>\n",
       "      <td> NaN</td>\n",
       "      <td> NaN</td>\n",
       "      <td> NaN</td>\n",
       "      <td> NaN</td>\n",
       "      <td> NaN</td>\n",
       "      <td> NaN</td>\n",
       "      <td> NaN</td>\n",
       "      <td> NaN</td>\n",
       "      <td> NaN</td>\n",
       "      <td> ALXN</td>\n",
       "      <td>    3890887000</td>\n",
       "      <td>     767848000</td>\n",
       "      <td>  2559878000</td>\n",
       "      <td>   502537000</td>\n",
       "      <td>    882678000</td>\n",
       "      <td>   236864000</td>\n",
       "      <td>   503288000</td>\n",
       "      <td>   199.98</td>\n",
       "    </tr>\n",
       "    <tr>\n",
       "      <th>17</th>\n",
       "      <td> NaN</td>\n",
       "      <td> NaN</td>\n",
       "      <td> NaN</td>\n",
       "      <td> NaN</td>\n",
       "      <td> NaN</td>\n",
       "      <td> NaN</td>\n",
       "      <td> NaN</td>\n",
       "      <td> NaN</td>\n",
       "      <td> NaN</td>\n",
       "      <td>  ATI</td>\n",
       "      <td>    6503200000</td>\n",
       "      <td>    3619900000</td>\n",
       "      <td>  2415000000</td>\n",
       "      <td>   839600000</td>\n",
       "      <td>   2396400000</td>\n",
       "      <td>    29300000</td>\n",
       "      <td>    97000000</td>\n",
       "      <td>  32.7536</td>\n",
       "    </tr>\n",
       "    <tr>\n",
       "      <th>18</th>\n",
       "      <td> NaN</td>\n",
       "      <td> NaN</td>\n",
       "      <td> NaN</td>\n",
       "      <td> NaN</td>\n",
       "      <td> NaN</td>\n",
       "      <td> NaN</td>\n",
       "      <td> NaN</td>\n",
       "      <td> NaN</td>\n",
       "      <td> NaN</td>\n",
       "      <td> ALLE</td>\n",
       "      <td>    1992200000</td>\n",
       "      <td>    2022900000</td>\n",
       "      <td>   934000000</td>\n",
       "      <td>   464200000</td>\n",
       "      <td>     95400000</td>\n",
       "      <td>   107600000</td>\n",
       "      <td>   236100000</td>\n",
       "      <td>    53.87</td>\n",
       "    </tr>\n",
       "    <tr>\n",
       "      <th>19</th>\n",
       "      <td> NaN</td>\n",
       "      <td> NaN</td>\n",
       "      <td> NaN</td>\n",
       "      <td> NaN</td>\n",
       "      <td> NaN</td>\n",
       "      <td> NaN</td>\n",
       "      <td> NaN</td>\n",
       "      <td> NaN</td>\n",
       "      <td> NaN</td>\n",
       "      <td>  AGN</td>\n",
       "      <td>   11645800000</td>\n",
       "      <td>    4535100000</td>\n",
       "      <td>  6103800000</td>\n",
       "      <td>  1567000000</td>\n",
       "      <td>   5411900000</td>\n",
       "      <td>   437800000</td>\n",
       "      <td>  1610500000</td>\n",
       "      <td>   210.51</td>\n",
       "    </tr>\n",
       "    <tr>\n",
       "      <th>20</th>\n",
       "      <td> NaN</td>\n",
       "      <td> NaN</td>\n",
       "      <td> NaN</td>\n",
       "      <td> NaN</td>\n",
       "      <td> NaN</td>\n",
       "      <td> NaN</td>\n",
       "      <td> NaN</td>\n",
       "      <td> NaN</td>\n",
       "      <td> NaN</td>\n",
       "      <td>  ADS</td>\n",
       "      <td>   15193275000</td>\n",
       "      <td>   13795181000</td>\n",
       "      <td> 11401425000</td>\n",
       "      <td>  5370177000</td>\n",
       "      <td>   2488511000</td>\n",
       "      <td>   321641000</td>\n",
       "      <td>   437141000</td>\n",
       "      <td>   279.98</td>\n",
       "    </tr>\n",
       "    <tr>\n",
       "      <th>21</th>\n",
       "      <td> NaN</td>\n",
       "      <td> NaN</td>\n",
       "      <td> NaN</td>\n",
       "      <td> NaN</td>\n",
       "      <td> NaN</td>\n",
       "      <td> NaN</td>\n",
       "      <td> NaN</td>\n",
       "      <td> NaN</td>\n",
       "      <td> NaN</td>\n",
       "      <td>  ALL</td>\n",
       "      <td>  108310000000</td>\n",
       "      <td>   85981000000</td>\n",
       "      <td>           -</td>\n",
       "      <td>           -</td>\n",
       "      <td>  37164000000</td>\n",
       "      <td>  1268000000</td>\n",
       "      <td>  3594000000</td>\n",
       "      <td>    68.03</td>\n",
       "    </tr>\n",
       "    <tr>\n",
       "      <th>22</th>\n",
       "      <td> NaN</td>\n",
       "      <td> NaN</td>\n",
       "      <td> NaN</td>\n",
       "      <td> NaN</td>\n",
       "      <td> NaN</td>\n",
       "      <td> NaN</td>\n",
       "      <td> NaN</td>\n",
       "      <td> NaN</td>\n",
       "      <td> NaN</td>\n",
       "      <td> ALTR</td>\n",
       "      <td>    5781030000</td>\n",
       "      <td>    2451322000</td>\n",
       "      <td>  3584241000</td>\n",
       "      <td>   641058000</td>\n",
       "      <td>   2163647000</td>\n",
       "      <td>   145937000</td>\n",
       "      <td>   333587000</td>\n",
       "      <td>    37.05</td>\n",
       "    </tr>\n",
       "    <tr>\n",
       "      <th>23</th>\n",
       "      <td> NaN</td>\n",
       "      <td> NaN</td>\n",
       "      <td> NaN</td>\n",
       "      <td> NaN</td>\n",
       "      <td> NaN</td>\n",
       "      <td> NaN</td>\n",
       "      <td> NaN</td>\n",
       "      <td> NaN</td>\n",
       "      <td> NaN</td>\n",
       "      <td>   MO</td>\n",
       "      <td>   34082000000</td>\n",
       "      <td>   29753000000</td>\n",
       "      <td>  5662000000</td>\n",
       "      <td>  7367000000</td>\n",
       "      <td>  26066000000</td>\n",
       "      <td>  2327000000</td>\n",
       "      <td>  2674000000</td>\n",
       "      <td>   50.445</td>\n",
       "    </tr>\n",
       "    <tr>\n",
       "      <th>24</th>\n",
       "      <td> NaN</td>\n",
       "      <td> NaN</td>\n",
       "      <td> NaN</td>\n",
       "      <td> NaN</td>\n",
       "      <td> NaN</td>\n",
       "      <td> NaN</td>\n",
       "      <td> NaN</td>\n",
       "      <td> NaN</td>\n",
       "      <td> NaN</td>\n",
       "      <td> AMZN</td>\n",
       "      <td>   40419000000</td>\n",
       "      <td>   30083000000</td>\n",
       "      <td> 18572000000</td>\n",
       "      <td> 20842000000</td>\n",
       "      <td>   1735000000</td>\n",
       "      <td>  -584000000</td>\n",
       "      <td>  5951000000</td>\n",
       "      <td>   324.51</td>\n",
       "    </tr>\n",
       "    <tr>\n",
       "      <th>25</th>\n",
       "      <td> NaN</td>\n",
       "      <td> NaN</td>\n",
       "      <td> NaN</td>\n",
       "      <td> NaN</td>\n",
       "      <td> NaN</td>\n",
       "      <td> NaN</td>\n",
       "      <td> NaN</td>\n",
       "      <td> NaN</td>\n",
       "      <td> NaN</td>\n",
       "      <td>  AEE</td>\n",
       "      <td>   21876000000</td>\n",
       "      <td>   15102000000</td>\n",
       "      <td>  1942000000</td>\n",
       "      <td>  2119000000</td>\n",
       "      <td>   1154000000</td>\n",
       "      <td>   575000000</td>\n",
       "      <td>   869000000</td>\n",
       "      <td>    43.37</td>\n",
       "    </tr>\n",
       "    <tr>\n",
       "      <th>26</th>\n",
       "      <td> NaN</td>\n",
       "      <td> NaN</td>\n",
       "      <td> NaN</td>\n",
       "      <td> NaN</td>\n",
       "      <td> NaN</td>\n",
       "      <td> NaN</td>\n",
       "      <td> NaN</td>\n",
       "      <td> NaN</td>\n",
       "      <td> NaN</td>\n",
       "      <td>  AEP</td>\n",
       "      <td>   57925000000</td>\n",
       "      <td>   41057000000</td>\n",
       "      <td>  4111000000</td>\n",
       "      <td>  7457000000</td>\n",
       "      <td>   7470000000</td>\n",
       "      <td>   960000000</td>\n",
       "      <td>  2452000000</td>\n",
       "      <td>    58.35</td>\n",
       "    </tr>\n",
       "    <tr>\n",
       "      <th>27</th>\n",
       "      <td> NaN</td>\n",
       "      <td> NaN</td>\n",
       "      <td> NaN</td>\n",
       "      <td> NaN</td>\n",
       "      <td> NaN</td>\n",
       "      <td> NaN</td>\n",
       "      <td> NaN</td>\n",
       "      <td> NaN</td>\n",
       "      <td> NaN</td>\n",
       "      <td>  AXP</td>\n",
       "      <td>  153862000000</td>\n",
       "      <td>  133646000000</td>\n",
       "      <td>           -</td>\n",
       "      <td>           -</td>\n",
       "      <td>   9335000000</td>\n",
       "      <td>  2575000000</td>\n",
       "      <td>           -</td>\n",
       "      <td>    92.73</td>\n",
       "    </tr>\n",
       "    <tr>\n",
       "      <th>28</th>\n",
       "      <td> NaN</td>\n",
       "      <td> NaN</td>\n",
       "      <td> NaN</td>\n",
       "      <td> NaN</td>\n",
       "      <td> NaN</td>\n",
       "      <td> NaN</td>\n",
       "      <td> NaN</td>\n",
       "      <td> NaN</td>\n",
       "      <td> NaN</td>\n",
       "      <td>  AIG</td>\n",
       "      <td>  529109000000</td>\n",
       "      <td>  420948000000</td>\n",
       "      <td>           -</td>\n",
       "      <td>           -</td>\n",
       "      <td>  27286000000</td>\n",
       "      <td>            </td>\n",
       "      <td>            </td>\n",
       "      <td>    54.89</td>\n",
       "    </tr>\n",
       "    <tr>\n",
       "      <th>...</th>\n",
       "      <td>...</td>\n",
       "      <td>...</td>\n",
       "      <td>...</td>\n",
       "      <td>...</td>\n",
       "      <td>...</td>\n",
       "      <td>...</td>\n",
       "      <td>...</td>\n",
       "      <td>...</td>\n",
       "      <td>...</td>\n",
       "      <td>...</td>\n",
       "      <td>...</td>\n",
       "      <td>...</td>\n",
       "      <td>...</td>\n",
       "      <td>...</td>\n",
       "      <td>...</td>\n",
       "      <td>...</td>\n",
       "      <td>...</td>\n",
       "      <td>...</td>\n",
       "    </tr>\n",
       "    <tr>\n",
       "      <th>471</th>\n",
       "      <td> NaN</td>\n",
       "      <td> NaN</td>\n",
       "      <td> NaN</td>\n",
       "      <td> NaN</td>\n",
       "      <td> NaN</td>\n",
       "      <td> NaN</td>\n",
       "      <td> NaN</td>\n",
       "      <td> NaN</td>\n",
       "      <td> NaN</td>\n",
       "      <td> VIAB</td>\n",
       "      <td>              </td>\n",
       "      <td>              </td>\n",
       "      <td>            </td>\n",
       "      <td>            </td>\n",
       "      <td>             </td>\n",
       "      <td>            </td>\n",
       "      <td>            </td>\n",
       "      <td>         </td>\n",
       "    </tr>\n",
       "    <tr>\n",
       "      <th>472</th>\n",
       "      <td> NaN</td>\n",
       "      <td> NaN</td>\n",
       "      <td> NaN</td>\n",
       "      <td> NaN</td>\n",
       "      <td> NaN</td>\n",
       "      <td> NaN</td>\n",
       "      <td> NaN</td>\n",
       "      <td> NaN</td>\n",
       "      <td> NaN</td>\n",
       "      <td>    V</td>\n",
       "      <td>   38569000000</td>\n",
       "      <td>   11156000000</td>\n",
       "      <td>  9562000000</td>\n",
       "      <td>  6006000000</td>\n",
       "      <td>   9131000000</td>\n",
       "      <td>  1550000000</td>\n",
       "      <td>  2733000000</td>\n",
       "      <td>   259.93</td>\n",
       "    </tr>\n",
       "    <tr>\n",
       "      <th>473</th>\n",
       "      <td> NaN</td>\n",
       "      <td> NaN</td>\n",
       "      <td> NaN</td>\n",
       "      <td> NaN</td>\n",
       "      <td> NaN</td>\n",
       "      <td> NaN</td>\n",
       "      <td> NaN</td>\n",
       "      <td> NaN</td>\n",
       "      <td> NaN</td>\n",
       "      <td>  VNO</td>\n",
       "      <td>   20736779000</td>\n",
       "      <td>   13061677000</td>\n",
       "      <td>           -</td>\n",
       "      <td>           -</td>\n",
       "      <td>  -1872250000</td>\n",
       "      <td>   284185000</td>\n",
       "      <td>   405153000</td>\n",
       "      <td>   112.51</td>\n",
       "    </tr>\n",
       "    <tr>\n",
       "      <th>474</th>\n",
       "      <td> NaN</td>\n",
       "      <td> NaN</td>\n",
       "      <td> NaN</td>\n",
       "      <td> NaN</td>\n",
       "      <td> NaN</td>\n",
       "      <td> NaN</td>\n",
       "      <td> NaN</td>\n",
       "      <td> NaN</td>\n",
       "      <td> NaN</td>\n",
       "      <td>  VMC</td>\n",
       "      <td>    8091538000</td>\n",
       "      <td>    3890439000</td>\n",
       "      <td>   954618000</td>\n",
       "      <td>   364812000</td>\n",
       "      <td>   1441742000</td>\n",
       "      <td>   139738000</td>\n",
       "      <td>   209041000</td>\n",
       "      <td>    65.39</td>\n",
       "    </tr>\n",
       "    <tr>\n",
       "      <th>475</th>\n",
       "      <td> NaN</td>\n",
       "      <td> NaN</td>\n",
       "      <td> NaN</td>\n",
       "      <td> NaN</td>\n",
       "      <td> NaN</td>\n",
       "      <td> NaN</td>\n",
       "      <td> NaN</td>\n",
       "      <td> NaN</td>\n",
       "      <td> NaN</td>\n",
       "      <td>  WMT</td>\n",
       "      <td>  203985000000</td>\n",
       "      <td>  126239000000</td>\n",
       "      <td> 59632000000</td>\n",
       "      <td> 67152000000</td>\n",
       "      <td>  77172000000</td>\n",
       "      <td>  6772000000</td>\n",
       "      <td> 30115000000</td>\n",
       "      <td>   86.145</td>\n",
       "    </tr>\n",
       "    <tr>\n",
       "      <th>476</th>\n",
       "      <td> NaN</td>\n",
       "      <td> NaN</td>\n",
       "      <td> NaN</td>\n",
       "      <td> NaN</td>\n",
       "      <td> NaN</td>\n",
       "      <td> NaN</td>\n",
       "      <td> NaN</td>\n",
       "      <td> NaN</td>\n",
       "      <td> NaN</td>\n",
       "      <td>  WAG</td>\n",
       "      <td>   37182000000</td>\n",
       "      <td>   16621000000</td>\n",
       "      <td> 12242000000</td>\n",
       "      <td>  8895000000</td>\n",
       "      <td>  22229000000</td>\n",
       "      <td>   198000000</td>\n",
       "      <td>  5327000000</td>\n",
       "      <td>    67.09</td>\n",
       "    </tr>\n",
       "    <tr>\n",
       "      <th>477</th>\n",
       "      <td> NaN</td>\n",
       "      <td> NaN</td>\n",
       "      <td> NaN</td>\n",
       "      <td> NaN</td>\n",
       "      <td> NaN</td>\n",
       "      <td> NaN</td>\n",
       "      <td> NaN</td>\n",
       "      <td> NaN</td>\n",
       "      <td> NaN</td>\n",
       "      <td>  DIS</td>\n",
       "      <td>   84186000000</td>\n",
       "      <td>   39228000000</td>\n",
       "      <td> 15176000000</td>\n",
       "      <td> 13292000000</td>\n",
       "      <td>  53734000000</td>\n",
       "      <td>  2461000000</td>\n",
       "      <td> 13249000000</td>\n",
       "      <td>   93.305</td>\n",
       "    </tr>\n",
       "    <tr>\n",
       "      <th>478</th>\n",
       "      <td> NaN</td>\n",
       "      <td> NaN</td>\n",
       "      <td> NaN</td>\n",
       "      <td> NaN</td>\n",
       "      <td> NaN</td>\n",
       "      <td> NaN</td>\n",
       "      <td> NaN</td>\n",
       "      <td> NaN</td>\n",
       "      <td> NaN</td>\n",
       "      <td>   WM</td>\n",
       "      <td>   22211000000</td>\n",
       "      <td>   16847000000</td>\n",
       "      <td>  4116000000</td>\n",
       "      <td>  3789000000</td>\n",
       "      <td>   6473000000</td>\n",
       "      <td>   530000000</td>\n",
       "      <td>  1303000000</td>\n",
       "      <td>   48.919</td>\n",
       "    </tr>\n",
       "    <tr>\n",
       "      <th>479</th>\n",
       "      <td> NaN</td>\n",
       "      <td> NaN</td>\n",
       "      <td> NaN</td>\n",
       "      <td> NaN</td>\n",
       "      <td> NaN</td>\n",
       "      <td> NaN</td>\n",
       "      <td> NaN</td>\n",
       "      <td> NaN</td>\n",
       "      <td> NaN</td>\n",
       "      <td>  WAT</td>\n",
       "      <td>    3727530000</td>\n",
       "      <td>    1884045000</td>\n",
       "      <td>  2680606000</td>\n",
       "      <td>   594590000</td>\n",
       "      <td>   4129724000</td>\n",
       "      <td>   120095000</td>\n",
       "      <td>   279948000</td>\n",
       "      <td>   116.62</td>\n",
       "    </tr>\n",
       "    <tr>\n",
       "      <th>480</th>\n",
       "      <td> NaN</td>\n",
       "      <td> NaN</td>\n",
       "      <td> NaN</td>\n",
       "      <td> NaN</td>\n",
       "      <td> NaN</td>\n",
       "      <td> NaN</td>\n",
       "      <td> NaN</td>\n",
       "      <td> NaN</td>\n",
       "      <td> NaN</td>\n",
       "      <td>  WLP</td>\n",
       "      <td>   62058200000</td>\n",
       "      <td>   37764200000</td>\n",
       "      <td>           -</td>\n",
       "      <td>           -</td>\n",
       "      <td>  13863800000</td>\n",
       "      <td>  1242500000</td>\n",
       "      <td>  4345900000</td>\n",
       "      <td> 128.7594</td>\n",
       "    </tr>\n",
       "    <tr>\n",
       "      <th>481</th>\n",
       "      <td> NaN</td>\n",
       "      <td> NaN</td>\n",
       "      <td> NaN</td>\n",
       "      <td> NaN</td>\n",
       "      <td> NaN</td>\n",
       "      <td> NaN</td>\n",
       "      <td> NaN</td>\n",
       "      <td> NaN</td>\n",
       "      <td> NaN</td>\n",
       "      <td>  WFC</td>\n",
       "      <td> 1636855000000</td>\n",
       "      <td> 1454374000000</td>\n",
       "      <td>           -</td>\n",
       "      <td>           -</td>\n",
       "      <td> 103494000000</td>\n",
       "      <td>  9347000000</td>\n",
       "      <td>           -</td>\n",
       "      <td>    54.25</td>\n",
       "    </tr>\n",
       "    <tr>\n",
       "      <th>482</th>\n",
       "      <td> NaN</td>\n",
       "      <td> NaN</td>\n",
       "      <td> NaN</td>\n",
       "      <td> NaN</td>\n",
       "      <td> NaN</td>\n",
       "      <td> NaN</td>\n",
       "      <td> NaN</td>\n",
       "      <td> NaN</td>\n",
       "      <td> NaN</td>\n",
       "      <td>  WDC</td>\n",
       "      <td>   15652000000</td>\n",
       "      <td>    6689000000</td>\n",
       "      <td>  8990000000</td>\n",
       "      <td>  3918000000</td>\n",
       "      <td>   8394000000</td>\n",
       "      <td>   473000000</td>\n",
       "      <td>  1149000000</td>\n",
       "      <td>   102.83</td>\n",
       "    </tr>\n",
       "    <tr>\n",
       "      <th>483</th>\n",
       "      <td> NaN</td>\n",
       "      <td> NaN</td>\n",
       "      <td> NaN</td>\n",
       "      <td> NaN</td>\n",
       "      <td> NaN</td>\n",
       "      <td> NaN</td>\n",
       "      <td> NaN</td>\n",
       "      <td> NaN</td>\n",
       "      <td> NaN</td>\n",
       "      <td>   WU</td>\n",
       "      <td>    9846600000</td>\n",
       "      <td>    8666900000</td>\n",
       "      <td>  5133200000</td>\n",
       "      <td>  8273600000</td>\n",
       "      <td>    856200000</td>\n",
       "      <td>   316000000</td>\n",
       "      <td>   600400000</td>\n",
       "      <td>  18.2904</td>\n",
       "    </tr>\n",
       "    <tr>\n",
       "      <th>484</th>\n",
       "      <td> NaN</td>\n",
       "      <td> NaN</td>\n",
       "      <td> NaN</td>\n",
       "      <td> NaN</td>\n",
       "      <td> NaN</td>\n",
       "      <td> NaN</td>\n",
       "      <td> NaN</td>\n",
       "      <td> NaN</td>\n",
       "      <td> NaN</td>\n",
       "      <td>   WY</td>\n",
       "      <td>   15706000000</td>\n",
       "      <td>    8614000000</td>\n",
       "      <td>  3290000000</td>\n",
       "      <td>  1069000000</td>\n",
       "      <td>    495000000</td>\n",
       "      <td>   395000000</td>\n",
       "      <td>   412000000</td>\n",
       "      <td>   35.295</td>\n",
       "    </tr>\n",
       "    <tr>\n",
       "      <th>485</th>\n",
       "      <td> NaN</td>\n",
       "      <td> NaN</td>\n",
       "      <td> NaN</td>\n",
       "      <td> NaN</td>\n",
       "      <td> NaN</td>\n",
       "      <td> NaN</td>\n",
       "      <td> NaN</td>\n",
       "      <td> NaN</td>\n",
       "      <td> NaN</td>\n",
       "      <td>  WHR</td>\n",
       "      <td>   15708000000</td>\n",
       "      <td>   10397000000</td>\n",
       "      <td>  6959000000</td>\n",
       "      <td>  6402000000</td>\n",
       "      <td>   6186000000</td>\n",
       "      <td>   296000000</td>\n",
       "      <td>   827000000</td>\n",
       "      <td>   183.99</td>\n",
       "    </tr>\n",
       "    <tr>\n",
       "      <th>486</th>\n",
       "      <td> NaN</td>\n",
       "      <td> NaN</td>\n",
       "      <td> NaN</td>\n",
       "      <td> NaN</td>\n",
       "      <td> NaN</td>\n",
       "      <td> NaN</td>\n",
       "      <td> NaN</td>\n",
       "      <td> NaN</td>\n",
       "      <td> NaN</td>\n",
       "      <td>  WFM</td>\n",
       "      <td>    5744000000</td>\n",
       "      <td>    1931000000</td>\n",
       "      <td>  1756000000</td>\n",
       "      <td>  1257000000</td>\n",
       "      <td>   1668000000</td>\n",
       "      <td>   207000000</td>\n",
       "      <td>  1154000000</td>\n",
       "      <td>    48.30</td>\n",
       "    </tr>\n",
       "    <tr>\n",
       "      <th>487</th>\n",
       "      <td> NaN</td>\n",
       "      <td> NaN</td>\n",
       "      <td> NaN</td>\n",
       "      <td> NaN</td>\n",
       "      <td> NaN</td>\n",
       "      <td> NaN</td>\n",
       "      <td> NaN</td>\n",
       "      <td> NaN</td>\n",
       "      <td> NaN</td>\n",
       "      <td>  WIN</td>\n",
       "      <td>   12831600000</td>\n",
       "      <td>   12372700000</td>\n",
       "      <td>  1028100000</td>\n",
       "      <td>  1403900000</td>\n",
       "      <td>            -</td>\n",
       "      <td>   151500000</td>\n",
       "      <td>   745600000</td>\n",
       "      <td>  10.0737</td>\n",
       "    </tr>\n",
       "    <tr>\n",
       "      <th>488</th>\n",
       "      <td> NaN</td>\n",
       "      <td> NaN</td>\n",
       "      <td> NaN</td>\n",
       "      <td> NaN</td>\n",
       "      <td> NaN</td>\n",
       "      <td> NaN</td>\n",
       "      <td> NaN</td>\n",
       "      <td> NaN</td>\n",
       "      <td> NaN</td>\n",
       "      <td>  WEC</td>\n",
       "      <td>   14619800000</td>\n",
       "      <td>   10222300000</td>\n",
       "      <td>  1285500000</td>\n",
       "      <td>   980800000</td>\n",
       "      <td>            -</td>\n",
       "      <td>   266300000</td>\n",
       "      <td>   369300000</td>\n",
       "      <td>    49.73</td>\n",
       "    </tr>\n",
       "    <tr>\n",
       "      <th>489</th>\n",
       "      <td> NaN</td>\n",
       "      <td> NaN</td>\n",
       "      <td> NaN</td>\n",
       "      <td> NaN</td>\n",
       "      <td> NaN</td>\n",
       "      <td> NaN</td>\n",
       "      <td> NaN</td>\n",
       "      <td> NaN</td>\n",
       "      <td> NaN</td>\n",
       "      <td>  WYN</td>\n",
       "      <td>    9557000000</td>\n",
       "      <td>    8149000000</td>\n",
       "      <td>  1842000000</td>\n",
       "      <td>  1811000000</td>\n",
       "      <td>   1146000000</td>\n",
       "      <td>   352000000</td>\n",
       "      <td>   834000000</td>\n",
       "      <td>   82.635</td>\n",
       "    </tr>\n",
       "    <tr>\n",
       "      <th>490</th>\n",
       "      <td> NaN</td>\n",
       "      <td> NaN</td>\n",
       "      <td> NaN</td>\n",
       "      <td> NaN</td>\n",
       "      <td> NaN</td>\n",
       "      <td> NaN</td>\n",
       "      <td> NaN</td>\n",
       "      <td> NaN</td>\n",
       "      <td> NaN</td>\n",
       "      <td> WYNN</td>\n",
       "      <td>    9181699000</td>\n",
       "      <td>    9086984000</td>\n",
       "      <td>  3470319000</td>\n",
       "      <td>  1344312000</td>\n",
       "      <td>    308641000</td>\n",
       "      <td>   336942000</td>\n",
       "      <td>   551489000</td>\n",
       "      <td>   174.21</td>\n",
       "    </tr>\n",
       "    <tr>\n",
       "      <th>491</th>\n",
       "      <td> NaN</td>\n",
       "      <td> NaN</td>\n",
       "      <td> NaN</td>\n",
       "      <td> NaN</td>\n",
       "      <td> NaN</td>\n",
       "      <td> NaN</td>\n",
       "      <td> NaN</td>\n",
       "      <td> NaN</td>\n",
       "      <td> NaN</td>\n",
       "      <td>  XEL</td>\n",
       "      <td>   34717644000</td>\n",
       "      <td>   24796872000</td>\n",
       "      <td>  3123820000</td>\n",
       "      <td>  3059929000</td>\n",
       "      <td>   2961406000</td>\n",
       "      <td>   438822000</td>\n",
       "      <td>   839627000</td>\n",
       "      <td>    34.64</td>\n",
       "    </tr>\n",
       "    <tr>\n",
       "      <th>492</th>\n",
       "      <td> NaN</td>\n",
       "      <td> NaN</td>\n",
       "      <td> NaN</td>\n",
       "      <td> NaN</td>\n",
       "      <td> NaN</td>\n",
       "      <td> NaN</td>\n",
       "      <td> NaN</td>\n",
       "      <td> NaN</td>\n",
       "      <td> NaN</td>\n",
       "      <td>  XRX</td>\n",
       "      <td>   27877000000</td>\n",
       "      <td>   15726000000</td>\n",
       "      <td>  7882000000</td>\n",
       "      <td>  5703000000</td>\n",
       "      <td>   9412000000</td>\n",
       "      <td>   301000000</td>\n",
       "      <td>  1571000000</td>\n",
       "      <td>    13.81</td>\n",
       "    </tr>\n",
       "    <tr>\n",
       "      <th>493</th>\n",
       "      <td> NaN</td>\n",
       "      <td> NaN</td>\n",
       "      <td> NaN</td>\n",
       "      <td> NaN</td>\n",
       "      <td> NaN</td>\n",
       "      <td> NaN</td>\n",
       "      <td> NaN</td>\n",
       "      <td> NaN</td>\n",
       "      <td> NaN</td>\n",
       "      <td> XLNX</td>\n",
       "      <td>    5017302000</td>\n",
       "      <td>    2273868000</td>\n",
       "      <td>  3303977000</td>\n",
       "      <td>   970649000</td>\n",
       "      <td>   1977185000</td>\n",
       "      <td>   200049000</td>\n",
       "      <td>   434645000</td>\n",
       "      <td>    45.65</td>\n",
       "    </tr>\n",
       "    <tr>\n",
       "      <th>494</th>\n",
       "      <td> NaN</td>\n",
       "      <td> NaN</td>\n",
       "      <td> NaN</td>\n",
       "      <td> NaN</td>\n",
       "      <td> NaN</td>\n",
       "      <td> NaN</td>\n",
       "      <td> NaN</td>\n",
       "      <td> NaN</td>\n",
       "      <td> NaN</td>\n",
       "      <td>   XL</td>\n",
       "      <td>   47848915000</td>\n",
       "      <td>   37814626000</td>\n",
       "      <td>           -</td>\n",
       "      <td>           -</td>\n",
       "      <td>   1124195000</td>\n",
       "      <td>  -294886000</td>\n",
       "      <td>   725708000</td>\n",
       "      <td>    35.41</td>\n",
       "    </tr>\n",
       "    <tr>\n",
       "      <th>495</th>\n",
       "      <td> NaN</td>\n",
       "      <td> NaN</td>\n",
       "      <td> NaN</td>\n",
       "      <td> NaN</td>\n",
       "      <td> NaN</td>\n",
       "      <td> NaN</td>\n",
       "      <td> NaN</td>\n",
       "      <td> NaN</td>\n",
       "      <td> NaN</td>\n",
       "      <td>  XYL</td>\n",
       "      <td>    4814000000</td>\n",
       "      <td>    2621000000</td>\n",
       "      <td>  2025000000</td>\n",
       "      <td>   850000000</td>\n",
       "      <td>    575000000</td>\n",
       "      <td>   142000000</td>\n",
       "      <td>   376000000</td>\n",
       "      <td>    38.22</td>\n",
       "    </tr>\n",
       "    <tr>\n",
       "      <th>496</th>\n",
       "      <td> NaN</td>\n",
       "      <td> NaN</td>\n",
       "      <td> NaN</td>\n",
       "      <td> NaN</td>\n",
       "      <td> NaN</td>\n",
       "      <td> NaN</td>\n",
       "      <td> NaN</td>\n",
       "      <td> NaN</td>\n",
       "      <td> NaN</td>\n",
       "      <td> YHOO</td>\n",
       "      <td>   57297599000</td>\n",
       "      <td>   20584032000</td>\n",
       "      <td> 12579507000</td>\n",
       "      <td>  4377961000</td>\n",
       "      <td>  11622814000</td>\n",
       "      <td> 10352403000</td>\n",
       "      <td>   827140000</td>\n",
       "      <td>   50.645</td>\n",
       "    </tr>\n",
       "    <tr>\n",
       "      <th>497</th>\n",
       "      <td> NaN</td>\n",
       "      <td> NaN</td>\n",
       "      <td> NaN</td>\n",
       "      <td> NaN</td>\n",
       "      <td> NaN</td>\n",
       "      <td> NaN</td>\n",
       "      <td> NaN</td>\n",
       "      <td> NaN</td>\n",
       "      <td> NaN</td>\n",
       "      <td>  YUM</td>\n",
       "      <td>    9177000000</td>\n",
       "      <td>    6636000000</td>\n",
       "      <td>  2070000000</td>\n",
       "      <td>  2112000000</td>\n",
       "      <td>   2462000000</td>\n",
       "      <td>   612000000</td>\n",
       "      <td>   892000000</td>\n",
       "      <td>    77.89</td>\n",
       "    </tr>\n",
       "    <tr>\n",
       "      <th>498</th>\n",
       "      <td> NaN</td>\n",
       "      <td> NaN</td>\n",
       "      <td> NaN</td>\n",
       "      <td> NaN</td>\n",
       "      <td> NaN</td>\n",
       "      <td> NaN</td>\n",
       "      <td> NaN</td>\n",
       "      <td> NaN</td>\n",
       "      <td> NaN</td>\n",
       "      <td>  ZMH</td>\n",
       "      <td>    9670900000</td>\n",
       "      <td>    3131400000</td>\n",
       "      <td>  4332700000</td>\n",
       "      <td>  1093000000</td>\n",
       "      <td>   8165900000</td>\n",
       "      <td>   243700000</td>\n",
       "      <td>   807700000</td>\n",
       "      <td>   113.97</td>\n",
       "    </tr>\n",
       "    <tr>\n",
       "      <th>499</th>\n",
       "      <td> NaN</td>\n",
       "      <td> NaN</td>\n",
       "      <td> NaN</td>\n",
       "      <td> NaN</td>\n",
       "      <td> NaN</td>\n",
       "      <td> NaN</td>\n",
       "      <td> NaN</td>\n",
       "      <td> NaN</td>\n",
       "      <td> NaN</td>\n",
       "      <td> ZION</td>\n",
       "      <td>              </td>\n",
       "      <td>              </td>\n",
       "      <td>            </td>\n",
       "      <td>            </td>\n",
       "      <td>             </td>\n",
       "      <td>            </td>\n",
       "      <td>            </td>\n",
       "      <td>         </td>\n",
       "    </tr>\n",
       "    <tr>\n",
       "      <th>500</th>\n",
       "      <td> NaN</td>\n",
       "      <td> NaN</td>\n",
       "      <td> NaN</td>\n",
       "      <td> NaN</td>\n",
       "      <td> NaN</td>\n",
       "      <td> NaN</td>\n",
       "      <td> NaN</td>\n",
       "      <td> NaN</td>\n",
       "      <td> NaN</td>\n",
       "      <td>  ZTS</td>\n",
       "      <td>    6527000000</td>\n",
       "      <td>    5163000000</td>\n",
       "      <td>  3353000000</td>\n",
       "      <td>   998000000</td>\n",
       "      <td>    661000000</td>\n",
       "      <td>   267000000</td>\n",
       "      <td>   776000000</td>\n",
       "      <td>   44.805</td>\n",
       "    </tr>\n",
       "  </tbody>\n",
       "</table>\n",
       "<p>502 rows × 18 columns</p>\n",
       "</div>"
      ],
      "text/plain": []
     },
     "metadata": {},
     "output_type": "execute_result"
    }
   ],
   "source": [
    "altman_header = ['stock', 'total_assets', 'total_liability', 'current_assets','current_liability','retained_earnings','ebitda', 'sales', 'stockprice']\n",
    "df = pd.DataFrame(altman, index=['stock'], columns=['stock', 'total_assets', 'total_liability', 'current_assets','current_liability','retained_earnings','ebitda', 'sales', 'stockprice'])\n",
    "df.append(list(altman))\n",
    "#df.columns[altman_header]"
   ]
  }
 ],
 "metadata": {
  "name": "",
  "signature": "sha256:f6f97e84d5bafe6aaf3d549e3ce68c622f5ab999332f93a2d4e45bad9da75140"
 },
 "nbformat": 4,
 "nbformat_minor": 0
}