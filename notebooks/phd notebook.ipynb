{
 "cells": [
  {
   "cell_type": "code",
   "execution_count": 1,
   "metadata": {},
   "outputs": [],
   "source": [
    "%matplotlib inline \n",
    "import pandas as pd\n",
    "import matplotlib.pyplot as plt\n",
    "import pylab as pl\n",
    "import numpy as np\n",
    "import scipy as sc\n",
    "from twitterSentiment.models import (CompanyStocksSentimentHistory,Company, CompanyFinancials, TwitterText, \n",
    "CompanyAltmanZscore, CompanySentiment, CompanyKeyStats)\n",
    "from django.db.models import Q"
   ]
  },
  {
   "cell_type": "code",
   "execution_count": 2,
   "metadata": {},
   "outputs": [],
   "source": [
    "def company_sentiment_calculations(companyid):\n",
    "    try:\n",
    "        company_sentiments = CompanySentiment.objects.filter(company_id=companyid).values()\n",
    "        if company_sentiments.count() >0:\n",
    "            company_sentiments_list = pd.DataFrame(list(company_sentiments))\n",
    "            averages = pd.Series([company_sentiments_list['sentiment_prob_very_negative'].astype(float).sum(),\n",
    "                company_sentiments_list['sentiment_prob_negative'].astype(float).sum(),\n",
    "                company_sentiments_list['sentiment_prob_neutral'].astype(float).sum(),\n",
    "                company_sentiments_list['sentiment_prob_positive'].astype(float).sum(),\n",
    "                company_sentiments_list['sentiment_prob_very_positive'].astype(float).sum()],\n",
    "                index=[0,1,2,3,4])\n",
    "            return (averages.idxmax(axis=1)) #pick the index with the maximum probability\n",
    "        else:\n",
    "            return \n",
    "    except:\n",
    "        print (\"sentiment error occured for company:\", companyid, \"error:\",sys.exc_info())\n",
    "        return (-1)\n",
    "\n",
    "    \n",
    "def company_zscore_calculations(companyid):\n",
    "    try:\n",
    "        company_zscore = CompanyAltmanZscore.objects.all().filter(company_id=companyid).values('zscore')\n",
    "        r = list(company_zscore[:1])\n",
    "        if r:\n",
    "            return r[0]['zscore']\n",
    "        return \n",
    "\n",
    "    except:\n",
    "        print (\"zscore error occured for company:\", companyid, \"error:\",sys.exc_info())\n",
    "        return (-1)\n",
    "\n",
    "def build_data_file():\n",
    "    ##use this method to create the companysentimentzscore for the analysis\n",
    "    companylist = pd.DataFrame(list(Company.objects.filter(~Q(marketCap=None).values())))\n",
    "    print(\"total companies listed\",companylist.count())\n",
    "    companylist['sentiment']=companylist[['id']].apply(company_sentiment_calculations, axis=1)\n",
    "    companylist['altman']=companylist[['id']].apply(company_zscore_calculations, axis=1)\n",
    "    companylistix = companylist.set_index(['id'])\n",
    "    companylistix.to_csv(\"companysentimentszscore.csv\")"
   ]
  },
  {
   "cell_type": "markdown",
   "metadata": {},
   "source": [
    "Altman Z-Score for Sampled Firms (Table 14)"
   ]
  },
  {
   "cell_type": "code",
   "execution_count": 3,
   "metadata": {},
   "outputs": [
    {
     "name": "stdout",
     "output_type": "stream",
     "text": [
      "Total Firms:  id                5787\n",
      "adrTso            5787\n",
      "date_extracted    5787\n",
      "exchange          5787\n",
      "industry          5787\n",
      "ipoYear           5787\n",
      "lastSale          5787\n",
      "marketCap         5787\n",
      "name              5787\n",
      "sector            5787\n",
      "summaryQuote      5787\n",
      "symbol            5787\n",
      "sentiment         3985\n",
      "altman            3313\n",
      "dtype: int64\n",
      "****Distress: 1032 ,Safe: 1690 ,Neutral: 591\n",
      "\n",
      "\n",
      "****Description for Financially-Distressed Firms Altman < 1.8\n",
      "count    1032.000000\n",
      "mean       -1.961134\n",
      "std         9.818075\n",
      "min      -157.210000\n",
      "25%        -1.091750\n",
      "50%         0.663500\n",
      "75%         1.255500\n",
      "max         1.798000\n",
      "Name: altman, dtype: float64\n",
      "\n",
      "\n",
      "****Description for Neutral Firms Altman > 1.8 & < 3.0\n",
      "count    591.000000\n",
      "mean       2.374411\n",
      "std        0.337121\n",
      "min        1.801000\n",
      "25%        2.092500\n",
      "50%        2.375000\n",
      "75%        2.663500\n",
      "max        2.997000\n",
      "Name: altman, dtype: float64\n",
      "\n",
      "\n",
      "****Description for Safe Firms >= 3.0\n",
      "count    1690.000000\n",
      "mean        9.925705\n",
      "std        20.506765\n",
      "min         3.001000\n",
      "25%         4.009500\n",
      "50%         5.404500\n",
      "75%         8.883500\n",
      "max       454.079000\n",
      "Name: altman, dtype: float64\n"
     ]
    }
   ],
   "source": [
    "companyinfo= pd.read_csv(\"companysentimentszscore.csv\")\n",
    "print (\"Total Firms: \", companyinfo.count())\n",
    "altmanzscore = companyinfo.altman\n",
    "distress = companyinfo.altman[companyinfo.altman<=1.8]\n",
    "safe = companyinfo.altman[companyinfo.altman>=3.0]\n",
    "neutral = companyinfo.altman[companyinfo.altman.between(1.8,3)]\n",
    "print (\"****Distress:\", distress.count(), \",Safe:\",safe.count(), \",Neutral:\",neutral.count())\n",
    "print (\"\\n\\n****Description for Financially-Distressed Firms Altman < 1.8\")\n",
    "print (distress.describe())\n",
    "print (\"\\n\\n****Description for Neutral Firms Altman > 1.8 & < 3.0\")\n",
    "print (neutral.describe())\n",
    "print (\"\\n\\n****Description for Safe Firms >= 3.0\")\n",
    "print (safe.describe())"
   ]
  },
  {
   "cell_type": "raw",
   "metadata": {},
   "source": [
    "Descriptive Statistics of non-Financial Firms "
   ]
  },
  {
   "cell_type": "code",
   "execution_count": 4,
   "metadata": {},
   "outputs": [
    {
     "name": "stdout",
     "output_type": "stream",
     "text": [
      "                id     lastSale     marketCap    sentiment       altman\n",
      "count  2618.000000  2618.000000  2.618000e+03  2618.000000  2618.000000\n",
      "mean   3118.103132    36.625553  9.044559e+09     2.158136     4.643611\n",
      "std    1921.975390    51.212159  3.000794e+10     0.667646    12.866519\n",
      "min       6.000000     0.100000  2.102689e+06     0.000000  -153.814000\n",
      "25%    1490.750000     6.960000  2.736628e+08     2.000000     1.372000\n",
      "50%    2955.500000    22.610000  1.333308e+09     2.000000     3.035500\n",
      "75%    4747.500000    49.590000  5.094740e+09     2.000000     5.489500\n",
      "max    6674.000000  1135.970000  6.744566e+11     4.000000   269.368000\n"
     ]
    }
   ],
   "source": [
    "companies = companyinfo[~(companyinfo.sentiment.isnull()) & ~(companyinfo.altman.isnull()) & ~(companyinfo.sector.isin(['Finance']))]\n",
    "print (companies.describe())"
   ]
  },
  {
   "cell_type": "code",
   "execution_count": 5,
   "metadata": {},
   "outputs": [
    {
     "name": "stdout",
     "output_type": "stream",
     "text": [
      "\n",
      "**** Sentiments Breakdown sentiment\n",
      "0              18\n",
      "1             137\n",
      "2            2094\n",
      "3             151\n",
      "4             218\n",
      "Name: sentiment, dtype: int64\n",
      "\n",
      "****Sentiments by Main Categories sentiment\n",
      "-1            155\n",
      " 0           2094\n",
      " 1            369\n",
      "Name: sentiment, dtype: int64\n",
      "\n",
      "**** Sentiments Breakdown Excluding Neutral\n",
      "Axes(0.125,0.125;0.775x0.775)"
     ]
    },
    {
     "name": "stdout",
     "output_type": "stream",
     "text": [
      "\n"
     ]
    },
    {
     "data": {
      "image/png": "[encoded data removed]",
      "text/plain": [
       "<matplotlib.figure.Figure at 0x7f1cdd419278>"
      ]
     },
     "metadata": {},
     "output_type": "display_data"
    }
   ],
   "source": [
    "def altmanscale(value):\n",
    "    if value <=1.8:\n",
    "        return -1\n",
    "    elif (value>1.8) & (value<3.0):\n",
    "        return 0\n",
    "    else:\n",
    "        return 1\n",
    "def sentimentscale(value):\n",
    "    if value <2:\n",
    "        return -1\n",
    "    elif value ==2:\n",
    "        return 0\n",
    "    else:\n",
    "        return 1\n",
    "def sentimentsstr(value):\n",
    "    if value <2:\n",
    "        return \"negative\"\n",
    "    elif value ==2:\n",
    "        return \"neutral\"\n",
    "    else:\n",
    "        return \"positive\"\n",
    "    \n",
    "def stockmovementstr(value):\n",
    "    if value ==1:\n",
    "        return \"negative\"\n",
    "    elif value ==0:\n",
    "        return \"neutral\"\n",
    "    else:\n",
    "        return \"positive\"\n",
    "    \n",
    "\n",
    "##sentiments plots excluding neutral\n",
    "sentiments = companies.groupby('sentiment')['sentiment']\n",
    "print (\"\\n**** Sentiments Breakdown\",sentiments.count())\n",
    "\n",
    "companies.altmanscale = companies.altman.apply(altmanscale)\n",
    "companies.sentimentscale = companies.sentiment.apply(sentimentscale)\n",
    "print (\"\\n****Sentiments by Main Categories\",companies.sentimentscale.groupby(companies.sentimentscale).count())\n",
    "print (\"\\n**** Sentiments Breakdown Excluding Neutral\")\n",
    "print(companies[~(companies.sentiment==2)].groupby('sentiment')['sentiment'].count().plot(kind=\"bar\"))"
   ]
  },
  {
   "cell_type": "heading",
   "metadata": {},
   "level": 4,
   "source": [
    "Research Hypothesis 1"
   ]
  },
  {
   "cell_type": "code",
   "execution_count": 6,
   "metadata": {},
   "outputs": [
    {
     "name": "stdout",
     "output_type": "stream",
     "text": [
      "\n",
      "****Test for Normality:\n",
      "normal test for sentiment (679.21183752063507, 3.2435713873994668e-148)\n",
      "normal test for altman (3404.2039999564081, 0.0)\n",
      "a P close to zero indidicated that the data is not normal\n"
     ]
    }
   ],
   "source": [
    "from scipy.stats.mstats import normaltest\n",
    "print (\"\\n****Test for Normality:\")\n",
    "print (\"normal test for sentiment\",normaltest(companies.sentiment))\n",
    "print (\"normal test for altman\",normaltest(companies.altman))\n",
    "print (\"a P close to zero indidicated that the data is not normal\")"
   ]
  },
  {
   "cell_type": "heading",
   "metadata": {},
   "level": 6,
   "source": [
    "Spearman Correlation Analysis"
   ]
  },
  {
   "cell_type": "code",
   "execution_count": 7,
   "metadata": {},
   "outputs": [
    {
     "name": "stdout",
     "output_type": "stream",
     "text": [
      "Spearman correlation between sentiment and altman scales: (-0.030236069863026162, 0.12193910694076453)\n",
      "a P>0.05 indicates no statistically significant correlation\n"
     ]
    }
   ],
   "source": [
    "print (\"Spearman correlation between sentiment and altman scales:\",sc.stats.spearmanr(companies.sentimentscale, companies.altmanscale))\n",
    "print (\"a P>0.05 indicates no statistically significant correlation\")"
   ]
  },
  {
   "cell_type": "code",
   "execution_count": 8,
   "metadata": {},
   "outputs": [
    {
     "name": "stdout",
     "output_type": "stream",
     "text": [
      "correlation analysis by sector\n",
      "For basic industries: ( 233  firms) (-0.057604509123855778, 0.38141460299857033)\n",
      "For capital goods:  ( 253  firms) (0.066972348438911422, 0.28860940659082662)\n",
      "Consumer Durables:  ( 100  firms) (0.055661386982693427, 0.58229018517890074)\n",
      "Consumer NonDurables:  ( 170  firms) (-0.086183593701254654, 0.26378632495570026)\n",
      "Consumer Services:  ( 397  firms) (-0.020205811438471499, 0.68814813451527768)\n",
      "Energy ( 212  firms) (-0.21930040287038272, 0.0013117767964922885)\n",
      "Healthcare ( 427  firms) (-0.04725238360919258, 0.33000480612483729)\n",
      "Miscellaneous ( 102  firms) (-0.048251155119557368, 0.63009898687019883)\n",
      "Public Utilities ( 138  firms) (-0.026246287152440182, 0.75993037837830979)\n",
      "Technology ( 499  firms) (-0.053218159188588389, 0.23536046951436518)\n",
      "Transportation ( 81  firms) (-0.047156968264577326, 0.6759114012086983)\n",
      "N/a"
     ]
    },
    {
     "name": "stdout",
     "output_type": "stream",
     "text": [
      " ( 6  firms) (-0.33333333333333331, 0.51851851851851827)\n"
     ]
    }
   ],
   "source": [
    "print (\"correlation analysis by sector\")\n",
    "print (\"For basic industries:\",\"(\",companies.sector[companies.sector==\"Basic Industries\"].count(),\" firms)\", \n",
    "       sc.stats.spearmanr(companies.altmanscale[companies.sector==\"Basic Industries\"].rank(method=\"average\", ascending=True), \n",
    "       companies.sentimentscale[companies.sector==\"Basic Industries\"].rank(method=\"average\", ascending=True)))\n",
    "print (\"For capital goods: \",\"(\",companies.sector[companies.sector==\"Capital Goods\"].count(),\" firms)\",\n",
    "       sc.stats.spearmanr(companies.altmanscale[companies.sector==\"Capital Goods\"], \n",
    "                          companies.sentimentscale[companies.sector==\"Capital Goods\"]))\n",
    "print (\"Consumer Durables: \",\"(\",companies.sector[companies.sector==\"Consumer Durables\"].count(),\" firms)\",\n",
    "       sc.stats.spearmanr(companies.altmanscale[companies.sector==\"Consumer Durables\"], \n",
    "                          companies.sentimentscale[companies.sector==\"Consumer Durables\"]))\n",
    "print (\"Consumer NonDurables: \",\"(\",companies.sector[companies.sector==\"Consumer Non-Durables\"].count(),\" firms)\",\n",
    "       sc.stats.spearmanr(companies.altmanscale[companies.sector==\"Consumer Non-Durables\"], \n",
    "                          companies.sentimentscale[companies.sector==\"Consumer Non-Durables\"]))\n",
    "print (\"Consumer Services: \",\"(\",companies.sector[companies.sector==\"Consumer Services\"].count(),\" firms)\",\n",
    "       sc.stats.spearmanr(companies.altmanscale[companies.sector==\"Consumer Services\"], \n",
    "                          companies.sentimentscale[companies.sector==\"Consumer Services\"]))\n",
    "print (\"Energy\",\"(\",companies.sector[companies.sector==\"Energy\"].count(),\" firms)\", \n",
    "       sc.stats.spearmanr(companies.altmanscale[companies.sector==\"Energy\"], companies.sentimentscale[companies.sector==\"Energy\"]))\n",
    "print (\"Healthcare\",\"(\",companies.sector[companies.sector==\"Health Care\"].count(),\" firms)\", \n",
    "       sc.stats.spearmanr(companies.altmanscale[companies.sector==\"Health Care\"], companies.sentimentscale[companies.sector==\"Health Care\"]))\n",
    "print (\"Miscellaneous\",\"(\",companies.sector[companies.sector==\"Miscellaneous\"].count(),\" firms)\", \n",
    "       sc.stats.spearmanr(companies.altmanscale[companies.sector==\"Miscellaneous\"], companies.sentimentscale[companies.sector==\"Miscellaneous\"]))\n",
    "print (\"Public Utilities\",\"(\",companies.sector[companies.sector==\"Public Utilities\"].count(),\" firms)\", \n",
    "       sc.stats.spearmanr(companies.altmanscale[companies.sector==\"Public Utilities\"], companies.sentimentscale[companies.sector==\"Public Utilities\"]))\n",
    "print (\"Technology\",\"(\",companies.sector[companies.sector==\"Technology\"].count(),\" firms)\",\n",
    "       sc.stats.spearmanr(companies.altmanscale[companies.sector==\"Technology\"], companies.sentimentscale[companies.sector==\"Technology\"]))\n",
    "print (\"Transportation\",\"(\",companies.sector[companies.sector==\"Transportation\"].count(),\" firms)\",\n",
    "       sc.stats.spearmanr(companies.altmanscale[companies.sector==\"Transportation\"], companies.sentimentscale[companies.sector==\"Transportation\"]))\n",
    "print (\"N/a\",\"(\",companies.sector[companies.sector==\"n/a\"].count(),\" firms)\", \n",
    "       sc.stats.spearmanr(companies.altmanscale[companies.sector==\"n/a\"], companies.sentimentscale[companies.sector==\"n/a\"]))"
   ]
  },
  {
   "cell_type": "heading",
   "metadata": {},
   "level": 4,
   "source": [
    "Research Hypothesis 2"
   ]
  },
  {
   "cell_type": "code",
   "execution_count": 9,
   "metadata": {},
   "outputs": [
    {
     "name": "stdout",
     "output_type": "stream",
     "text": [
      "****correlation analysis for financially distressed firms:\n",
      "(-0.058611960064478115, 0.092492396411079425)\n",
      "p>0.05 indiciates no significance\n"
     ]
    }
   ],
   "source": [
    "print (\"****correlation analysis for financially distressed firms:\")\n",
    "print (sc.stats.spearmanr(companies.sentimentscale[companies.altmanscale==-1], companies.altman[companies.altmanscale==-1]))\n",
    "print (\"p>0.05 indiciates no significance\")"
   ]
  },
  {
   "cell_type": "heading",
   "metadata": {},
   "level": 4,
   "source": [
    "Research Hypothesis 3"
   ]
  },
  {
   "cell_type": "code",
   "execution_count": 19,
   "metadata": {},
   "outputs": [
    {
     "name": "stdout",
     "output_type": "stream",
     "text": [
      "total tweets with sentiments and stock value:  35726\n",
      "correlation between sentiment and stock direction: (-0.0050123386944458297, 0.67249850944176182)\n",
      "correlation between sentiment scale and stock direction: (-0.0050123386944458297, 0.67249850944176182)\n",
      "total tweets with sentiments: "
     ]
    },
    {
     "name": "stdout",
     "output_type": "stream",
     "text": [
      " 66038\n",
      "correlation between sentiment and tweet count: (-0.12071759517158794, 2.3157593866886628e-35)\n",
      "correlation between distress/safe stocks and stock direction (0.014313482237576216, 0.14261916055802118)\n"
     ]
    }
   ],
   "source": [
    "dailydata = pd.DataFrame(list(CompanyStocksSentimentHistory.objects.filter(~Q(sentiment=None) & ~Q(stockdirection=None)).values()))\n",
    "dailydata.sentimentsstr = dailydata.sentiment.apply(sentimentsstr)\n",
    "dailydata.stockmovementstr = dailydata.stockdirection.apply(stockmovementstr)\n",
    "dailydata.sentimentscale = dailydata.sentiment.apply(sentimentscale)\n",
    "#print (\"Dataset on Sentiment excluding days with no sentiments or no stock movements:\\n\",\n",
    "#       dailydata.sentimentsstr.groupby([dailydata.date,dailydata.sentimentsstr]).count())\n",
    "#print (\"Dataset on Stock Movement excluding days with no sentiments or no stock movements:\\n\",\n",
    "#       dailydata.stockmovementstr.groupby([dailydata.date,dailydata.stockmovementstr]).count())\n",
    "print (\"total tweets with sentiments and stock value: \", dailydata.tweet_count.sum())\n",
    "print (\"correlation between sentiment and stock direction:\",sc.stats.spearmanr(dailydata.sentiment,  dailydata.stockdirection))\n",
    "print (\"correlation between sentiment scale and stock direction:\",sc.stats.spearmanr(dailydata.sentiment,  dailydata.stockdirection))\n",
    "\n",
    "\n",
    "dailydata = pd.DataFrame(list(CompanyStocksSentimentHistory.objects.filter(~Q(sentiment=None)).values()))\n",
    "print (\"total tweets with sentiments: \", dailydata.tweet_count.sum())\n",
    "print (\"correlation between sentiment and tweet count:\",sc.stats.spearmanr(dailydata.sentiment,  dailydata.tweet_count))\n",
    "dailydata.sentimentscale = dailydata.sentiment.apply(sentimentscale)\n",
    "print (\"correlation between distress/safe stocks and stock direction\",\n",
    "       sc.stats.spearmanr(dailydata.sentimentscale[dailydata.sentimentscale != 2], dailydata.stockdirection))"
   ]
  }
 ],
 "metadata": {
  "name": "",
  "signature": "sha256:ad8f3642e5fc17e9a865a2029757cb76dda90a06e6348ed24bf8aad3bb7e1237"
 },
 "nbformat": 4,
 "nbformat_minor": 0
}