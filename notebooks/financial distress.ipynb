{
 "cells": [
  {
   "cell_type": "code",
   "execution_count": 2,
   "metadata": {},
   "outputs": [],
   "source": [
    "%matplotlib inline \n",
    "import pandas as pd\n",
    "import matplotlib.pyplot as plt\n",
    "import pylab as pl\n",
    "import numpy as np"
   ]
  },
  {
   "cell_type": "code",
   "execution_count": 3,
   "metadata": {},
   "outputs": [],
   "source": [
    "companyinfo = pd.read_csv(\"companysentimentszscore.csv\")"
   ]
  },
  {
   "cell_type": "code",
   "execution_count": 19,
   "metadata": {},
   "outputs": [
    {
     "data": {
      "text/plain": [
       "3313"
      ]
     },
     "execution_count": 19,
     "metadata": {},
     "output_type": "execute_result"
    }
   ],
   "source": [
    "companyinfo.altman.count()"
   ]
  },
  {
   "cell_type": "code",
   "execution_count": 16,
   "metadata": {},
   "outputs": [],
   "source": [
    "distress = altmanzscore[altmanzscore<=1.8]\n",
    "safe = altmanzscore[altmanzscore>=3.0]\n",
    "neutral = altmanzscore[altmanzscore.between(1.8,3)]"
   ]
  },
  {
   "cell_type": "code",
   "execution_count": 12,
   "metadata": {},
   "outputs": [
    {
     "name": "stdout",
     "output_type": "stream",
     "text": [
      "1032 1690 2722\n"
     ]
    }
   ],
   "source": [
    "print (distress.count(), safe.count(), neutral.count())"
   ]
  },
  {
   "cell_type": "code",
   "execution_count": 13,
   "metadata": {},
   "outputs": [
    {
     "name": "stdout",
     "output_type": "stream",
     "text": [
      "count    1032.000000\n",
      "mean       -1.961134\n",
      "std         9.818075\n",
      "min      -157.210000\n",
      "25%        -1.091750\n",
      "50%         0.663500\n",
      "75%         1.255500\n",
      "max         1.798000\n",
      "Name: altman, dtype: float64\n"
     ]
    }
   ],
   "source": [
    "print (distress.describe())"
   ]
  },
  {
   "cell_type": "raw",
   "metadata": {},
   "source": []
  },
  {
   "cell_type": "code",
   "execution_count": 14,
   "metadata": {},
   "outputs": [
    {
     "name": "stdout",
     "output_type": "stream",
     "text": [
      "count    1690.000000\n",
      "mean        9.925705\n",
      "std        20.506765\n",
      "min         3.001000\n",
      "25%         4.009500\n",
      "50%         5.404500\n",
      "75%         8.883500\n",
      "max       454.079000\n",
      "Name: altman, dtype: float64\n"
     ]
    }
   ],
   "source": [
    "print (safe.describe())"
   ]
  },
  {
   "cell_type": "code",
   "execution_count": 17,
   "metadata": {},
   "outputs": [
    {
     "name": "stdout",
     "output_type": "stream",
     "text": [
      "count    591.000000\n",
      "mean       2.374411\n",
      "std        0.337121\n",
      "min        1.801000\n",
      "25%        2.092500\n",
      "50%        2.375000\n",
      "75%        2.663500\n",
      "max        2.997000\n",
      "Name: altman, dtype: float64\n"
     ]
    }
   ],
   "source": [
    "print (neutral.describe())"
   ]
  }
 ],
 "metadata": {
  "name": "",
  "signature": "sha256:a9872aab276952d7cb788c0c4d995b6514c362b6c14f1bdc27587e65adfb82f1"
 },
 "nbformat": 4,
 "nbformat_minor": 0
}